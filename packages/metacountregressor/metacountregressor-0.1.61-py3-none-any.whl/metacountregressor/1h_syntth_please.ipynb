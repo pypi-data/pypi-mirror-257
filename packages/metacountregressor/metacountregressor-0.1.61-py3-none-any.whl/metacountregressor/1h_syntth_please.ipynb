{
 "cells": [
  {
   "cell_type": "code",
   "execution_count": 362,
   "metadata": {
    "colab": {
     "base_uri": "https://localhost:8080/",
     "height": 87
    },
    "id": "8TxjC1xMXoLv",
    "outputId": "daac8146-32bd-4290-c212-156a76c7ad46"
   },
   "outputs": [
    {
     "data": {
      "text/plain": [
       "'\\nThis script creates artificial data for a discrete choice problem.\\nAssume there are three modes of transportation to choose from. Six fixed\\nvariables were designed as significant and five as non-significant.\\nSeven random variables (five normal, one uniform, one triangular) were\\ndesigned as significant.\\nThree normal variables were correlated.\\nTwo normal variables were non-linearly transformed.\\n'"
      ]
     },
     "execution_count": 362,
     "metadata": {},
     "output_type": "execute_result"
    }
   ],
   "source": [
    "\"\"\"\n",
    "This script creates artificial data for a discrete choice problem.\n",
    "Assume there are three modes of transportation to choose from. Six fixed\n",
    "variables were designed as significant and five as non-significant.\n",
    "Seven random variables (five normal, one uniform, one triangular) were\n",
    "designed as significant.\n",
    "Three normal variables were correlated.\n",
    "Two normal variables were non-linearly transformed.\n",
    "\"\"\""
   ]
  },
  {
   "cell_type": "code",
   "execution_count": null,
   "metadata": {
    "colab": {
     "base_uri": "https://localhost:8080/"
    },
    "id": "NcolLa3oXwT6",
    "outputId": "77620671-2d82-4b6a-ea3b-43479c5f838c"
   },
   "outputs": [],
   "source": []
  },
  {
   "cell_type": "code",
   "execution_count": 363,
   "metadata": {
    "id": "DVwm8OLfXx5x"
   },
   "outputs": [],
   "source": [
    "import numpy as np\n",
    "import pandas as pd\n",
    "import scipy.stats as ss\n",
    "from scipy.special import boxcox, inv_boxcox\n",
    "from searchlogit import MultinomialLogit, MixedLogit\n",
    "import statsmodels.api as sm"
   ]
  },
  {
   "cell_type": "code",
   "execution_count": 364,
   "metadata": {
    "id": "vjjoe7CTXy7h"
   },
   "outputs": [],
   "source": [
    "def noise(n_obs, perc=1, random_state=None):\n",
    "    random_state = random_state or np.random\n",
    "    noise_vec = random_state.normal(0, 1, n_obs)\n",
    "    return noise_vec"
   ]
  },
  {
   "cell_type": "code",
   "execution_count": 365,
   "metadata": {
    "id": "ZkwKNJMcX0l5"
   },
   "outputs": [],
   "source": [
    "def random_col(N, P, J, random_state=None):\n",
    "    rand_nums = random_state.randint(low=5, high=25, size=(P,))/10\n",
    "    return np.tile(rand_nums, N*P) + 0.5*noise(N*P*J, random_state=random_state)\n",
    "\n",
    "def generate_random_df(N, P, J, num_fixed=0, num_isvars=0, num_randvars=0, random_state=None):\n",
    "    df = pd.DataFrame()\n",
    "    #df['id'] = np.repeat(np.arange(1, (N)), J)\n",
    "    \n",
    "    \n",
    "\n",
    "    varnames = []\n",
    "    for i in range(num_fixed):\n",
    "        coef_name = 'added_fixed' + str(i+1)\n",
    "        varnames.append(coef_name)\n",
    "        df[coef_name] = random_col(N, P, J, random_state=random_state)\n",
    "\n",
    "    for i in range(num_isvars):\n",
    "        coef_name = 'added_isvar' + str(i+1)\n",
    "        varnames.append(coef_name)\n",
    "        col_vals = np.repeat(random_state.random(N*P)*100, J)\n",
    "        for j in range(J):\n",
    "            if j == 0:\n",
    "                df[coef_name] = col_vals\n",
    "            else:\n",
    "                df[coef_name + \".\" + str(j+1)] = col_vals\n",
    "\n",
    "    for i in range(num_randvars):\n",
    "        coef_name = 'added_random' + str(i+1)\n",
    "        varnames.append(coef_name)\n",
    "        df[coef_name] = random_col(N, P, J, random_state=random_state)\n",
    "\n",
    "    df_interp = np.interp(df.values, (df.values.min(), df.values.max()), (0,1))\n",
    "    df = pd.DataFrame(df_interp, columns = df.columns)\n",
    "    df = sm.add_constant(df, prepend=False)\n",
    "    return df, varnames\n"
   ]
  },
  {
   "cell_type": "code",
   "execution_count": 366,
   "metadata": {
    "id": "UAZ6n30FX1Hp"
   },
   "outputs": [],
   "source": [
    "np.random.seed(0)\n",
    "N = 2500  # Number of observations\n",
    "P = 1  # Number of choices per individual\n",
    "J = 1  # Number of alternatives\n",
    "num_fixed = 11\n",
    "num_isvars = 0\n",
    "num_nonsig = 8\n",
    "num_randvars = 3\n",
    "\n",
    "random_state = np.random.RandomState(2)\n",
    "\n",
    "df, varnames = generate_random_df(N, P, J, num_fixed=num_fixed, num_isvars=num_isvars,\n",
    "                                  num_randvars=num_randvars, random_state=random_state)\n",
    "\n",
    "\n",
    "\n",
    "\n"
   ]
  },
  {
   "cell_type": "code",
   "execution_count": 367,
   "metadata": {
    "colab": {
     "base_uri": "https://localhost:8080/",
     "height": 456
    },
    "id": "vuujhlKLX2SK",
    "outputId": "7191411b-c18f-4147-8187-91864a8c2a3d"
   },
   "outputs": [
    {
     "data": {
      "text/html": [
       "<div>\n",
       "<style scoped>\n",
       "    .dataframe tbody tr th:only-of-type {\n",
       "        vertical-align: middle;\n",
       "    }\n",
       "\n",
       "    .dataframe tbody tr th {\n",
       "        vertical-align: top;\n",
       "    }\n",
       "\n",
       "    .dataframe thead th {\n",
       "        text-align: right;\n",
       "    }\n",
       "</style>\n",
       "<table border=\"1\" class=\"dataframe\">\n",
       "  <thead>\n",
       "    <tr style=\"text-align: right;\">\n",
       "      <th></th>\n",
       "      <th>added_fixed1</th>\n",
       "      <th>added_fixed2</th>\n",
       "      <th>added_fixed3</th>\n",
       "      <th>added_fixed4</th>\n",
       "      <th>added_fixed5</th>\n",
       "      <th>added_fixed6</th>\n",
       "      <th>added_fixed7</th>\n",
       "      <th>added_fixed8</th>\n",
       "      <th>added_fixed9</th>\n",
       "      <th>added_fixed10</th>\n",
       "      <th>added_fixed11</th>\n",
       "      <th>added_random1</th>\n",
       "      <th>added_random2</th>\n",
       "      <th>added_random3</th>\n",
       "      <th>const</th>\n",
       "    </tr>\n",
       "  </thead>\n",
       "  <tbody>\n",
       "    <tr>\n",
       "      <th>0</th>\n",
       "      <td>0.467868</td>\n",
       "      <td>0.568597</td>\n",
       "      <td>0.688279</td>\n",
       "      <td>0.406144</td>\n",
       "      <td>0.564087</td>\n",
       "      <td>0.821708</td>\n",
       "      <td>0.521241</td>\n",
       "      <td>0.586324</td>\n",
       "      <td>0.571353</td>\n",
       "      <td>0.524014</td>\n",
       "      <td>0.426019</td>\n",
       "      <td>0.524577</td>\n",
       "      <td>0.051612</td>\n",
       "      <td>0.845504</td>\n",
       "      <td>1.0</td>\n",
       "    </tr>\n",
       "    <tr>\n",
       "      <th>1</th>\n",
       "      <td>0.531144</td>\n",
       "      <td>0.517127</td>\n",
       "      <td>0.707921</td>\n",
       "      <td>0.270024</td>\n",
       "      <td>0.415080</td>\n",
       "      <td>0.657010</td>\n",
       "      <td>0.564002</td>\n",
       "      <td>0.616189</td>\n",
       "      <td>0.559772</td>\n",
       "      <td>0.429366</td>\n",
       "      <td>0.588756</td>\n",
       "      <td>0.532940</td>\n",
       "      <td>0.369221</td>\n",
       "      <td>0.785749</td>\n",
       "      <td>1.0</td>\n",
       "    </tr>\n",
       "    <tr>\n",
       "      <th>2</th>\n",
       "      <td>0.387974</td>\n",
       "      <td>0.539561</td>\n",
       "      <td>0.687525</td>\n",
       "      <td>0.483609</td>\n",
       "      <td>0.592859</td>\n",
       "      <td>0.759468</td>\n",
       "      <td>0.553827</td>\n",
       "      <td>0.402048</td>\n",
       "      <td>0.588376</td>\n",
       "      <td>0.421159</td>\n",
       "      <td>0.448327</td>\n",
       "      <td>0.785196</td>\n",
       "      <td>0.359960</td>\n",
       "      <td>0.666975</td>\n",
       "      <td>1.0</td>\n",
       "    </tr>\n",
       "    <tr>\n",
       "      <th>3</th>\n",
       "      <td>0.427380</td>\n",
       "      <td>0.647022</td>\n",
       "      <td>0.523592</td>\n",
       "      <td>0.259232</td>\n",
       "      <td>0.524342</td>\n",
       "      <td>0.813557</td>\n",
       "      <td>0.545990</td>\n",
       "      <td>0.548980</td>\n",
       "      <td>0.447392</td>\n",
       "      <td>0.362770</td>\n",
       "      <td>0.452281</td>\n",
       "      <td>0.548662</td>\n",
       "      <td>0.184152</td>\n",
       "      <td>0.665827</td>\n",
       "      <td>1.0</td>\n",
       "    </tr>\n",
       "    <tr>\n",
       "      <th>4</th>\n",
       "      <td>0.405862</td>\n",
       "      <td>0.555099</td>\n",
       "      <td>0.669269</td>\n",
       "      <td>0.343465</td>\n",
       "      <td>0.587582</td>\n",
       "      <td>0.447511</td>\n",
       "      <td>0.612323</td>\n",
       "      <td>0.449593</td>\n",
       "      <td>0.699723</td>\n",
       "      <td>0.243164</td>\n",
       "      <td>0.678353</td>\n",
       "      <td>0.480311</td>\n",
       "      <td>0.210272</td>\n",
       "      <td>0.727480</td>\n",
       "      <td>1.0</td>\n",
       "    </tr>\n",
       "    <tr>\n",
       "      <th>5</th>\n",
       "      <td>0.503489</td>\n",
       "      <td>0.640211</td>\n",
       "      <td>0.724305</td>\n",
       "      <td>0.232997</td>\n",
       "      <td>0.420020</td>\n",
       "      <td>0.479990</td>\n",
       "      <td>0.547605</td>\n",
       "      <td>0.676789</td>\n",
       "      <td>0.663659</td>\n",
       "      <td>0.507904</td>\n",
       "      <td>0.460546</td>\n",
       "      <td>0.545232</td>\n",
       "      <td>0.448895</td>\n",
       "      <td>0.610747</td>\n",
       "      <td>1.0</td>\n",
       "    </tr>\n",
       "    <tr>\n",
       "      <th>6</th>\n",
       "      <td>0.680897</td>\n",
       "      <td>0.507313</td>\n",
       "      <td>0.622094</td>\n",
       "      <td>0.441843</td>\n",
       "      <td>0.462450</td>\n",
       "      <td>0.573206</td>\n",
       "      <td>0.533681</td>\n",
       "      <td>0.560468</td>\n",
       "      <td>0.625889</td>\n",
       "      <td>0.702195</td>\n",
       "      <td>0.416505</td>\n",
       "      <td>0.766813</td>\n",
       "      <td>0.312212</td>\n",
       "      <td>0.782205</td>\n",
       "      <td>1.0</td>\n",
       "    </tr>\n",
       "    <tr>\n",
       "      <th>7</th>\n",
       "      <td>0.446395</td>\n",
       "      <td>0.532131</td>\n",
       "      <td>0.680856</td>\n",
       "      <td>0.389386</td>\n",
       "      <td>0.402660</td>\n",
       "      <td>0.634301</td>\n",
       "      <td>0.508989</td>\n",
       "      <td>0.466617</td>\n",
       "      <td>0.671382</td>\n",
       "      <td>0.345605</td>\n",
       "      <td>0.499675</td>\n",
       "      <td>0.539454</td>\n",
       "      <td>0.137977</td>\n",
       "      <td>0.796997</td>\n",
       "      <td>1.0</td>\n",
       "    </tr>\n",
       "    <tr>\n",
       "      <th>8</th>\n",
       "      <td>0.521149</td>\n",
       "      <td>0.563400</td>\n",
       "      <td>0.707182</td>\n",
       "      <td>0.306031</td>\n",
       "      <td>0.480871</td>\n",
       "      <td>0.762507</td>\n",
       "      <td>0.521639</td>\n",
       "      <td>0.487345</td>\n",
       "      <td>0.506256</td>\n",
       "      <td>0.149819</td>\n",
       "      <td>0.347014</td>\n",
       "      <td>0.547008</td>\n",
       "      <td>0.372885</td>\n",
       "      <td>0.630852</td>\n",
       "      <td>1.0</td>\n",
       "    </tr>\n",
       "    <tr>\n",
       "      <th>9</th>\n",
       "      <td>0.558967</td>\n",
       "      <td>0.593495</td>\n",
       "      <td>0.865758</td>\n",
       "      <td>0.531721</td>\n",
       "      <td>0.521892</td>\n",
       "      <td>0.782302</td>\n",
       "      <td>0.628417</td>\n",
       "      <td>0.573644</td>\n",
       "      <td>0.589021</td>\n",
       "      <td>0.242862</td>\n",
       "      <td>0.396752</td>\n",
       "      <td>0.510883</td>\n",
       "      <td>0.461662</td>\n",
       "      <td>0.720580</td>\n",
       "      <td>1.0</td>\n",
       "    </tr>\n",
       "  </tbody>\n",
       "</table>\n",
       "</div>"
      ],
      "text/plain": [
       "   added_fixed1  added_fixed2  added_fixed3  added_fixed4  added_fixed5  \\\n",
       "0      0.467868      0.568597      0.688279      0.406144      0.564087   \n",
       "1      0.531144      0.517127      0.707921      0.270024      0.415080   \n",
       "2      0.387974      0.539561      0.687525      0.483609      0.592859   \n",
       "3      0.427380      0.647022      0.523592      0.259232      0.524342   \n",
       "4      0.405862      0.555099      0.669269      0.343465      0.587582   \n",
       "5      0.503489      0.640211      0.724305      0.232997      0.420020   \n",
       "6      0.680897      0.507313      0.622094      0.441843      0.462450   \n",
       "7      0.446395      0.532131      0.680856      0.389386      0.402660   \n",
       "8      0.521149      0.563400      0.707182      0.306031      0.480871   \n",
       "9      0.558967      0.593495      0.865758      0.531721      0.521892   \n",
       "\n",
       "   added_fixed6  added_fixed7  added_fixed8  added_fixed9  added_fixed10  \\\n",
       "0      0.821708      0.521241      0.586324      0.571353       0.524014   \n",
       "1      0.657010      0.564002      0.616189      0.559772       0.429366   \n",
       "2      0.759468      0.553827      0.402048      0.588376       0.421159   \n",
       "3      0.813557      0.545990      0.548980      0.447392       0.362770   \n",
       "4      0.447511      0.612323      0.449593      0.699723       0.243164   \n",
       "5      0.479990      0.547605      0.676789      0.663659       0.507904   \n",
       "6      0.573206      0.533681      0.560468      0.625889       0.702195   \n",
       "7      0.634301      0.508989      0.466617      0.671382       0.345605   \n",
       "8      0.762507      0.521639      0.487345      0.506256       0.149819   \n",
       "9      0.782302      0.628417      0.573644      0.589021       0.242862   \n",
       "\n",
       "   added_fixed11  added_random1  added_random2  added_random3  const  \n",
       "0       0.426019       0.524577       0.051612       0.845504    1.0  \n",
       "1       0.588756       0.532940       0.369221       0.785749    1.0  \n",
       "2       0.448327       0.785196       0.359960       0.666975    1.0  \n",
       "3       0.452281       0.548662       0.184152       0.665827    1.0  \n",
       "4       0.678353       0.480311       0.210272       0.727480    1.0  \n",
       "5       0.460546       0.545232       0.448895       0.610747    1.0  \n",
       "6       0.416505       0.766813       0.312212       0.782205    1.0  \n",
       "7       0.499675       0.539454       0.137977       0.796997    1.0  \n",
       "8       0.347014       0.547008       0.372885       0.630852    1.0  \n",
       "9       0.396752       0.510883       0.461662       0.720580    1.0  "
      ]
     },
     "execution_count": 367,
     "metadata": {},
     "output_type": "execute_result"
    }
   ],
   "source": [
    "df.head(10)"
   ]
  },
  {
   "cell_type": "code",
   "execution_count": 368,
   "metadata": {
    "id": "mAz2plieX3Vq"
   },
   "outputs": [],
   "source": [
    "# Define coefficients (betas)\n",
    "# Fixed betas\n",
    "fixed_coefs = [random_state.choice([-1,1]) * random_state.uniform(.25, 1) for i in range(num_fixed)]\n",
    "fixed_coefs = np.array(fixed_coefs)\n",
    "\n",
    "# rewrite old coef names\n",
    "fixed_coefs[-num_nonsig::] = 0\n",
    "old_coef_names = varnames[num_fixed-num_nonsig:num_fixed]\n",
    "varnames[num_fixed-num_nonsig:num_fixed] = ['nonsig' + str(i+1) for i in range(num_nonsig)]\n",
    "\n",
    "for ii, old_name in enumerate(old_coef_names):\n",
    "    new_name = 'nonsig' + str(ii+1)\n",
    "    df = df.rename(columns={old_name: new_name})\n",
    "\n",
    "fixed_coefs = list(fixed_coefs)\n",
    "isvar_coefs =  [0 for i in range(num_isvars)]\n",
    "new_isvars = []\n",
    "for coef in isvar_coefs:\n",
    "    for j in range(J):\n",
    "        isvar_alt = coef + np.random.uniform(0, 1)\n",
    "        new_isvars.append(isvar_alt)\n",
    "\n",
    "isvar_coefs = new_isvars\n",
    "isvar_coefs = np.array(isvar_coefs)\n",
    "isvar_coefs[np.arange(0, J*num_isvars, J)] = 0\n",
    "isvar_coefs = list(isvar_coefs)"
   ]
  },
  {
   "cell_type": "code",
   "execution_count": 369,
   "metadata": {
    "colab": {
     "base_uri": "https://localhost:8080/"
    },
    "id": "iAEvtsmMX5Di",
    "outputId": "5024bf13-5d32-4693-fb90-8d532bc28be7"
   },
   "outputs": [
    {
     "name": "stdout",
     "output_type": "stream",
     "text": [
      "[0.660704799826025, -0.36323172324238295, -0.7625729604822207, 0.0, 0.0, 0.0, 0.0, 0.0, 0.0, 0.0, 0.0]\n",
      "[]\n"
     ]
    }
   ],
   "source": [
    "print(fixed_coefs)\n",
    "fixed_coefs[0] = .9\n",
    "fixed_coefs[0] = .9\n",
    "\n",
    "print(isvar_coefs)"
   ]
  },
  {
   "cell_type": "code",
   "execution_count": 370,
   "metadata": {
    "id": "tsFPHj6TX6GR"
   },
   "outputs": [],
   "source": [
    "# Random mean between -1.5 and 1.5, excluding -.1 - .1 as hard to detect effect\n",
    "random_coefs_mean = [random_state.choice([-1,1, 1, 1, 1]) * random_state.uniform(.5, 1.5) for i in range(num_randvars)]\n",
    "random_coefs_sd = [random_state.uniform(1.0, 1.5) for i in range(num_randvars)]\n",
    "\n",
    "cov_mat = np.diag(random_coefs_sd)\n",
    "cov_mat[0, 1] = cov_mat[1, 0] = 0.25\n",
    "cov_mat[0, 2] = cov_mat[2, 0] = 0.4\n",
    "cov_mat[1, 2] = cov_mat[2, 1] = 0.5\n",
    "\n",
    "random_coefs_uniform_a = 0\n",
    "random_coefs_uniform_b = random_state.uniform(1, 2)\n",
    "\n",
    "random_coefs_tri_left = 0\n",
    "random_coefs_tri_right = random_state.uniform(1, 2)\n",
    "random_coefs_tri_mode = random_coefs_tri_right/2\n",
    "\n",
    "rand_coefs = [np.array([]) for i in range(num_randvars)]\n",
    "\n",
    "for i in range(N):\n",
    "    res_normal = random_state.multivariate_normal(random_coefs_mean, cov_mat)\n",
    "    res_uniform = np.array([random_state.normal(random_coefs_uniform_a, random_coefs_uniform_b)])\n",
    "    res_triangular = np.array([random_state.normal(random_coefs_tri_left, 1)])\n",
    "    res = np.concatenate((res_normal, res_uniform, res_triangular))\n",
    "\n",
    "    for r in range(num_randvars):\n",
    "        rand_coefs[r] = np.append(rand_coefs[r], np.repeat(res[r], P*J))\n"
   ]
  },
  {
   "cell_type": "code",
   "execution_count": 371,
   "metadata": {
    "colab": {
     "base_uri": "https://localhost:8080/"
    },
    "id": "44iimI8TX8BS",
    "outputId": "10509e68-2fac-4300-a5ba-b090f6b002c5"
   },
   "outputs": [
    {
     "name": "stdout",
     "output_type": "stream",
     "text": [
      "[0.891588498295317, 1.178326389199667, 0.8270550359608905]\n",
      "[1.451454056306701, 1.0375393330086704, 1.3259607180851236]\n",
      "[[1.45145406 0.25       0.4       ]\n",
      " [0.25       1.03753933 0.5       ]\n",
      " [0.4        0.5        1.32596072]]\n"
     ]
    }
   ],
   "source": [
    "print(random_coefs_mean)\n",
    "print(random_coefs_sd)\n",
    "print(cov_mat)"
   ]
  },
  {
   "cell_type": "code",
   "execution_count": 372,
   "metadata": {
    "colab": {
     "base_uri": "https://localhost:8080/"
    },
    "id": "M5CYXOz2X9GS",
    "outputId": "7d4077f4-554c-4813-8e9b-72793e1ed0d9"
   },
   "outputs": [
    {
     "data": {
      "text/plain": [
       "(0, 1.2211723077934675)"
      ]
     },
     "execution_count": 372,
     "metadata": {},
     "output_type": "execute_result"
    }
   ],
   "source": [
    "random_coefs_uniform_a, random_coefs_uniform_b"
   ]
  },
  {
   "cell_type": "code",
   "execution_count": 373,
   "metadata": {
    "colab": {
     "base_uri": "https://localhost:8080/"
    },
    "id": "DKElejYyX-NT",
    "outputId": "a504ce62-ba50-4207-8282-d11d15c70f3c"
   },
   "outputs": [
    {
     "data": {
      "text/plain": [
       "(0, 0.8188426980957979, 1.6376853961915958)"
      ]
     },
     "execution_count": 373,
     "metadata": {},
     "output_type": "execute_result"
    }
   ],
   "source": [
    "random_coefs_tri_left, random_coefs_tri_mode, random_coefs_tri_right"
   ]
  },
  {
   "cell_type": "code",
   "execution_count": 374,
   "metadata": {
    "colab": {
     "base_uri": "https://localhost:8080/"
    },
    "id": "r571xFie7dbs",
    "outputId": "74e24030-bc1c-4580-cb82-763ba87428d8"
   },
   "outputs": [
    {
     "data": {
      "text/plain": [
       "array([[1.45145406, 0.25      , 0.4       ],\n",
       "       [0.25      , 1.03753933, 0.5       ],\n",
       "       [0.4       , 0.5       , 1.32596072]])"
      ]
     },
     "execution_count": 374,
     "metadata": {},
     "output_type": "execute_result"
    }
   ],
   "source": [
    "cov_mat"
   ]
  },
  {
   "cell_type": "code",
   "execution_count": 375,
   "metadata": {
    "id": "gWhgqCrUX_KC"
   },
   "outputs": [],
   "source": [
    "B_fixed = [np.repeat(f_coef, P*N*J) for f_coef in fixed_coefs]\n",
    "B_const = [np.repeat(-1, P*N*J)]\n",
    "\n",
    "B_isvar = [np.tile(isvar_coefs[(i*J):(i*J)+J], P*N) for i in range(num_isvars)]\n",
    "\n",
    "# Convert betas to matrix for easy product\n",
    "B = [B_fixed, B_isvar, rand_coefs, B_const]\n",
    "B = [B_i for B_i in B if B_i != []]\n",
    "B = np.vstack(B).T"
   ]
  },
  {
   "cell_type": "code",
   "execution_count": 376,
   "metadata": {
    "id": "jzUp5XiVKPnu"
   },
   "outputs": [],
   "source": [
    "# Visualise values after non-linear transformation\n",
    "# import matplotlib.pyplot as plt\n",
    "# plt.hist(inv_boxcox(df['added_random4'], 0.4), bins=30)"
   ]
  },
  {
   "cell_type": "code",
   "execution_count": 377,
   "metadata": {
    "id": "umupZK1ZYBry"
   },
   "outputs": [
    {
     "name": "stdout",
     "output_type": "stream",
     "text": [
      "260\n"
     ]
    }
   ],
   "source": [
    "# Multiply and generate probability\n",
    "isvars = ['added_isvar' + str(i+1) for i in range(num_isvars)]\n",
    "\n",
    "X = df.values[:, 0:]  # Extract only necessary columns\n",
    "XB = (X*B).sum(axis=1).reshape(N*P, J)\n",
    "eps = np.random.gumbel(0, 1, (N*P, J))\n",
    "eXB = np.exp(XB).ravel()\n",
    "\n",
    "# Use monte carlo simulation to predict choice\n",
    "# y = np.apply_along_axis(lambda p: np.eye(J, dtype='int64')[np.argmax(p)], 1, prob).reshape(N*P*J,)\n",
    "# y = y.reshape(N*P*J,)\n",
    "\n",
    "\n",
    "\n",
    "df['Y'] = eXB.astype(int)\n",
    "\n",
    "print(max(df['Y']))\n",
    "\n",
    "# Save to CSV\n",
    "df.to_csv(\"C:/Users/n9471103/source/repos/HS_BIC/artificial_mixed_corr_2023_MOOF.csv\", index=False)"
   ]
  },
  {
   "cell_type": "code",
   "execution_count": null,
   "metadata": {
    "colab": {
     "base_uri": "https://localhost:8080/"
    },
    "id": "kb-ElS4KYCuq",
    "outputId": "a5bc0d9a-0c50-40df-c585-2a07d548a9b6"
   },
   "outputs": [],
   "source": []
  },
  {
   "cell_type": "code",
   "execution_count": null,
   "metadata": {
    "colab": {
     "base_uri": "https://localhost:8080/"
    },
    "id": "j_Pjn_wc1EJP",
    "outputId": "a08de788-9fc3-4973-c89b-c3dbf1bc0225"
   },
   "outputs": [],
   "source": []
  },
  {
   "cell_type": "code",
   "execution_count": null,
   "metadata": {
    "colab": {
     "base_uri": "https://localhost:8080/"
    },
    "id": "ewP7q9kEYGk7",
    "outputId": "0bbb2451-d41f-49cc-9e0a-84506048b87f"
   },
   "outputs": [],
   "source": []
  },
  {
   "cell_type": "code",
   "execution_count": null,
   "metadata": {
    "colab": {
     "base_uri": "https://localhost:8080/"
    },
    "id": "R7MNYSleFa6u",
    "outputId": "d39f3017-03dd-4a0c-8f03-d22414d6ccbd"
   },
   "outputs": [],
   "source": []
  },
  {
   "cell_type": "code",
   "execution_count": null,
   "metadata": {
    "id": "BSAIP_WLvpTV"
   },
   "outputs": [],
   "source": []
  }
 ],
 "metadata": {
  "colab": {
   "provenance": []
  },
  "kernelspec": {
   "display_name": "Python 3",
   "language": "python",
   "name": "python3"
  },
  "language_info": {
   "codemirror_mode": {
    "name": "ipython",
    "version": 3
   },
   "file_extension": ".py",
   "mimetype": "text/x-python",
   "name": "python",
   "nbconvert_exporter": "python",
   "pygments_lexer": "ipython3",
   "version": "3.10.1"
  },
  "vscode": {
   "interpreter": {
    "hash": "369f2c481f4da34e4445cda3fffd2e751bd1c4d706f27375911949ba6bb62e1c"
   }
  }
 },
 "nbformat": 4,
 "nbformat_minor": 1
}
