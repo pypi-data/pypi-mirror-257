{
 "cells": [
  {
   "cell_type": "code",
   "execution_count": 1,
   "metadata": {
    "colab": {
     "base_uri": "https://localhost:8080/",
     "height": 87
    },
    "id": "8TxjC1xMXoLv",
    "outputId": "daac8146-32bd-4290-c212-156a76c7ad46"
   },
   "outputs": [
    {
     "data": {
      "text/plain": [
       "'\\nThis script creates artificial data for a discrete choice problem.\\nAssume there are three modes of transportation to choose from. Six fixed\\nvariables were designed as significant and five as non-significant.\\nSeven random variables (five normal, one uniform, one triangular) were\\ndesigned as significant.\\nThree normal variables were correlated.\\nTwo normal variables were non-linearly transformed.\\n'"
      ]
     },
     "execution_count": 1,
     "metadata": {},
     "output_type": "execute_result"
    }
   ],
   "source": [
    "\"\"\"\n",
    "This script creates artificial data for a discrete choice problem.\n",
    "Assume there are three modes of transportation to choose from. Six fixed\n",
    "variables were designed as significant and five as non-significant.\n",
    "Seven random variables (five normal, one uniform, one triangular) were\n",
    "designed as significant.\n",
    "Three normal variables were correlated.\n",
    "Two normal variables were non-linearly transformed.\n",
    "\"\"\""
   ]
  },
  {
   "cell_type": "code",
   "execution_count": 2,
   "metadata": {
    "colab": {
     "base_uri": "https://localhost:8080/"
    },
    "id": "NcolLa3oXwT6",
    "outputId": "77620671-2d82-4b6a-ea3b-43479c5f838c"
   },
   "outputs": [
    {
     "name": "stdout",
     "output_type": "stream",
     "text": [
      "Requirement already satisfied: searchlogit in c:\\users\\n10380558.qutad\\anaconda3\\lib\\site-packages (0.2.146)\n",
      "Requirement already satisfied: numpy>=1.13.1 in c:\\users\\n10380558.qutad\\anaconda3\\lib\\site-packages (from searchlogit) (1.22.4)\n",
      "Requirement already satisfied: scipy>=1.0.0 in c:\\users\\n10380558.qutad\\anaconda3\\lib\\site-packages (from searchlogit) (1.7.3)\n"
     ]
    },
    {
     "name": "stderr",
     "output_type": "stream",
     "text": [
      "\n",
      "[notice] A new release of pip available: 22.3.1 -> 23.0\n",
      "[notice] To update, run: python.exe -m pip install --upgrade pip\n"
     ]
    },
    {
     "name": "stdout",
     "output_type": "stream",
     "text": [
      "Requirement already satisfied: xlogit in c:\\users\\n10380558.qutad\\anaconda3\\lib\\site-packages (0.2.4)\n",
      "Requirement already satisfied: numpy>=1.13.1 in c:\\users\\n10380558.qutad\\anaconda3\\lib\\site-packages (from xlogit) (1.22.4)\n",
      "Requirement already satisfied: scipy>=1.0.0 in c:\\users\\n10380558.qutad\\anaconda3\\lib\\site-packages (from xlogit) (1.7.3)\n"
     ]
    },
    {
     "name": "stderr",
     "output_type": "stream",
     "text": [
      "\n",
      "[notice] A new release of pip available: 22.3.1 -> 23.0\n",
      "[notice] To update, run: python.exe -m pip install --upgrade pip\n"
     ]
    }
   ],
   "source": [
    "    ``"
   ]
  },
  {
   "cell_type": "code",
   "execution_count": 3,
   "metadata": {
    "id": "DVwm8OLfXx5x"
   },
   "outputs": [],
   "source": [
    "import numpy as np\n",
    "import pandas as pd\n",
    "import scipy.stats as ss\n",
    "    "
   ]
  },
  {
   "cell_type": "code",
   "execution_count": 6,
   "metadata": {
    "id": "vjjoe7CTXy7h"
   },
   "outputs": [],
   "source": [
    "def noise(n_obs, perc=1, random_state=None):\n",
    "    random_state = random_state or np.random\n",
    "    noise_vec = random_state.normal(0, 1, n_obs)\n",
    "    return noise_vec"
   ]
  },
  {
   "cell_type": "code",
   "execution_count": 1,
   "metadata": {
    "id": "ZkwKNJMcX0l5"
   },
   "outputs": [],
   "source": [
    "def random_col(N, P, J, random_state=None):\n",
    "    rand_nums = random_state.randint(low=5, high=25, size=(3,))/10\n",
    "    return np.tile(rand_nums, N*P) + 0.5*noise(N*P*J, random_state=random_state)\n",
    "\n",
    "def generate_random_df(N, P, J, num_fixed=0, num_isvars=0, num_randvars=0, random_state=None):\n",
    "    df = pd.DataFrame()\n",
    "    df['choice_id'] = np.repeat(np.arange(1, (N*P+1)), J)\n",
    "    df['ind_id'] = np.repeat(np.arange(1, N+1), P*J)\n",
    "    df['alt'] = np.tile(np.arange(1, J+1), N*P)\n",
    "\n",
    "    varnames = []\n",
    "    for i in range(num_fixed):\n",
    "        coef_name = 'added_fixed' + str(i+1)\n",
    "        varnames.append(coef_name)\n",
    "        df[coef_name] = random_col(N, P, J, random_state=random_state)\n",
    "\n",
    "    for i in range(num_isvars):\n",
    "        coef_name = 'added_isvar' + str(i+1)\n",
    "        varnames.append(coef_name)\n",
    "        col_vals = np.repeat(random_state.random(N*P)*100, J)\n",
    "        for j in range(J):\n",
    "            if j == 0:\n",
    "                df[coef_name] = col_vals\n",
    "            else:\n",
    "                df[coef_name + \".\" + str(j+1)] = col_vals\n",
    "\n",
    "    for i in range(num_randvars):\n",
    "        coef_name = 'added_random' + str(i+1)\n",
    "        varnames.append(coef_name)\n",
    "        df[coef_name] = random_col(N, P, J, random_state=random_state)\n",
    "\n",
    "    return df, varnames\n"
   ]
  },
  {
   "cell_type": "code",
   "execution_count": 7,
   "metadata": {
    "id": "UAZ6n30FX1Hp"
   },
   "outputs": [
    {
     "ename": "ValueError",
     "evalue": "operands could not be broadcast together with shapes (36000,) (12000,) ",
     "output_type": "error",
     "traceback": [
      "\u001b[1;31m---------------------------------------------------------------------------\u001b[0m",
      "\u001b[1;31mValueError\u001b[0m                                Traceback (most recent call last)",
      "\u001b[1;32mc:\\Users\\n9471103\\source\\repos\\HS_BIC\\synth_dataset_generator.ipynb Cell 6\u001b[0m in \u001b[0;36m<cell line: 12>\u001b[1;34m()\u001b[0m\n\u001b[0;32m      <a href='vscode-notebook-cell:/c%3A/Users/n9471103/source/repos/HS_BIC/synth_dataset_generator.ipynb#W5sZmlsZQ%3D%3D?line=7'>8</a>\u001b[0m num_randvars \u001b[39m=\u001b[39m \u001b[39m7\u001b[39m\n\u001b[0;32m     <a href='vscode-notebook-cell:/c%3A/Users/n9471103/source/repos/HS_BIC/synth_dataset_generator.ipynb#W5sZmlsZQ%3D%3D?line=9'>10</a>\u001b[0m random_state \u001b[39m=\u001b[39m np\u001b[39m.\u001b[39mrandom\u001b[39m.\u001b[39mRandomState(\u001b[39m2\u001b[39m)\n\u001b[1;32m---> <a href='vscode-notebook-cell:/c%3A/Users/n9471103/source/repos/HS_BIC/synth_dataset_generator.ipynb#W5sZmlsZQ%3D%3D?line=11'>12</a>\u001b[0m df, varnames \u001b[39m=\u001b[39m generate_random_df(N, P, J, num_fixed\u001b[39m=\u001b[39;49mnum_fixed, num_isvars\u001b[39m=\u001b[39;49mnum_isvars,\n\u001b[0;32m     <a href='vscode-notebook-cell:/c%3A/Users/n9471103/source/repos/HS_BIC/synth_dataset_generator.ipynb#W5sZmlsZQ%3D%3D?line=12'>13</a>\u001b[0m                                   num_randvars\u001b[39m=\u001b[39;49mnum_randvars, random_state\u001b[39m=\u001b[39;49mrandom_state)\n\u001b[0;32m     <a href='vscode-notebook-cell:/c%3A/Users/n9471103/source/repos/HS_BIC/synth_dataset_generator.ipynb#W5sZmlsZQ%3D%3D?line=16'>17</a>\u001b[0m df \u001b[39m=\u001b[39m df\u001b[39m.\u001b[39mround(\u001b[39m8\u001b[39m)\n",
      "\u001b[1;32mc:\\Users\\n9471103\\source\\repos\\HS_BIC\\synth_dataset_generator.ipynb Cell 6\u001b[0m in \u001b[0;36mgenerate_random_df\u001b[1;34m(N, P, J, num_fixed, num_isvars, num_randvars, random_state)\u001b[0m\n\u001b[0;32m     <a href='vscode-notebook-cell:/c%3A/Users/n9471103/source/repos/HS_BIC/synth_dataset_generator.ipynb#W5sZmlsZQ%3D%3D?line=12'>13</a>\u001b[0m     coef_name \u001b[39m=\u001b[39m \u001b[39m'\u001b[39m\u001b[39madded_fixed\u001b[39m\u001b[39m'\u001b[39m \u001b[39m+\u001b[39m \u001b[39mstr\u001b[39m(i\u001b[39m+\u001b[39m\u001b[39m1\u001b[39m)\n\u001b[0;32m     <a href='vscode-notebook-cell:/c%3A/Users/n9471103/source/repos/HS_BIC/synth_dataset_generator.ipynb#W5sZmlsZQ%3D%3D?line=13'>14</a>\u001b[0m     varnames\u001b[39m.\u001b[39mappend(coef_name)\n\u001b[1;32m---> <a href='vscode-notebook-cell:/c%3A/Users/n9471103/source/repos/HS_BIC/synth_dataset_generator.ipynb#W5sZmlsZQ%3D%3D?line=14'>15</a>\u001b[0m     df[coef_name] \u001b[39m=\u001b[39m random_col(N, P, J, random_state\u001b[39m=\u001b[39;49mrandom_state)\n\u001b[0;32m     <a href='vscode-notebook-cell:/c%3A/Users/n9471103/source/repos/HS_BIC/synth_dataset_generator.ipynb#W5sZmlsZQ%3D%3D?line=16'>17</a>\u001b[0m \u001b[39mfor\u001b[39;00m i \u001b[39min\u001b[39;00m \u001b[39mrange\u001b[39m(num_isvars):\n\u001b[0;32m     <a href='vscode-notebook-cell:/c%3A/Users/n9471103/source/repos/HS_BIC/synth_dataset_generator.ipynb#W5sZmlsZQ%3D%3D?line=17'>18</a>\u001b[0m     coef_name \u001b[39m=\u001b[39m \u001b[39m'\u001b[39m\u001b[39madded_isvar\u001b[39m\u001b[39m'\u001b[39m \u001b[39m+\u001b[39m \u001b[39mstr\u001b[39m(i\u001b[39m+\u001b[39m\u001b[39m1\u001b[39m)\n",
      "\u001b[1;32mc:\\Users\\n9471103\\source\\repos\\HS_BIC\\synth_dataset_generator.ipynb Cell 6\u001b[0m in \u001b[0;36mrandom_col\u001b[1;34m(N, P, J, random_state)\u001b[0m\n\u001b[0;32m      <a href='vscode-notebook-cell:/c%3A/Users/n9471103/source/repos/HS_BIC/synth_dataset_generator.ipynb#W5sZmlsZQ%3D%3D?line=0'>1</a>\u001b[0m \u001b[39mdef\u001b[39;00m \u001b[39mrandom_col\u001b[39m(N, P, J, random_state\u001b[39m=\u001b[39m\u001b[39mNone\u001b[39;00m):\n\u001b[0;32m      <a href='vscode-notebook-cell:/c%3A/Users/n9471103/source/repos/HS_BIC/synth_dataset_generator.ipynb#W5sZmlsZQ%3D%3D?line=1'>2</a>\u001b[0m     rand_nums \u001b[39m=\u001b[39m random_state\u001b[39m.\u001b[39mrandint(low\u001b[39m=\u001b[39m\u001b[39m5\u001b[39m, high\u001b[39m=\u001b[39m\u001b[39m25\u001b[39m, size\u001b[39m=\u001b[39m(\u001b[39m3\u001b[39m,))\u001b[39m/\u001b[39m\u001b[39m10\u001b[39m\n\u001b[1;32m----> <a href='vscode-notebook-cell:/c%3A/Users/n9471103/source/repos/HS_BIC/synth_dataset_generator.ipynb#W5sZmlsZQ%3D%3D?line=2'>3</a>\u001b[0m     \u001b[39mreturn\u001b[39;00m np\u001b[39m.\u001b[39;49mtile(rand_nums, N\u001b[39m*\u001b[39;49mP) \u001b[39m+\u001b[39;49m \u001b[39m0.5\u001b[39;49m\u001b[39m*\u001b[39;49mnoise(N\u001b[39m*\u001b[39;49mP\u001b[39m*\u001b[39;49mJ, random_state\u001b[39m=\u001b[39;49mrandom_state)\n",
      "\u001b[1;31mValueError\u001b[0m: operands could not be broadcast together with shapes (36000,) (12000,) "
     ]
    }
   ],
   "source": [
    "np.random.seed(0)\n",
    "N = 600  # Number of observations\n",
    "P = 20  # Number of choices per individual\n",
    "J = 1  # Number of alternatives\n",
    "num_fixed = 11\n",
    "num_isvars = 0\n",
    "num_nonsig = 5\n",
    "num_randvars = 7\n",
    "\n",
    "random_state = np.random.RandomState(2)\n",
    "\n",
    "df, varnames = generate_random_df(N, P, J, num_fixed=num_fixed, num_isvars=num_isvars,\n",
    "                                  num_randvars=num_randvars, random_state=random_state)\n",
    "\n",
    "\n",
    "\n",
    "df = df.round(8)"
   ]
  },
  {
   "cell_type": "code",
   "execution_count": null,
   "metadata": {
    "colab": {
     "base_uri": "https://localhost:8080/",
     "height": 456
    },
    "id": "vuujhlKLX2SK",
    "outputId": "7191411b-c18f-4147-8187-91864a8c2a3d"
   },
   "outputs": [],
   "source": [
    "df.head(10)"
   ]
  },
  {
   "cell_type": "code",
   "execution_count": 7,
   "metadata": {
    "id": "mAz2plieX3Vq"
   },
   "outputs": [],
   "source": [
    "# Define coefficients (betas)\n",
    "# Fixed betas\n",
    "fixed_coefs = [random_state.choice([-1,1]) * random_state.uniform(.25, 1) for i in range(num_fixed)]\n",
    "fixed_coefs = np.array(fixed_coefs)\n",
    "\n",
    "# rewrite old coef names\n",
    "fixed_coefs[-num_nonsig::] = 0\n",
    "old_coef_names = varnames[num_fixed-num_nonsig:num_fixed]\n",
    "varnames[num_fixed-num_nonsig:num_fixed] = ['nonsig' + str(i+1) for i in range(num_nonsig)]\n",
    "\n",
    "for ii, old_name in enumerate(old_coef_names):\n",
    "    new_name = 'nonsig' + str(ii+1)\n",
    "    df = df.rename(columns={old_name: new_name})\n",
    "\n",
    "fixed_coefs = list(fixed_coefs)\n",
    "isvar_coefs =  [0 for i in range(num_isvars)]\n",
    "new_isvars = []\n",
    "for coef in isvar_coefs:\n",
    "    for j in range(J):\n",
    "        isvar_alt = coef + np.random.uniform(0, 1)\n",
    "        new_isvars.append(isvar_alt)\n",
    "\n",
    "isvar_coefs = new_isvars\n",
    "isvar_coefs = np.array(isvar_coefs)\n",
    "isvar_coefs[np.arange(0, J*num_isvars, J)] = 0\n",
    "isvar_coefs = list(isvar_coefs)"
   ]
  },
  {
   "cell_type": "code",
   "execution_count": 8,
   "metadata": {
    "colab": {
     "base_uri": "https://localhost:8080/"
    },
    "id": "iAEvtsmMX5Di",
    "outputId": "5024bf13-5d32-4693-fb90-8d532bc28be7"
   },
   "outputs": [
    {
     "name": "stdout",
     "output_type": "stream",
     "text": [
      "[0.433577010307193, -0.416540006686381, 0.7511760870427675, 0.966082816446922, 0.49429543192841774, 0.9239320540275335, 0.0, 0.0, 0.0, 0.0, 0.0]\n",
      "[]\n"
     ]
    }
   ],
   "source": [
    "print(fixed_coefs)\n",
    "print(isvar_coefs)"
   ]
  },
  {
   "cell_type": "code",
   "execution_count": 9,
   "metadata": {
    "id": "tsFPHj6TX6GR"
   },
   "outputs": [],
   "source": [
    "# Random mean between -1.5 and 1.5, excluding -.1 - .1 as hard to detect effect\n",
    "random_coefs_mean = [random_state.choice([-1,1]) * random_state.uniform(.5, 1.5) for i in range(num_randvars-2)]\n",
    "random_coefs_sd = [random_state.uniform(1.0, 1.5) for i in range(num_randvars-2)]\n",
    "\n",
    "cov_mat = np.diag(random_coefs_sd)\n",
    "cov_mat[0, 1] = cov_mat[1, 0] = 0.25\n",
    "cov_mat[0, 2] = cov_mat[2, 0] = 0.4\n",
    "cov_mat[1, 2] = cov_mat[2, 1] = 0.5\n",
    "\n",
    "random_coefs_uniform_a = 0\n",
    "random_coefs_uniform_b = random_state.uniform(1, 2)\n",
    "\n",
    "random_coefs_tri_left = 0\n",
    "random_coefs_tri_right = random_state.uniform(1, 2)\n",
    "random_coefs_tri_mode = random_coefs_tri_right/2\n",
    "\n",
    "rand_coefs = [np.array([]) for i in range(num_randvars)]\n",
    "\n",
    "for i in range(N):\n",
    "    res_normal = random_state.multivariate_normal(random_coefs_mean, cov_mat)\n",
    "    res_uniform = np.array([random_state.uniform(random_coefs_uniform_a, random_coefs_uniform_b)])\n",
    "    res_triangular = np.array([random_state.triangular(random_coefs_tri_left, random_coefs_tri_mode, random_coefs_tri_right)])\n",
    "    res = np.concatenate((res_normal, res_uniform, res_triangular))\n",
    "\n",
    "    for r in range(num_randvars):\n",
    "        rand_coefs[r] = np.append(rand_coefs[r], np.repeat(res[r], P*J))\n"
   ]
  },
  {
   "cell_type": "code",
   "execution_count": 10,
   "metadata": {
    "colab": {
     "base_uri": "https://localhost:8080/"
    },
    "id": "44iimI8TX8BS",
    "outputId": "10509e68-2fac-4300-a5ba-b090f6b002c5"
   },
   "outputs": [
    {
     "name": "stdout",
     "output_type": "stream",
     "text": [
      "[1.4311152955243416, -0.6952543135912662, 0.7210641910793044, 0.6437314245813626, 1.2029349753939522]\n",
      "[1.4694441330570271, 1.0618526306860647, 1.2793609519277316, 1.3597765787300091, 1.0082774046874046]\n"
     ]
    }
   ],
   "source": [
    "print(random_coefs_mean)\n",
    "print(random_coefs_sd)"
   ]
  },
  {
   "cell_type": "code",
   "execution_count": 11,
   "metadata": {
    "colab": {
     "base_uri": "https://localhost:8080/"
    },
    "id": "M5CYXOz2X9GS",
    "outputId": "7d4077f4-554c-4813-8e9b-72793e1ed0d9"
   },
   "outputs": [
    {
     "data": {
      "text/plain": [
       "(0, 1.1751241688272402)"
      ]
     },
     "execution_count": 11,
     "metadata": {},
     "output_type": "execute_result"
    }
   ],
   "source": [
    "random_coefs_uniform_a, random_coefs_uniform_b"
   ]
  },
  {
   "cell_type": "code",
   "execution_count": 12,
   "metadata": {
    "colab": {
     "base_uri": "https://localhost:8080/"
    },
    "id": "DKElejYyX-NT",
    "outputId": "a504ce62-ba50-4207-8282-d11d15c70f3c"
   },
   "outputs": [
    {
     "data": {
      "text/plain": [
       "(0, 0.9641799673341549, 1.9283599346683098)"
      ]
     },
     "execution_count": 12,
     "metadata": {},
     "output_type": "execute_result"
    }
   ],
   "source": [
    "random_coefs_tri_left, random_coefs_tri_mode, random_coefs_tri_right"
   ]
  },
  {
   "cell_type": "code",
   "execution_count": 13,
   "metadata": {
    "colab": {
     "base_uri": "https://localhost:8080/"
    },
    "id": "r571xFie7dbs",
    "outputId": "74e24030-bc1c-4580-cb82-763ba87428d8"
   },
   "outputs": [
    {
     "data": {
      "text/plain": [
       "array([[1.46944413, 0.25      , 0.4       , 0.        , 0.        ],\n",
       "       [0.25      , 1.06185263, 0.5       , 0.        , 0.        ],\n",
       "       [0.4       , 0.5       , 1.27936095, 0.        , 0.        ],\n",
       "       [0.        , 0.        , 0.        , 1.35977658, 0.        ],\n",
       "       [0.        , 0.        , 0.        , 0.        , 1.0082774 ]])"
      ]
     },
     "execution_count": 13,
     "metadata": {},
     "output_type": "execute_result"
    }
   ],
   "source": [
    "cov_mat"
   ]
  },
  {
   "cell_type": "code",
   "execution_count": 14,
   "metadata": {
    "id": "gWhgqCrUX_KC"
   },
   "outputs": [],
   "source": [
    "B_fixed = [np.repeat(f_coef, P*N*J) for f_coef in fixed_coefs]\n",
    "B_isvar = [np.tile(isvar_coefs[(i*J):(i*J)+J], P*N) for i in range(num_isvars)]\n",
    "\n",
    "# Convert betas to matrix for easy product\n",
    "B = [B_fixed, B_isvar, rand_coefs]\n",
    "B = [B_i for B_i in B if B_i != []]\n",
    "B = np.vstack(B).T"
   ]
  },
  {
   "cell_type": "code",
   "execution_count": null,
   "metadata": {
    "id": "jzUp5XiVKPnu"
   },
   "outputs": [],
   "source": [
    "# Visualise values after non-linear transformation\n",
    "# import matplotlib.pyplot as plt\n",
    "# plt.hist(inv_boxcox(df['added_random4'], 0.4), bins=30)"
   ]
  },
  {
   "cell_type": "code",
   "execution_count": 15,
   "metadata": {
    "id": "umupZK1ZYBry"
   },
   "outputs": [],
   "source": [
    "# Multiply and generate probability\n",
    "isvars = ['added_isvar' + str(i+1) for i in range(num_isvars)]\n",
    "\n",
    "X = df.values[:, 3:]  # Extract only necessary columns\n",
    "XB = (X*B).sum(axis=1).reshape(N*P, J)\n",
    "eps = np.random.gumbel(0, 1, (N*P, J))\n",
    "eXB = np.exp(XB)\n",
    "prob = eXB/eXB.sum(axis=1, keepdims=True)\n",
    "# Use monte carlo simulation to predict choice\n",
    "# y = np.apply_along_axis(lambda p: np.eye(J, dtype='int64')[np.argmax(p)], 1, prob).reshape(N*P*J,)\n",
    "# y = y.reshape(N*P*J,)\n",
    "\n",
    "y = []\n",
    "U = XB + eps\n",
    "\n",
    "for row in U:\n",
    "    idx = np.argmax(row)\n",
    "    row_i = np.zeros(J)\n",
    "    row_i[idx] = 1\n",
    "    y.append(row_i)\n",
    "y = np.array(y)\n",
    "y = np.squeeze(y.reshape(-1, 1))\n",
    "\n",
    "df['choice'] = y\n",
    "\n",
    "# Apply non-linear transformations for boxcox testing\n",
    "df['added_random4'] = inv_boxcox(df['added_random4'], 0.4)\n",
    "df['added_random5'] = inv_boxcox(df['added_random5'], 0.3)\n",
    "\n",
    "# Save to CSV\n",
    "df.to_csv(\"artificial_1h_mixed_corr_trans_march2023_MOOF.csv\", index=False)"
   ]
  },
  {
   "cell_type": "code",
   "execution_count": 16,
   "metadata": {
    "colab": {
     "base_uri": "https://localhost:8080/"
    },
    "id": "kb-ElS4KYCuq",
    "outputId": "a5bc0d9a-0c50-40df-c585-2a07d548a9b6"
   },
   "outputs": [
    {
     "data": {
      "text/plain": [
       "array([11.73011546, 13.34124179, 10.02414039])"
      ]
     },
     "execution_count": 16,
     "metadata": {},
     "output_type": "execute_result"
    }
   ],
   "source": [
    "# pre-check frequencies of each alt\n",
    "np.mean(U, axis=0)"
   ]
  },
  {
   "cell_type": "code",
   "execution_count": 17,
   "metadata": {
    "colab": {
     "base_uri": "https://localhost:8080/"
    },
    "id": "j_Pjn_wc1EJP",
    "outputId": "a08de788-9fc3-4973-c89b-c3dbf1bc0225"
   },
   "outputs": [
    {
     "name": "stdout",
     "output_type": "stream",
     "text": [
      "Optimization terminated successfully.\n",
      "         Current function value: 7306.235717\n",
      "         Iterations: 46\n",
      "         Function evaluations: 57\n",
      "         Gradient evaluations: 57\n",
      "Estimation time= 78.0 seconds\n",
      "Proportion of alternatives: observed choice\n",
      "[0.27816667 0.60083333 0.121     ]\n",
      "Proportion of alternatives: predicted choice\n",
      "[0.27810605 0.60047474 0.1214192 ]\n",
      "---------------------------------------------------------------------------\n",
      "Coefficient              Estimate      Std.Err.         z-val         P>|z|\n",
      "---------------------------------------------------------------------------\n",
      "added_fixed1         0.4143613975  0.0374781383 11.0560827112             0 ***\n",
      "added_fixed2        -0.4102532510  0.0353688228 -11.5992905170             0 ***\n",
      "added_fixed3         0.7498146067  0.0363127812 20.6487793757             0 ***\n",
      "added_fixed4         0.9113544974  0.0393331664 23.1701279598             0 ***\n",
      "added_fixed5         0.4564933000  0.0376986237 12.1090176690             0 ***\n",
      "added_fixed6         0.8860631672  0.0375978539 23.5668549095             0 ***\n",
      "added_random1        1.4545477880  0.0616580835 23.5905449274             0 ***\n",
      "added_random2       -0.6787862463  0.0536453993 -12.6532052103             0 ***\n",
      "added_random3        0.6748297857  0.0594689545 11.3475979501             0 ***\n",
      "added_random4        0.3144811384  0.0305720716 10.2865498397             0 ***\n",
      "added_random5        0.3809300947  0.0177013968 21.5197760240             0 ***\n",
      "added_random6        0.5897123210  0.0385834001 15.2840941665             0 ***\n",
      "added_random7        0.9351715149  0.0386056174 24.2237160766             0 ***\n",
      "chol.added_random1.  1.1329134876  0.0536751628 21.1068477344             0 ***\n",
      "chol.added_random2.  0.1918224904  0.0690820780  2.7767330655       0.00549 ** \n",
      "chol.added_random2.  0.9591412852  0.0583682851 16.4325760881             0 ***\n",
      "chol.added_random3.  0.3549107541  0.0743829046  4.7714021937      1.83e-06 ***\n",
      "chol.added_random3.  0.3770548844  0.0819817672  4.5992529476      4.24e-06 ***\n",
      "chol.added_random3.  0.9749985408  0.0604905784 16.1181884184             0 ***\n",
      "sd.added_random4     0.5490070346  0.0266191739 20.6244955591             0 ***\n",
      "sd.added_random5     0.3016178632  0.0196269546 15.3675325028             0 ***\n",
      "sd.added_random6    -0.5560739388  0.0923559886 -6.0209840977      1.73e-09 ***\n",
      "sd.added_random7     0.9465179503  0.1309844383  7.2261862736      4.97e-13 ***\n",
      "---------------------------------------------------------------------------\n",
      "Significance:  0 '***' 0.001 '**' 0.01 '*' 0.05 '.' 0.1 ' ' 1\n",
      "\n",
      "Log-Likelihood= -7306.236\n",
      "AIC= 14658.471\n",
      "BIC= 14759.601\n"
     ]
    }
   ],
   "source": [
    "model = MixedLogit()\n",
    "\n",
    "varnames = ['added_fixed1',\n",
    " 'added_fixed2',\n",
    " 'added_fixed3',\n",
    " 'added_fixed4',\n",
    " 'added_fixed5',\n",
    " 'added_fixed6',\n",
    " #'nonsig1',\n",
    " #'nonsig2',\n",
    " #'nonsig3',\n",
    " #'nonsig4',\n",
    " #'nonsig5',\n",
    " 'added_random1',\n",
    " 'added_random2',\n",
    " 'added_random3',\n",
    " 'added_random4',\n",
    " 'added_random5',\n",
    " 'added_random6',\n",
    " 'added_random7']\n",
    "\n",
    "X = df[varnames].values\n",
    "y = df['choice'].values\n",
    "\n",
    "# # Apply non-linear transformations for boxcox testing\n",
    "df['added_random4'] = boxcox(df['added_random4'], 0.4)\n",
    "df['added_random5'] = boxcox(df['added_random5'], 0.3)\n",
    "\n",
    "transvars = [] # ['added_random4', 'added_random5']\n",
    "randvars = {'added_random1': 'n', 'added_random2': 'n', 'added_random3': 'n', 'added_random4': 'n',\n",
    "            'added_random5': 'n', 'added_random6': 'u', 'added_random7': 't'}\n",
    "\n",
    "correlation = ['added_random1', 'added_random2', 'added_random3']\n",
    "\n",
    "model.fit(X,\n",
    "          y,\n",
    "          ids=df['choice_id'].values,\n",
    "          panels=df['ind_id'].values,\n",
    "          varnames=varnames,\n",
    "          isvars=isvars,\n",
    "        #   gtol=2e-6,\n",
    "          ftol=1e-8,\n",
    "        #   method=\"L-BFGS-B\",\n",
    "          correlation=correlation,\n",
    "          transvars=transvars,\n",
    "          randvars=randvars,\n",
    "          alts=df['alt']\n",
    "          )\n",
    "model.summary()"
   ]
  },
  {
   "cell_type": "code",
   "execution_count": 18,
   "metadata": {
    "colab": {
     "base_uri": "https://localhost:8080/"
    },
    "id": "ewP7q9kEYGk7",
    "outputId": "0bbb2451-d41f-49cc-9e0a-84506048b87f"
   },
   "outputs": [
    {
     "name": "stdout",
     "output_type": "stream",
     "text": [
      "correlation matrix\n",
      "             added_random1  added_random2  added_random3  \n",
      "added_random1  1.0          0.19611047   0.32148529   \n",
      "added_random2  0.19611047   1.0          0.39795835   \n",
      "added_random3  0.32148529   0.39795835   1.0          \n"
     ]
    }
   ],
   "source": [
    "model.corr()"
   ]
  },
  {
   "cell_type": "code",
   "execution_count": 19,
   "metadata": {
    "colab": {
     "base_uri": "https://localhost:8080/"
    },
    "id": "R7MNYSleFa6u",
    "outputId": "d39f3017-03dd-4a0c-8f03-d22414d6ccbd"
   },
   "outputs": [
    {
     "name": "stdout",
     "output_type": "stream",
     "text": [
      "Standard Deviations\n",
      "added_random1  added_random2  added_random3  added_random4  added_random5  added_random6  added_random7  \n",
      " 1.13291349    0.9781349     1.103972   0.54900703   0.30161786   0.10307274   0.94651795  \n"
     ]
    }
   ],
   "source": [
    "model.stddev()"
   ]
  },
  {
   "cell_type": "code",
   "execution_count": null,
   "metadata": {
    "id": "BSAIP_WLvpTV"
   },
   "outputs": [],
   "source": [
    "# np.linalg.norm(model.coeff_[:11] - fixed_coefs)"
   ]
  }
 ],
 "metadata": {
  "colab": {
   "provenance": []
  },
  "kernelspec": {
   "display_name": "Python 3 (ipykernel)",
   "language": "python",
   "name": "python3"
  },
  "language_info": {
   "codemirror_mode": {
    "name": "ipython",
    "version": 3
   },
   "file_extension": ".py",
   "mimetype": "text/x-python",
   "name": "python",
   "nbconvert_exporter": "python",
   "pygments_lexer": "ipython3",
   "version": "3.10.1"
  }
 },
 "nbformat": 4,
 "nbformat_minor": 1
}
