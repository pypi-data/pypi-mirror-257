{
 "cells": [
  {
   "cell_type": "markdown",
   "metadata": {},
   "source": [
    "# Using ESCO to identify positions associated with a given skill.\n",
    "\n",
    "ESCO contains a matching between skills and occupations.\n",
    "This notebook shows how to use this matching to identify occupations."
   ]
  },
  {
   "cell_type": "code",
   "execution_count": null,
   "metadata": {},
   "outputs": [],
   "source": [
    "# Get all occupations and related skills.\n",
    "import pandas as pd\n",
    "import io\n",
    "\n",
    "import esco\n",
    "\n",
    "db = esco.LocalDB()\n",
    "skills = db.load_skills()\n",
    "occupations = db.load_occupations()\n"
   ]
  },
  {
   "cell_type": "code",
   "execution_count": null,
   "metadata": {},
   "outputs": [],
   "source": [
    "# Get the row from skills that matches the index value 'x'Arith\n",
    "db.get_label('http://data.europa.eu/esco/skill/000f1d3d-220f-4789-9c0a-cc742521fb02')\n"
   ]
  },
  {
   "cell_type": "code",
   "execution_count": null,
   "metadata": {},
   "outputs": [],
   "source": [
    "with pd.option_context(\"max_colwidth\", None):\n",
    "  display(\n",
    "    occupations[occupations.description.str.contains(\"architect\", case=False)][['label', 'skill_', 'knowledge_', 'description']]\n",
    "    )"
   ]
  },
  {
   "cell_type": "code",
   "execution_count": null,
   "metadata": {},
   "outputs": [],
   "source": [
    "my_skills = {\n",
    "        \"http://data.europa.eu/esco/skill/19a8293b-8e95-4de3-983f-77484079c389\":\n",
    "          { \"label\": \"Java (computer programming)\" },\n",
    "        \"http://data.europa.eu/esco/skill/21d2f96d-35f7-4e3f-9745-c533d2dd6e97\":\n",
    "          { \"label\": \"computer programming\" },\n",
    "        \"http://data.europa.eu/esco/skill/43ae58b9-5e56-4524-b45a-b422777a0576\":\n",
    "          { \"label\": \"database\" },\n",
    "        \"http://data.europa.eu/esco/skill/4da171e5-779c-4983-a76f-91c16751e99f\":\n",
    "          { \"label\": \"MySQL\" },\n",
    "        \"http://data.europa.eu/esco/skill/598de5b0-5b58-4ea7-8058-a4bc4d18c742\":\n",
    "          { \"label\": \"SQL\" },\n",
    "        \"http://data.europa.eu/esco/skill/6f8a40d6-f9ce-43ec-a72f-d4213a53f3ed\":\n",
    "          { \"label\": \"Ansible\" },\n",
    "        \"http://data.europa.eu/esco/skill/76ef6ed3-1658-4a1a-9593-204d799c6d0c\":\n",
    "          { \"label\": \"NoSQL\" },\n",
    "        \"http://data.europa.eu/esco/skill/9983816d-cc78-4d3f-9e3c-c7baa9ebc77a\":\n",
    "          { \"label\": \"computer equipment\" },\n",
    "        \"http://data.europa.eu/esco/skill/a57a54b6-2f2e-43e4-9621-b52f4a63cb08\":\n",
    "          { \"label\": \"LDAP\" },\n",
    "        \"http://data.europa.eu/esco/skill/ab1e97ed-2319-4293-a8b7-072d2648822f\":\n",
    "          { \"label\": \"database management systems\" },\n",
    "        \"http://data.europa.eu/esco/skill/b16bcbcb-1d3f-42b3-a6a5-b91348a72b70\":\n",
    "          { \"label\": \"Jboss\" },\n",
    "        \"http://data.europa.eu/esco/skill/ccd0a1d9-afda-43d9-b901-96344886e14d\":\n",
    "          { \"label\": \"Python (computer programming)\" },\n",
    "      }\n",
    "my_skills_keys= set(my_skills.keys())\n",
    "my_skills_keys"
   ]
  },
  {
   "cell_type": "code",
   "execution_count": null,
   "metadata": {},
   "outputs": [],
   "source": [
    "# Create new dataframe containing: all the o_index columns, plus a new column containing all the matching skills for each occupation.\n",
    "occupations_for_my_skills = occupations.apply(\n",
    "    lambda o: {\n",
    "        \"label\": o.label,\n",
    "        \"skills\": o.skill,\n",
    "        \"matching\": [\n",
    "            skills[skills.index == skill_uri].label.values[0]\n",
    "            for skill_uri in (set(o.s) & my_skills_keys)\n",
    "        ],\n",
    "    },\n",
    "    axis=True,\n",
    "    result_type=\"expand\",\n",
    ")\n",
    "occupations_for_my_skills[occupations_for_my_skills.matching.apply(lambda x: len(x) > 0)]"
   ]
  },
  {
   "cell_type": "code",
   "execution_count": null,
   "metadata": {},
   "outputs": [],
   "source": [
    "skill_python = db.search_products({'python'})\n",
    "skill_python[0]['uri']"
   ]
  },
  {
   "cell_type": "code",
   "execution_count": null,
   "metadata": {},
   "outputs": [],
   "source": [
    "import esco.sparql\n",
    "\n",
    "skill_set = ', '.join(['<'+s+'>' for s in list(my_skills)[1:2]])\n",
    "print(skill_set)\n",
    "sparql = esco.sparql.SparqlClient()\n",
    "occupations_with_python = sparql.query(\n",
    "\"\"\"\n",
    "SELECT DISTINCT * \n",
    "WHERE {\n",
    "  ?o a esco:Occupation ;\n",
    "    esco:relatedEssentialSkill \"\"\" + skill_set + \"\"\" ;\n",
    "    skos:prefLabel ?occupation \n",
    "    .\n",
    "\n",
    "    FILTER (lang(?occupation) = \"en\")\n",
    "}\n",
    "\"\"\")\n",
    "occupations_with_python = pd.read_csv(io.StringIO(occupations_with_python.decode('utf-8')))\n",
    "occupations_with_python.head()"
   ]
  },
  {
   "cell_type": "code",
   "execution_count": null,
   "metadata": {},
   "outputs": [],
   "source": []
  },
  {
   "cell_type": "code",
   "execution_count": null,
   "metadata": {},
   "outputs": [],
   "source": [
    "C = pd.DataFrame(data= [(0, 1, 2), (3, 4, 5)], columns=['a', 'b', 'c'])\n",
    "C"
   ]
  },
  {
   "cell_type": "code",
   "execution_count": null,
   "metadata": {},
   "outputs": [],
   "source": [
    "C.apply(lambda x: {'Z': x.a}, axis=True,result_type='expand')[lambda x: x.Z > 1]\n",
    "# Show only the rows where Z > 1"
   ]
  },
  {
   "cell_type": "code",
   "execution_count": null,
   "metadata": {},
   "outputs": [],
   "source": []
  }
 ],
 "metadata": {
  "kernelspec": {
   "display_name": "Python 3",
   "language": "python",
   "name": "python3"
  },
  "language_info": {
   "codemirror_mode": {
    "name": "ipython",
    "version": 3
   },
   "file_extension": ".py",
   "mimetype": "text/x-python",
   "name": "python",
   "nbconvert_exporter": "python",
   "pygments_lexer": "ipython3",
   "version": "3.10.12"
  }
 },
 "nbformat": 4,
 "nbformat_minor": 2
}
