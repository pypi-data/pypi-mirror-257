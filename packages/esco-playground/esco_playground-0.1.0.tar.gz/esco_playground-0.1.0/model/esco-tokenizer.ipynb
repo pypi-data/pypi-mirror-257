{
 "cells": [
  {
   "cell_type": "markdown",
   "metadata": {},
   "source": [
    "## Define tokenization for CV\n",
    "\n",
    "We want to split the CV in different sections to improve neural search via embeddings.\n",
    "\n",
    "We will try different tokenization strategies:\n",
    "\n",
    "- nltk sentence tokenizer\n",
    "- spacy sentence tokenizer\n",
    "- LLM\n",
    "\n",
    "See https://towardsdatascience.com/how-to-chunk-text-data-a-comparative-analysis-3858c4a0997a for a brief comparison of different tokenizers."
   ]
  },
  {
   "cell_type": "markdown",
   "metadata": {},
   "source": [
    "## Text tokenizers\n",
    "\n"
   ]
  },
  {
   "cell_type": "code",
   "execution_count": null,
   "metadata": {},
   "outputs": [],
   "source": [
    "import nltk\n",
    "from pathlib import Path\n",
    "import yaml\n",
    "import pandas as pd\n",
    "import spacy\n",
    "nlp = spacy.load(\"en_core_web_sm\")\n",
    "nltk.download(\"punkt\")\n",
    "\n",
    "def sentence_stats(nltk_sentences):\n",
    "    return {\n",
    "        \"count\": len(nltk_sentences),\n",
    "        \"avg_word_count\": sum([len(str(s).split()) for s in nltk_sentences])\n",
    "        / len(nltk_sentences),\n",
    "        \"avg_char_count\": sum([len(str(s)) for s in nltk_sentences]) / len(nltk_sentences),\n",
    "        \"avg_space_count\": sum([str(s).count(\" \") for s in nltk_sentences])\n",
    "        / len(nltk_sentences),\n",
    "    }\n",
    "cv_text = Path(\"rpolli.txt\").read_text()\n",
    "\n",
    "sentence_test = dict(   \n",
    "nltk_sentences = nltk.sent_tokenize(cv_text),\n",
    "spacy_sentences = list(nlp(cv_text).sents)\n",
    ")\n",
    "\n",
    "pd.DataFrame(data= {k: sentence_stats(v) for k, v in sentence_test.items()})\n"
   ]
  },
  {
   "cell_type": "markdown",
   "metadata": {},
   "source": [
    "## JSON Tokenizers\n",
    "\n",
    "TODO"
   ]
  },
  {
   "cell_type": "markdown",
   "metadata": {},
   "source": []
  }
 ],
 "metadata": {
  "kernelspec": {
   "display_name": "Python 3",
   "language": "python",
   "name": "python3"
  },
  "language_info": {
   "codemirror_mode": {
    "name": "ipython",
    "version": 3
   },
   "file_extension": ".py",
   "mimetype": "text/x-python",
   "name": "python",
   "nbconvert_exporter": "python",
   "pygments_lexer": "ipython3",
   "version": "3.10.12"
  }
 },
 "nbformat": 4,
 "nbformat_minor": 2
}
