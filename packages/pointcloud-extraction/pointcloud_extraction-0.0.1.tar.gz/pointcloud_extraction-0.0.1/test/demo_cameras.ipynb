{
 "cells": [
  {
   "cell_type": "markdown",
   "metadata": {},
   "source": [
    "# Colmap tutorial for cloud based 3D reconstruction:\n",
    "\n",
    "\n",
    "This tutorial shows the usage of the colmap api(s defined in the cameras api) in order to fetch the photos and then conversion into the point cloud. \n",
    "\n"
   ]
  },
  {
   "cell_type": "code",
   "execution_count": null,
   "metadata": {},
   "outputs": [],
   "source": []
  }
 ],
 "metadata": {
  "language_info": {
   "name": "python"
  }
 },
 "nbformat": 4,
 "nbformat_minor": 2
}
