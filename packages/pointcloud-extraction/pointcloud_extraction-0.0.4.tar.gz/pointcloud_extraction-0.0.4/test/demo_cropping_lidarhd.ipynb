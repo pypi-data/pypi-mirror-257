{
 "cells": [
  {
   "cell_type": "markdown",
   "metadata": {},
   "source": [
    "## Demo for the data parsing and cropping process of the shape file:\n",
    "\n",
    "this tutorial gives some basic description of the packages and their API's in order to parse efficiently:\n",
    "- The various properties of the shapefile.\n",
    "- Then fetching the corresponding tile based on the region of the file that is provided by the users.\n",
    "- Getting the CRS system by parsing of the project file (in order to define the EPSG codes for standardisation).\n",
    "- Then running the cropping package with the parameters that are parsed by the packages\n",
    "- Generating the cropped lidar pcd ad storing with the correct classification. \n",
    "\n"
   ]
  },
  {
   "cell_type": "code",
   "execution_count": null,
   "metadata": {
    "vscode": {
     "languageId": "python"
    }
   },
   "outputs": [
    {
     "name": "stdout",
     "output_type": "stream",
     "text": [
      "Requirement already satisfied: pyshp in /home/ubuntu/.local/lib/python3.8/site-packages (2.3.1)\n",
      "Requirement already satisfied: pycrs in /home/ubuntu/.local/lib/python3.8/site-packages (1.0.2)\n",
      "[Errno 2] No such file or directory: '../data_preparation/'\n",
      "/home/ubuntu/app/version-2-geospatial-pipelines/geospatial-pipelines/packages\n",
      "\u001b[31mERROR: Could not open requirements file: [Errno 2] No such file or directory: 'requirements.txt'\u001b[0m\n"
     ]
    }
   ],
   "source": [
    "## dependencies \n",
    "!pip install pyshp pycrs\n",
    "\n",
    "## then store the corresponding shapefiles from the lidarHD in the shapefile/ folder , take from the lidarHD files for example.\n"
   ]
  },
  {
   "cell_type": "code",
   "execution_count": 5,
   "metadata": {
    "vscode": {
     "languageId": "python"
    }
   },
   "outputs": [
    {
     "name": "stdout",
     "output_type": "stream",
     "text": [
      "total records: 267501\n",
      "different columns of the file: ['DeletionFlag', 'nom_pkk', 'url_telech']\n"
     ]
    }
   ],
   "source": [
    "import pycrs\n",
    "import shapefile\n",
    "\n",
    "sf = shapefile.Reader(\"shapefile/TA_diff_pkk_lidarhd_classe.shp\")\n",
    "print(\"total records: \" + str(sf.numRecords))\n",
    "print(\"different columns of the file: \" + str([ f[0] for f in sf.fields]))\n"
   ]
  },
  {
   "cell_type": "code",
   "execution_count": 6,
   "metadata": {
    "vscode": {
     "languageId": "python"
    }
   },
   "outputs": [
    {
     "name": "stdout",
     "output_type": "stream",
     "text": [
      "getting epsg code from the given file\n",
      "projection name is RGF_1993_Lambert_93\n",
      "\n"
     ]
    }
   ],
   "source": [
    "import re\n",
    "\n",
    "print(\"getting epsg code from the given file\")\n",
    "\n",
    "prj = pycrs.load.from_file(\"shapefile/TA_diff_pkk_lidarhd_classe.prj\").to_ogc_wkt()\n",
    "\n",
    "crs_system_pattern = re.compile(r'PROJCS\\[\"(.*?)\",')\n",
    "\n",
    "projcs_name_match = crs_system_pattern.search(prj)\n",
    "\n",
    "projcs_name = projcs_name_match.group(1) if projcs_name_match else \"PROJCS name not found\"\n",
    "\n",
    "proj_code = pycrs.utils.search_name(projcs_name)\n",
    "\n",
    "print(\"projection name is {}\".format(projcs_name))\n",
    "\n",
    "\n",
    "# now given that given projection system can be checked \n",
    "\n",
    "# now to find the project system, there are various category\n",
    "\n",
    "## readinf prj file\n",
    "\n",
    "prjfile =  open(\"shapefile/TA_diff_pkk_lidarhd_classe.prj\", \"r\")\n",
    "\n",
    "prjlist = [line.rstrip('/n') for line in prjfile]\n",
    "\n",
    "print(prjfile.read())\n",
    "\n",
    "\n",
    "## here once checking on the website we found that the given standard is deprecated as ESRI:102110\n",
    "# and hence either we need to add adaptation in the pycrs code to even fetch the deprecated standard. \n",
    "#crs = pycrs.parse.from_esri_wkt(prjlist)\n"
   ]
  },
  {
   "cell_type": "code",
   "execution_count": 38,
   "metadata": {
    "vscode": {
     "languageId": "python"
    }
   },
   "outputs": [
    {
     "name": "stdout",
     "output_type": "stream",
     "text": [
      "/home/ubuntu/app/version-2-geospatial-pipelines/geospatial-pipelines/packages/data_preparation/test\n",
      "None\n",
      "Jupyter environment detected. Enabling Open3D WebVisualizer.\n"
     ]
    },
    {
     "ename": "AttributeError",
     "evalue": "partially initialized module 'open3d' has no attribute 'visualization' (most likely due to a circular import)",
     "output_type": "error",
     "traceback": [
      "\u001b[0;31m---------------------------------------------------------------------------\u001b[0m",
      "\u001b[0;31mAttributeError\u001b[0m                            Traceback (most recent call last)",
      "Cell \u001b[0;32mIn[38], line 6\u001b[0m\n\u001b[1;32m      4\u001b[0m \u001b[38;5;28;01mimport\u001b[39;00m \u001b[38;5;21;01msys\u001b[39;00m\n\u001b[1;32m      5\u001b[0m \u001b[38;5;28mprint\u001b[39m(sys\u001b[38;5;241m.\u001b[39mpath\u001b[38;5;241m.\u001b[39minsert(\u001b[38;5;241m0\u001b[39m,\u001b[38;5;124m'\u001b[39m\u001b[38;5;124m../\u001b[39m\u001b[38;5;124m'\u001b[39m))\n\u001b[0;32m----> 6\u001b[0m \u001b[38;5;28;01mfrom\u001b[39;00m \u001b[38;5;21;01mcropping\u001b[39;00m \u001b[38;5;28;01mimport\u001b[39;00m CroppingUtilsLas\n\u001b[1;32m      7\u001b[0m \u001b[38;5;66;03m#print(sys.path)\u001b[39;00m\n",
      "File \u001b[0;32m~/app/version-2-geospatial-pipelines/geospatial-pipelines/packages/data_preparation/test/../cropping.py:12\u001b[0m\n\u001b[1;32m     10\u001b[0m \u001b[38;5;28;01mfrom\u001b[39;00m \u001b[38;5;21;01mshapely\u001b[39;00m\u001b[38;5;21;01m.\u001b[39;00m\u001b[38;5;21;01mops\u001b[39;00m \u001b[38;5;28;01mimport\u001b[39;00m transform\n\u001b[1;32m     11\u001b[0m \u001b[38;5;28;01mimport\u001b[39;00m \u001b[38;5;21;01mos\u001b[39;00m\n\u001b[0;32m---> 12\u001b[0m \u001b[38;5;28;01mimport\u001b[39;00m \u001b[38;5;21;01mopen3d\u001b[39;00m \u001b[38;5;28;01mas\u001b[39;00m \u001b[38;5;21;01mo3d\u001b[39;00m\n\u001b[1;32m     13\u001b[0m \u001b[38;5;28;01mimport\u001b[39;00m \u001b[38;5;21;01mlaspy\u001b[39;00m\n\u001b[1;32m     14\u001b[0m \u001b[38;5;28;01mfrom\u001b[39;00m \u001b[38;5;21;01mpyproj\u001b[39;00m \u001b[38;5;28;01mimport\u001b[39;00m Transformer, Proj\n",
      "File \u001b[0;32m~/.local/lib/python3.8/site-packages/open3d/__init__.py:96\u001b[0m\n\u001b[1;32m     93\u001b[0m \u001b[38;5;28mprint\u001b[39m(\u001b[38;5;124m\"\u001b[39m\u001b[38;5;124mJupyter environment detected. \u001b[39m\u001b[38;5;124m\"\u001b[39m\n\u001b[1;32m     94\u001b[0m       \u001b[38;5;124m\"\u001b[39m\u001b[38;5;124mEnabling Open3D WebVisualizer.\u001b[39m\u001b[38;5;124m\"\u001b[39m)\n\u001b[1;32m     95\u001b[0m \u001b[38;5;66;03m# Set default window system.\u001b[39;00m\n\u001b[0;32m---> 96\u001b[0m \u001b[43mopen3d\u001b[49m\u001b[38;5;241;43m.\u001b[39;49m\u001b[43mvisualization\u001b[49m\u001b[38;5;241m.\u001b[39mwebrtc_server\u001b[38;5;241m.\u001b[39menable_webrtc()\n\u001b[1;32m     97\u001b[0m \u001b[38;5;66;03m# HTTP handshake server is needed when Open3D is serving the\u001b[39;00m\n\u001b[1;32m     98\u001b[0m \u001b[38;5;66;03m# visualizer webpage. Disable since Jupyter is serving.\u001b[39;00m\n\u001b[1;32m     99\u001b[0m open3d\u001b[38;5;241m.\u001b[39mvisualization\u001b[38;5;241m.\u001b[39mwebrtc_server\u001b[38;5;241m.\u001b[39mdisable_http_handshake()\n",
      "\u001b[0;31mAttributeError\u001b[0m: partially initialized module 'open3d' has no attribute 'visualization' (most likely due to a circular import)"
     ]
    }
   ],
   "source": [
    "## now integrating the cropping process:\n",
    "%cd geospatial-pipelines/packages/data_preparation/test/\n",
    "\n",
    "import sys\n",
    "print(sys.path.insert(0,'../'))\n",
    "from cropping import CroppingUtilsLas\n",
    "\n",
    "croppObj = CroppingUtilsLas('shapefile/TA_diff_pkk_lidarhd_classe.shp', 'demo_pipeline.json', 'toto', ['102110', '84'] )\n",
    "## now to run for the point based cropping and \n",
    "croppObj.run_georender_pipeline_point(\"40.23\", \"81.94\")\n",
    "## or to run the polygon based cropping\n",
    "croppObj.run_georender_pipeline_polygon([\"10\", \"15\", \"30\", \"40\"])\n"
   ]
  }
 ],
 "metadata": {
  "kernelspec": {
   "display_name": "Xonsh",
   "language": "xonsh",
   "name": "xonsh"
  },
  "language_info": {
   "codemirror_mode": {
    "name": "ipython",
    "version": 3
   },
   "file_extension": ".py",
   "mimetype": "text/x-python",
   "name": "xonsh",
   "nbconvert_exporter": "python",
   "pygments_lexer": "ipython3",
   "version": "3.8.10"
  }
 },
 "nbformat": 4,
 "nbformat_minor": 2
}
