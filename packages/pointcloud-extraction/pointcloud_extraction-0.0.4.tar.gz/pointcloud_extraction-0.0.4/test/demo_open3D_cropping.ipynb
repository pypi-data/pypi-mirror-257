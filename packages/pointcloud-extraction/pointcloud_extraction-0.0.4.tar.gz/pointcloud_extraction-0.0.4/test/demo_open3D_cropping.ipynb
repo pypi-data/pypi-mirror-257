{
 "cells": [
  {
   "cell_type": "markdown",
   "metadata": {},
   "source": [
    "## Demo of using open3D for cropping the point cloud: \n",
    "1. Parsing the pointcloud data and conversion to the database\n",
    "2. taking the initial and final points in order to define the cropping boxes from the given region.\n",
    "3. Then storing the resulting crop with the characterstics from the given gepgraphical application and store the remaining part."
   ]
  },
  {
   "cell_type": "code",
   "execution_count": null,
   "metadata": {
    "vscode": {
     "languageId": "python"
    }
   },
   "outputs": [],
   "source": [
    "!pip install open3d"
   ]
  },
  {
   "cell_type": "code",
   "execution_count": null,
   "metadata": {
    "vscode": {
     "languageId": "python"
    }
   },
   "outputs": [],
   "source": [
    "import sys\n",
    "sys.path.append(\"../\")\n",
    "from threed_pointcloud import PointCloud3D\n",
    "import open3d as o3d\n",
    "\n",
    "data = o3d.data.PCDPointCloud()\n",
    "\n",
    "threed_obj = PointCloud3D(pcd_dataset_path=data.point_cloud_path)\n",
    "## in case of the dataset that is converted from the pointcloud stored on the url (from the openTopography)\n",
    "threed_obj.create_dataset_model(url=\"https://opentopography.s3.sdsc.edu/dataspace/OTDS.112019.32631.1/pointcloud/LeTeil_Cloud_2007_UTM31N_B2.laz\")\n",
    "\n",
    "min_bound = [0,1,0]\n",
    "max_bound = [0,0,3]\n",
    "threed_obj.crop_pcd(min_bound=min_bound, max_bound=max_bound, demo_name=\"demo_parameters\")\n",
    "## then combining another pointcloud path\n",
    "threed_obj.combine_point_clouds(url=\"https://opentopography.s3.sdsc.edu/dataspace/OTDS.112019.32631.1/pointcloud/LeTeil_Cloud_2007_UTM31N_B1.laz\")"
   ]
  },
  {
   "cell_type": "code",
   "execution_count": null,
   "metadata": {
    "vscode": {
     "languageId": "python"
    }
   },
   "outputs": [],
   "source": [
    "## now doing other transforms "
   ]
  }
 ],
 "metadata": {
  "kernelspec": {
   "display_name": "Xonsh",
   "language": "xonsh",
   "name": "xonsh"
  },
  "language_info": {
   "name": "xonsh"
  }
 },
 "nbformat": 4,
 "nbformat_minor": 2
}
