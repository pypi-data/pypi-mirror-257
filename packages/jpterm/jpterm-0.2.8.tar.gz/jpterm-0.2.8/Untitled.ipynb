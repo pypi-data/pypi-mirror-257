{
  "cells": [
    {
      "id": "ae831f24-4ecd-40cc-9be2-5f15f8666c93",
      "outputs": [],
      "cell_type": "code",
      "metadata": {
        "trusted": true
      },
      "execution_count": 1,
      "source": "a = 1"
    },
    {
      "execution_count": null,
      "id": "c59f6f34-3903-423c-ad88-a81545690262",
      "metadata": {},
      "outputs": [],
      "cell_type": "code",
      "source": "a += 2\na"
    }
  ],
  "metadata": {
    "language_info": {
      "name": ""
    },
    "kernelspec": {
      "display_name": "Python 3 (ipykernel)",
      "name": "python3",
      "language": "python"
    }
  },
  "nbformat": 4,
  "nbformat_minor": 5
}