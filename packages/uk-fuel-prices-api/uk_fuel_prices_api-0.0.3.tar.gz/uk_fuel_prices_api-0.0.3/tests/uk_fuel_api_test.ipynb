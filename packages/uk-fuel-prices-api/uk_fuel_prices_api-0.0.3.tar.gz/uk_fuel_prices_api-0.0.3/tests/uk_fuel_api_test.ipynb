{
 "cells": [
  {
   "cell_type": "code",
   "execution_count": null,
   "metadata": {},
   "outputs": [],
   "source": [
    "# Initialise\n",
    "%load_ext autoreload\n",
    "%autoreload 2\n",
    "\n",
    "import os\n",
    "import sys\n",
    "sys.path.append(os.path.abspath('../src'))\n",
    "\n",
    "from uk_fuel_prices_api import UKFuelPricesApi\n",
    "api = UKFuelPricesApi()\n",
    "\n",
    "await api.get_prices()\n",
    "\n",
    "print(\"Ready\")\n",
    "#display(df.sample(n=3))"
   ]
  },
  {
   "cell_type": "code",
   "execution_count": null,
   "metadata": {},
   "outputs": [],
   "source": [
    "# api.search\n",
    "\n",
    "value = \"jet\"\n",
    "\n",
    "display(api.search(value, 10))"
   ]
  },
  {
   "cell_type": "code",
   "execution_count": null,
   "metadata": {},
   "outputs": [],
   "source": [
    "# api.get_site_id\n",
    "\n",
    "id = 'gcw37q9jvpy1'\n",
    "\n",
    "display(api.get_site_id(id))\n",
    "display(api.get_site_id(id)['brand'][0])"
   ]
  },
  {
   "cell_type": "code",
   "execution_count": null,
   "metadata": {},
   "outputs": [],
   "source": [
    "# api.nearest\n",
    "\n",
    "my_lat = 53.483959\n",
    "my_lng = -2.244644\n",
    "\n",
    "stations = api.nearestN(my_lat, my_lng, 10)\n",
    "\n",
    "display (stations)"
   ]
  },
  {
   "cell_type": "code",
   "execution_count": null,
   "metadata": {},
   "outputs": [],
   "source": [
    "# get_stations_list\n",
    "\n",
    "station_list = api.get_stations_options()\n",
    "\n",
    "print(station_list)"
   ]
  },
  {
   "cell_type": "code",
   "execution_count": null,
   "metadata": {},
   "outputs": [],
   "source": [
    "# check distance utility method\n",
    "\n",
    "dist = UKFuelPricesApi.distance(52, -1, 52, -2)\n",
    "print(round(dist, 2))\n",
    "\n",
    "dist = UKFuelPricesApi.distance(12, 2, -10, -39)\n",
    "print(round(dist, 2))"
   ]
  },
  {
   "cell_type": "code",
   "execution_count": null,
   "metadata": {},
   "outputs": [],
   "source": [
    "# api.stationsWithinRadius\n",
    "\n",
    "lat, lng = 53.743175, -1.882085  # Halifax Esso\n",
    "radius = 5\n",
    "\n",
    "display(api.stationsWithinRadius(lat, lng, radius))"
   ]
  },
  {
   "cell_type": "code",
   "execution_count": 5,
   "metadata": {},
   "outputs": [
    {
     "name": "stdout",
     "output_type": "stream",
     "text": [
      "gcw9tpts8jzw\tESSO\t\t £1.409\n",
      "gcw9ubvhttm3\tMorrisons\t\t £1.4169999999999998\n",
      "gcw9tt5w167r\tShell\t\t £1.419\n",
      "gcw9th344j0y\tASDA\t\t £1.3969999999999998\n",
      "gcw9tu95rzds\tSainsbury's\t\t £1.399\n",
      "gcw9tdtq93sz\tASDA\t\t £1.4269999999999998\n",
      "gcw9s6k506yg\tASDA\t\t £1.4269999999999998\n",
      "mpwjxhghhs0w\tEsso\t\t £1.399\n",
      "gcw9tb62f8sd\tSHELL\t\t £1.439\n"
     ]
    },
    {
     "data": {
      "text/plain": [
       "[{'site_id': 'gcw9th344j0y',\n",
       "  'brand': 'ASDA',\n",
       "  'address': 'Thrum Hall Lane, Halifax',\n",
       "  'postcode': 'HX1 4PG',\n",
       "  'last_updated': '15/02/2024 00:00:00',\n",
       "  'latitude': 53.72312,\n",
       "  'longitude': -1.88621,\n",
       "  'B7': 1.4969999999999999,\n",
       "  'E10': 1.3969999999999998,\n",
       "  'E5': nan,\n",
       "  'SDV': nan,\n",
       "  'dist': 2.2464602415458583},\n",
       " {'site_id': 'gcw9tu95rzds',\n",
       "  'brand': \"Sainsbury's\",\n",
       "  'address': 'Wade Street',\n",
       "  'postcode': 'HX1 1SB',\n",
       "  'last_updated': '15/02/2024 02:00:19',\n",
       "  'latitude': 53.72649,\n",
       "  'longitude': -1.85498,\n",
       "  'B7': 1.479,\n",
       "  'E10': 1.399,\n",
       "  'E5': 1.499,\n",
       "  'SDV': nan,\n",
       "  'dist': 2.573036669028159},\n",
       " {'site_id': 'mpwjxhghhs0w',\n",
       "  'brand': 'Esso',\n",
       "  'address': 'Halifax Road, SHELF, Halifax, West Yorkshire, HX3 7JT',\n",
       "  'postcode': 'HX3 7JT',\n",
       "  'last_updated': '14/02/2024 10:55:02',\n",
       "  'latitude': 53.749431,\n",
       "  'longitude': -1.8189014,\n",
       "  'B7': 1.499,\n",
       "  'E10': 1.399,\n",
       "  'E5': 1.5390000000000001,\n",
       "  'SDV': 1.639,\n",
       "  'dist': 4.212560521597854},\n",
       " {'site_id': 'gcw9tpts8jzw',\n",
       "  'brand': 'ESSO',\n",
       "  'address': 'KEIGHLEY ROAD, HALIFAX',\n",
       "  'postcode': 'HX2 8BA',\n",
       "  'last_updated': '15/02/2024 00:05:11',\n",
       "  'latitude': 53.743175,\n",
       "  'longitude': -1.882085,\n",
       "  'B7': 1.499,\n",
       "  'E10': 1.409,\n",
       "  'E5': 1.5390000000000001,\n",
       "  'SDV': 1.629,\n",
       "  'dist': 0.0},\n",
       " {'site_id': 'gcw9ubvhttm3',\n",
       "  'brand': 'Morrisons',\n",
       "  'address': 'Keighley Road',\n",
       "  'postcode': 'HX2 8HU',\n",
       "  'last_updated': '15/02/2024 11:30:09',\n",
       "  'latitude': 53.750038,\n",
       "  'longitude': -1.893525,\n",
       "  'B7': 1.517,\n",
       "  'E10': 1.4169999999999998,\n",
       "  'E5': nan,\n",
       "  'SDV': nan,\n",
       "  'dist': 1.0715622408325467},\n",
       " {'site_id': 'gcw9tt5w167r',\n",
       "  'brand': 'Shell',\n",
       "  'address': 'MFG Haley Hill, Booth Town Rd  Haley Hill, Halifax',\n",
       "  'postcode': 'HX3 6ED',\n",
       "  'last_updated': '15/02/2024 00:00:01',\n",
       "  'latitude': 53.729681,\n",
       "  'longitude': -1.862811,\n",
       "  'B7': 1.5290000000000001,\n",
       "  'E10': 1.419,\n",
       "  'E5': 1.599,\n",
       "  'SDV': 1.699,\n",
       "  'dist': 1.9642870670808161},\n",
       " {'site_id': 'gcw9tdtq93sz',\n",
       "  'brand': 'ASDA',\n",
       "  'address': 'Skircoat Road, Halifax',\n",
       "  'postcode': 'HX1 2JN',\n",
       "  'last_updated': '15/02/2024 00:00:00',\n",
       "  'latitude': 53.718026,\n",
       "  'longitude': -1.859939,\n",
       "  'B7': 1.517,\n",
       "  'E10': 1.4269999999999998,\n",
       "  'E5': nan,\n",
       "  'SDV': nan,\n",
       "  'dist': 3.153142582503428},\n",
       " {'site_id': 'gcw9s6k506yg',\n",
       "  'brand': 'ASDA',\n",
       "  'address': 'Burnley Road, Sowerby Bridge',\n",
       "  'postcode': 'HX6 2TL',\n",
       "  'last_updated': '15/02/2024 00:00:00',\n",
       "  'latitude': 53.713922,\n",
       "  'longitude': -1.916262,\n",
       "  'B7': 1.517,\n",
       "  'E10': 1.4269999999999998,\n",
       "  'E5': nan,\n",
       "  'SDV': nan,\n",
       "  'dist': 3.9541741884412365},\n",
       " {'site_id': 'gcw9tb62f8sd',\n",
       "  'brand': 'SHELL',\n",
       "  'address': 'Salterhebble Hill',\n",
       "  'postcode': 'HX3 0QE',\n",
       "  'last_updated': '15/02/2024 00:00:00',\n",
       "  'latitude': 53.702677,\n",
       "  'longitude': -1.853486,\n",
       "  'B7': 1.5290000000000001,\n",
       "  'E10': 1.439,\n",
       "  'E5': nan,\n",
       "  'SDV': nan,\n",
       "  'dist': 4.8804743032552835}]"
      ]
     },
     "metadata": {},
     "output_type": "display_data"
    }
   ],
   "source": [
    "# api.findCheapest\n",
    "\n",
    "lat, lng = 53.743175, -1.882085  # Halifax Esso\n",
    "radius = 5\n",
    "stations = api.stationsWithinRadius(lat, lng, radius)\n",
    "\n",
    "for s in stations:\n",
    "    print(f\"{s['site_id']}\\t{s['brand']}\\t\\t £{s['E10']}\")\n",
    "\n",
    "cheapest = api.sortByPrice(stations, \"E10\")\n",
    "display(cheapest)\n"
   ]
  }
 ],
 "metadata": {
  "kernelspec": {
   "display_name": ".venv",
   "language": "python",
   "name": "python3"
  },
  "language_info": {
   "codemirror_mode": {
    "name": "ipython",
    "version": 3
   },
   "file_extension": ".py",
   "mimetype": "text/x-python",
   "name": "python",
   "nbconvert_exporter": "python",
   "pygments_lexer": "ipython3",
   "version": "3.10.6"
  }
 },
 "nbformat": 4,
 "nbformat_minor": 2
}
