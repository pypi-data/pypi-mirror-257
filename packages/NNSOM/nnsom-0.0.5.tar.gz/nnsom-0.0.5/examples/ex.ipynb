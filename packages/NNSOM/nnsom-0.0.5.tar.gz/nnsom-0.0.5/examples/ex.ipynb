{
 "cells": [
  {
   "cell_type": "markdown",
   "source": [
    "This is an Example notebook. We are training on Iris dataset using our package NNSOM\n"
   ],
   "metadata": {
    "collapsed": false
   },
   "id": "d8ea5f6f7f5a4913"
  },
  {
   "cell_type": "markdown",
   "source": [
    "Lets import NNSOM package"
   ],
   "metadata": {
    "collapsed": false
   },
   "id": "8c87caa4eb9e44e5"
  },
  {
   "cell_type": "code",
   "execution_count": 2,
   "outputs": [
    {
     "name": "stdout",
     "output_type": "stream",
     "text": [
      "Requirement already satisfied: NNSOM in /Users/sravya/venv/lib/python3.9/site-packages (0.0.4)\r\n",
      "\r\n",
      "\u001B[1m[\u001B[0m\u001B[34;49mnotice\u001B[0m\u001B[1;39;49m]\u001B[0m\u001B[39;49m A new release of pip is available: \u001B[0m\u001B[31;49m23.3.2\u001B[0m\u001B[39;49m -> \u001B[0m\u001B[32;49m24.0\u001B[0m\r\n",
      "\u001B[1m[\u001B[0m\u001B[34;49mnotice\u001B[0m\u001B[1;39;49m]\u001B[0m\u001B[39;49m To update, run: \u001B[0m\u001B[32;49mpip install --upgrade pip\u001B[0m\r\n"
     ]
    }
   ],
   "source": [
    "!pip install --upgrade NNSOM"
   ],
   "metadata": {
    "collapsed": false,
    "ExecuteTime": {
     "end_time": "2024-02-16T18:37:10.868639Z",
     "start_time": "2024-02-16T18:37:09.718449Z"
    }
   },
   "id": "initial_id"
  },
  {
   "cell_type": "code",
   "execution_count": 3,
   "outputs": [],
   "source": [
    "from sklearn.datasets import load_iris\n",
    "from sklearn.preprocessing import MinMaxScaler\n",
    "import numpy as np\n",
    "from NNSOM import SOM\n",
    "# Load Iris dataset\n",
    "iris = load_iris()\n",
    "X = iris.data\n",
    "y = iris.target\n",
    "\n",
    "X = np.transpose(X)\n"
   ],
   "metadata": {
    "collapsed": false,
    "ExecuteTime": {
     "end_time": "2024-02-16T18:37:10.873749Z",
     "start_time": "2024-02-16T18:37:10.870651Z"
    }
   },
   "id": "3ebb504f568687e7"
  },
  {
   "cell_type": "code",
   "execution_count": 4,
   "outputs": [],
   "source": [
    "# Set parameters\n",
    "SOM_Row_Num = 4\n",
    "Dimensions = (SOM_Row_Num, SOM_Row_Num)\n",
    "Epochs = 200\n",
    "Steps = 100\n",
    "Init_neighborhood = 3\n",
    "SEED = 1234567"
   ],
   "metadata": {
    "collapsed": false,
    "ExecuteTime": {
     "end_time": "2024-02-16T18:37:22.492463Z",
     "start_time": "2024-02-16T18:37:22.475102Z"
    }
   },
   "id": "84c8e941a1fca5eb"
  },
  {
   "cell_type": "code",
   "execution_count": 5,
   "outputs": [
    {
     "name": "stdout",
     "output_type": "stream",
     "text": [
      "Beginning Initialization\n",
      "Current Time = 13:37:23\n"
     ]
    },
    {
     "ename": "ValueError",
     "evalue": "cannot reshape array of size 4 into shape (16)",
     "output_type": "error",
     "traceback": [
      "\u001B[0;31m---------------------------------------------------------------------------\u001B[0m",
      "\u001B[0;31mValueError\u001B[0m                                Traceback (most recent call last)",
      "Cell \u001B[0;32mIn[5], line 4\u001B[0m\n\u001B[1;32m      1\u001B[0m \u001B[38;5;66;03m# Train SOM\u001B[39;00m\n\u001B[1;32m      2\u001B[0m \u001B[38;5;66;03m# Initialize weights of SOM\u001B[39;00m\n\u001B[1;32m      3\u001B[0m som \u001B[38;5;241m=\u001B[39m SOM(Dimensions)\n\u001B[0;32m----> 4\u001B[0m \u001B[43msom\u001B[49m\u001B[38;5;241;43m.\u001B[39;49m\u001B[43minit_w\u001B[49m\u001B[43m(\u001B[49m\u001B[43mX\u001B[49m\u001B[43m)\u001B[49m\n\u001B[1;32m      6\u001B[0m \u001B[38;5;66;03m# Train network\u001B[39;00m\n\u001B[1;32m      7\u001B[0m som\u001B[38;5;241m.\u001B[39mtrain(X, Init_neighborhood, Epochs, Steps)\n",
      "File \u001B[0;32m~/venv/lib/python3.9/site-packages/NNSOM/som.py:235\u001B[0m, in \u001B[0;36mSOM.init_w\u001B[0;34m(self, x)\u001B[0m\n\u001B[1;32m    233\u001B[0m \u001B[38;5;66;03m# Reshape gains to match the shape of components\u001B[39;00m\n\u001B[1;32m    234\u001B[0m numNeurons \u001B[38;5;241m=\u001B[39m \u001B[38;5;28mself\u001B[39m\u001B[38;5;241m.\u001B[39mnumNeurons\n\u001B[0;32m--> 235\u001B[0m gains \u001B[38;5;241m=\u001B[39m \u001B[43mnp\u001B[49m\u001B[38;5;241;43m.\u001B[39;49m\u001B[43mreshape\u001B[49m\u001B[43m(\u001B[49m\u001B[43mgains\u001B[49m\u001B[43m[\u001B[49m\u001B[43m:\u001B[49m\u001B[43mnumNeurons\u001B[49m\u001B[43m]\u001B[49m\u001B[43m,\u001B[49m\u001B[43m \u001B[49m\u001B[43m(\u001B[49m\u001B[38;5;241;43m-\u001B[39;49m\u001B[38;5;241;43m1\u001B[39;49m\u001B[43m,\u001B[49m\u001B[43m \u001B[49m\u001B[43mnumNeurons\u001B[49m\u001B[43m)\u001B[49m\u001B[43m)\u001B[49m\n\u001B[1;32m    237\u001B[0m basis \u001B[38;5;241m=\u001B[39m components \u001B[38;5;241m*\u001B[39m gains\n\u001B[1;32m    238\u001B[0m stdev \u001B[38;5;241m=\u001B[39m np\u001B[38;5;241m.\u001B[39mstd(encodedInputsT, axis\u001B[38;5;241m=\u001B[39m\u001B[38;5;241m0\u001B[39m)\n",
      "File \u001B[0;32m~/venv/lib/python3.9/site-packages/numpy/core/fromnumeric.py:285\u001B[0m, in \u001B[0;36mreshape\u001B[0;34m(a, newshape, order)\u001B[0m\n\u001B[1;32m    200\u001B[0m \u001B[38;5;129m@array_function_dispatch\u001B[39m(_reshape_dispatcher)\n\u001B[1;32m    201\u001B[0m \u001B[38;5;28;01mdef\u001B[39;00m \u001B[38;5;21mreshape\u001B[39m(a, newshape, order\u001B[38;5;241m=\u001B[39m\u001B[38;5;124m'\u001B[39m\u001B[38;5;124mC\u001B[39m\u001B[38;5;124m'\u001B[39m):\n\u001B[1;32m    202\u001B[0m \u001B[38;5;250m    \u001B[39m\u001B[38;5;124;03m\"\"\"\u001B[39;00m\n\u001B[1;32m    203\u001B[0m \u001B[38;5;124;03m    Gives a new shape to an array without changing its data.\u001B[39;00m\n\u001B[1;32m    204\u001B[0m \n\u001B[0;32m   (...)\u001B[0m\n\u001B[1;32m    283\u001B[0m \u001B[38;5;124;03m           [5, 6]])\u001B[39;00m\n\u001B[1;32m    284\u001B[0m \u001B[38;5;124;03m    \"\"\"\u001B[39;00m\n\u001B[0;32m--> 285\u001B[0m     \u001B[38;5;28;01mreturn\u001B[39;00m \u001B[43m_wrapfunc\u001B[49m\u001B[43m(\u001B[49m\u001B[43ma\u001B[49m\u001B[43m,\u001B[49m\u001B[43m \u001B[49m\u001B[38;5;124;43m'\u001B[39;49m\u001B[38;5;124;43mreshape\u001B[39;49m\u001B[38;5;124;43m'\u001B[39;49m\u001B[43m,\u001B[49m\u001B[43m \u001B[49m\u001B[43mnewshape\u001B[49m\u001B[43m,\u001B[49m\u001B[43m \u001B[49m\u001B[43morder\u001B[49m\u001B[38;5;241;43m=\u001B[39;49m\u001B[43morder\u001B[49m\u001B[43m)\u001B[49m\n",
      "File \u001B[0;32m~/venv/lib/python3.9/site-packages/numpy/core/fromnumeric.py:59\u001B[0m, in \u001B[0;36m_wrapfunc\u001B[0;34m(obj, method, *args, **kwds)\u001B[0m\n\u001B[1;32m     56\u001B[0m     \u001B[38;5;28;01mreturn\u001B[39;00m _wrapit(obj, method, \u001B[38;5;241m*\u001B[39margs, \u001B[38;5;241m*\u001B[39m\u001B[38;5;241m*\u001B[39mkwds)\n\u001B[1;32m     58\u001B[0m \u001B[38;5;28;01mtry\u001B[39;00m:\n\u001B[0;32m---> 59\u001B[0m     \u001B[38;5;28;01mreturn\u001B[39;00m \u001B[43mbound\u001B[49m\u001B[43m(\u001B[49m\u001B[38;5;241;43m*\u001B[39;49m\u001B[43margs\u001B[49m\u001B[43m,\u001B[49m\u001B[43m \u001B[49m\u001B[38;5;241;43m*\u001B[39;49m\u001B[38;5;241;43m*\u001B[39;49m\u001B[43mkwds\u001B[49m\u001B[43m)\u001B[49m\n\u001B[1;32m     60\u001B[0m \u001B[38;5;28;01mexcept\u001B[39;00m \u001B[38;5;167;01mTypeError\u001B[39;00m:\n\u001B[1;32m     61\u001B[0m     \u001B[38;5;66;03m# A TypeError occurs if the object does have such a method in its\u001B[39;00m\n\u001B[1;32m     62\u001B[0m     \u001B[38;5;66;03m# class, but its signature is not identical to that of NumPy's. This\u001B[39;00m\n\u001B[0;32m   (...)\u001B[0m\n\u001B[1;32m     66\u001B[0m     \u001B[38;5;66;03m# Call _wrapit from within the except clause to ensure a potential\u001B[39;00m\n\u001B[1;32m     67\u001B[0m     \u001B[38;5;66;03m# exception has a traceback chain.\u001B[39;00m\n\u001B[1;32m     68\u001B[0m     \u001B[38;5;28;01mreturn\u001B[39;00m _wrapit(obj, method, \u001B[38;5;241m*\u001B[39margs, \u001B[38;5;241m*\u001B[39m\u001B[38;5;241m*\u001B[39mkwds)\n",
      "\u001B[0;31mValueError\u001B[0m: cannot reshape array of size 4 into shape (16)"
     ]
    }
   ],
   "source": [
    "# Train SOM\n",
    "# Initialize weights of SOM\n",
    "som = SOM(Dimensions)\n",
    "som.init_w(X)\n",
    "\n",
    "# Train network\n",
    "som.train(X, Init_neighborhood, Epochs, Steps)\n"
   ],
   "metadata": {
    "collapsed": false,
    "ExecuteTime": {
     "end_time": "2024-02-16T18:37:24.243510Z",
     "start_time": "2024-02-16T18:37:23.740279Z"
    }
   },
   "id": "cf767acc726dd590"
  },
  {
   "cell_type": "code",
   "execution_count": 31,
   "outputs": [
    {
     "name": "stdout",
     "output_type": "stream",
     "text": [
      "Quantization error = 0.3607920733216474\n"
     ]
    }
   ],
   "source": [
    "# Compute statistics\n",
    "# Distance between each input and each weight\n",
    "x_w_dist = cdist(som.w, np.transpose(X), 'euclidean')\n",
    "\n",
    "# Find the index of the weight closest to the input\n",
    "ind1 = np.argmin(x_w_dist,axis=0)\n",
    "\n",
    "shapw = som.w.shape\n",
    "S = shapw[0]\n",
    "shapx = X.shape\n",
    "Q = shapx[1]\n",
    "net_ones = np.ones(S)\n",
    "same_size = 100*np.ones(S)\n",
    "\n",
    "Clust = []\n",
    "dist = []\n",
    "mdist = np.zeros(S)\n",
    "clustSize = []\n",
    "\n",
    "for i in range(S):\n",
    "    # Find which inputs are closest to the current weight (in cluster i)\n",
    "    tempclust = np.where(ind1==i)[0]\n",
    "\n",
    "    # Save distance of each input in the cluster to cluster center (weight)\n",
    "    tempdist = x_w_dist[i, tempclust]\n",
    "    indsort = np.argsort(tempdist)\n",
    "    tempclust = tempclust[indsort]\n",
    "    tempdist = tempdist[indsort]\n",
    "\n",
    "    # Add to distance array sorted distances\n",
    "    dist.append(tempdist)\n",
    "\n",
    "    # Add to Cluster array sorted indices\n",
    "    Clust.append(tempclust)\n",
    "\n",
    "    # Cluster size\n",
    "    num = len(tempclust)\n",
    "    clustSize.append(num)\n",
    "\n",
    "    # Save the maximum distance to any input in the cluster from cluster center\n",
    "    if num>0:\n",
    "        mdist[i] = tempdist[-1]\n",
    "\n",
    "\n",
    "# Find quantization error\n",
    "quant_err = np.array([ 0 if len(item)==0 else np.mean(item) for item in dist]).mean()\n",
    "print('Quantization error = ' + str(quant_err))\n"
   ],
   "metadata": {
    "collapsed": false,
    "ExecuteTime": {
     "end_time": "2024-02-16T18:18:19.331131Z",
     "start_time": "2024-02-16T18:18:19.327116Z"
    }
   },
   "id": "6b7ebfa07c795f36"
  },
  {
   "cell_type": "code",
   "execution_count": null,
   "outputs": [],
   "source": [],
   "metadata": {
    "collapsed": false,
    "is_executing": true
   },
   "id": "7904e68f4dcb13b4"
  }
 ],
 "metadata": {
  "kernelspec": {
   "display_name": "Python 3",
   "language": "python",
   "name": "python3"
  },
  "language_info": {
   "codemirror_mode": {
    "name": "ipython",
    "version": 2
   },
   "file_extension": ".py",
   "mimetype": "text/x-python",
   "name": "python",
   "nbconvert_exporter": "python",
   "pygments_lexer": "ipython2",
   "version": "2.7.6"
  }
 },
 "nbformat": 4,
 "nbformat_minor": 5
}
