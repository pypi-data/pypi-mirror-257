{
 "cells": [
  {
   "cell_type": "code",
   "execution_count": 12,
   "id": "initial_id",
   "metadata": {
    "collapsed": true,
    "ExecuteTime": {
     "end_time": "2024-02-16T16:55:20.710204Z",
     "start_time": "2024-02-16T16:55:19.206323Z"
    }
   },
   "outputs": [
    {
     "name": "stdout",
     "output_type": "stream",
     "text": [
      "Requirement already satisfied: NNSOM in /Users/sravya/venv/lib/python3.9/site-packages (0.0.3)\r\n",
      "\r\n",
      "\u001B[1m[\u001B[0m\u001B[34;49mnotice\u001B[0m\u001B[1;39;49m]\u001B[0m\u001B[39;49m A new release of pip is available: \u001B[0m\u001B[31;49m23.3.2\u001B[0m\u001B[39;49m -> \u001B[0m\u001B[32;49m24.0\u001B[0m\r\n",
      "\u001B[1m[\u001B[0m\u001B[34;49mnotice\u001B[0m\u001B[1;39;49m]\u001B[0m\u001B[39;49m To update, run: \u001B[0m\u001B[32;49mpip install --upgrade pip\u001B[0m\r\n"
     ]
    }
   ],
   "source": [
    "!pip install --upgrade NNSOM"
   ]
  },
  {
   "cell_type": "code",
   "execution_count": 14,
   "outputs": [
    {
     "name": "stdout",
     "output_type": "stream",
     "text": [
      "Beginning Initialization\n",
      "Current Time = 11:57:17\n"
     ]
    },
    {
     "ename": "ValueError",
     "evalue": "operands could not be broadcast together with shapes (150,150) (4,) ",
     "output_type": "error",
     "traceback": [
      "\u001B[0;31m---------------------------------------------------------------------------\u001B[0m",
      "\u001B[0;31mValueError\u001B[0m                                Traceback (most recent call last)",
      "Cell \u001B[0;32mIn[14], line 25\u001B[0m\n\u001B[1;32m     22\u001B[0m \u001B[38;5;66;03m# Train SOM\u001B[39;00m\n\u001B[1;32m     23\u001B[0m \u001B[38;5;66;03m# Initialize weights of SOM\u001B[39;00m\n\u001B[1;32m     24\u001B[0m som_net \u001B[38;5;241m=\u001B[39m SOM(Dimensions)\n\u001B[0;32m---> 25\u001B[0m \u001B[43msom_net\u001B[49m\u001B[38;5;241;43m.\u001B[39;49m\u001B[43minit_w\u001B[49m\u001B[43m(\u001B[49m\u001B[43mX_scaled\u001B[49m\u001B[43m)\u001B[49m\n\u001B[1;32m     27\u001B[0m \u001B[38;5;66;03m# Train network\u001B[39;00m\n\u001B[1;32m     28\u001B[0m som_net\u001B[38;5;241m.\u001B[39mtrain(X_scaled, Init_neighborhood, Epochs, Steps)\n",
      "File \u001B[0;32m~/venv/lib/python3.9/site-packages/NNSOM/som.py:233\u001B[0m, in \u001B[0;36mSOM.init_w\u001B[0;34m(self, x)\u001B[0m\n\u001B[1;32m    229\u001B[0m components, gains, encodedInputsT \u001B[38;5;241m=\u001B[39m np\u001B[38;5;241m.\u001B[39mlinalg\u001B[38;5;241m.\u001B[39msvd(xc)\n\u001B[1;32m    231\u001B[0m encodedInputsT \u001B[38;5;241m=\u001B[39m np\u001B[38;5;241m.\u001B[39mtranspose(encodedInputsT)\n\u001B[0;32m--> 233\u001B[0m basis \u001B[38;5;241m=\u001B[39m \u001B[43mcomponents\u001B[49m\u001B[43m \u001B[49m\u001B[38;5;241;43m*\u001B[39;49m\u001B[43m \u001B[49m\u001B[43mgains\u001B[49m\n\u001B[1;32m    234\u001B[0m stdev \u001B[38;5;241m=\u001B[39m np\u001B[38;5;241m.\u001B[39mstd(encodedInputsT, axis\u001B[38;5;241m=\u001B[39m\u001B[38;5;241m0\u001B[39m)\n\u001B[1;32m    235\u001B[0m stdev \u001B[38;5;241m=\u001B[39m stdev[:\u001B[38;5;28mlen\u001B[39m(basis)]\n",
      "\u001B[0;31mValueError\u001B[0m: operands could not be broadcast together with shapes (150,150) (4,) "
     ]
    }
   ],
   "source": [
    "from sklearn.datasets import load_iris\n",
    "from sklearn.preprocessing import MinMaxScaler\n",
    "import numpy as np\n",
    "from NNSOM import SOM\n",
    "# Load Iris dataset\n",
    "iris = load_iris()\n",
    "X = iris.data\n",
    "y = iris.target\n",
    "\n",
    "# Scale the features\n",
    "scaler = MinMaxScaler()\n",
    "X_scaled = scaler.fit_transform(X)\n",
    "\n",
    "# Set parameters\n",
    "SOM_Row_Num = 4\n",
    "Dimensions = (SOM_Row_Num, SOM_Row_Num)\n",
    "Epochs = 200\n",
    "Steps = 100\n",
    "Init_neighborhood = 3\n",
    "SEED = 1234567\n",
    "\n",
    "# Train SOM\n",
    "# Initialize weights of SOM\n",
    "som_net = SOM(Dimensions)\n",
    "som_net.init_w(X_scaled)\n",
    "\n",
    "# Train network\n",
    "som_net.train(X_scaled, Init_neighborhood, Epochs, Steps)\n",
    "\n"
   ],
   "metadata": {
    "collapsed": false,
    "ExecuteTime": {
     "end_time": "2024-02-16T16:57:17.777077Z",
     "start_time": "2024-02-16T16:57:17.665583Z"
    }
   },
   "id": "3ebb504f568687e7"
  },
  {
   "cell_type": "code",
   "execution_count": null,
   "outputs": [],
   "source": [],
   "metadata": {
    "collapsed": false
   },
   "id": "cf767acc726dd590"
  },
  {
   "cell_type": "code",
   "execution_count": null,
   "outputs": [],
   "source": [],
   "metadata": {
    "collapsed": false
   },
   "id": "6b7ebfa07c795f36"
  }
 ],
 "metadata": {
  "kernelspec": {
   "display_name": "Python 3",
   "language": "python",
   "name": "python3"
  },
  "language_info": {
   "codemirror_mode": {
    "name": "ipython",
    "version": 2
   },
   "file_extension": ".py",
   "mimetype": "text/x-python",
   "name": "python",
   "nbconvert_exporter": "python",
   "pygments_lexer": "ipython2",
   "version": "2.7.6"
  }
 },
 "nbformat": 4,
 "nbformat_minor": 5
}
