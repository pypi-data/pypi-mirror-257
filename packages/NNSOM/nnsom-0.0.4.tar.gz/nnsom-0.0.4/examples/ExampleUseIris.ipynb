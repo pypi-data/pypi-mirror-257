{
 "cells": [
  {
   "cell_type": "markdown",
   "source": [
    "This is an Example notebook. We are training on Iris dataset using our package NNSOM\n"
   ],
   "metadata": {
    "collapsed": false
   },
   "id": "4d5e48e52ae0febf"
  },
  {
   "cell_type": "markdown",
   "source": [
    "Lets import the package NNSOM"
   ],
   "metadata": {
    "collapsed": false
   },
   "id": "19b5ae97fba50a3b"
  },
  {
   "cell_type": "code",
   "execution_count": 28,
   "outputs": [
    {
     "name": "stdout",
     "output_type": "stream",
     "text": [
      "Requirement already satisfied: NNSOM in /Users/sravya/venv/lib/python3.9/site-packages (0.0.3)\r\n",
      "\r\n",
      "\u001B[1m[\u001B[0m\u001B[34;49mnotice\u001B[0m\u001B[1;39;49m]\u001B[0m\u001B[39;49m A new release of pip is available: \u001B[0m\u001B[31;49m23.3.2\u001B[0m\u001B[39;49m -> \u001B[0m\u001B[32;49m24.0\u001B[0m\r\n",
      "\u001B[1m[\u001B[0m\u001B[34;49mnotice\u001B[0m\u001B[1;39;49m]\u001B[0m\u001B[39;49m To update, run: \u001B[0m\u001B[32;49mpip install --upgrade pip\u001B[0m\r\n"
     ]
    }
   ],
   "source": [
    "!pip install --upgrade NNSOM"
   ],
   "metadata": {
    "collapsed": false,
    "ExecuteTime": {
     "end_time": "2024-02-15T23:15:21.986740Z",
     "start_time": "2024-02-15T23:15:20.236613Z"
    }
   },
   "id": "f5a736946f178855"
  },
  {
   "cell_type": "code",
   "execution_count": 29,
   "outputs": [],
   "source": [
    "from NNSOM import SOM"
   ],
   "metadata": {
    "collapsed": false,
    "ExecuteTime": {
     "end_time": "2024-02-15T23:15:21.992850Z",
     "start_time": "2024-02-15T23:15:21.983015Z"
    }
   },
   "id": "bdc31f8ce1467778"
  },
  {
   "cell_type": "markdown",
   "source": [
    " we are using iris dataset"
   ],
   "metadata": {
    "collapsed": false
   },
   "id": "4ffd7b11fb8f6ce1"
  },
  {
   "cell_type": "code",
   "execution_count": 30,
   "outputs": [],
   "source": [
    "from sklearn.datasets import load_iris\n",
    "import pandas as pd\n",
    "import numpy as np"
   ],
   "metadata": {
    "collapsed": false,
    "ExecuteTime": {
     "end_time": "2024-02-15T23:15:24.859684Z",
     "start_time": "2024-02-15T23:15:24.855544Z"
    }
   },
   "id": "677250f44c6ef46e"
  },
  {
   "cell_type": "code",
   "execution_count": 50,
   "outputs": [
    {
     "name": "stdout",
     "output_type": "stream",
     "text": [
      "Index(['Id', 'SepalLengthCm', 'SepalWidthCm', 'PetalLengthCm', 'PetalWidthCm',\n",
      "       'Species'],\n",
      "      dtype='object')\n"
     ]
    }
   ],
   "source": [
    "data = pd.read_csv('/Users/sravya/Desktop/Capstone/SOM/Data/Tabular/Iris.csv')\n",
    "print(data.columns)\n",
    "data = data.drop(['Id'], axis=1)"
   ],
   "metadata": {
    "collapsed": false,
    "ExecuteTime": {
     "end_time": "2024-02-15T23:42:31.270548Z",
     "start_time": "2024-02-15T23:42:31.257248Z"
    }
   },
   "id": "b725949a5639caf1"
  },
  {
   "cell_type": "code",
   "execution_count": 51,
   "outputs": [],
   "source": [
    "data.columns=['SepalLengthCm', 'SepalWidthCm', 'PetalLengthCm', 'PetalWidthCm', 'Species']\n",
    "data.dropna(how=\"all\", inplace=True)\n",
    "label_names = {1:'Iris-setosa',2:'Iris-versicolour', 3:'Iris-virginica'}\n",
    "data = data[data.columns[:-1]]\n",
    "# data normalization\n",
    "data = (data - np.mean(data, axis=0)) / np.std(data, axis=0)\n",
    "data = data.values"
   ],
   "metadata": {
    "collapsed": false,
    "ExecuteTime": {
     "end_time": "2024-02-15T23:42:33.091463Z",
     "start_time": "2024-02-15T23:42:33.079045Z"
    }
   },
   "id": "a23b99c526d60e76"
  },
  {
   "cell_type": "code",
   "execution_count": 55,
   "outputs": [],
   "source": [
    "dimensions = (5, 5)  # Adjust dimensions as needed\n",
    "som = SOM(dimensions)\n"
   ],
   "metadata": {
    "collapsed": false,
    "ExecuteTime": {
     "end_time": "2024-02-15T23:46:01.414164Z",
     "start_time": "2024-02-15T23:46:01.406427Z"
    }
   },
   "id": "1f62467ffea9225b"
  },
  {
   "cell_type": "code",
   "execution_count": 57,
   "outputs": [],
   "source": [
    "from numpy.random import default_rng\n",
    "Epochs = 200\n",
    "Steps = 100\n",
    "Init_neighborhood = 3\n",
    "SEED = 1234567\n",
    "rng = default_rng(SEED)"
   ],
   "metadata": {
    "collapsed": false,
    "ExecuteTime": {
     "end_time": "2024-02-15T23:46:55.063781Z",
     "start_time": "2024-02-15T23:46:55.060171Z"
    }
   },
   "id": "1a67523cc33b58d4"
  },
  {
   "cell_type": "code",
   "execution_count": 54,
   "outputs": [
    {
     "name": "stdout",
     "output_type": "stream",
     "text": [
      "Beginning Initialization\n",
      "Current Time = 18:42:38\n"
     ]
    },
    {
     "ename": "ValueError",
     "evalue": "operands could not be broadcast together with shapes (150,150) (4,) ",
     "output_type": "error",
     "traceback": [
      "\u001B[0;31m---------------------------------------------------------------------------\u001B[0m",
      "\u001B[0;31mValueError\u001B[0m                                Traceback (most recent call last)",
      "Cell \u001B[0;32mIn[54], line 2\u001B[0m\n\u001B[1;32m      1\u001B[0m \u001B[38;5;66;03m# Step 5: Initializing Weights\u001B[39;00m\n\u001B[0;32m----> 2\u001B[0m \u001B[43msom\u001B[49m\u001B[38;5;241;43m.\u001B[39;49m\u001B[43minit_w\u001B[49m\u001B[43m(\u001B[49m\u001B[43mX\u001B[49m\u001B[43m)\u001B[49m\n",
      "File \u001B[0;32m~/venv/lib/python3.9/site-packages/NNSOM/som.py:233\u001B[0m, in \u001B[0;36mSOM.init_w\u001B[0;34m(self, x)\u001B[0m\n\u001B[1;32m    229\u001B[0m components, gains, encodedInputsT \u001B[38;5;241m=\u001B[39m np\u001B[38;5;241m.\u001B[39mlinalg\u001B[38;5;241m.\u001B[39msvd(xc)\n\u001B[1;32m    231\u001B[0m encodedInputsT \u001B[38;5;241m=\u001B[39m np\u001B[38;5;241m.\u001B[39mtranspose(encodedInputsT)\n\u001B[0;32m--> 233\u001B[0m basis \u001B[38;5;241m=\u001B[39m \u001B[43mcomponents\u001B[49m\u001B[43m \u001B[49m\u001B[38;5;241;43m*\u001B[39;49m\u001B[43m \u001B[49m\u001B[43mgains\u001B[49m\n\u001B[1;32m    234\u001B[0m stdev \u001B[38;5;241m=\u001B[39m np\u001B[38;5;241m.\u001B[39mstd(encodedInputsT, axis\u001B[38;5;241m=\u001B[39m\u001B[38;5;241m0\u001B[39m)\n\u001B[1;32m    235\u001B[0m stdev \u001B[38;5;241m=\u001B[39m stdev[:\u001B[38;5;28mlen\u001B[39m(basis)]\n",
      "\u001B[0;31mValueError\u001B[0m: operands could not be broadcast together with shapes (150,150) (4,) "
     ]
    }
   ],
   "source": [
    "# Step 5: Initializing Weights\n",
    "som.init_w(X)"
   ],
   "metadata": {
    "collapsed": false,
    "ExecuteTime": {
     "end_time": "2024-02-15T23:42:38.936300Z",
     "start_time": "2024-02-15T23:42:38.794851Z"
    }
   },
   "id": "498fba742dc91a47"
  },
  {
   "cell_type": "code",
   "execution_count": 48,
   "outputs": [
    {
     "ename": "AttributeError",
     "evalue": "'list' object has no attribute 'shape'",
     "output_type": "error",
     "traceback": [
      "\u001B[0;31m---------------------------------------------------------------------------\u001B[0m",
      "\u001B[0;31mAttributeError\u001B[0m                            Traceback (most recent call last)",
      "Cell \u001B[0;32mIn[48], line 5\u001B[0m\n\u001B[1;32m      3\u001B[0m steps \u001B[38;5;241m=\u001B[39m \u001B[38;5;241m100\u001B[39m\n\u001B[1;32m      4\u001B[0m init_neighborhood \u001B[38;5;241m=\u001B[39m \u001B[38;5;241m3\u001B[39m\n\u001B[0;32m----> 5\u001B[0m \u001B[43msom\u001B[49m\u001B[38;5;241;43m.\u001B[39;49m\u001B[43mtrain\u001B[49m\u001B[43m(\u001B[49m\u001B[43mX\u001B[49m\u001B[38;5;241;43m.\u001B[39;49m\u001B[43mT\u001B[49m\u001B[43m,\u001B[49m\u001B[43m \u001B[49m\u001B[43minit_neighborhood\u001B[49m\u001B[43m,\u001B[49m\u001B[43m \u001B[49m\u001B[43mepochs\u001B[49m\u001B[43m,\u001B[49m\u001B[43m \u001B[49m\u001B[43msteps\u001B[49m\u001B[43m)\u001B[49m\n",
      "File \u001B[0;32m~/venv/lib/python3.9/site-packages/NNSOM/som.py:298\u001B[0m, in \u001B[0;36mSOM.train\u001B[0;34m(self, x, init_neighborhood, epochs, steps)\u001B[0m\n\u001B[1;32m    294\u001B[0m \u001B[38;5;28;01mdef\u001B[39;00m \u001B[38;5;21mtrain\u001B[39m(\u001B[38;5;28mself\u001B[39m, x, init_neighborhood\u001B[38;5;241m=\u001B[39m\u001B[38;5;241m3\u001B[39m, epochs\u001B[38;5;241m=\u001B[39m\u001B[38;5;241m200\u001B[39m, steps\u001B[38;5;241m=\u001B[39m\u001B[38;5;241m100\u001B[39m):\n\u001B[1;32m    295\u001B[0m     \u001B[38;5;66;03m# Train the SOM using the batch SOM algorithm\u001B[39;00m\n\u001B[1;32m    297\u001B[0m     w \u001B[38;5;241m=\u001B[39m \u001B[38;5;28mself\u001B[39m\u001B[38;5;241m.\u001B[39mw\n\u001B[0;32m--> 298\u001B[0m     shapw \u001B[38;5;241m=\u001B[39m \u001B[43mw\u001B[49m\u001B[38;5;241;43m.\u001B[39;49m\u001B[43mshape\u001B[49m\n\u001B[1;32m    299\u001B[0m     S \u001B[38;5;241m=\u001B[39m shapw[\u001B[38;5;241m0\u001B[39m]\n\u001B[1;32m    300\u001B[0m     shapx \u001B[38;5;241m=\u001B[39m x\u001B[38;5;241m.\u001B[39mshape\n",
      "\u001B[0;31mAttributeError\u001B[0m: 'list' object has no attribute 'shape'"
     ]
    }
   ],
   "source": [
    "# Step 6: Training the SOM\n",
    "epochs = 200\n",
    "steps = 100\n",
    "init_neighborhood = 3\n",
    "som.train(X.T, init_neighborhood, epochs, steps)\n"
   ],
   "metadata": {
    "collapsed": false,
    "ExecuteTime": {
     "end_time": "2024-02-15T23:40:53.347891Z",
     "start_time": "2024-02-15T23:40:53.305886Z"
    }
   },
   "id": "95f62480f2439c77"
  },
  {
   "cell_type": "code",
   "execution_count": null,
   "outputs": [],
   "source": [],
   "metadata": {
    "collapsed": false
   },
   "id": "cc4fa33fab476268"
  }
 ],
 "metadata": {
  "kernelspec": {
   "display_name": "Python 3",
   "language": "python",
   "name": "python3"
  },
  "language_info": {
   "codemirror_mode": {
    "name": "ipython",
    "version": 2
   },
   "file_extension": ".py",
   "mimetype": "text/x-python",
   "name": "python",
   "nbconvert_exporter": "python",
   "pygments_lexer": "ipython2",
   "version": "2.7.6"
  }
 },
 "nbformat": 4,
 "nbformat_minor": 5
}
