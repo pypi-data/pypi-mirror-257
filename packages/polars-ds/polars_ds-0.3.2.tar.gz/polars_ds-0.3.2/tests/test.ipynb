{
 "cells": [
  {
   "cell_type": "code",
   "execution_count": null,
   "metadata": {},
   "outputs": [],
   "source": [
    "import polars as pl\n",
    "import polars_ds as pld\n",
    "import numpy as np"
   ]
  },
  {
   "cell_type": "code",
   "execution_count": null,
   "metadata": {},
   "outputs": [],
   "source": [
    "def get_random_data(size:int=4_000) -> pl.DataFrame: \n",
    "    df = pl.DataFrame({\n",
    "        \"id\": range(size), \n",
    "    }).with_columns(\n",
    "        pl.col(\"id\").cast(pl.UInt64),\n",
    "        pl.col(\"id\").stats.sample_uniform(low=0.0, high=1.0).alias(\"val1\"),\n",
    "        pl.col(\"id\").stats.sample_uniform(low=0.0, high=1.0).alias(\"val2\"),\n",
    "        pl.col(\"id\").stats.sample_uniform(low=0.0, high=1.0).alias(\"val3\"),\n",
    "        pl.col(\"id\").mod(3).alias(\"actuals\")\n",
    "    ).with_columns(\n",
    "        pl.col(\"val1\").stats.rand_null(0.2).alias(\"val1_nulls\")\n",
    "    )\n",
    "\n",
    "    return df.select(\n",
    "        pl.col(\"id\"),\n",
    "        pl.col(\"id\").num.query_radius_ptwise(\n",
    "            pl.col(\"val1\"), pl.col(\"val2\"), pl.col(\"val3\"), # Columns used as the coordinates in n-d space\n",
    "            r = 0.1, \n",
    "            dist = \"l2\", # actually this is squared l2\n",
    "            parallel = True\n",
    "        ).list.slice(offset=1).alias(\"friends\"),\n",
    "    )\n"
   ]
  },
  {
   "cell_type": "code",
   "execution_count": null,
   "metadata": {},
   "outputs": [],
   "source": [
    "df = get_random_data()\n",
    "df.head()"
   ]
  },
  {
   "cell_type": "code",
   "execution_count": null,
   "metadata": {},
   "outputs": [],
   "source": [
    "\n",
    "df.select(\n",
    "    pl.col(\"friends\").graph.eigen_centrality2(n_iter = 30)\n",
    ")"
   ]
  },
  {
   "cell_type": "code",
   "execution_count": null,
   "metadata": {},
   "outputs": [],
   "source": [
    "%%timeit\n",
    "df.select(\n",
    "    pl.col(\"friends\").graph.eigen_centrality3(n_iter = 30)\n",
    ")"
   ]
  },
  {
   "cell_type": "code",
   "execution_count": null,
   "metadata": {},
   "outputs": [],
   "source": [
    "# %%timeit\n",
    "df.select(\n",
    "    pl.col(\"friends\").graph.reachable(node = 1503)\n",
    ")"
   ]
  },
  {
   "cell_type": "code",
   "execution_count": null,
   "metadata": {},
   "outputs": [],
   "source": []
  },
  {
   "cell_type": "code",
   "execution_count": null,
   "metadata": {},
   "outputs": [],
   "source": []
  },
  {
   "cell_type": "code",
   "execution_count": null,
   "metadata": {},
   "outputs": [],
   "source": [
    "df = pl.read_parquet(\"bench_graph.parquet\")\n",
    "df.head()"
   ]
  },
  {
   "cell_type": "code",
   "execution_count": null,
   "metadata": {},
   "outputs": [],
   "source": [
    "edges_as_list = [list(s) for s in df[\"friends\"]]\n",
    "edges_as_list"
   ]
  },
  {
   "cell_type": "code",
   "execution_count": null,
   "metadata": {},
   "outputs": [],
   "source": [
    "res = df.select(\n",
    "    pl.col(\"friends\").graph.shortest_path(target=0, parallel=True)\n",
    ")\n",
    "for e in res[\"friends\"]:\n",
    "    print(e)"
   ]
  },
  {
   "cell_type": "code",
   "execution_count": null,
   "metadata": {},
   "outputs": [],
   "source": [
    "import networkx as nx"
   ]
  },
  {
   "cell_type": "code",
   "execution_count": null,
   "metadata": {},
   "outputs": [],
   "source": [
    "# Constructing Graph\n",
    "graph = nx.Graph()\n",
    "for i, edges in enumerate(df[\"friends\"]):\n",
    "    if edges is not None:\n",
    "        for j in edges:\n",
    "            graph.add_edge(i, j, weight = 1)\n",
    "\n",
    "# Generating output\n",
    "paths = []\n",
    "for i in range(len(df[\"friends\"])):\n",
    "    try:\n",
    "        path = nx.shortest_path(graph, i, 0, weight=\"weight\")\n",
    "        paths.append(path[1:])\n",
    "    except Exception as _: # No path\n",
    "        paths.append(None)\n",
    "\n",
    "paths"
   ]
  },
  {
   "cell_type": "code",
   "execution_count": null,
   "metadata": {},
   "outputs": [],
   "source": []
  },
  {
   "cell_type": "code",
   "execution_count": null,
   "metadata": {},
   "outputs": [],
   "source": [
    "df = pl.read_csv(\"sample.csv\")\n",
    "df"
   ]
  },
  {
   "cell_type": "code",
   "execution_count": null,
   "metadata": {},
   "outputs": [],
   "source": [
    "df.select(\n",
    "    pl.col(\"wheel_x_speed\").forward_fill().backward_fill()\n",
    ").select(\n",
    "    pl.col(\"wheel_x_speed\").num.rfft()\n",
    ")\n"
   ]
  },
  {
   "cell_type": "code",
   "execution_count": null,
   "metadata": {},
   "outputs": [],
   "source": [
    "df.select(\n",
    "    pl.col(\"wheel_x_speed\").forward_fill().backward_fill()\n",
    ").select(\n",
    "    pl.col(\"wheel_x_speed\").num.rfft(return_full=True)\n",
    ")\n"
   ]
  },
  {
   "cell_type": "code",
   "execution_count": null,
   "metadata": {},
   "outputs": [],
   "source": []
  },
  {
   "cell_type": "code",
   "execution_count": null,
   "metadata": {},
   "outputs": [],
   "source": []
  },
  {
   "cell_type": "code",
   "execution_count": null,
   "metadata": {},
   "outputs": [],
   "source": [
    "df.select(\n",
    "    pl.col(\"val1\").num\n",
    ")"
   ]
  },
  {
   "cell_type": "code",
   "execution_count": null,
   "metadata": {},
   "outputs": [],
   "source": [
    "test = df.select(\n",
    "    pl.col(\"val1\").num.rfft().alias(\"arr\"),\n",
    "    pl.col(\"val2\").num.rfft().arr.to_list().alias(\"list\"),\n",
    ") \n",
    "test.head()"
   ]
  },
  {
   "cell_type": "code",
   "execution_count": null,
   "metadata": {},
   "outputs": [],
   "source": [
    "%%timeit\n",
    "test.select(\n",
    "    pl.col(\"arr\").arr.first().pow(2) + pl.col(\"arr\").arr.last().pow(2)\n",
    ")"
   ]
  },
  {
   "cell_type": "code",
   "execution_count": null,
   "metadata": {},
   "outputs": [],
   "source": [
    "%%timeit\n",
    "test.select(\n",
    "    pl.col(\"list\").list.eval(pl.element().dot(pl.element()))\n",
    ")"
   ]
  },
  {
   "cell_type": "code",
   "execution_count": null,
   "metadata": {},
   "outputs": [],
   "source": []
  },
  {
   "cell_type": "code",
   "execution_count": null,
   "metadata": {},
   "outputs": [],
   "source": [
    "df.select(\n",
    "    pl.concat_list(pl.col(\"val1\"), pl.col(\"val2\")).alias(\"list\")\n",
    ").with_columns(\n",
    "    pl.col(\"list\").list.to_array(2)\n",
    ")"
   ]
  },
  {
   "cell_type": "code",
   "execution_count": null,
   "metadata": {},
   "outputs": [],
   "source": [
    "\n",
    "df = df.with_columns(\n",
    "    pl.col(\"id\").num.query_radius_ptwise(\n",
    "        pl.col(\"val1\"), pl.col(\"val2\"), pl.col(\"val3\"), # Columns used as the coordinates in n-d space\n",
    "        r = 0.05, \n",
    "        dist = \"l2\", # actually this is squared l2\n",
    "        parallel = True,\n",
    "    ).alias(\"best friends\")\n",
    ") \n",
    "df"
   ]
  },
  {
   "cell_type": "code",
   "execution_count": null,
   "metadata": {},
   "outputs": [],
   "source": [
    "df.select(\n",
    "    pl.col(\"best friends\").list.len()\n",
    ")"
   ]
  },
  {
   "cell_type": "code",
   "execution_count": null,
   "metadata": {},
   "outputs": [],
   "source": [
    "df.select(\n",
    "    pl.col(\"best friends\").graph.shortest_path_const_cost(19, parallel=True)\n",
    ")"
   ]
  },
  {
   "cell_type": "code",
   "execution_count": null,
   "metadata": {},
   "outputs": [],
   "source": []
  },
  {
   "cell_type": "code",
   "execution_count": null,
   "metadata": {},
   "outputs": [],
   "source": []
  },
  {
   "cell_type": "code",
   "execution_count": null,
   "metadata": {},
   "outputs": [],
   "source": []
  },
  {
   "cell_type": "code",
   "execution_count": null,
   "metadata": {},
   "outputs": [],
   "source": [
    "df.with_columns(\n",
    "    pl.col(\"a\").stats.rand_str(min_size=4,max_size=6).alias(\"s1\"),\n",
    "    # pl.col(\"a\").stats.rand_str(min_size=4,max_size=6).alias(\"s2\"),\n",
    ") "
   ]
  },
  {
   "cell_type": "code",
   "execution_count": null,
   "metadata": {},
   "outputs": [],
   "source": [
    "df.with_columns(\n",
    "    pl.col(\"s1\").str2.hamming(pl.col(\"s2\"), pad = True).alias(\"hamming pad\"),\n",
    "    pl.col(\"s1\").str2.hamming(pl.col(\"s2\"), pad = False).alias(\"hamming no pad\"),\n",
    ")"
   ]
  },
  {
   "cell_type": "code",
   "execution_count": null,
   "metadata": {},
   "outputs": [],
   "source": [
    "df.with_columns(\n",
    "    pl.col(\"s1\").str2.hamming(pl.col(\"s2\")).alias(\"hamming\")\n",
    ").filter(\n",
    "    pl.col(\"s1\").str2.hamming_filter(pl.col(\"s2\"), bound = 2)\n",
    ")"
   ]
  },
  {
   "cell_type": "code",
   "execution_count": null,
   "metadata": {},
   "outputs": [],
   "source": [
    "%%timeit\n",
    "df.select(\n",
    "    pl.col(\"s1\").str2.levenshtein(pl.col(\"s2\")) < 3\n",
    ") # 3.25ms"
   ]
  },
  {
   "cell_type": "code",
   "execution_count": null,
   "metadata": {},
   "outputs": [],
   "source": [
    "%%timeit\n",
    "df.select(\n",
    "    pl.col(\"s1\").str2.levenshtein_filter(pl.col(\"s2\"), 3)\n",
    ") # 2.43ms"
   ]
  },
  {
   "cell_type": "code",
   "execution_count": null,
   "metadata": {},
   "outputs": [],
   "source": []
  },
  {
   "cell_type": "code",
   "execution_count": null,
   "metadata": {},
   "outputs": [],
   "source": []
  }
 ],
 "metadata": {
  "kernelspec": {
   "display_name": ".venv",
   "language": "python",
   "name": "python3"
  },
  "language_info": {
   "codemirror_mode": {
    "name": "ipython",
    "version": 3
   },
   "file_extension": ".py",
   "mimetype": "text/x-python",
   "name": "python",
   "nbconvert_exporter": "python",
   "pygments_lexer": "ipython3",
   "version": "3.11.7"
  }
 },
 "nbformat": 4,
 "nbformat_minor": 2
}
