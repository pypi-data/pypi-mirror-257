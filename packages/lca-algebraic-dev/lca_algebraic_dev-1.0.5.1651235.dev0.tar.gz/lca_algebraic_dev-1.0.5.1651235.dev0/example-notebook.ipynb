{
 "cells": [
  {
   "cell_type": "markdown",
   "id": "1d9c7152",
   "metadata": {},
   "source": [
    "# Introduction\n",
    "\n",
    "This notebook presents **lca-algebraic** a small libray above **brightay2**, designed for the definition of **parametric inventories** with fast computation of LCA impacts, suitable for **monte-carlo** analyis.\n",
    "\n",
    "**lca-algebraic** provides a set of  **helper functions** for : \n",
    "* **compact** & **human readable** definition of activites :  \n",
    "    * search background (tech and biosphere) activities \n",
    "    * create new foreground activites with parametrized amounts\n",
    "    * parametrize / update existing background activities (extending the class **Activity**)\n",
    "* Definition of parameters\n",
    "* Computation of LCAs \n",
    "* Computation of statistics (including Sobols indices)\n",
    "* Compute simplified parametric model by fixing minor input parameters\n",
    "\n",
    "  \n",
    "## Principles \n",
    "\n",
    "The main idea of this libray is to move from **procedural definition** of models (slow and prone to errors) to a **declarative / purely functionnal** definition of parametric models (models as **pure functions**). \n",
    "\n",
    "This enables **fast computation of LCA impacts**, useful for Monte Carlo methods and statistical analysis. \n",
    "We leverage the **power of symbolic calculus** provided by the library [SymPy](https://www.sympy.org/en/index.html).\n",
    "\n",
    "We define our model in a **separate database**, as a nested combination of : \n",
    "* other foreground activities\n",
    "* background activities :\n",
    "    * Technical, refering **ecoinvent DB**\n",
    "    * Biosphere, refering **brightway2** biosphere activities\n",
    "    \n",
    "The **amounts** in exchanges are expressed either as **static amounts**, or **symbolic expressions** of pre-defined **parameters**.\n",
    "\n",
    "Each activity of our **root model** is defined as a **parametrized combination** of the **foreground activities**, which can themselves be expressed by the **background activities**.\n",
    "\n",
    "When computing LCA for foreground models, the library develops the model as a combination of **only background activities**. It computes **once for all** the impact of **all required background activities** and compiles a **fast numpy** (vectorial) function for each impact, replacing each background activity by the **static value of the corresponding impact**.\n",
    "\n",
    "By providing **large vectors** of **parameter values** to those numpy functions, we can compute LCA for **thousands of values** at a time.\n",
    "\n",
    "![](https://oie-mines-paristech.github.io/lca_algebraic/doc/lca-algebraic.png)\n",
    "\n",
    "\n",
    "## Compatiblity with brightway2 \n",
    "\n",
    "Under the hood, the activities we define with **lca-algebraic** are standard **brightway2** activities. \n",
    "The amounts of exchanges are stored as **float values** or **serialized as string** in the property **formula**.\n",
    "\n",
    "Parameters are also stored in the **brightay2** projets, making it fully compatible with **brightway**.\n",
    "\n",
    "Thus, a model defined with **lca-algebraic** is stored as a regular **bw2** projet. We can use **bw2** native support for [parametrized dataset](https://2.docs.brightway.dev/intro.html#parameterized-datasets) for computing LCAs, even if much more slower than the method explain here.\n",
    "\n",
    "## Doc\n",
    "\n",
    "The followng notebook explores the main functions.\n",
    "Full documentation of the functions is [available here](https://oie-mines-paristech.github.io/lca_algebraic/doc/)\n",
    "\n"
   ]
  },
  {
   "cell_type": "code",
   "execution_count": null,
   "id": "56a7fd5e",
   "metadata": {},
   "outputs": [],
   "source": [
    "# Those two lines are for dev only : they watch imported libraries for changes\n",
    "%load_ext autoreload\n",
    "%autoreload 2\n",
    "\n",
    "import pandas as pd\n",
    "import time\n",
    "import matplotlib.pyplot as plt\n",
    "import numpy as np\n",
    "import brightway2 as bw\n",
    "\n",
    "# Custom utils defined for inter-acv\n",
    "from lca_algebraic import *\n",
    "from lca_algebraic.stats import * \n",
    "import lca_algebraic\n",
    "from sympy import init_printing, simplify\n",
    "\n",
    "init_printing()"
   ]
  },
  {
   "cell_type": "markdown",
   "id": "9b3cb21d",
   "metadata": {},
   "source": [
    "# Init brightway2 and databases"
   ]
  },
  {
   "cell_type": "code",
   "execution_count": null,
   "id": "2fd0fd32",
   "metadata": {},
   "outputs": [],
   "source": [
    "### Init the brightway2 project :choose any project name\n",
    "initProject('MyProject')\n",
    "\n",
    "# Import Ecoinvent DB (if not already done)\n",
    "# Update the name and path to the location of the ecoinvent database\n",
    "importDb(\"ecoinvent 3.4\", './ecoinvent 3.4_cutoff_ecoSpold02/datasets')\n",
    "\n",
    "# We use a separate DB for defining our foreground model / activities\n",
    "# Choose any name\n",
    "USER_DB = 'Foreground DB'"
   ]
  },
  {
   "cell_type": "code",
   "execution_count": null,
   "id": "50ed7cab",
   "metadata": {},
   "outputs": [],
   "source": [
    "# This is better to cleanup the whole foreground model each time, and redefine it in the notebook\n",
    "# instead of relying on a state or previous run.\n",
    "# Any persistent state is prone to errors.\n",
    "resetDb(USER_DB)\n",
    "\n",
    "# Parameters are stored at project level : \n",
    "# Reset them also\n",
    "# You may remove this line if you import a project and parameters from an external source (see loadParam(..))\n",
    "resetParams()\n",
    "\n",
    "# Overview of the databases\n",
    "list_databases()"
   ]
  },
  {
   "cell_type": "markdown",
   "id": "774f5943",
   "metadata": {},
   "source": [
    "# Introduction to Numpy\n",
    "\n",
    "\n",
    "Numpy is a python libray for symbolic calculus. \n",
    "\n",
    "You write Sympy expression as you write **standard python expressions**, using **sympy symbols** in them. \n",
    "\n",
    "\n",
    "The result is then a **symbolic expression that can be manipulated**, instead of a **numeric value**."
   ]
  },
  {
   "cell_type": "code",
   "execution_count": null,
   "id": "f7ff05b4",
   "metadata": {},
   "outputs": [],
   "source": [
    "from sympy import symbols \n",
    "\n",
    "# create sympy symbol\n",
    "x = symbols(\"x\")\n",
    "\n",
    "# Expressions are not directly evaluated \n",
    "f = x * 2 + 4 \n",
    "f"
   ]
  },
  {
   "cell_type": "code",
   "execution_count": null,
   "id": "727f1ede",
   "metadata": {},
   "outputs": [],
   "source": [
    "# symbols can be replaced by values afterwards \n",
    "f.subs(dict(x=3))"
   ]
  },
  {
   "cell_type": "markdown",
   "id": "4f7bc29d",
   "metadata": {},
   "source": [
    "In practice, you don't need to care about Sympy. Just remember that : \n",
    "* The parameters defined below are **instances of sympy symbols**\n",
    "* Any **valid python expression** containing a **sympy symbol** will create a **sympy symbolic expression**"
   ]
  },
  {
   "cell_type": "markdown",
   "id": "0cd069ad",
   "metadata": {},
   "source": [
    "# Define input parameters\n",
    "\n",
    "First, we define the input parameters of the model together with their distribution.\n",
    "\n",
    "The numeric parameters are **instances of sympy 'Symbol'**. \n",
    "\n",
    "Thus, any python arithmetic expression composed of parameters will result in a **symbolic expression** to be used later in the definition of the model, rather than a static numeric result."
   ]
  },
  {
   "cell_type": "code",
   "execution_count": null,
   "id": "139e432e",
   "metadata": {},
   "outputs": [],
   "source": [
    "# Example of 'float' parameters\n",
    "a = newFloatParam(\n",
    "    'a', \n",
    "    default=0.5, min=0.2, max=2,  distrib=DistributionType.TRIANGLE, # Distribution type, linear by default\n",
    "    description=\"hello world\",\n",
    "    label=\"extended label for a\")\n",
    "\n",
    "b = newFloatParam(\n",
    "    'b',\n",
    "    default=0.5, # Fixed if no min /max provided\n",
    "    description=\"foo bar\")\n",
    "\n",
    "# Parameters can be attached to a specific DB instead of global project\n",
    "# We recommand this for team working / working with several DBs\n",
    "# lca_algebraic supports resolution of parameters with duplicate names attached to different scopes \n",
    "b2 = newFloatParam(\n",
    "    'b2',\n",
    "    default=0.5, # Fixed if no min /max provided\n",
    "    description=\"foo bar\",\n",
    "    dbname=USER_DB)\n",
    "\n",
    "share_recycled_aluminium = newFloatParam(\n",
    "    'share_recycled_aluminium',  \n",
    "    default=0.6, min=0, max=1, std=0.2, distrib=DistributionType.NORMAL, # Normal distrib, with std dev\n",
    "    description=\"Share of reycled aluminium\")\n",
    "\n",
    "c = newFloatParam(\n",
    "    'c',  \n",
    "    default=0.6, std=0.2, distrib=DistributionType.LOGNORMAL)\n",
    "\n",
    "beta = newFloatParam(\n",
    "    'beta',  \n",
    "    default=0.6, std=0.2, a=2, b=5, distrib=DistributionType.BETA)\n",
    "\n",
    "# You can define boolean parameters, taking only discrete values 0 or 1\n",
    "bool_param = newBoolParam(\n",
    "    'bool_param', \n",
    "    default=1)\n",
    "\n",
    "# Example 'enum' parameter, acting like a switch between several possibilities\n",
    "# Enum parameters are not Symbol themselves\n",
    "# They are a facility to represent many boolean parameters at once '<paramName>_<enumValue>' \n",
    "# and should be used with the 'newSwitchAct' method \n",
    "elec_switch_param = newEnumParam(\n",
    "    'elec_switch_param', \n",
    "    values=[\"us\", \"eu\"], # If provided as list, all possibilities have te same probability\n",
    "    default=\"us\", \n",
    "    description=\"Switch on electricty mix\")\n",
    "\n",
    "# Another example enum param\n",
    "techno_param = newEnumParam(\n",
    "    'techno_param', \n",
    "    values={\n",
    "        \"technoA\":0.4, \n",
    "        \"technoB\":0.1,\n",
    "        \"technoC\":0.5}, # You can provide a statistical weight for each value, by using a dict\n",
    "    default=\"technoA\", \n",
    "    description=\"Choice of techonoly\")"
   ]
  },
  {
   "cell_type": "markdown",
   "id": "9a890ab5",
   "metadata": {},
   "source": [
    "## Persistance of parameters\n",
    "\n",
    "By default, new parameters are kept in memory but also persisted in the project (unless save=False).\n",
    "You can persist parameters afterwards with `persistParams()`.\n",
    "You can load also load parameters from an existing database with `loadParams()`.\n",
    "The persistance of parameters and the distribution is compatible with **Brightway2** and **Activity Browser**  [see documentation of stat_arrays](https://stats-arrays.readthedocs.io/en/latest/)"
   ]
  },
  {
   "cell_type": "code",
   "execution_count": null,
   "id": "a4604f03",
   "metadata": {},
   "outputs": [],
   "source": [
    "# Load parameters previously  persisted in the dabatase.\n",
    "loadParams()"
   ]
  },
  {
   "cell_type": "markdown",
   "id": "07063f99",
   "metadata": {},
   "source": [
    "# Manage several Datasets\n",
    "\n",
    "lca_algebraic supports several foreground / background datasets. Background datasets are considered static / non parametrized by the library : they use standard LCA method of **Brightway2**. \n",
    "\n",
    "Foreground databases are considered parametric and their activities are developped as functions of parameters and background activities.\n",
    "\n",
    "## Set status of a database\n",
    "\n",
    "The functions **setForeground(...)** and **setBackground(...)** change the status of a database."
   ]
  },
  {
   "cell_type": "code",
   "execution_count": null,
   "id": "58b8ffe4",
   "metadata": {},
   "outputs": [],
   "source": [
    "setForeground(USER_DB)\n",
    "list_databases()"
   ]
  },
  {
   "cell_type": "markdown",
   "id": "27e76092",
   "metadata": {},
   "source": [
    "## Import / export\n",
    "\n",
    "`lca_algebraic` extends [BW2Package](https://2.docs.brightway.dev/technical/bw2io.html), adding persistence of parameters."
   ]
  },
  {
   "cell_type": "code",
   "execution_count": null,
   "id": "92c34396",
   "metadata": {},
   "outputs": [],
   "source": [
    "# Save database and parameters as Bzipped JSON\n",
    "export_db(USER_DB, \"db.bw2\") "
   ]
  },
  {
   "cell_type": "code",
   "execution_count": null,
   "id": "fd67ea18",
   "metadata": {},
   "outputs": [],
   "source": [
    "# Reimport DB\n",
    "import_db(\"db.bw2\")"
   ]
  },
  {
   "cell_type": "markdown",
   "id": "cca17704",
   "metadata": {},
   "source": [
    "## Freeze \n",
    "\n",
    "A foreground database can be \"frozen\" to be used as a background database for a specific scenario : the parametrized amounts in the exhanges are computed for a given configuration of the parameters, and replaced by their value. The formulas are still stored in the database and not lost : the database can still be used as a foreground database until its status is changed with `setBackground(...)`.\n",
    "\n",
    "This feature is useful for studies requiring several datasets to be used as background by other ones. It also enables to use standard Brightway2 tools, not aware of parametrization. \n"
   ]
  },
  {
   "cell_type": "code",
   "execution_count": null,
   "id": "4f69859b",
   "metadata": {},
   "outputs": [],
   "source": [
    "freezeParams(\n",
    "    USER_DB, # Name of database to freeze\n",
    "    \n",
    "    a=1, b=2) # custom parameter values"
   ]
  },
  {
   "cell_type": "markdown",
   "id": "a9da7045",
   "metadata": {},
   "source": [
    "# Get references to background activities\n",
    "\n",
    "We provide two functions for easy and fast (indexed) search of activities in reference databases : \n",
    "* **findBioAct** : Search activity in **biosphere3** db\n",
    "* **findTechAct** : Search activity in **ecoinvent** db\n",
    "\n",
    "Those methods are **faster** and **safer** than using traditionnal \"list-comprehension\" search : \n",
    "They will **fail with an error** if **more than one activity** matches, preventing the model to be based on a random selection of one activity.\n"
   ]
  },
  {
   "cell_type": "code",
   "execution_count": null,
   "id": "1f0a23c5",
   "metadata": {},
   "outputs": [],
   "source": [
    "# Biosphere activities\n",
    "ground_occupuation = findBioAct('Occupation, industrial area') # Search by name\n",
    "heat = findBioAct('Heat, waste', categories=['air']) # Add category selector\n",
    "\n",
    "# Technosphere activities\n",
    "\n",
    "# You can add an optionnal location selector\n",
    "alu = findTechAct(\"aluminium alloy production, AlMg3\", loc=\"RER\")\n",
    "alu_scrap = findTechAct('aluminium scrap, new, Recycled Content cut-off')\n",
    "\n",
    "# Elec \n",
    "eu_elec = findTechAct(\"market group for electricity, medium voltage\", 'ENTSO-E')\n",
    "us_elec = findTechAct(\"market group for electricity, medium voltage\", 'US')\n",
    "\n",
    "chromium = findTechAct(\"market for chromium oxide, flakes\")"
   ]
  },
  {
   "cell_type": "markdown",
   "id": "3c488aeb",
   "metadata": {},
   "source": [
    "# Define the model\n",
    "\n",
    "The model is defined as a nested combination of background activities with amounts.\n",
    "\n",
    "Amounts are defined either as constant float values or algebric formulas implying the parameters defined above."
   ]
  },
  {
   "cell_type": "markdown",
   "id": "9a378204",
   "metadata": {},
   "source": [
    "## Create new activities"
   ]
  },
  {
   "cell_type": "code",
   "execution_count": null,
   "id": "df05b063",
   "metadata": {},
   "outputs": [],
   "source": [
    "# Create a new activity\n",
    "activity1 = newActivity(USER_DB, # We define foreground activities in our own DB\n",
    "    \"first foreground activity\", # Name of the activity\n",
    "    \"kg\", # Unit\n",
    "    exchanges= { # We define exhanges as a dictionarry of 'activity : amount'\n",
    "        ground_occupuation:3 * b, # Amount can be a fixed value \n",
    "        heat: b + 0.2  # Amount can be a Sympy expression (any arithmetic expression of Parameters)\n",
    "    })\n",
    "\n",
    "# You can create a virtual \"switch\" activity combining several activities with a switch parameter\n",
    "elec_mix = newSwitchAct(USER_DB, \n",
    "    \"elect mix\", # Name\n",
    "    elec_switch_param, # Sith parameter\n",
    "    { # Dictionnary of enum values / activities\n",
    "        \"us\" : us_elec, # By default associated amount is 1\n",
    "        \"eu\" : (eu_elec, 0.8)  # You can also provide custom amout or formula with a tuple \n",
    "    })"
   ]
  },
  {
   "cell_type": "markdown",
   "id": "ec37d45c",
   "metadata": {},
   "source": [
    "## Copy and update existing activity\n",
    "\n",
    "You can copy and update an existing background activity.\n",
    "\n",
    "Several new helper methods have been added to the class **Activity** for easy update of exchanges."
   ]
  },
  {
   "cell_type": "code",
   "execution_count": null,
   "id": "41c81245",
   "metadata": {},
   "outputs": [],
   "source": [
    "alu2 = copyActivity(\n",
    "    USER_DB, # The copy of a background activity is done in our own DB, so that we can safely update it                \n",
    "    alu, # Initial activity : won't be altered\n",
    "    \"Aluminium 2\") # New name\n",
    "\n",
    "# Update exchanges by their name \n",
    "alu2.updateExchanges({\n",
    "    \n",
    "    # Update amount : the special symbol *old_amount* references the previous amount of this exchange\n",
    "    \"aluminium, cast alloy\": old_amount * (1 - share_recycled_aluminium),\n",
    "    \n",
    "    # Update input activity. Note also that you can use '*' wildcard in exchange name\n",
    "    \"electricity*\": elec_mix,\n",
    "    \n",
    "    # Update both input activity and amount. \n",
    "    # Note that you can use '#' for specifying the location of exchange (useful for duplicate exchange names)\n",
    "    \"chromium#GLO\" : dict(amount=4.0, input=chromium)\n",
    "}) \n",
    "\n",
    "# Add exchanges \n",
    "alu2.addExchanges({alu_scrap :  12})"
   ]
  },
  {
   "cell_type": "markdown",
   "id": "3b4c0990",
   "metadata": {},
   "source": [
    "## Final model\n"
   ]
  },
  {
   "cell_type": "code",
   "execution_count": null,
   "id": "b31f672f",
   "metadata": {},
   "outputs": [],
   "source": [
    "total_inventory = newActivity(USER_DB, \"total_inventory\", \"kg\", {\n",
    "    activity1 : b * 5 + a + 1, # Reference the activity we just created\n",
    "    alu2: 3 * share_recycled_aluminium, \n",
    "    alu:0.4 * a})"
   ]
  },
  {
   "cell_type": "markdown",
   "id": "0b76c855",
   "metadata": {},
   "source": [
    "## Or load existing model /activities from database\n",
    "\n",
    "Alternatively, you may not define the model again, but load it from the USER DB.\n",
    "We don't recommand it while developping the model as it may lead to unstable code / uncontrolled state of the DB."
   ]
  },
  {
   "cell_type": "code",
   "execution_count": null,
   "id": "f230219c",
   "metadata": {},
   "outputs": [],
   "source": [
    "activity1 = findActivity(\"first foreground activity\", db_name=USER_DB)\n",
    "total_inventory = findActivity(\"total_inventory\", db_name=USER_DB)\n",
    "alu2 = findActivity(\"Aluminium 2\", db_name=USER_DB)"
   ]
  },
  {
   "cell_type": "markdown",
   "id": "1759e93c",
   "metadata": {},
   "source": [
    "## Display activities\n",
    "\n",
    "**printAct** displays the list of all exchanges of an activity.\n",
    "\n",
    "Note that symbolic expressions have not been evaluated at this stage"
   ]
  },
  {
   "cell_type": "code",
   "execution_count": null,
   "id": "46ae9abf",
   "metadata": {},
   "outputs": [],
   "source": [
    "# Print_act displays activities as tables\n",
    "printAct(activity1) \n",
    "printAct(total_inventory)\n"
   ]
  },
  {
   "cell_type": "code",
   "execution_count": null,
   "id": "c08a45dc",
   "metadata": {},
   "outputs": [],
   "source": [
    "# You can also compute amounts by replacing parameters with a float value \n",
    "printAct(activity1, b=1.5)"
   ]
  },
  {
   "cell_type": "code",
   "execution_count": null,
   "id": "960585e2",
   "metadata": {},
   "outputs": [],
   "source": [
    "# You print several activities at once to compare them\n",
    "printAct(alu, alu2)"
   ]
  },
  {
   "cell_type": "markdown",
   "id": "3d6cb156",
   "metadata": {},
   "source": [
    "# Select the impacts to consider"
   ]
  },
  {
   "cell_type": "code",
   "execution_count": null,
   "id": "6007c86f",
   "metadata": {},
   "outputs": [],
   "source": [
    "# List of impacts to consider\n",
    "SELECTION = [\n",
    "    \"mineral, fossils and renewables\", \n",
    "    \"carcinogenic effects\",\n",
    "    \"GWP 100a\",\n",
    "    \"land use\"]\n",
    "impacts = [m for m in bw.methods if 'ILCD 1.0.8 2016' in str(m) and 'no LT' in str(m) and m[2] in SELECTION]\n",
    "impacts"
   ]
  },
  {
   "cell_type": "markdown",
   "id": "5096a57f",
   "metadata": {},
   "source": [
    "# Impacts\n",
    "\n",
    "## Define functional unit\n",
    "\n",
    "The functional unit is a quantity that can be parametrized\n"
   ]
  },
  {
   "cell_type": "code",
   "execution_count": null,
   "id": "fd1ec460",
   "metadata": {},
   "outputs": [],
   "source": [
    "functional_value = a + 5"
   ]
  },
  {
   "cell_type": "markdown",
   "id": "ff55eb26",
   "metadata": {},
   "source": [
    "## Compute impacts"
   ]
  },
  {
   "cell_type": "code",
   "execution_count": null,
   "id": "ba922bf8",
   "metadata": {},
   "outputs": [],
   "source": [
    "compute_impacts(\n",
    "    \n",
    "    # Root activity of our inventory\n",
    "    total_inventory, \n",
    "    \n",
    "    # list of impacts to consider\n",
    "    impacts, \n",
    "    \n",
    "    # The impaxts will be divided by the functional unit\n",
    "    functional_unit=functional_value,\n",
    "    \n",
    "    # Parameters of the model\n",
    "    a=1.0,\n",
    "    elec_switch_param=\"us\",\n",
    "    share_recycled_aluminium=0.4)"
   ]
  },
  {
   "cell_type": "code",
   "execution_count": null,
   "id": "a52f806a",
   "metadata": {},
   "outputs": [],
   "source": [
    "# We can provide list of values as parameters\n",
    "\n",
    "\n",
    "# Compute with algebric implementation\n",
    "# The values should be the same as above\n",
    "compute_impacts(\n",
    "    total_inventory, # The model \n",
    "    impacts, # Impacts\n",
    "    functional_unit = functional_value, \n",
    "    \n",
    "    # Parameters of the model\n",
    "    a=[1, 2, 3], \n",
    "    elec_switch_param=[\"us\", 'us', 'us'],\n",
    "    share_recycled_aluminium=0.4)"
   ]
  },
  {
   "cell_type": "code",
   "execution_count": null,
   "id": "a65d5217",
   "metadata": {},
   "outputs": [],
   "source": [
    "# You can compute several LCAs at a time and compare them:\n",
    "compute_impacts(\n",
    "    [alu, alu2], # The models\n",
    "    \n",
    "    impacts, # Impacts\n",
    "    \n",
    "    # Parameters of the model\n",
    "    share_recycled_aluminium=0.3,\n",
    "    elec_switch_param=\"us\")"
   ]
  },
  {
   "cell_type": "markdown",
   "id": "261d2a3d",
   "metadata": {},
   "source": [
    "## Fast computation of many parameter values"
   ]
  },
  {
   "cell_type": "code",
   "execution_count": null,
   "id": "3fd8f2a8",
   "metadata": {},
   "outputs": [],
   "source": [
    "# Fast computation for millions of separate samples\n",
    "compute_impacts(\n",
    "    total_inventory, # The model \n",
    "    impacts, # Impacts\n",
    "    functional_unit = functional_value,\n",
    "    \n",
    "    # Parameters of the model\n",
    "    a=list(range(1, 100000)), # All lists should have the same size\n",
    "    share_recycled_aluminium=1, # Those parameters are fixed\n",
    "    elec_switch_param=\"eu\")"
   ]
  },
  {
   "cell_type": "markdown",
   "id": "56637741",
   "metadata": {},
   "source": [
    "## Split impacts along axis\n",
    "\n",
    "It is possible to **tag** activities and then ventilate the impacts according to the value of this \"tag\".\n",
    "This is useful to split impact by *phase* or *sub module*."
   ]
  },
  {
   "cell_type": "code",
   "execution_count": null,
   "id": "714dddc7",
   "metadata": {},
   "outputs": [],
   "source": [
    "# Tag activities wigth a custom attribute : 'phase' in this case\n",
    "alu2.updateMeta(phase= \"phase a\")\n",
    "activity1.updateMeta(phase= \"phase b\")"
   ]
  },
  {
   "cell_type": "code",
   "execution_count": null,
   "id": "7ae836dd",
   "metadata": {},
   "outputs": [],
   "source": [
    "# Provide the name of the custom attribute as 'axis'\n",
    "# The impacts are split between those\n",
    "compute_impacts(\n",
    "    total_inventory, # The model\n",
    "    impacts, # Impacts\n",
    "    \n",
    "    functional_unit = functional_value,\n",
    "    axis=\"phase\",\n",
    "\n",
    "    \n",
    "    # Parameters\n",
    "    a=1.0,\n",
    "    elec_switch_param=\"us\",\n",
    "    share_recycled_aluminium=0.4)"
   ]
  },
  {
   "cell_type": "markdown",
   "id": "acd51994",
   "metadata": {},
   "source": [
    " # Sensitivity analysis \n",
    " \n",
    " ## One at a time \n",
    " \n",
    " We provide several functions for computing **statistics** for **local variations** of parameters (one at a time).\n",
    " \n",
    " ### oat_matrix(model, impacts)\n",
    " \n",
    " Shows a **matrix of impacts x parameters** colored according to the variation of the impact in the bounds of the parameter.\n"
   ]
  },
  {
   "cell_type": "code",
   "execution_count": null,
   "id": "eb6d99af",
   "metadata": {},
   "outputs": [],
   "source": [
    "oat_matrix(\n",
    "    total_inventory, \n",
    "    impacts, \n",
    "    functional_unit=functional_value)"
   ]
  },
  {
   "cell_type": "markdown",
   "id": "cba8d13d",
   "metadata": {},
   "source": [
    "### oat_dashboard_matrix\n",
    "\n",
    "This functions draws a dashboard showing :\n",
    "* A dropdown list, for choosing a parameter\n",
    "* Several graphs of evolution of impacts for this parameter\n",
    "* Full table of data\n",
    "* A graph of \"bars\" representing the variation of each impact for this parameter (similar to the information given in oat_matrix) "
   ]
  },
  {
   "cell_type": "code",
   "execution_count": null,
   "id": "53b48995",
   "metadata": {},
   "outputs": [],
   "source": [
    "oat_dashboard_interact(\n",
    "    total_inventory, \n",
    "    impacts, \n",
    "    functional_unit=functional_value,\n",
    "    \n",
    "    # Optionnal layout parameters\n",
    "    figspace=(0.5,0.5),\n",
    "    figsize=(15, 15),\n",
    "    sharex=True)"
   ]
  },
  {
   "cell_type": "markdown",
   "id": "7ddbb95e",
   "metadata": {},
   "source": [
    "## Monte-carlo methods & Sobol indices\n",
    "\n",
    "Here we leverage fast computation of monte-carlo approches. \n",
    "\n",
    "We compute **global sensivity analysis** (GSA).\n",
    "Not only local ones.\n",
    "\n",
    "\n",
    "### Sobol Matrix \n",
    "\n",
    "Similar to OAT matrix, we compute Sobol indices. they represent the ratio between the variance due to a given parameter and the total variance.\n",
    "\n",
    "for easier comparison, we translate those relative sobol indices into \"deviation / mean\" importance :\n",
    "\n",
    "$$RelativeDeviation = \\frac{\\sqrt{sobol(param) \\times totalVariance(impact))}}{mean(impact)}$$\n",
    "\n",
    "\n"
   ]
  },
  {
   "cell_type": "code",
   "execution_count": null,
   "id": "0c190cc4",
   "metadata": {},
   "outputs": [],
   "source": [
    "# Show sobol indices \n",
    "incer_stochastic_matrix(\n",
    "    total_inventory, \n",
    "    impacts, \n",
    "    functional_unit=functional_value)"
   ]
  },
  {
   "cell_type": "markdown",
   "id": "04040150",
   "metadata": {},
   "source": [
    "###  Graphs of impacts and their distribution\n",
    "\n",
    "We provide a dashboard showing **violin graphs** : the exact probabilistic distribution for each impact. Together with medians of the impacts."
   ]
  },
  {
   "cell_type": "code",
   "execution_count": null,
   "id": "5b3f1adb",
   "metadata": {},
   "outputs": [],
   "source": [
    "incer_stochastic_violin(\n",
    "    total_inventory, impacts,\n",
    "    functional_unit=functional_value,\n",
    "    \n",
    "    # Optionnal layout parameters\n",
    "    figspace=(0.5,0.5),\n",
    "    figsize=(15, 15),\n",
    "    sharex=True, \n",
    "    nb_cols=3)"
   ]
  },
  {
   "cell_type": "code",
   "execution_count": null,
   "id": "29d6b7af",
   "metadata": {},
   "outputs": [],
   "source": [
    "##### Alternatively, graphs can be shown horizontally, together with a box of statistical outcomes\n",
    "distrib(\n",
    "    total_inventory, impacts,\n",
    "    functional_unit=functional_value,\n",
    "    \n",
    "    # Optionnal layout parameters\n",
    "    height=7, width=15,\n",
    "    nb_cols=2,\n",
    "    percentiles=[5, 95])"
   ]
  },
  {
   "cell_type": "markdown",
   "id": "d967b6ef",
   "metadata": {},
   "source": [
    "### Full dashboard\n",
    "\n",
    "A dashboard groups all this information in a single interface with tabs.\n",
    "\n",
    "It also shows total variation of impacts. This last graph could be improved by showing stacked colored bars with the contribution of each parameter to this variation, according to Sobol indices. "
   ]
  },
  {
   "cell_type": "code",
   "execution_count": null,
   "id": "fd3cabcc",
   "metadata": {},
   "outputs": [],
   "source": [
    "incer_stochastic_dashboard(\n",
    "    model=total_inventory, \n",
    "    methods=impacts,\n",
    "    functional_unit=functional_value)"
   ]
  },
  {
   "cell_type": "markdown",
   "id": "db110219",
   "metadata": {},
   "source": [
    "# Producing simplified models \n",
    "\n",
    "One of te outcome of the statisticall analysis above would be to identify main input parameters and produce simplidied models, fixing the minor ones.\n",
    "\n",
    "We provide several functions for doing this.\n",
    "\n",
    "## Explore initial algrebraic model"
   ]
  },
  {
   "cell_type": "code",
   "execution_count": null,
   "id": "335a028b",
   "metadata": {},
   "outputs": [],
   "source": [
    "# First, let's look at the full expression defining our model\n",
    "expr, _ = actToExpression(total_inventory)\n",
    "expr"
   ]
  },
  {
   "cell_type": "markdown",
   "id": "6290903d",
   "metadata": {},
   "source": [
    "## Compute simplified models\n",
    "\n",
    "We provide some method to automatically select a subset of parameters, based on the **sobol indices**, and then compute simplified models for it.\n",
    "\n",
    "We also round numerical expression to 3 digits, and we remove terms in sums that are less than 1% of total."
   ]
  },
  {
   "cell_type": "code",
   "execution_count": null,
   "id": "a2cadc8f",
   "metadata": {},
   "outputs": [],
   "source": [
    "simplified = sobol_simplify_model(\n",
    "    total_inventory, # The model\n",
    "    impacts, # Impacts to consider\n",
    "    functional_unit=functional_value,\n",
    "    \n",
    "    n=10000, # For large model, you may test other value and ensure ST and sum(S1) are close to 1.0 \n",
    "    fixed_mode = FixedParamMode.MEDIAN, # We replace minor parameters by median by default,\n",
    "    min_ratio=0.8, # Min ratio of variability to explain\n",
    "\n",
    "    num_digits=3)"
   ]
  },
  {
   "cell_type": "code",
   "execution_count": null,
   "id": "1993def5",
   "metadata": {},
   "outputs": [],
   "source": [
    "# Let's look at the expression for first impact again \n",
    "# much simpler ! \n",
    "simplified[0].expr"
   ]
  },
  {
   "cell_type": "markdown",
   "id": "7a757701",
   "metadata": {},
   "source": [
    "## Compare simplified model with full model\n",
    "\n",
    "Finally, we can compare the distribution of those simplified model against the full model. We provide a function for graphical display of it, and compuation of de R-Square score.\n"
   ]
  },
  {
   "cell_type": "code",
   "execution_count": null,
   "id": "b903c7e6",
   "metadata": {},
   "outputs": [],
   "source": [
    "compare_simplified(\n",
    "    total_inventory, \n",
    "    impacts, \n",
    "    simplified,\n",
    "    functional_unit=functional_value)"
   ]
  },
  {
   "cell_type": "code",
   "execution_count": null,
   "id": "030d3fae",
   "metadata": {},
   "outputs": [],
   "source": []
  }
 ],
 "metadata": {
  "jupytext": {
   "cell_metadata_filter": "-all",
   "formats": "Rmd,ipynb",
   "notebook_metadata_filter": "-all"
  },
  "kernelspec": {
   "display_name": "EEROS",
   "language": "python",
   "name": "python3"
  },
  "language_info": {
   "codemirror_mode": {
    "name": "ipython",
    "version": 3
   },
   "file_extension": ".py",
   "mimetype": "text/x-python",
   "name": "python",
   "nbconvert_exporter": "python",
   "pygments_lexer": "ipython3",
   "version": "3.9.16"
  },
  "toc": {
   "base_numbering": 1,
   "nav_menu": {},
   "number_sections": true,
   "sideBar": true,
   "skip_h1_title": false,
   "title_cell": "Table of Contents",
   "title_sidebar": "Contents",
   "toc_cell": false,
   "toc_position": {},
   "toc_section_display": true,
   "toc_window_display": false
  },
  "varInspector": {
   "cols": {
    "lenName": 16,
    "lenType": 16,
    "lenVar": 40
   },
   "kernels_config": {
    "python": {
     "delete_cmd_postfix": "",
     "delete_cmd_prefix": "del ",
     "library": "var_list.py",
     "varRefreshCmd": "print(var_dic_list())"
    },
    "r": {
     "delete_cmd_postfix": ") ",
     "delete_cmd_prefix": "rm(",
     "library": "var_list.r",
     "varRefreshCmd": "cat(var_dic_list()) "
    }
   },
   "types_to_exclude": [
    "module",
    "function",
    "builtin_function_or_method",
    "instance",
    "_Feature"
   ],
   "window_display": false
  }
 },
 "nbformat": 4,
 "nbformat_minor": 5
}
