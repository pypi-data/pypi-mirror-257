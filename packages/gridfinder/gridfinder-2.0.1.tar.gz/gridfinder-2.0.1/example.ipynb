{
 "cells": [
  {
   "cell_type": "markdown",
   "metadata": {},
   "source": [
    "# gridfinder\n",
    "Run through the full gridfinder model from data input to final guess for Burundi.\n",
    "Note that the 'truth' data used for the grid here is very bad, so the accuracy results don't mean much."
   ]
  },
  {
   "cell_type": "code",
   "execution_count": null,
   "metadata": {},
   "outputs": [],
   "source": [
    "import os\n",
    "from pathlib import Path\n",
    "\n",
    "import matplotlib.pyplot as plt\n",
    "from matplotlib import cm\n",
    "from mpl_toolkits.mplot3d import Axes3D\n",
    "import matplotlib.animation as animation\n",
    "import seaborn as sns\n",
    "from IPython.display import display, Markdown\n",
    "\n",
    "import numpy as np\n",
    "import rasterio\n",
    "import geopandas as gpd\n",
    "import folium\n",
    "\n",
    "import gridfinder as gf\n",
    "from gridfinder import save_raster"
   ]
  },
  {
   "cell_type": "markdown",
   "metadata": {},
   "source": [
    "## Set folders and parameters"
   ]
  },
  {
   "cell_type": "code",
   "execution_count": null,
   "metadata": {},
   "outputs": [],
   "source": [
    "folder_inputs = Path('test_data')\n",
    "folder_ntl_in = folder_inputs / 'ntl'\n",
    "aoi_in = folder_inputs / 'gadm.gpkg'\n",
    "roads_in = folder_inputs / 'roads.gpkg'\n",
    "pop_in = folder_inputs / 'pop.tif'\n",
    "grid_truth = folder_inputs / 'grid.gpkg'\n",
    "\n",
    "folder_out = Path('test_output')\n",
    "folder_ntl_out = folder_out / 'ntl_clipped'\n",
    "raster_merged_out = folder_out / 'ntl_merged.tif'\n",
    "targets_out = folder_out / 'targets.tif'\n",
    "targets_clean_out = folder_out / 'targets_clean.tif'\n",
    "roads_out = folder_out / 'roads.tif'\n",
    "\n",
    "dist_out = folder_out / 'dist.tif'\n",
    "guess_out = folder_out / 'guess.tif'\n",
    "guess_skeletonized_out = folder_out / 'guess_skel.tif'\n",
    "guess_nulled = folder_out / 'guess_nulled.tif'\n",
    "guess_vec_out = folder_out / 'guess.gpkg'\n",
    "animate_out = folder_out / 'animated'"
   ]
  },
  {
   "cell_type": "code",
   "execution_count": null,
   "metadata": {},
   "outputs": [],
   "source": [
    "percentile = 70      # percentile value to use when merging monthly NTL rasters\n",
    "ntl_threshold = 0.1  # threshold when converting filtered NTL to binary (probably shouldn't change)\n",
    "upsample_by = 2      # factor by which to upsample before processing roads (both dimensions are scaled by this)\n",
    "cutoff = 0.0         # cutoff to apply to output dist raster, values below this are considered grid"
   ]
  },
  {
   "cell_type": "markdown",
   "metadata": {},
   "source": [
    "## Clip  and merge monthly rasters"
   ]
  },
  {
   "cell_type": "code",
   "execution_count": null,
   "metadata": {},
   "outputs": [],
   "source": [
    "gf.clip_rasters(folder_ntl_in, folder_ntl_out, aoi_in)"
   ]
  },
  {
   "cell_type": "code",
   "execution_count": null,
   "metadata": {},
   "outputs": [],
   "source": [
    "raster_merged, affine = gf.merge_rasters(folder_ntl_out, percentile=percentile)\n",
    "save_raster(raster_merged_out, raster_merged, affine)\n",
    "print('Merged')\n",
    "plt.imshow(raster_merged, vmin=0, vmax=1)"
   ]
  },
  {
   "cell_type": "markdown",
   "metadata": {},
   "source": [
    "## Create filter"
   ]
  },
  {
   "cell_type": "code",
   "execution_count": null,
   "metadata": {},
   "outputs": [],
   "source": [
    "ntl_filter = gf.create_filter()\n",
    "\n",
    "X = np.fromfunction(lambda i, j: i, ntl_filter.shape)\n",
    "Y = np.fromfunction(lambda i, j: j, ntl_filter.shape)\n",
    "\n",
    "fig = plt.figure()\n",
    "sns.set()\n",
    "ax = fig.add_subplot(projection='3d')\n",
    "ax.plot_surface(X, Y, ntl_filter, cmap=cm.coolwarm, linewidth=0, antialiased=False)"
   ]
  },
  {
   "cell_type": "markdown",
   "metadata": {},
   "source": [
    "## Clip, filter and resample NTL"
   ]
  },
  {
   "cell_type": "code",
   "execution_count": null,
   "metadata": {},
   "outputs": [],
   "source": [
    "ntl_thresh, affine = gf.prepare_ntl(raster_merged_out,\n",
    "                                    aoi_in,\n",
    "                                    ntl_filter=ntl_filter,\n",
    "                                    threshold=ntl_threshold,\n",
    "                                    upsample_by=upsample_by)\n",
    "save_raster(targets_out, ntl_thresh, affine)\n",
    "print('Targets prepared')\n",
    "plt.imshow(ntl_thresh, cmap='viridis')"
   ]
  },
  {
   "cell_type": "markdown",
   "metadata": {},
   "source": [
    "## Remove target areas with no underlying population"
   ]
  },
  {
   "cell_type": "code",
   "execution_count": null,
   "metadata": {},
   "outputs": [],
   "source": [
    "targets_clean = gf.drop_zero_pop(targets_out, pop_in, aoi_in)\n",
    "save_raster(targets_clean_out, targets_clean, affine)\n",
    "print('Removed zero pop')\n",
    "plt.imshow(ntl_thresh, cmap='viridis')"
   ]
  },
  {
   "cell_type": "markdown",
   "metadata": {},
   "source": [
    "## Roads: assign values, clip and rasterize"
   ]
  },
  {
   "cell_type": "code",
   "execution_count": null,
   "metadata": {},
   "outputs": [],
   "source": [
    "roads_raster, affine = gf.prepare_roads(roads_in,\n",
    "                                        aoi_in,\n",
    "                                        targets_out)\n",
    "save_raster(roads_out, roads_raster, affine, nodata=-1)\n",
    "print('Costs prepared')\n",
    "plt.imshow(roads_raster, cmap='viridis', vmin=0, vmax=1)"
   ]
  },
  {
   "cell_type": "markdown",
   "metadata": {},
   "source": [
    "## Get targets and costs and run algorithm"
   ]
  },
  {
   "cell_type": "code",
   "execution_count": null,
   "metadata": {},
   "outputs": [],
   "source": [
    "targets, costs, start, affine = gf.get_targets_costs(targets_clean_out, roads_out)\n",
    "est_mem = gf.estimate_mem_use(targets, costs)\n",
    "print(f'Estimated memory usage: {est_mem:.2f} GB')"
   ]
  },
  {
   "cell_type": "code",
   "execution_count": null,
   "metadata": {},
   "outputs": [],
   "source": [
    "dist = gf.optimise(targets, costs, start,\n",
    "                   jupyter=True,\n",
    "                   animate=True,\n",
    "                   affine=affine,\n",
    "                   animate_path=animate_out)\n",
    "save_raster(dist_out, dist, affine)\n",
    "plt.imshow(dist)"
   ]
  },
  {
   "cell_type": "markdown",
   "metadata": {},
   "source": [
    "## Filter dist results to grid guess"
   ]
  },
  {
   "cell_type": "code",
   "execution_count": null,
   "metadata": {},
   "outputs": [],
   "source": [
    "guess, affine = gf.threshold(dist_out, cutoff=cutoff)\n",
    "save_raster(guess_out, guess, affine)\n",
    "print('Got guess')\n",
    "plt.imshow(guess, cmap='viridis')"
   ]
  },
  {
   "cell_type": "markdown",
   "metadata": {},
   "source": [
    "## Check results"
   ]
  },
  {
   "cell_type": "code",
   "execution_count": null,
   "metadata": {},
   "outputs": [],
   "source": [
    "true_pos, false_neg = gf.accuracy(grid_truth, guess_out, aoi_in)\n",
    "print(f'Points identified as grid that are grid: {100*true_pos:.0f}%')\n",
    "print(f'Actual grid that was missed: {100*false_neg:.0f}%')"
   ]
  },
  {
   "cell_type": "markdown",
   "metadata": {},
   "source": [
    "## Skeletonize"
   ]
  },
  {
   "cell_type": "code",
   "execution_count": null,
   "metadata": {},
   "outputs": [],
   "source": [
    "guess_skel, affine = gf.thin(guess_out)\n",
    "save_raster(guess_skeletonized_out, guess_skel, affine)\n",
    "print('Skeletonized')\n",
    "plt.imshow(guess_skel)"
   ]
  },
  {
   "cell_type": "markdown",
   "metadata": {},
   "source": [
    "## Convert to geometry"
   ]
  },
  {
   "cell_type": "code",
   "execution_count": null,
   "metadata": {},
   "outputs": [],
   "source": [
    "guess_gdf = gf.raster_to_lines(guess_skeletonized_out)\n",
    "guess_gdf.to_file(guess_vec_out, driver='GPKG')\n",
    "print('Converted to geom')"
   ]
  },
  {
   "cell_type": "code",
   "execution_count": null,
   "metadata": {},
   "outputs": [],
   "source": [
    "minx, miny, maxx, maxy = list(guess_gdf.bounds.iloc[0])\n",
    "bounds = ((miny, minx), (maxy, maxx))\n",
    "\n",
    "m = folium.Map(control_scale=True)\n",
    "m.fit_bounds(bounds)\n",
    "folium.GeoJson(guess_gdf).add_to(m)\n",
    "m"
   ]
  },
  {
   "cell_type": "code",
   "execution_count": null,
   "metadata": {},
   "outputs": [],
   "source": []
  }
 ],
 "metadata": {
  "kernelspec": {
   "display_name": "Python 3 (ipykernel)",
   "language": "python",
   "name": "python3"
  },
  "language_info": {
   "codemirror_mode": {
    "name": "ipython",
    "version": 3
   },
   "file_extension": ".py",
   "mimetype": "text/x-python",
   "name": "python",
   "nbconvert_exporter": "python",
   "pygments_lexer": "ipython3",
   "version": "3.12.1"
  }
 },
 "nbformat": 4,
 "nbformat_minor": 4
}
