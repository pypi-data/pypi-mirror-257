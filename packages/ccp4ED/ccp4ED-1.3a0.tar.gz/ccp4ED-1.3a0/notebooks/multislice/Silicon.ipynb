{
 "cells": [
  {
   "cell_type": "markdown",
   "id": "affected-border",
   "metadata": {},
   "source": [
    "# Mutlislice features and parameters\n",
    "In these examples will be using the same structure and play around with some parameters and features of the **autoslic** program. \n",
    "Most of the arguments and parameters have been presented in [example_0](http://badb.rc-harwell.ac.uk:8888/notebooks/multislice/example_0.ipynb). \n",
    "- [Base simulation](#Base-simulation)\n",
    "- [Reducing the slice thickness](#Reducing-the-slice-thickness)\n",
    "- [Sampling](#Sampling)\n",
    "- [Rocking curve](#Rocking-curve)\n",
    "- [Padding](#Padding)\n",
    "- [Orienting the structure](#Orienting-the-structure)\n",
    "    - [45degree rotation around the 001 axis](#[001]-orientation-with-45-degree-angle)\n",
    "    - [111 with large padding](#[111]-orientation-with-large-padding)\n",
    "    - [Orienting without padding](#Orienting-without-padding)"
   ]
  },
  {
   "cell_type": "code",
   "execution_count": null,
   "id": "hourly-latter",
   "metadata": {},
   "outputs": [],
   "source": [
    "import importlib as imp\n",
    "import multislice.multislice as mupy;imp.reload(mupy)       # the temsim wrapper module\n",
    "import multislice.postprocess as pp ;imp.reload(pp)         # postprocess module\n",
    "import multislice.mupy_utils as mut ;imp.reload(mut)        # multislice utilities\n",
    "from ipywidgets import interact, interactive, fixed, interact_manual\n",
    "from utils import*                         # utilities\n",
    "%matplotlib notebook\n",
    "path = 'data/test/'"
   ]
  },
  {
   "cell_type": "markdown",
   "id": "worth-coach",
   "metadata": {},
   "source": [
    "## Base simulation \n",
    "\n",
    "\n",
    "Since we will be simulating the same crystal orientation using different parameters, the `tag` parameter can be used to distinguish the simulations from one another by adding it to the naming convention. "
   ]
  },
  {
   "cell_type": "code",
   "execution_count": null,
   "id": "fancy-oakland",
   "metadata": {},
   "outputs": [],
   "source": [
    "args = {'name':path,'mulslice':False,'data':'Si110.xyz','keV':200,\n",
    "             'repeat':[3,2,200],'NxNy':512,'slice_thick':1.91,'Nhk':3}"
   ]
  },
  {
   "cell_type": "code",
   "execution_count": null,
   "id": "wireless-cyprus",
   "metadata": {},
   "outputs": [],
   "source": [
    "multi0 = mupy.Multislice(tag='base', opt='srf',ppopt='w',ssh='badb',**args)"
   ]
  },
  {
   "cell_type": "code",
   "execution_count": null,
   "id": "happy-generation",
   "metadata": {},
   "outputs": [],
   "source": [
    "multi0 = pp.load(path,tag='base')\n",
    "multi0.pattern(Iopt='cns',tol=1e-5,rings=[2,4],caxis=[0,0.001],xylims=5)\n",
    "multi0.beam_vs_thickness()"
   ]
  },
  {
   "cell_type": "markdown",
   "id": "sought-klein",
   "metadata": {},
   "source": [
    "## Reducing the slice thickness\n",
    "\n",
    "Reducing the slice thickness in the current implementation of TEMSIM does not provide a more accurate simulaton. \n",
    "Indeed, if a slice does not contain the center of an atom, its transmission function will be  unity even though there is some electrostatic potential in this slice.  \n",
    "\n",
    "Here we divide the slice thickness by 4 keeping all other things constants. "
   ]
  },
  {
   "cell_type": "code",
   "execution_count": null,
   "id": "labeled-handbook",
   "metadata": {},
   "outputs": [],
   "source": [
    "args1=args.copy()\n",
    "args1['slice_thick'] /= 4\n",
    "multi1 = mupy.Multislice(tag='slice', opt='srfp',ppopt='w',ssh='badb',**args1)"
   ]
  },
  {
   "cell_type": "markdown",
   "id": "laughing-cambridge",
   "metadata": {},
   "source": [
    "By comparing the beam evolution with thickness for the **base** and the reduced **slice** thickness simulation, it is clear that the addition of the intermediate slices do not have any effect on the propagation of the beam. \n",
    "This is obvious from the constant lines appearing in the thickness dependant evolution of the beam."
   ]
  },
  {
   "cell_type": "code",
   "execution_count": null,
   "id": "strong-theory",
   "metadata": {},
   "outputs": [],
   "source": [
    "multi0 = pp.load(path,'base')\n",
    "multi0.print_log()"
   ]
  },
  {
   "cell_type": "code",
   "execution_count": null,
   "id": "found-pendant",
   "metadata": {},
   "outputs": [],
   "source": [
    "multi0 = pp.load(path,'base')\n",
    "multi1 = pp.load(path,'slice')\n",
    "fig,(ax0,ax1) = dsp.create_fig(figsize='21',rc='12')\n",
    "multi0.beam_vs_thickness(tol=1e-3,xylims=[0,50,0,0.05],title='slice thickness=%.2f' %args['slice_thick'] ,ax=ax0,pOpt='tXG')\n",
    "multi1.beam_vs_thickness(tol=1e-3,xylims=[0,50,0,0.05],title='slice thickness=%.2f' %args1['slice_thick'],ax=ax1,pOpt='tXG')"
   ]
  },
  {
   "cell_type": "markdown",
   "id": "polyphonic-vertex",
   "metadata": {},
   "source": [
    "## Sampling\n",
    "In this example we increase the sampling and the size of the super cell."
   ]
  },
  {
   "cell_type": "code",
   "execution_count": null,
   "id": "flexible-aspect",
   "metadata": {},
   "outputs": [],
   "source": [
    "args_rep = args.copy();args_rep['repeat']=[9,6,20]\n",
    "multi_rep = mupy.Multislice(tag='rep', opt='srp',ppopt='w',ssh='badb',**args_rep)"
   ]
  },
  {
   "cell_type": "code",
   "execution_count": null,
   "id": "convenient-joseph",
   "metadata": {},
   "outputs": [],
   "source": [
    "args_Nxy = args_rep.copy();args_Nxy['NxNy']=2**11\n",
    "multi_Nxy = mupy.Multislice(tag='Nxy', opt='srfp',ppopt='w',ssh='badb',**args_Nxy)"
   ]
  },
  {
   "cell_type": "code",
   "execution_count": null,
   "id": "digital-latter",
   "metadata": {},
   "outputs": [],
   "source": [
    "multi_base = pp.load(path,tag='base');multi_base.log_info()\n",
    "multi_rep = pp.load(path,tag='rep');multi_rep.log_info()\n",
    "multi_Nxy = pp.load(path,tag='Nxy');multi_Nxy.log_info()\n",
    "\n",
    "fig,(ax0,ax1,ax2) = dsp.create_fig(figsize='21',rc=[1,3])\n",
    "p_args={'xylims':2,'pOpt':'tX','fonts':{'lab':18,'tick':10},'caxis':[0,0.001]}\n",
    "multi_base.pattern(Iopt='ns',tol=1e-5,ax=ax0,title='base',**p_args);\n",
    "multi_rep.pattern( Iopt='ns',tol=1e-5,ax=ax1,title='rep' ,**p_args);\n",
    "multi_Nxy.pattern( Iopt='ns',tol=1e-5,ax=ax2,title='Nxy' ,**p_args);"
   ]
  },
  {
   "cell_type": "markdown",
   "id": "martial-diesel",
   "metadata": {},
   "source": [
    "Due to the properties of the Discrete Fourier Transform, increasing the super cell size increases the reciprocal space resolution. \n",
    "\n",
    "Increasing the sampling keeping the super cell size constant increases the resolution in real space which is usually far greater than the experimental one. Besides, increasing the sampling provides a better conservation of the total intensity which comes at a greater computational cost. "
   ]
  },
  {
   "cell_type": "markdown",
   "id": "unnecessary-matrix",
   "metadata": {},
   "source": [
    "## Rocking curve\n",
    "In this subsection we are showing how to simulate a rocking curve with temsim. This can be achieved by runing the same simulation with a slightly different tilt angle. \n",
    "\n",
    "To this end, we can use the class `Rocking` which will generate a series of tilted simulations from the `tilt` parameter. The constructor of this class is similar to `Multislice` but contains parameters`tx` and `ty` which are used to specify the range of tilt angles simulated. The tag for the simulations will automatically be of the form `<tag>_tilt<id>`. \n",
    "\n",
    "The simulation objects are stored in a dataframe which displays useful information. Since we are using the `badb` cluster, all those simulations should run simultaneously."
   ]
  },
  {
   "cell_type": "code",
   "execution_count": null,
   "id": "conservative-preference",
   "metadata": {},
   "outputs": [],
   "source": [
    "args_rock={'name':path,'mulslice':False,'data':'Si110.xyz','keV':200,\n",
    "             'repeat':[3,2,200],'NxNy':512,'slice_thick':1.91,'Nhk':3}\n",
    "rock = mupy.Rocking(tx=np.arange(-10,11)*0.01,ty=0, tag='tx',ssh='badb', opt='sr',v=0,**args_rock)"
   ]
  },
  {
   "cell_type": "markdown",
   "id": "hired-overhead",
   "metadata": {},
   "source": [
    "It is possible to display information about the full set of simulations by using the `update` method of the `Rocking` class. Those information are stored in a DataFrame `Rocking.df`.\n",
    "Besides, individual simulations can be accessed directly with `Rocking.load(id)`"
   ]
  },
  {
   "cell_type": "code",
   "execution_count": null,
   "id": "congressional-jordan",
   "metadata": {},
   "outputs": [],
   "source": [
    "rock = pp.rock_load(path,'tx')\n",
    "rock.update()\n",
    "ms0 = rock.load(0)\n",
    "ms0.beam_vs_thickness(tol=1e-4)"
   ]
  },
  {
   "cell_type": "markdown",
   "id": "psychological-indiana",
   "metadata": {},
   "source": [
    "The rocking curve for the beams `iBs`,  can be obtained at the different thicknesses `zs`  with the `plot_rocking` method.\n",
    "\n",
    "Here we display it for beam $qx,qy=(3,2)$ ie $h,k=(1,1)$ at peak thicknesses $100A, 350A, 580A$ and valleys  $220A, 450A, 700A$."
   ]
  },
  {
   "cell_type": "code",
   "execution_count": null,
   "id": "suitable-sensitivity",
   "metadata": {},
   "outputs": [],
   "source": [
    "fig,(ax0,ax1) = dsp.create_fig(figsize='21',rc=[1,2])\n",
    "rock.plot_rocking(iBs=[(3,2)],zs=[100,350,580],ax=ax0,setPos=0)\n",
    "rock.plot_rocking(iBs=[(3,2)],zs=[220,450,700],ax=ax1,setPos=0)"
   ]
  },
  {
   "cell_type": "markdown",
   "id": "tested-soviet",
   "metadata": {},
   "source": [
    "## Padding\n",
    "\n",
    "In order to simulate finite size effect and crystal in arbtrary orientations, it is necessary to simulate multiple unit cells with additional padding on each side. To this end, the coordinate file fed to `autoslic` must be changed accordingly. \n",
    "\n",
    "We use the `gen_xyz` method from the `mupy_utils` module to generate an **.xyz** file from a structure with the following parameters : \n",
    "- file : str - cif_file or name of structure or pattern\n",
    "- rep  : list - [Nx,Ny,Nz] super cell\n",
    "- n    : list - the vector along which the beam is oriented in the crystal frame (the coordinates of the crystal will be rearranged such that the beam reamins along the z axis )\n",
    "- theta : The angle to rotate the structure around the beam.\n",
    "- pad   : The amount of padding on each side (in unit of the super cell).\n",
    "\n",
    "### base simulation\n",
    "For these simulations, we use the following parameters.\n",
    "In order to do a proper comparison, we first need to simulate the same orientation without padding.\n",
    "\n",
    "The coordinates file can be visualized with  `show_grid` method where `opts` indicate the plane in which the view is projected."
   ]
  },
  {
   "cell_type": "code",
   "execution_count": null,
   "id": "attended-estimate",
   "metadata": {},
   "outputs": [],
   "source": [
    "args_pad={'name':path,'mulslice':False,'keV':200,'i_slice':10,\n",
    "             'repeat':[1,1,200],'slice_thick':1.91,'Nhk':10}"
   ]
  },
  {
   "cell_type": "code",
   "execution_count": null,
   "id": "cardiovascular-transcription",
   "metadata": {},
   "outputs": [],
   "source": [
    "xyz = path+'Si001.xyz'\n",
    "mut.gen_xyz('Si',n=[0,0,1],theta=0,rep=[1,1,1],pad=0,xyz=xyz)\n",
    "mut.show_grid(xyz,opts=['xy','xz'])"
   ]
  },
  {
   "cell_type": "code",
   "execution_count": null,
   "id": "executed-procedure",
   "metadata": {},
   "outputs": [],
   "source": [
    "mupy.Multislice(data='Si001.xyz',NxNy=2**10, opt='sr',ppopt='s',ssh='badb',tag='pad0', **args_pad);"
   ]
  },
  {
   "cell_type": "markdown",
   "id": "sitting-satin",
   "metadata": {},
   "source": [
    "### Padded simulations\n",
    "As a simple example the beam is oriented in the [001] direction. The crystal is $20\\times 20\\times 200$ and a padding of 0,1,2 and 4 units of super cell around the crystal is used. \n",
    "\n",
    "We also use a crystal $40\\times 40\\times 200$. "
   ]
  },
  {
   "cell_type": "code",
   "execution_count": null,
   "id": "dress-container",
   "metadata": {},
   "outputs": [],
   "source": [
    "pad=4\n",
    "xyz = path+'Si001_n20_pad%d.xyz' %pad\n",
    "# mut.gen_xyz('Si',n=[0,0,1],theta=0,rep=[20,20,1],pad=[pad,pad,0],xyz=xyz)"
   ]
  },
  {
   "cell_type": "code",
   "execution_count": null,
   "id": "precise-passing",
   "metadata": {},
   "outputs": [],
   "source": [
    "fig,(ax1,ax2) = dsp.create_fig(figsize='21',rc=[1,2])\n",
    "mut.show_grid(xyz,opts='xy',ax=ax1,setPos=0);#,xylims=[0,550,0,550],xyTicks=50)\n",
    "mut.show_grid(xyz,opts='xz',ax=ax2,setPos=0);#,xylims=[0,500,0,10])"
   ]
  },
  {
   "cell_type": "code",
   "execution_count": null,
   "id": "similar-warrant",
   "metadata": {},
   "outputs": [],
   "source": [
    "args_pad['NxNy']=2**13\n",
    "mupy.Multislice(data='Si001_n20_pad4.xyz',opt='sr',ppopt='ws',ssh='badb',tag='n20_pad%d' %pad, **args_pad);"
   ]
  },
  {
   "cell_type": "code",
   "execution_count": null,
   "id": "hired-contrast",
   "metadata": {},
   "outputs": [],
   "source": [
    "rep,pad=40,1\n",
    "tag = 'n%d_pad%d' %(rep,pad)\n",
    "xyz = 'Si001_%s.xyz' %tag\n",
    "# mut.gen_xyz('Si',n=[0,0,1],theta=0,rep=[rep,rep,1],pad=[pad,pad,0],xyz=xyz)\n",
    "mut.show_grid(path+xyz,opts=['xy','xz'])"
   ]
  },
  {
   "cell_type": "code",
   "execution_count": null,
   "id": "streaming-feelings",
   "metadata": {},
   "outputs": [],
   "source": [
    "mupy.Multislice(data=xyz,opt='sr',ppopt='ws',ssh='badb',tag=tag, **args_pad);"
   ]
  },
  {
   "cell_type": "markdown",
   "id": "worse-catalyst",
   "metadata": {},
   "source": [
    "### Comparison with/without padding \n",
    "Now we can see the effect of padding by comparing the simulations using **Si001.xyz** and the padded simulations **Si001_np.xyz**. "
   ]
  },
  {
   "cell_type": "code",
   "execution_count": null,
   "id": "patent-shoot",
   "metadata": {},
   "outputs": [],
   "source": [
    "imp.reload(mupy);imp.reload(pp)\n",
    "multi_nopad = pp.load(path,tag='pad0')#;print(multi_pad0.check_simu_state())\n",
    "multi_pad0 = pp.load(path,tag='n20_pad0',v=2);\n",
    "multi_pad1 = pp.load(path,tag='n20_pad1',v=2)#;multi_pad1.print_log()\n",
    "multi_pad2 = pp.load(path,tag='n20_pad2',v=2)#;multi_pad2.print_log()\n",
    "multi_pad4 = pp.load(path,tag='n20_pad4',v=2)#;multi_pad4.print_log()\n",
    "multi_rep4 = pp.load(path,tag='n40_pad1',v=2)#;multi_pad4.print_log()"
   ]
  },
  {
   "cell_type": "code",
   "execution_count": null,
   "id": "skilled-trigger",
   "metadata": {},
   "outputs": [],
   "source": [
    "multi_nopad.pattern(Iopt='cNs',title='Si001 no pad',xylims=4,caxis=[0,0.01])"
   ]
  },
  {
   "cell_type": "code",
   "execution_count": null,
   "id": "incoming-delhi",
   "metadata": {},
   "outputs": [],
   "source": [
    "pargs = {'Iopt':'cNs','gs':1,'Nmax':512,'pOpt':'tX','xylims':1,'fonts':{'lab':10,'tick':10}}#'caxis':[0,0.005] \n",
    "\n",
    "fig,((ax0,ax1),(ax2,ax3)) = dsp.create_fig(figsize='f',rc=[2,2])\n",
    "multi_nopad.pattern(ax=ax0,title='Si001 no pad'    ,caxis=[0,0.05],**pargs);\n",
    "multi_pad0.pattern(ax=ax1,title='Si001 20x20 pad=0',caxis=[0,0.01],**pargs);\n",
    "multi_pad1.pattern(ax=ax2,title='Si001 20x20 pad=1',caxis=[0,0.0001],**pargs);\n",
    "multi_pad2.pattern(ax=ax3,title='Si001 20x20 pad=2',caxis=[0,0.0001],**pargs);"
   ]
  },
  {
   "cell_type": "code",
   "execution_count": null,
   "id": "apart-convention",
   "metadata": {},
   "outputs": [],
   "source": [
    "# fig,(ax4,ax5) = dsp.create_fig(figsize='f',rc=[1,2])\n",
    "multi_rep1.pattern(title='Si001 20x20 pad=1',caxis=[0,0.0001],**pargs);\n",
    "# multi_rep2.pattern(ax=ax5,title='Si001 40x40 pad=1',caxis=[0,0.00001],**pargs);"
   ]
  },
  {
   "cell_type": "code",
   "execution_count": null,
   "id": "equivalent-counter",
   "metadata": {},
   "outputs": [],
   "source": [
    "pargs = {'Iopt':'cNs','gs':1,'Nmax':1024}#,'pOpt':'tX','xylims':1,'fonts':{'lab':10,'tick':10}}#'caxis':[0,0.005] \n",
    "qx,qy,im0 = multi_pad1.pattern(out=1,**pargs);\n",
    "fig,ax = dsp.create_fig()\n",
    "y = np.linspace(0,1,100)\n",
    "def func1(x):\n",
    "    print('vmax=',float(x))\n",
    "    ax.cla()\n",
    "    dsp.stddisp(ax=ax,fig=fig,im=[qx,qy,im0],title='Si001 40x40 pad=1',pOpt='im',cmap='viridis',xylims=4,caxis=[0,float(x)])\n",
    "    print('ok')\n",
    "interact(func1, x=\"0.00001\");"
   ]
  },
  {
   "cell_type": "code",
   "execution_count": null,
   "id": "skilled-seeking",
   "metadata": {},
   "outputs": [],
   "source": [
    "multis = [multi_nopad,multi_pad0,multi_pad1,multi_pad2,multi_pad4,multi_rep2]\n",
    "# I0 = [m.pattern(Iopt='',out=1,v=1)[-1] for m in multis]\n",
    "# I0 = [np.load(m._outf('patternnpy')) for m in multis]\n",
    "# I1 = [I/(np.prod(m.NxNy))**2 for I,m in zip(I0,multis)]\n",
    "[I.max() for I,m in zip(I1,multis)]"
   ]
  },
  {
   "cell_type": "markdown",
   "id": "daily-majority",
   "metadata": {},
   "source": [
    "We can see that the strong beam in $h,k=(\\pm 2,\\pm 2)$ are visible in both cases and positioned at the same place in reciprocal space. On the other hand, reflections appear in the padding simulations around the central spot which do not correspond to crystal Bragg spots. Moreover, lots of other reflections seem completely gone.\n",
    "\n",
    "**The overall conclusion so far is that padding seems to significantly affect the diffraction patterns obtained for a infinitely periodic crystal**. "
   ]
  },
  {
   "cell_type": "code",
   "execution_count": null,
   "id": "rental-surrey",
   "metadata": {},
   "outputs": [],
   "source": [
    "multi = pp.load(path,tag='pad0',v=2)#;multi.print_log()\n",
    "# multi.patterns2gif('figures/001_patterns.gif',caxis=[0,0.1],Iopt='cNs',Nmax=256,xylims=1,cmap='jet')#,v=2)\n",
    "# multi.save_pattern(iz=25)\n",
    "# multi.pattern(iz=15,caxis=[-6,-2],cmap='jet',v=2,**pargs);\n",
    "# qx,qy,I = multi.pattern(iz=25,caxis=[-6,-2],cmap='jet',out=1,**pargs);\n",
    "# dsp.stddisp([range(I[s].size),I[s],'b'],lw=2,)\n",
    "# multi.beam_vs_thickness(orig=0,iBs=[(i,8) for i in range(2,8)],tol=1e-5,xylims=['y',0,0.1],cm='jet')\n",
    "multi.beam_vs_thickness(orig=0,tol=1e-3,xylims=['y',0,0.1],cm='jet')"
   ]
  },
  {
   "cell_type": "markdown",
   "id": "least-block",
   "metadata": {},
   "source": [
    "rep0,pad0 | rep1,pad4 | rep2,pad1\n",
    "---- | ----- | ----\n",
    "![](figures/001_patterns.gif) | ![](figures/001_patterns.gif) | ![](figures/001_patterns.gif)"
   ]
  },
  {
   "cell_type": "code",
   "execution_count": null,
   "id": "positive-satisfaction",
   "metadata": {},
   "outputs": [],
   "source": [
    "fig,(ax0,ax1) = dsp.create_fig(figsize='21',rc=[1,2])\n",
    "multi_pad0.beam_vs_thickness(orig=1,ax=ax0,setPos=0)\n",
    "multi_pad1.beam_vs_thickness(orig=1,ax=ax1,setPos=0)"
   ]
  },
  {
   "cell_type": "markdown",
   "id": "approximate-davis",
   "metadata": {},
   "source": [
    "## Orienting the structure\n",
    "\n",
    "###  [001] orientation with 45 degree angle\n",
    "We now rotate the structure by 45 degrees around the [001] beam."
   ]
  },
  {
   "cell_type": "code",
   "execution_count": null,
   "id": "covered-might",
   "metadata": {},
   "outputs": [],
   "source": [
    "mut.gen_xyz('Si',n=[0,0,1],theta=13,rep=[20,20,1],pad=[2,2,0],xyz=path+'Si001_13.xyz')\n",
    "\n",
    "# fig,(ax1,ax2) = dsp.create_fig(figsize='21',rc=[1,2])\n",
    "mut.show_grid(path+'Si001_13.xyz',opts=['xy','xz'],xylims=[0,600,0,600])#,ax=ax1,setPos=0)"
   ]
  },
  {
   "cell_type": "code",
   "execution_count": null,
   "id": "progressive-flour",
   "metadata": {},
   "outputs": [],
   "source": [
    "args_pad={'name':path,'mulslice':False,'keV':200,'repeat':[1,1,200],'NxNy':2**12,'slice_thick':1.91,'Nhk':80}\n",
    "mupy.Multislice(data='Si001_13.xyz',opt='srf',ppopt='w',ssh='badb',tag='pad001_13',i_slice=10, **args_pad);"
   ]
  },
  {
   "cell_type": "code",
   "execution_count": null,
   "id": "recovered-moderator",
   "metadata": {},
   "outputs": [],
   "source": [
    "import importlib as imp;imp.reload(mupy);imp.reload(pp)\n",
    "multi = pp.load(path,'pad001_13',v=2)#;multi.print_log()\n",
    "pargs = {'Iopt':'cns','Nmax':512,'caxis':[0,0.0025],'xylims':1.5}#,'tol':1e-7,}\n",
    "# multi.pattern(iz=5,v=2,**pargs)\n",
    "# for iz in range(10) : multi_pad0.pattern(iz=iz,caxis=[0,0.01],title=r'Si [001], $\\theta=45$',**pargs);\n",
    "multi.patterns2gif('figures/Si001_13_patterns.gif',v=1,**pargs)\n",
    "# multi_pad0.beam_vs_thickness(orig=1,tol=1e-3,opt='sp',name='figures/pad001_13_beams.svg')"
   ]
  },
  {
   "cell_type": "code",
   "execution_count": null,
   "id": "cordless-settle",
   "metadata": {},
   "outputs": [],
   "source": [
    "# I = np.load(multi._outf('patternnpy'))\n",
    "# I[I>1e8]"
   ]
  },
  {
   "cell_type": "markdown",
   "id": "broken-mouse",
   "metadata": {},
   "source": [
    "001-13deg \n",
    "\n",
    "<!-- beams | gif -->\n",
    "<!-- --------- | ---  -->\n",
    "<!-- ![](figures/pad001_45_beams.svg) |  ![](figures/Si001_45_patterns.gif)  -->\n",
    "\n",
    "![](figures/Si001_13_patterns.gif)\n",
    " \n",
    "1 | 2  | 3   \n",
    "--| -- | -- \n",
    "![](figures/Si001_13_patterns0005.png) | ![](figures/Si001_13_patterns0011.png) | ![](figures/Si001_13_patterns0027.png) \n"
   ]
  },
  {
   "cell_type": "markdown",
   "id": "instructional-tracy",
   "metadata": {},
   "source": [
    "### [111] orientation with large padding\n",
    "\n",
    "We orient the beam along the [111] axis. \n",
    "Using `gen_xyz` would duplicate the crystal and then orient it. \n",
    "Since the crystal is rather large we also use the 'h' option in `popts` to only display the boundaries of the crystal."
   ]
  },
  {
   "cell_type": "code",
   "execution_count": null,
   "id": "resistant-nursery",
   "metadata": {},
   "outputs": [],
   "source": [
    "xyz_file = path+'Si111.xyz'\n",
    "#mut.gen_xyz('Si',xyz=xyz_file,n=[1,1,1],theta=0,rep=[40,40,40],pad=[2,2,0])\n",
    "mut.show_grid(xyz_file,opts=['xy','xz'],popts='h',xylims=[0,1000,0,1000])"
   ]
  },
  {
   "cell_type": "markdown",
   "id": "major-frontier",
   "metadata": {},
   "source": [
    "Using `gen_xyz2` will orient the crystal and figure out the unit cells to consider so the crystal fits into a box with dimensions `lat_params`. This has the advantage of better controlling the overall thickness and transverse size of the domain. "
   ]
  },
  {
   "cell_type": "code",
   "execution_count": null,
   "id": "geological-saver",
   "metadata": {},
   "outputs": [],
   "source": [
    "xyz_file = path+'Si111_gen2_pad1.xyz'\n",
    "mut.gen_xyz2('Si',xyz=xyz_file,n=[1,1,1],theta=0,lat_params=[50,50,1000],pad=1,opts='v')\n",
    "mut.show_grid(xyz_file,opts=['xy','xz'],popts='hp')#,xylims=[0,250,-5,1010])"
   ]
  },
  {
   "cell_type": "markdown",
   "id": "married-darwin",
   "metadata": {},
   "source": [
    "The crystal is only $50A$ wide($\\approx 10$ unit cells) we should expect the Laue lobes to be $0.02A^{-1}$ wide. The bragg planes being be $\\approx 0.2A^{-1}$ appart it should be enough to resolve them.\n",
    "\n",
    "Using a sampling of 4096 points provides a real space resolution of $0.06A$ and a reciprocal space bandwidth $\\approx 8A^{-1}$ which results in $bw\\approx 5.4A^{-1}$ with the multislice limited bandwidth factor.\n",
    "\n",
    "Since the domain is $250A$ wide the reciprocal space resolution is $0.004A^{-1}$ so that bragg relflections $h,k$ should be about every 50 samples.\n",
    "\n",
    "With this somewhat large sampling, saving the diffraction pattern frequently result in non negligible usage of cpu time."
   ]
  },
  {
   "cell_type": "code",
   "execution_count": null,
   "id": "golden-solution",
   "metadata": {},
   "outputs": [],
   "source": [
    "mupy.Multislice(name=path,data='Si111_gen2_pad1.xyz',opt='sr',ppopt='ws',ssh='badb',tag='rot111_pad1',i_slice=20,\n",
    "    keV=200,repeat=[1,1,1],NxNy=2**12,slice_thick=1,Nhk=10,hk_pad=50);"
   ]
  },
  {
   "cell_type": "code",
   "execution_count": null,
   "id": "binding-medicine",
   "metadata": {},
   "outputs": [],
   "source": [
    "multi_pad1 = pp.load(path,'rot111_pad1',v=2)#; multi_pad1.print_log()\n",
    "# multi_pad1.get_beams(bOpt='fa');"
   ]
  },
  {
   "cell_type": "code",
   "execution_count": null,
   "id": "understood-stephen",
   "metadata": {},
   "outputs": [],
   "source": [
    "pargs = {'Iopt':'cNs','Nmax':256,'caxis':[0,0.0001],'xylims':1}#,'tol':1e-7,}\n",
    "\n",
    "# multi_pad1.pattern(name='figures/rot111_pattern.png',opt='sp',caxis=[-6,0],**pargs);\n",
    "# multi_pad1.beam_vs_thickness(orig=1,tol=1e-6,opt='sp',name='figures/rot111_beams.svg')\n",
    "for iz in [30,40]:\n",
    "    multi_pad1.save_pattern(iz=iz)\n",
    "    multi_pad1.pattern(iz=iz,name='figures/rot111_pattern%d.png' %iz,opt='sc',**pargs)"
   ]
  },
  {
   "cell_type": "markdown",
   "id": "obvious-cargo",
   "metadata": {},
   "source": [
    "beams | 20 | 40 \n",
    "--- | ---- | ---\n",
    " ![](figures/rot111_beams.svg) | ![](figures/rot111_pattern30.png) | ![](figures/rot111_pattern40.png)"
   ]
  },
  {
   "cell_type": "markdown",
   "id": "empty-collector",
   "metadata": {},
   "source": [
    "### Orienting without padding \n",
    "\n",
    "Just as a simple attempt, we simulate a crystal where the periodic boundary condition is not fullfilled which should affect scattering at large angles. "
   ]
  },
  {
   "cell_type": "code",
   "execution_count": null,
   "id": "worse-approval",
   "metadata": {},
   "outputs": [],
   "source": [
    "xyz_file = path+'Si111_gen2_pad0.xyz'\n",
    "# mut.gen_xyz2('Si',xyz=xyz_file,n=[1,1,1],theta=0,lat_params=[50,50,1000],pad=0,opts='v')\n",
    "mut.show_grid(xyz_file,opts=['xy','xz'],popts='h')#,xylims=[0,250,-5,1010])"
   ]
  },
  {
   "cell_type": "code",
   "execution_count": null,
   "id": "pretty-glucose",
   "metadata": {},
   "outputs": [],
   "source": [
    "mupy.Multislice(name=path,data='Si111_gen2_pad0.xyz',opt='sr',ppopt='ws',ssh='badb',tag='rot111_pad0',i_slice=20,\n",
    "    keV=200,repeat=[1,1,1],NxNy=2**12,slice_thick=2,Nhk=10,hk_pad=50);"
   ]
  },
  {
   "cell_type": "markdown",
   "id": "southwest-olympus",
   "metadata": {},
   "source": [
    "Let's compare the gif patterns with and without padding in this configuration. "
   ]
  },
  {
   "cell_type": "code",
   "execution_count": null,
   "id": "incoming-casino",
   "metadata": {},
   "outputs": [],
   "source": [
    "multi0 = pp.load(path,'rot111_pad0',v=2)#;multi.print_log()\n",
    "multi1 = pp.load(path,'rot111_pad1',v=2)#;multi.print_log()"
   ]
  },
  {
   "cell_type": "code",
   "execution_count": null,
   "id": "expired-sharp",
   "metadata": {},
   "outputs": [],
   "source": [
    "# import importlib as imp;imp.reload(pp);imp.reload(mupy)\n",
    "pargs = {'Iopt':'cns','Nmax':256,'xylims':1.5}#,'pOpt':'im'}\n",
    "\n",
    "iz = 19\n",
    "# multi1.save_pattern(iz=iz)\n",
    "# pargs = {'Iopt':'cns','Nmax':256,'xylims':1,'caxis':[0,0.001]}\n",
    "\n",
    "# fig,(ax0,ax1) = dsp.create_fig(figsize='f',rc=[1,2])\n",
    "# multi0.pattern(iz=iz,name='figures/rot111_pad0_pattern%d.png' %iz,caxis=[0,0.01],opt='p',v=2,**pargs)\n",
    "multi1.pattern(iz=iz,name='figures/rot111_pad1_pattern%d.png' %iz,caxis=[0,0.1],opt='p',v=2,**pargs)"
   ]
  },
  {
   "cell_type": "code",
   "execution_count": null,
   "id": "verbal-problem",
   "metadata": {},
   "outputs": [],
   "source": [
    "# multi.patterns_saved=0\n",
    "multi0.patterns2gif('figures/111_pad0_.gif','caxis':[0,0.01],v=1,**pargs)"
   ]
  },
  {
   "cell_type": "code",
   "execution_count": null,
   "id": "pregnant-committee",
   "metadata": {},
   "outputs": [],
   "source": [
    "multi1.patterns2gif('figures/rot111_pad1pattern.gif','caxis':[0,0.01],v=1,**pargs)"
   ]
  },
  {
   "cell_type": "markdown",
   "id": "frequent-shooting",
   "metadata": {},
   "source": [
    "Animated pattern \n",
    "\n",
    "with pad | no pad\n",
    "---- | -----\n",
    "![](figures/rot111pattern.gif) | ![](figures/111_pad0_.gif) "
   ]
  },
  {
   "cell_type": "code",
   "execution_count": null,
   "id": "textile-sociology",
   "metadata": {},
   "outputs": [],
   "source": []
  }
 ],
 "metadata": {
  "kernelspec": {
   "display_name": "Python 3",
   "language": "python",
   "name": "python3"
  },
  "language_info": {
   "codemirror_mode": {
    "name": "ipython",
    "version": 3
   },
   "file_extension": ".py",
   "mimetype": "text/x-python",
   "name": "python",
   "nbconvert_exporter": "python",
   "pygments_lexer": "ipython3",
   "version": "3.7.0"
  }
 },
 "nbformat": 4,
 "nbformat_minor": 5
}
