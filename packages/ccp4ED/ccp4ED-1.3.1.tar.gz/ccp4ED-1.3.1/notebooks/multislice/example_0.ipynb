{
 "cells": [
  {
   "cell_type": "markdown",
   "id": "convenient-sodium",
   "metadata": {},
   "source": [
    "# Example for running a multislice simulation with TEMSIM\n",
    "This is a comprehensive example on how to use the python wrapper class `Multislice` to run a multislice simulation with the TEMSIM package.\n",
    "- [Basic setup](#Setting-up-a-simulation)\n",
    "    - [Running a simulation](#Running-the-simulation)\n",
    "    - [Monitoring the simulation](#Monitoring-the-simulation)\n",
    "    - [Diffraction pattern](#Diffraction-pattern-and)\n",
    "    - [Beam evolution](#Beam-evolution-as-a-function-of-thickness)\n",
    "    - [Loading a simulation](#Loading-a-simulation)\n",
    "    - [Thickness dependent diffraction patterns](#Thickness-dependent-diffraction-patterns)"
   ]
  },
  {
   "cell_type": "code",
   "execution_count": null,
   "id": "stupid-jonathan",
   "metadata": {},
   "outputs": [],
   "source": [
    "import multislice.multislice as mupy       # the temsim wrapper module\n",
    "from utils import*                         # utilities\n",
    "path = 'data/test/'                        # where the data are held for this example"
   ]
  },
  {
   "cell_type": "markdown",
   "id": "prostate-prayer",
   "metadata": {},
   "source": [
    "## Setting up a simulation \n",
    "For this example,  Electron Diffraction of Silicon in the zone axis [110] orientation is simulated at $200keV$. The program **autoslic** of the TEMSIM package is going to be used which assumes that the sample is not periodic along the beam axis."
   ]
  },
  {
   "cell_type": "markdown",
   "id": "uniform-bible",
   "metadata": {},
   "source": [
    "### Choosing the simulation type\n",
    "- `path` : This is the working directory for the simulation. The basename of the folder is used as a prefix for the name of the simulation. The naming convention for the produced files is : *folder_name*\\_*tag*\\_*program*.\n",
    "- `tag` : An optional string to be used in the naming convention. We will used 'example_0' as the tag.\n",
    "- `mulslice` : We consider that the sample is not periodic along the beam. The program **autoslic** will be used hence setting `mulslice=False`.\n",
    "- `data` : The file containing the crystal information, in particular the atomic coordinates oriented in such a way that the beam is along the $z$ direction. \n"
   ]
  },
  {
   "cell_type": "code",
   "execution_count": null,
   "id": "agreed-pledge",
   "metadata": {},
   "outputs": [],
   "source": [
    "args = {'name':path,'mulslice':False,'data':'Si110.xyz','tag':'example_0'}"
   ]
  },
  {
   "cell_type": "markdown",
   "id": "favorite-reducing",
   "metadata": {},
   "source": [
    "### Specifying the parameters  \n",
    "- `keV` : The simulation is performed at $200keV$\n",
    "- `repeat` : The super cell setup in x,y and z. Here the crystal is a 2x2 in the transverse plane and 10 unit cells thick.\n",
    "- `NxNy` : The real space sampling for the electrostatic potential. This also happens to be the reciprocal space sampling (or number of beams) as the multislice algorithm uses the discrete Fourier transform (DFT). \n",
    "- `slice_thick` : the thickness of the slices.\n",
    "- `Nhk` : The beams index which are going to be recorded as the incident beam propagates along the sample. `Nhk=3` means that the beams $h,k=(0,0),(1,0),(0,1),(1,1)...$ up to $h,k=(3,3)$ are going to be recorded. Note that using this convention, since the super cell is $2\\times 2$ the actual beam recorded for index $h,k=(1,1)$ is $q_x,q_y=(2,2)$.\n",
    "- `i_slice` : the diffraction patterns will be save ever **i_slice** slices. "
   ]
  },
  {
   "cell_type": "code",
   "execution_count": null,
   "id": "thousand-admission",
   "metadata": {},
   "outputs": [],
   "source": [
    "args.update({'keV':200,'repeat':[2,2,100],'NxNy':512,'slice_thick':1.91,'Nhk':6,'i_slice':20})"
   ]
  },
  {
   "cell_type": "markdown",
   "id": "afraid-paper",
   "metadata": {},
   "source": [
    "### Running the simulation \n",
    "The simulation can be run by creating an instance of the `Multislice` wrapper class. \n",
    "\n",
    "The argument `opt='srf'` is used to : \n",
    "- 's' : save the instanciated Multislice object into a .pkl  \n",
    "- 'r' : create a .sh job, a .in input file fed to TEMSIM  and run the job \n",
    "- 'f' : force the simulation to be run again even though it has already been done in the past. \n",
    "\n",
    "The argument `ssh` provides the name of the machine where the job is to be run. Here we specify `badb` which is registered as a cluster and will therefore run the job through the sun grid engine."
   ]
  },
  {
   "cell_type": "code",
   "execution_count": null,
   "id": "strong-mattress",
   "metadata": {},
   "outputs": [],
   "source": [
    "multi=mupy.Multislice(opt='sr',ssh='badb',**args)"
   ]
  },
  {
   "cell_type": "markdown",
   "id": "talented-complex",
   "metadata": {},
   "source": [
    "You can see the content of the generated files by calling : \n",
    "- `print_datafiles` : for the .xyz file\n",
    "- `print_decks` : the input file fed to temsim \n",
    "- `print_job` : the job that was submitted \n"
   ]
  },
  {
   "cell_type": "code",
   "execution_count": null,
   "id": "advance-antarctica",
   "metadata": {},
   "outputs": [],
   "source": [
    "multi.print_datafiles()\n",
    "multi.print_decks()\n",
    "multi.print_job()"
   ]
  },
  {
   "cell_type": "markdown",
   "id": "separate-pressure",
   "metadata": {},
   "source": [
    "### Monitoring the simulation \n",
    "if you want to check the status of the simulation, `wait_simu()` can be called."
   ]
  },
  {
   "cell_type": "code",
   "execution_count": null,
   "id": "theoretical-conservative",
   "metadata": {},
   "outputs": [],
   "source": [
    "multi.wait_simu()"
   ]
  },
  {
   "cell_type": "markdown",
   "id": "intermediate-breast",
   "metadata": {},
   "source": [
    "TEMISIM will generate a **.log** file with progress on the simulation. The content of this output can be viewed by calling `print_log()`. For each slice, the number of coordinates can be seen as well as the integrated intensity. Since the value is close to 1, this means that the sampling is good enough. "
   ]
  },
  {
   "cell_type": "code",
   "execution_count": null,
   "id": "loaded-scroll",
   "metadata": {},
   "outputs": [],
   "source": [
    "multi.print_log() "
   ]
  },
  {
   "cell_type": "markdown",
   "id": "residential-challenge",
   "metadata": {},
   "source": [
    "### Diffraction pattern\n",
    "The diffraction pattern can be seen by calling `pattern`. "
   ]
  },
  {
   "cell_type": "code",
   "execution_count": null,
   "id": "accepted-heather",
   "metadata": {},
   "outputs": [],
   "source": [
    "multi.pattern(Iopt='',caxis=[0,30000])"
   ]
  },
  {
   "cell_type": "markdown",
   "id": "mature-cedar",
   "metadata": {},
   "source": [
    "The argument `Iopt` gives some additional options for better rendering : \n",
    "- n(normalize): normalize the intensity so that the intensity of the brightest peak is 1.  \n",
    "- s(fftshift) : use fftshift to display \n",
    "- c(crop)     : crop up to `Nmax` pixel. If `tol` is set, then crop up to $I<tol$.\n",
    "- l(log)      : display colormap in logscale"
   ]
  },
  {
   "cell_type": "code",
   "execution_count": null,
   "id": "banner-wright",
   "metadata": {},
   "outputs": [],
   "source": [
    "fig,((ax1,ax2),(ax3,ax4)) = dsp.create_fig(rc='22')\n",
    "cmap,fonts = 'binary',{'lab':12,'title':12,'tick':10}\n",
    "multi.pattern(Iopt=''             ,caxis=[0,30000],pOpt='t',cmap=cmap,fonts=fonts,title='raw',ax=ax1,fig=fig)\n",
    "multi.pattern(Iopt='sn'           ,caxis=[0,0.01] ,pOpt='t',cmap=cmap,fonts=fonts,title='normalize,shift',ax=ax2,fig=fig)\n",
    "multi.pattern(Iopt='snc',Nmax=50  ,caxis=[0,0.01] ,pOpt='t',cmap=cmap,fonts=fonts,title='crop to Nmax=100',ax=ax3,fig=fig)\n",
    "multi.pattern(Iopt='cnsl',tol=1e-4,caxis=[-5,0]   ,pOpt='t',cmap=cmap,fonts=fonts,title='logscale and crop to tol',ax=ax4,fig=fig)"
   ]
  },
  {
   "cell_type": "markdown",
   "id": "possible-designer",
   "metadata": {},
   "source": [
    "### Beam evolution as a function of thickness \n",
    "The evolution of the main important beam as a function of propagation into the sample is display by calling `beam_vs_thickness`. \n",
    "To include the central beam, `orig` must be set. \n",
    "\n",
    "The generic option 's' can be used to save the figure in the `name`. \n"
   ]
  },
  {
   "cell_type": "code",
   "execution_count": null,
   "id": "average-hygiene",
   "metadata": {},
   "outputs": [],
   "source": [
    "multi.beam_vs_thickness(orig=True,opt='ps',name='figures/example0_beams.svg',fonts={'tick':20})"
   ]
  },
  {
   "cell_type": "markdown",
   "id": "documentary-comparison",
   "metadata": {},
   "source": [
    "## Loading a simulation \n",
    "A Multislice object previously saved can be loaded with the `load` function from the `postprocess` library. Just indicate the path of the simulation and the `tag` of the simulation if one was specified. Here, we used it to simply check what version of the Multislice class was used to produce the object."
   ]
  },
  {
   "cell_type": "code",
   "execution_count": null,
   "id": "streaming-milan",
   "metadata": {},
   "outputs": [],
   "source": [
    "import multislice.postprocess as pp        # postprocessing library\n",
    "multi = pp.load(path,'example_0',v=2)      # verbose option calls log_info()\n",
    "print('Multislice version:',multi.version)"
   ]
  },
  {
   "cell_type": "markdown",
   "id": "infinite-auditor",
   "metadata": {},
   "source": [
    "## Thickness dependent diffraction patterns\n",
    "\n",
    "The individual diffraction patterns are displayed by specfiyng the thickness id `iz`.\n",
    "Here we also use the generic option `opt=sc` to save and close the figure. The figures are saved in `name`."
   ]
  },
  {
   "cell_type": "code",
   "execution_count": null,
   "id": "nasty-satin",
   "metadata": {},
   "outputs": [],
   "source": [
    "pargs={'Iopt':'sN','pOpt':'Xt','caxis':[0,0.2],'xylims':1,'cmap':'viridis'}\n",
    "for iz in [27,65]:\n",
    "    multi.pattern(iz=iz,name='figures/example0_pattern%s.png' %str(iz).zfill(4),opt='sc',fonts={'title':35},**pargs)"
   ]
  },
  {
   "cell_type": "markdown",
   "id": "stretch-wayne",
   "metadata": {},
   "source": [
    "beams | p1  | p2  | \n",
    "----- | --- | --- | \n",
    "![](figures/example0_beams.svg) | ![](figures/example0_pattern0027.png) | ![](figures/example0_pattern0065.png)"
   ]
  },
  {
   "cell_type": "markdown",
   "id": "progressive-summit",
   "metadata": {},
   "source": [
    "Note how at $106$ the intensities of the main reflections have significantly increased at the expense of the central beam while at $252A$ most of the overall brightness has been scattered back into the central beam. This is an obvious manifestation of dynamical diffraction. \n",
    "\n",
    "It is also possible to save the thickness dependent patterns in a **.gif** with `patterns2gif`.\n"
   ]
  },
  {
   "cell_type": "code",
   "execution_count": null,
   "id": "martial-jewel",
   "metadata": {},
   "outputs": [],
   "source": [
    "multi.patterns2gif('figures/example0_patterns.gif',v=1,**pargs)"
   ]
  },
  {
   "cell_type": "markdown",
   "id": "worst-challenge",
   "metadata": {},
   "source": [
    "beams | gif pattern\n",
    "----- | -----------\n",
    "![](figures/example0_beams.svg) | ![](figures/example0_patterns.gif)\n"
   ]
  },
  {
   "cell_type": "markdown",
   "id": "infectious-carter",
   "metadata": {},
   "source": [
    "## Resuming a simulation \n",
    "It is possible to resume a simulaton from a previously run state.\n"
   ]
  },
  {
   "cell_type": "code",
   "execution_count": null,
   "id": "capital-ticket",
   "metadata": {},
   "outputs": [],
   "source": [
    "#multi.resume(Nz=100)"
   ]
  },
  {
   "cell_type": "code",
   "execution_count": null,
   "id": "medical-helicopter",
   "metadata": {},
   "outputs": [],
   "source": []
  }
 ],
 "metadata": {
  "kernelspec": {
   "display_name": "Python 3",
   "language": "python",
   "name": "python3"
  },
  "language_info": {
   "codemirror_mode": {
    "name": "ipython",
    "version": 3
   },
   "file_extension": ".py",
   "mimetype": "text/x-python",
   "name": "python",
   "nbconvert_exporter": "python",
   "pygments_lexer": "ipython3",
   "version": "3.7.0"
  }
 },
 "nbformat": 4,
 "nbformat_minor": 5
}
