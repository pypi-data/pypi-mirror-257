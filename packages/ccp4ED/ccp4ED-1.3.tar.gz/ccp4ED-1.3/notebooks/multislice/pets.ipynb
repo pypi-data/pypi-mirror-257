{
 "cells": [
  {
   "cell_type": "markdown",
   "id": "polar-inside",
   "metadata": {},
   "source": [
    "## Pets interface\n",
    "\n",
    "- [Experimental patterns](#Experimental-patterns)\n",
    "- [Theory](#Theory)\n",
    "- [Diffraction patterns to reciprocal space](#Diffraction-patterns-to-reciprocal-space)\n",
    "- [Indexing](#Indexing)\n",
    "- [Clustering and integrating](#Clustering-and-integrating)\n",
    "\n",
    "From the outputs produced by pets, the `pets` module can be used as a python interface.\n",
    "\n",
    "The full path of the PETS2 configuration file (**.pts** file) must be specified. The containing folder should also contain the other outputs from pets."
   ]
  },
  {
   "cell_type": "code",
   "execution_count": null,
   "id": "pressing-barbados",
   "metadata": {},
   "outputs": [],
   "source": [
    "from utils import*\n",
    "from multislice import pets as pets\n",
    "%matplotlib notebook\n",
    "pets = pets.Pets('data/glycine/pets/glycine.pts',gen=0)"
   ]
  },
  {
   "cell_type": "markdown",
   "id": "intimate-reminder",
   "metadata": {},
   "source": [
    "## Experimental patterns\n",
    "The experimental frames if available can immediately be visualized with `show_exp` (the interactivity of the figure does not work well with jupyter as it clashes with the browser shortcuts)."
   ]
  },
  {
   "cell_type": "code",
   "execution_count": null,
   "id": "hired-frequency",
   "metadata": {},
   "outputs": [],
   "source": [
    "pets.show_exp(frame=19,v=0);"
   ]
  },
  {
   "cell_type": "markdown",
   "id": "preceding-timeline",
   "metadata": {},
   "source": [
    "\n",
    "## Theory\n",
    "\n",
    "Following [dials convention](https://dials.github.io/documentation/conventions.html), the following relationship holds in cartesian reciprocal space : \n",
    "\n",
    "$$\\mathbf r_{\\phi} = \\mathbf R\\mathbf A\\mathbf h$$\n",
    "\n",
    "where $\\mathbf R$ is the rotation matrix, $\\mathbf A=\\mathbf U\\mathbf B$ the crystal orientation matrix for a rotation of $0^{\\circ}$ and \n",
    "$\\mathbf h=h\\mathbf a^{*}+k\\mathbf b^{*}+l\\mathbf c^{*}$."
   ]
  },
  {
   "cell_type": "markdown",
   "id": "restricted-chest",
   "metadata": {},
   "source": [
    "## Diffraction patterns to reciprocal space\n",
    "\n",
    "The reflections from diffraction patterns are converted from each 2D plane into cartesian reciprocal space from : \n",
    "\n",
    "$$\\mathbf r_{\\phi}=\\mathbf D \\left(\\mathbf p_{xy} - \\mathbf c_{xy}\\right)a_{px}$$\n",
    "\n",
    "where $\\mathbf D$ is the lab coordinate matrix, $\\mathbf p_{xy}$ are the pixel positions of the reflections,  $\\mathbf c_{xy}$ is the pixel position of the central beam, and $a_{px}=p_x/\\lambda D$ the reciprocal aperture per pixel.\n",
    "\n",
    "The file **.rpl** contains the positions in cartesian reciprocal space $x,y,z$ and the pixel positions $p_x$, $-p_y$ of the found peaks for each frame while **.cenloc** contains the beam centre pixel positions $c_x$, $-c_y$."
   ]
  },
  {
   "cell_type": "code",
   "execution_count": null,
   "id": "aging-heart",
   "metadata": {},
   "outputs": [],
   "source": [
    "rpl0 = pets.rpl.loc[pets.rpl.F==19];rpl0"
   ]
  },
  {
   "cell_type": "code",
   "execution_count": null,
   "id": "great-builder",
   "metadata": {},
   "outputs": [],
   "source": [
    "frame=19\n",
    "fig,((ax1,ax2),(ax3,ax4)) = plt.subplots(nrows=2,ncols=2)\n",
    "pets.compare_xyz_pxpy(frame=frame,opts='  ',view='x',ax=ax1,setPos=0)\n",
    "pets.compare_xyz_pxpy(frame=frame,opts='  ',view='z',ax=ax2,setPos=0)\n",
    "pets.compare_xyz_pxpy(frame=frame,opts='oa',view='x',ax=ax3,setPos=0)\n",
    "pets.compare_xyz_pxpy(frame=frame,opts='oa',view='z',ax=ax4,setPos=0)"
   ]
  },
  {
   "cell_type": "markdown",
   "id": "given-lesbian",
   "metadata": {},
   "source": [
    "In blue the $x,y,z,I$ values of the spots in the $(y,z)$ and $(x,z)$ planes. \n",
    "In red the $px,py$ pixel positions with(top) and without(down) using the D matrix."
   ]
  },
  {
   "cell_type": "markdown",
   "id": "cognitive-volunteer",
   "metadata": {},
   "source": [
    "## Indexing \n",
    "\n",
    "The miller indices are obtained from the indexing matrix $\\mathbf A^{-1}$ :\n",
    "\n",
    "$$\\mathbf h = \\mathbf A^{-1}\\mathbf r_{lp}$$\n",
    "\n",
    "In pets, the orientation matrix is found after indexing and written into **.cif_pets** file. Its inverse can be used for indexing reflections.\n",
    "\n",
    "<!-- jupyter | pets -->\n",
    "<!-- ------- | ----- -->\n",
    "<!-- ![](figures/glycine_orient.png) | ![](figures/glycine_pets_orient.png) -->\n"
   ]
  },
  {
   "cell_type": "code",
   "execution_count": null,
   "id": "nonprofit-socket",
   "metadata": {},
   "outputs": [],
   "source": [
    "print(pets.A)"
   ]
  },
  {
   "cell_type": "code",
   "execution_count": null,
   "id": "sitting-principle",
   "metadata": {},
   "outputs": [],
   "source": [
    "pets.show_frame(frame=19)"
   ]
  },
  {
   "cell_type": "markdown",
   "id": "adapted-advertising",
   "metadata": {},
   "source": [
    "The crystal orientation can also be retrieved from the uvw beam axis in **.cif_pets**. [x](figures/x.mp4), [y](figures/y.mp4) , [z](figures/z.mp4) shows video of the unit cell rotated during the experiment."
   ]
  },
  {
   "cell_type": "code",
   "execution_count": null,
   "id": "hindu-respect",
   "metadata": {},
   "outputs": [],
   "source": [
    "pets.get_beam_dir(frame=19)"
   ]
  },
  {
   "cell_type": "markdown",
   "id": "suitable-portuguese",
   "metadata": {},
   "source": [
    "## Clustering and integrating\n",
    "Once the spots have been found, clustered into identified reflections, pets writes all the reflections into a **.xyz** file. \n",
    "After indexing has been completed the reflections are put in a **.hkl** file.\n",
    "Once integration is completed, those integrated reflections are put into **.cif_pets** file which will be used for structure solution and refinement."
   ]
  },
  {
   "cell_type": "code",
   "execution_count": null,
   "id": "twelve-noise",
   "metadata": {},
   "outputs": [],
   "source": [
    "pets.show_xyz(view=[0,0],opt='sc',name='figures/pets_glycine_xyz.png')\n",
    "pets.show_hkl(view=[0,0],opt='sc',name='figures/pets_glycine_hkl.png')"
   ]
  },
  {
   "cell_type": "markdown",
   "id": "black-mention",
   "metadata": {},
   "source": [
    "xyz | hkl\n",
    "---- | -----\n",
    "![](figures/pets_glycine_xyz.png) | ![](figures/pets_glycine_hkl.png)"
   ]
  },
  {
   "cell_type": "code",
   "execution_count": null,
   "id": "broken-perspective",
   "metadata": {},
   "outputs": [],
   "source": []
  }
 ],
 "metadata": {
  "kernelspec": {
   "display_name": "Python 3",
   "language": "python",
   "name": "python3"
  },
  "language_info": {
   "codemirror_mode": {
    "name": "ipython",
    "version": 3
   },
   "file_extension": ".py",
   "mimetype": "text/x-python",
   "name": "python",
   "nbconvert_exporter": "python",
   "pygments_lexer": "ipython3",
   "version": "3.7.0"
  }
 },
 "nbformat": 4,
 "nbformat_minor": 5
}
