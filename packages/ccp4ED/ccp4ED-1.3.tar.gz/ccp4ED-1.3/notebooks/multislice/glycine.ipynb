{
 "cells": [
  {
   "cell_type": "markdown",
   "id": "imported-cosmetic",
   "metadata": {},
   "source": [
    "# Glycine \n",
    "- [basic test](#Basic-test) \n",
    "    - [diffraction pattern](#Diffraction-pattern-for-Glycine-frame-19)\n",
    "    - [padding study](#Padding-study)\n",
    "- [Comparison with experiment](#Comparing-with-experimental-data)\n",
    "    - [diffraction patterns vs exp](#Glycine-exp-vs-simulated-patterns)"
   ]
  },
  {
   "cell_type": "code",
   "execution_count": null,
   "id": "stuffed-calculation",
   "metadata": {},
   "outputs": [],
   "source": [
    "import importlib as imp\n",
    "import multislice.multislice as mupy;imp.reload(mupy)       # the temsim wrapper module\n",
    "import multislice.postprocess as pp ;imp.reload(pp)         # postprocess module\n",
    "import multislice.mupy_utils as mut ;imp.reload(mut)        # multislice utilities\n",
    "from utils import*                         # utilities\n",
    "from ipywidgets import interact, interactive, fixed, interact_manual\n",
    "# %matplotlib notebook\n",
    "path = 'data/glycine/'\n",
    "cif_file = path+'alpha_glycine.cif'"
   ]
  },
  {
   "cell_type": "markdown",
   "id": "tribal-scientist",
   "metadata": {},
   "source": [
    "## Basic test\n",
    "### Example frame 19\n",
    "The test is performed from the orientation of the experimental diffraction pattern 19. "
   ]
  },
  {
   "cell_type": "code",
   "execution_count": null,
   "id": "complex-pearl",
   "metadata": {},
   "outputs": [],
   "source": [
    "xyz = 'alpha_glycine_test.xyz'\n",
    "n = array([0.86956126,-11.24280557,-0.34604196])\n",
    "mut.gen_xyz2(cif_file,n=n,theta=0,lat_params=[100,200,100],pad=0.5,xyz=path+xyz)\n",
    "mut.show_grid(path+xyz,opts=['xy','xz'],popts='h')"
   ]
  },
  {
   "cell_type": "code",
   "execution_count": null,
   "id": "regulation-schema",
   "metadata": {},
   "outputs": [],
   "source": [
    "crys  = mut.import_crys(file)\n",
    "crys.lattice_parameters"
   ]
  },
  {
   "cell_type": "code",
   "execution_count": null,
   "id": "invisible-vector",
   "metadata": {},
   "outputs": [],
   "source": [
    "args = {'name':path,'mulslice':False,'data':xyz,'keV':200,'i_slice':10,\n",
    "             'repeat':[1,1,1],'NxNy':4096,'slice_thick':1.0,'Nhk':1}\n",
    "multi = mupy.Multislice(tag='test', opt='srfp',ppopt='s',ssh='badb',**args)"
   ]
  },
  {
   "cell_type": "code",
   "execution_count": null,
   "id": "decent-strand",
   "metadata": {},
   "outputs": [],
   "source": [
    "multi = pp.load(path,tag='0',v=1)#;multi.print_log()"
   ]
  },
  {
   "cell_type": "code",
   "execution_count": null,
   "id": "dying-sense",
   "metadata": {},
   "outputs": [],
   "source": [
    "pargs = {'Iopt':'csng','Imax':5e4,'gs':0.015,'rmax':25,'Nmax':512,'xylims':1.5,'cmap':'viridis'}\n",
    "multi.pattern(iz=4,v=1,caxis=[0,1e-3],name='figures/glycine19.png',opt='ps',**pargs);\n",
    "# multi.patterns2gif(**pargs,caxis=[0,1e-5])"
   ]
  },
  {
   "cell_type": "code",
   "execution_count": null,
   "id": "english-leisure",
   "metadata": {},
   "outputs": [],
   "source": [
    "# %matplotlib notebook\n",
    "iz=20\n",
    "# multi.save_pattern(iz)\n",
    "pargs = {'Iopt':'csng','gs':0.015,'rmax':25,'Nmax':512,'rings':[1],'xylims':1.2,'cmap':'viridis'}\n",
    "qx,qy,im0 = multi.pattern(iz=iz,out=1,lw=3,**pargs);\n",
    "t = np.linspace(0,2*np.pi,100)\n",
    "ct,st = np.cos(t),np.sin(t)\n",
    "plts = [[r*ct,r*st,'g--','',1] for r in np.arange(0.25,1.5,0.25)]\n",
    "plts+= [[r*ct,r*st,'g-','',2] for r in range(1,2)]\n",
    "fig,ax = dsp.create_fig()\n",
    "def faxis(x):\n",
    "    print('vmax=',float(x))\n",
    "    ax.cla();dsp.stddisp(plts,ax=ax,fig=fig,im=[qx,qy,im0],title='glycine',pOpt='im',caxis=[0,float(x)])\n",
    "    print('ok')\n",
    "interact(faxis, x=\"0.001\");"
   ]
  },
  {
   "cell_type": "markdown",
   "id": "purple-orchestra",
   "metadata": {},
   "source": [
    "### Diffraction pattern for Glycine frame 19 \n",
    "\n",
    "exp | multislice\n",
    "--- | ---------\n",
    "[![](figures/pattern_19.png)](figures/pattern_19.png) | [![](figures/glycine19.png)](figures/glycine19.png))\n",
    "\n",
    "<!-- Thickness dependent diffraction pattern gif   -->\n",
    "\n",
    "<!-- gif | pattern -->\n",
    "<!-- --- | ------ -->\n",
    "<!-- ![](data/glycine/figures/glycine_0_autoslic_pattern.gif) | ![](figures/glycine19.png) -->"
   ]
  },
  {
   "cell_type": "markdown",
   "id": "solid-sailing",
   "metadata": {},
   "source": [
    "### Padding study\n"
   ]
  },
  {
   "cell_type": "code",
   "execution_count": null,
   "id": "proud-devon",
   "metadata": {},
   "outputs": [],
   "source": [
    "pads,lats = np.meshgrid([0.5,1,2],[50,100,200])\n",
    "pads,lats = pads.flatten(),lats.flatten()\n",
    "for pad,lat in zip(pads,lats):\n",
    "    "
   ]
  },
  {
   "cell_type": "markdown",
   "id": "approved-double",
   "metadata": {},
   "source": [
    "## Comparing with experimental data\n",
    "### Example on multiple frames\n",
    "A $20\\times20$ crystal is considered although due to orienting the crystal it is not possible to garantee the exact number. "
   ]
  },
  {
   "cell_type": "code",
   "execution_count": null,
   "id": "handed-blast",
   "metadata": {},
   "outputs": [],
   "source": [
    "frames = np.arange(1,65) #[5,10,15,25,30]\n",
    "df = pd.DataFrame(frames,columns=['frame'])\n",
    "uvw = np.load(path+'uvw.npy')\n",
    "\n",
    "df['uvw']=[u for u in uvw]\n",
    "for f,n in zip(frames,uvw):\n",
    "    xyz = 'alpha_glycine_test%d.xyz' %f\n",
    "    mut.gen_xyz2(cif_file,n=n,theta=0,lat_params=[100,100,100],pad=0.5,xyz=path+xyz)\n",
    "#     mut.show_cell(cif_file,n=n,bopt=1,x0=None,rep=[1,1,1])\n",
    "    # mut.show_grid(path+xyz,opts=['xy','xz'],popts='h')"
   ]
  },
  {
   "cell_type": "code",
   "execution_count": null,
   "id": "contrary-tooth",
   "metadata": {},
   "outputs": [],
   "source": [
    "args = {'name':path,'mulslice':False,'keV':200,'i_slice':10,\n",
    "             'repeat':[1,1,1],'NxNy':4096,'slice_thick':1.0,'Nhk':1}\n",
    "frames=np.arange(1,10)#[5,10,15,25,30])\n",
    "for f in zip(frames):\n",
    "    xyz = 'alpha_glycine_test%d.xyz' %f\n",
    "    mupy.Multislice(tag='test%d' %f,data=xyz, opt='srfp',ppopt='s',ssh='badb',**args);"
   ]
  },
  {
   "cell_type": "code",
   "execution_count": null,
   "id": "manufactured-colleague",
   "metadata": {},
   "outputs": [],
   "source": [
    "frames=np.arange(1,65)#[5,10,15,25,30])\n",
    "m = np.zeros(frames.shape,dtype=object)\n",
    "pargs = {'Iopt':'csngt','Imax':5e4,'gs':0.015,'rmax':25,'Nmax':512,'xylims':1.5,'cmap':'viridis'}\n",
    "for i,f in enumerate(frames):\n",
    "    m[i] = pp.load(path,'test%d' %f,v=1)\n",
    "#     m[i].pattern(opt='c',caxis=[0,1e-3],name='figures/glycine_test%d.png' %f,**pargs)"
   ]
  },
  {
   "cell_type": "markdown",
   "id": "visible-syndrome",
   "metadata": {},
   "source": [
    "### Glycine exp vs simulated patterns \n",
    "\n",
    "05 | 10 | 15 | 25 | 30\n",
    "-- | -- | -- | -- | --\n",
    "![](figures/glycine_test5.png) | ![](figures/glycine_test10.png) | ![](figures/glycine_test15.png) | ![](figures/glycine_test25.png) | ![](figures/glycine_test30.png)\n",
    "![](figures/glycine_exp5.png) | ![](figures/glycine_exp10.png) | ![](figures/glycine_exp15.png) | ![](figures/glycine_exp25.png) | ![](figures/glycine_exp30.png)\n"
   ]
  }
 ],
 "metadata": {
  "kernelspec": {
   "display_name": "Python 3",
   "language": "python",
   "name": "python3"
  },
  "language_info": {
   "codemirror_mode": {
    "name": "ipython",
    "version": 3
   },
   "file_extension": ".py",
   "mimetype": "text/x-python",
   "name": "python",
   "nbconvert_exporter": "python",
   "pygments_lexer": "ipython3",
   "version": "3.7.0"
  }
 },
 "nbformat": 4,
 "nbformat_minor": 5
}
