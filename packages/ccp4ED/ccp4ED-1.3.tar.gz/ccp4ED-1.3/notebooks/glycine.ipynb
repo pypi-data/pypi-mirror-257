{
 "cells": [
  {
   "cell_type": "markdown",
   "metadata": {},
   "source": [
    "# Bloch wave Tool\n",
    "### Single Simulation \n",
    "- [setup](#Setup-a-bloch-simulation)\n",
    "- [diffraction pattern](#Getting-a-diffraction-pattern)\n",
    "- [Thickness dependence](#Thickness-dependent-beam)\n",
    "\n",
    "### Rocking Curve \n",
    "- [setup](#Rocking-curve-setup)\n",
    "- [plot the rocking curve](#Plotting-Rocking-curve)"
   ]
  },
  {
   "cell_type": "code",
   "execution_count": null,
   "metadata": {},
   "outputs": [],
   "source": [
    "from utils import*                       ;imp.reload(dsp)\n",
    "from EDutils import utilities as ut      ;imp.reload(ut)\n",
    "from blochwave import bloch              ;imp.reload(bloch)\n",
    "from blochwave import bloch_pp as bl_rock;imp.reload(bl_rock)"
   ]
  },
  {
   "cell_type": "markdown",
   "metadata": {},
   "source": [
    "# Single simulation\n",
    "### Setup a bloch simulation"
   ]
  },
  {
   "cell_type": "code",
   "execution_count": null,
   "metadata": {},
   "outputs": [],
   "source": [
    "b0 = bloch.Bloch('dat/alpha_glycine.cif',path='dat',keV=200,u=[0,3,1],Nmax=8,Smax=0.02,\n",
    "    thick=100,solve=1)"
   ]
  },
  {
   "cell_type": "code",
   "execution_count": null,
   "metadata": {},
   "outputs": [],
   "source": [
    "b0.df_G"
   ]
  },
  {
   "cell_type": "markdown",
   "metadata": {},
   "source": [
    "### Getting a diffraction pattern\n"
   ]
  },
  {
   "cell_type": "code",
   "execution_count": null,
   "metadata": {},
   "outputs": [],
   "source": [
    "b0.convert2tiff(thick=200,Imax=1e5,cutoff=20,show=True)"
   ]
  },
  {
   "cell_type": "markdown",
   "metadata": {},
   "source": [
    "### Thickness dependent beam "
   ]
  },
  {
   "cell_type": "code",
   "execution_count": null,
   "metadata": {},
   "outputs": [],
   "source": [
    "refl = b0.get_beam(cond=lambda dfG:bl_rock.strong_beams(dfG,tol=0.01,n=5),index=False)\n",
    "print(refl)"
   ]
  },
  {
   "cell_type": "code",
   "execution_count": null,
   "metadata": {},
   "outputs": [],
   "source": [
    "b0.show_beams_vs_thickness(thicks=(0,1000,1000),refl=refl,cm='Spectral')"
   ]
  },
  {
   "cell_type": "markdown",
   "metadata": {},
   "source": [
    "## Rocking curve\n",
    "### Rocking curve setup"
   ]
  },
  {
   "cell_type": "code",
   "execution_count": null,
   "metadata": {},
   "outputs": [],
   "source": [
    "    bloch_args = {'cif_file':'dat/alpha_glycine.cif','Smax':0.015,'Nmax':8,\n",
    "        'solve':1,'thick':300,'keV':200}\n",
    "    uvw = ut.get_uvw_rock(e0=[0,3,1],e1=[2,1],deg=0.5,npts=10,show=0)\n",
    "    rock = bl_rock.Bloch_cont(path='dat',tag='',uvw=uvw,Sargs=bloch_args)"
   ]
  },
  {
   "cell_type": "markdown",
   "metadata": {},
   "source": [
    "### Plotting Rocking curve"
   ]
  },
  {
   "cell_type": "code",
   "execution_count": null,
   "metadata": {},
   "outputs": [],
   "source": [
    "    rock = ut.load_pkl(file='dat/rock_.pkl')\n",
    "    rock.set_beams_vs_thickness((10,200,3),v=0)\n",
    "    rock.plot_rocking(refl=refl)#cond=lambda dfG:bl_rock.strong_beams(dfG,tol=0.01,n=5),n=5)\n"
   ]
  },
  {
   "cell_type": "code",
   "execution_count": null,
   "metadata": {},
   "outputs": [],
   "source": []
  }
 ],
 "metadata": {
  "kernelspec": {
   "display_name": "Python 3",
   "language": "python",
   "name": "python3"
  },
  "language_info": {
   "codemirror_mode": {
    "name": "ipython",
    "version": 3
   },
   "file_extension": ".py",
   "mimetype": "text/x-python",
   "name": "python",
   "nbconvert_exporter": "python",
   "pygments_lexer": "ipython3",
   "version": "3.8.10"
  }
 },
 "nbformat": 4,
 "nbformat_minor": 4
}
