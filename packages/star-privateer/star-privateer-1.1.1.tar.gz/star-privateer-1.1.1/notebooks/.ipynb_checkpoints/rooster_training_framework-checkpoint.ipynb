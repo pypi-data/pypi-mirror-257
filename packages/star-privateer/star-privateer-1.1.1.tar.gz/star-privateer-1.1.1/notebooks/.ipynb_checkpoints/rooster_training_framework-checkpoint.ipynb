{
 "cells": [
  {
   "cell_type": "markdown",
   "id": "146fffdd-4386-424a-a75a-b1e8154c9d52",
   "metadata": {},
   "source": [
    "# ROOSTER training framework (MSAP4-03)\n",
    "\n",
    "This notebook provide an example of the analysis of a set of stars with catalog-existing reference $P_\\mathrm{rot}$, and use the set to train an instance of ROOSTER.\n",
    "\n",
    "First we need to import the demonstrator module and the auxiliary module containing the dataset we are going to work with.\n",
    "\n",
    "**Note:** This notebook has been designed for the purpose of scientific justification of PLATO MSAP4-03. The notebook illustrated the precise flowchart envisaged for PLATO MSAP4-03 is cs_rooster_sph_analysis.ipynb"
   ]
  },
  {
   "cell_type": "code",
   "execution_count": 1,
   "id": "7e72243d-c0ce-400b-a350-ff3ccfe6af17",
   "metadata": {},
   "outputs": [],
   "source": [
    "import star_privateer as sp\n",
    "import plato_msap4_demonstrator_datasets.kepler_dataset as kepler_dataset"
   ]
  },
  {
   "cell_type": "code",
   "execution_count": 2,
   "id": "1dacb9ac-3893-491d-a2f4-ae1d32705e3a",
   "metadata": {},
   "outputs": [
    {
     "data": {
      "text/plain": [
       "'1.1.1'"
      ]
     },
     "execution_count": 2,
     "metadata": {},
     "output_type": "execute_result"
    }
   ],
   "source": [
    "sp.__version__"
   ]
  },
  {
   "cell_type": "markdown",
   "id": "ec9a9be4-3be0-4d02-be65-98a82625695b",
   "metadata": {},
   "source": [
    "We also need to import some other modules to run the notebook and to check that the outputs directory that we need exist. In addition to `star_privateer` requirements, you should make sure that the [`pathos` module](https://pathos.readthedocs.io/en/latest/index.html) is installed in order to run the analysis in parallel."
   ]
  },
  {
   "cell_type": "code",
   "execution_count": 3,
   "id": "969fa102-658a-49c1-8cd6-2d389742bc31",
   "metadata": {},
   "outputs": [],
   "source": [
    "import os, pathos\n",
    "import numpy as np\n",
    "import matplotlib.pyplot as plt\n",
    "from tqdm import tqdm\n",
    "\n",
    "if not os.path.exists ('rooster_training_features') :\n",
    "    os.mkdir ('rooster_training_features')\n",
    "if not os.path.exists ('rooster_instances') :\n",
    "    os.mkdir ('rooster_instances')"
   ]
  },
  {
   "cell_type": "markdown",
   "id": "c5288fed-7f82-448c-863e-1f2b281ab710",
   "metadata": {},
   "source": [
    "## Running the analysis pipeline"
   ]
  },
  {
   "cell_type": "markdown",
   "id": "e20a162f-e627-49f2-92c7-6c08a4186038",
   "metadata": {},
   "source": [
    "We are going to work with a sample of 1991 *Kepler* stars analysed by Santos et al. (2019, 2021). The light curves have been calibrated with the KEPSEISMIC method (see García et al. 2011, 2014), and all of them have been filtered with a 55-day high-pass filter. We can get the identifiers of the stars in the dataset with the following instruction:"
   ]
  },
  {
   "cell_type": "code",
   "execution_count": 4,
   "id": "408ec360-5d74-4dde-bb5f-eed4d97f275f",
   "metadata": {},
   "outputs": [],
   "source": [
    "list_kic = sp.get_list_targets (kepler_dataset)"
   ]
  },
  {
   "cell_type": "markdown",
   "id": "9c18e851-9b1c-419f-8417-5cc8bd3ee5fc",
   "metadata": {},
   "source": [
    "The next step is to run the analysis pipeline on every light curve in the dataset. The analysis pipeline in its default behaviour will compute the Lomb-Scargle periodogram (LSP) of the light curve as well as its auto-correlation function (ACF). ACF and LSP will then be used to compute a composite spectrum (CS), obtained by multiplying one by another. The feature computed for each stars are stored in a dedicated csv file identified by the star identifier (in this case, the KIC of the star). We are going to parallelise the analysis process with `pathos` in order to gain some computation time and control memory leakages that could arise from calling `analysis_pipeline` in a loop."
   ]
  },
  {
   "cell_type": "code",
   "execution_count": 5,
   "id": "5b8fc51a-0dc4-45ec-b846-3f0461f74879",
   "metadata": {},
   "outputs": [],
   "source": [
    "def analysis_wrapper (kic) :\n",
    "    \"\"\"\n",
    "    Analysis wrapper to speed computation\n",
    "    by parallelising process and control\n",
    "    memory usage.\n",
    "    \"\"\"\n",
    "    str_kic = str (kic).zfill (9)\n",
    "    filename = sp.get_target_filename (kepler_dataset, str_kic)\n",
    "    fileout = 'rooster_training_features/{}.csv'.format(str_kic)\n",
    "    fileplot = 'rooster_training_features/{}.png'.format(str_kic)\n",
    "    if not os.path.exists (fileout) :\n",
    "        t, s, dt = sp.load_resource (filename)\n",
    "        (p_ps, p_acf, \n",
    "         ps, acf, \n",
    "         cs, features, \n",
    "         feature_names, \n",
    "         fig) = sp.analysis_pipeline (t, s, pmin=0.1, pmax=60,\n",
    "                                      wavelet_analysis=False, plot=True,\n",
    "                                      filename=fileplot, figsize=(10,16), \n",
    "                                      lw=1, dpi=300)\n",
    "        df = sp.save_features (fileout, kic, features, feature_names)\n",
    "        plt.close (\"all\")"
   ]
  },
  {
   "cell_type": "markdown",
   "id": "16d3355a-346d-4fcf-86c5-659db542fb9f",
   "metadata": {},
   "source": [
    "Now that are wrapper function is defined, we just create a `ProcessPool` that we run with `imap`:\n",
    "\n",
    "> Note: by default `imap`, on the contrary to `map`, is a non-blocking process. Nevertheless, in order to display a progress bar with `tqdm` we need to use it, and the `list` encapsulation is there to ensure the process is blocking."
   ]
  },
  {
   "cell_type": "code",
   "execution_count": 6,
   "id": "ee4b2577-84a5-43e0-8a0e-3e53d523a88b",
   "metadata": {},
   "outputs": [
    {
     "name": "stderr",
     "output_type": "stream",
     "text": [
      "100%|███████████████████████████████████████████████████████████████████████████████████████████████████████████████████████| 1991/1991 [00:02<00:00, 813.84it/s]\n"
     ]
    }
   ],
   "source": [
    "process_pool = pathos.pools._ProcessPool (processes=4, \n",
    "                                          maxtasksperchild=10)\n",
    "with process_pool as p :\n",
    "    list (tqdm (p.imap (analysis_wrapper,\n",
    "                        list_kic,\n",
    "                        ),\n",
    "                total=len (list_kic))\n",
    "          )\n",
    "    p.close ()"
   ]
  },
  {
   "cell_type": "markdown",
   "id": "940c0191-7417-4ef8-812e-323dbf436f1a",
   "metadata": {},
   "source": [
    "After running the analysis pipeline, it is possible to concatenate the feature obtained for each star into one big DataFrame."
   ]
  },
  {
   "cell_type": "code",
   "execution_count": 7,
   "id": "a15c1ac0-18dd-4e22-a052-85e61916dcc1",
   "metadata": {},
   "outputs": [],
   "source": [
    "df = sp.build_catalog_features ('rooster_training_features')"
   ]
  },
  {
   "cell_type": "markdown",
   "id": "0250e067-2bf8-47b0-a57e-ed3c4ba7127a",
   "metadata": {},
   "source": [
    "This is typically what the DataFrame is going to look like:"
   ]
  },
  {
   "cell_type": "code",
   "execution_count": 8,
   "id": "836aadd8-16ae-483e-a380-f3984e408f57",
   "metadata": {},
   "outputs": [
    {
     "data": {
      "text/html": [
       "<div>\n",
       "<style scoped>\n",
       "    .dataframe tbody tr th:only-of-type {\n",
       "        vertical-align: middle;\n",
       "    }\n",
       "\n",
       "    .dataframe tbody tr th {\n",
       "        vertical-align: top;\n",
       "    }\n",
       "\n",
       "    .dataframe thead th {\n",
       "        text-align: right;\n",
       "    }\n",
       "</style>\n",
       "<table border=\"1\" class=\"dataframe\">\n",
       "  <thead>\n",
       "    <tr style=\"text-align: right;\">\n",
       "      <th></th>\n",
       "      <th>prot_ps</th>\n",
       "      <th>prot_acf</th>\n",
       "      <th>prot_cs</th>\n",
       "      <th>e_prot_ps</th>\n",
       "      <th>E_prot_ps</th>\n",
       "      <th>e_prot_acf</th>\n",
       "      <th>E_prot_acf</th>\n",
       "      <th>e_prot_cs</th>\n",
       "      <th>E_prot_cs</th>\n",
       "      <th>sph_ps</th>\n",
       "      <th>sph_acf</th>\n",
       "      <th>sph_cs</th>\n",
       "      <th>h_ps</th>\n",
       "      <th>fa_prob_ps</th>\n",
       "      <th>hacf</th>\n",
       "      <th>gacf</th>\n",
       "      <th>hcs</th>\n",
       "    </tr>\n",
       "    <tr>\n",
       "      <th>target_id</th>\n",
       "      <th></th>\n",
       "      <th></th>\n",
       "      <th></th>\n",
       "      <th></th>\n",
       "      <th></th>\n",
       "      <th></th>\n",
       "      <th></th>\n",
       "      <th></th>\n",
       "      <th></th>\n",
       "      <th></th>\n",
       "      <th></th>\n",
       "      <th></th>\n",
       "      <th></th>\n",
       "      <th></th>\n",
       "      <th></th>\n",
       "      <th></th>\n",
       "      <th></th>\n",
       "    </tr>\n",
       "  </thead>\n",
       "  <tbody>\n",
       "    <tr>\n",
       "      <th>891901</th>\n",
       "      <td>72.869400</td>\n",
       "      <td>51.574947</td>\n",
       "      <td>5.641531</td>\n",
       "      <td>11.498762</td>\n",
       "      <td>16.801211</td>\n",
       "      <td>-1.0</td>\n",
       "      <td>-1.0</td>\n",
       "      <td>0.013099</td>\n",
       "      <td>0.013099</td>\n",
       "      <td>784.128871</td>\n",
       "      <td>773.889578</td>\n",
       "      <td>620.957800</td>\n",
       "      <td>6.840314e+04</td>\n",
       "      <td>0.0</td>\n",
       "      <td>0.277619</td>\n",
       "      <td>0.109637</td>\n",
       "      <td>0.122620</td>\n",
       "    </tr>\n",
       "    <tr>\n",
       "      <th>1162339</th>\n",
       "      <td>73.786255</td>\n",
       "      <td>78.690215</td>\n",
       "      <td>-1.000000</td>\n",
       "      <td>9.241541</td>\n",
       "      <td>12.330192</td>\n",
       "      <td>-1.0</td>\n",
       "      <td>-1.0</td>\n",
       "      <td>-1.000000</td>\n",
       "      <td>-1.000000</td>\n",
       "      <td>2264.578879</td>\n",
       "      <td>2190.576851</td>\n",
       "      <td>-1.000000</td>\n",
       "      <td>8.107581e+05</td>\n",
       "      <td>0.0</td>\n",
       "      <td>0.864250</td>\n",
       "      <td>0.429628</td>\n",
       "      <td>0.911895</td>\n",
       "    </tr>\n",
       "    <tr>\n",
       "      <th>1163248</th>\n",
       "      <td>72.325512</td>\n",
       "      <td>59.625771</td>\n",
       "      <td>31.106914</td>\n",
       "      <td>10.129668</td>\n",
       "      <td>14.071197</td>\n",
       "      <td>-1.0</td>\n",
       "      <td>-1.0</td>\n",
       "      <td>0.461511</td>\n",
       "      <td>0.461511</td>\n",
       "      <td>541.792440</td>\n",
       "      <td>541.775945</td>\n",
       "      <td>536.567054</td>\n",
       "      <td>1.771122e+04</td>\n",
       "      <td>0.0</td>\n",
       "      <td>0.271948</td>\n",
       "      <td>0.135494</td>\n",
       "      <td>0.242804</td>\n",
       "    </tr>\n",
       "    <tr>\n",
       "      <th>1164583</th>\n",
       "      <td>49.879590</td>\n",
       "      <td>43.891695</td>\n",
       "      <td>46.649025</td>\n",
       "      <td>9.570083</td>\n",
       "      <td>15.528976</td>\n",
       "      <td>-1.0</td>\n",
       "      <td>-1.0</td>\n",
       "      <td>5.788649</td>\n",
       "      <td>5.788649</td>\n",
       "      <td>1650.038075</td>\n",
       "      <td>1642.510883</td>\n",
       "      <td>1699.105727</td>\n",
       "      <td>1.188174e+05</td>\n",
       "      <td>0.0</td>\n",
       "      <td>0.635193</td>\n",
       "      <td>0.317102</td>\n",
       "      <td>0.470231</td>\n",
       "    </tr>\n",
       "    <tr>\n",
       "      <th>1433067</th>\n",
       "      <td>73.786360</td>\n",
       "      <td>83.226618</td>\n",
       "      <td>47.031942</td>\n",
       "      <td>13.608601</td>\n",
       "      <td>21.562106</td>\n",
       "      <td>-1.0</td>\n",
       "      <td>-1.0</td>\n",
       "      <td>1.743351</td>\n",
       "      <td>1.743351</td>\n",
       "      <td>1220.871088</td>\n",
       "      <td>1261.758571</td>\n",
       "      <td>1197.588777</td>\n",
       "      <td>3.545902e+04</td>\n",
       "      <td>0.0</td>\n",
       "      <td>0.348045</td>\n",
       "      <td>0.222222</td>\n",
       "      <td>0.142060</td>\n",
       "    </tr>\n",
       "    <tr>\n",
       "      <th>...</th>\n",
       "      <td>...</td>\n",
       "      <td>...</td>\n",
       "      <td>...</td>\n",
       "      <td>...</td>\n",
       "      <td>...</td>\n",
       "      <td>...</td>\n",
       "      <td>...</td>\n",
       "      <td>...</td>\n",
       "      <td>...</td>\n",
       "      <td>...</td>\n",
       "      <td>...</td>\n",
       "      <td>...</td>\n",
       "      <td>...</td>\n",
       "      <td>...</td>\n",
       "      <td>...</td>\n",
       "      <td>...</td>\n",
       "      <td>...</td>\n",
       "    </tr>\n",
       "    <tr>\n",
       "      <th>12647815</th>\n",
       "      <td>10.332284</td>\n",
       "      <td>10.421169</td>\n",
       "      <td>10.439065</td>\n",
       "      <td>0.916122</td>\n",
       "      <td>1.113599</td>\n",
       "      <td>-1.0</td>\n",
       "      <td>-1.0</td>\n",
       "      <td>0.052547</td>\n",
       "      <td>0.052547</td>\n",
       "      <td>4731.203891</td>\n",
       "      <td>4731.485721</td>\n",
       "      <td>4725.580181</td>\n",
       "      <td>1.736751e+06</td>\n",
       "      <td>0.0</td>\n",
       "      <td>0.993603</td>\n",
       "      <td>0.606440</td>\n",
       "      <td>0.928364</td>\n",
       "    </tr>\n",
       "    <tr>\n",
       "      <th>12737258</th>\n",
       "      <td>40.694822</td>\n",
       "      <td>77.607082</td>\n",
       "      <td>40.528748</td>\n",
       "      <td>3.924354</td>\n",
       "      <td>4.862094</td>\n",
       "      <td>-1.0</td>\n",
       "      <td>-1.0</td>\n",
       "      <td>0.874980</td>\n",
       "      <td>0.874980</td>\n",
       "      <td>2129.783908</td>\n",
       "      <td>2155.527066</td>\n",
       "      <td>2138.397742</td>\n",
       "      <td>4.015526e+05</td>\n",
       "      <td>0.0</td>\n",
       "      <td>0.675193</td>\n",
       "      <td>0.421634</td>\n",
       "      <td>3.076674</td>\n",
       "    </tr>\n",
       "    <tr>\n",
       "      <th>12784167</th>\n",
       "      <td>18.391466</td>\n",
       "      <td>12.709734</td>\n",
       "      <td>46.124761</td>\n",
       "      <td>2.039831</td>\n",
       "      <td>2.621296</td>\n",
       "      <td>-1.0</td>\n",
       "      <td>-1.0</td>\n",
       "      <td>1.764008</td>\n",
       "      <td>1.764008</td>\n",
       "      <td>631.230913</td>\n",
       "      <td>615.325577</td>\n",
       "      <td>642.343757</td>\n",
       "      <td>1.074141e+04</td>\n",
       "      <td>0.0</td>\n",
       "      <td>0.000056</td>\n",
       "      <td>0.082313</td>\n",
       "      <td>2.219790</td>\n",
       "    </tr>\n",
       "    <tr>\n",
       "      <th>12834290</th>\n",
       "      <td>52.170605</td>\n",
       "      <td>57.295905</td>\n",
       "      <td>53.100124</td>\n",
       "      <td>5.944460</td>\n",
       "      <td>7.698935</td>\n",
       "      <td>-1.0</td>\n",
       "      <td>-1.0</td>\n",
       "      <td>1.524360</td>\n",
       "      <td>1.524360</td>\n",
       "      <td>520.273316</td>\n",
       "      <td>527.046251</td>\n",
       "      <td>531.063571</td>\n",
       "      <td>9.395823e+03</td>\n",
       "      <td>0.0</td>\n",
       "      <td>0.197379</td>\n",
       "      <td>0.076179</td>\n",
       "      <td>0.122809</td>\n",
       "    </tr>\n",
       "    <tr>\n",
       "      <th>12834663</th>\n",
       "      <td>89.966120</td>\n",
       "      <td>91.438937</td>\n",
       "      <td>-1.000000</td>\n",
       "      <td>4.284101</td>\n",
       "      <td>4.735059</td>\n",
       "      <td>-1.0</td>\n",
       "      <td>-1.0</td>\n",
       "      <td>-1.000000</td>\n",
       "      <td>-1.000000</td>\n",
       "      <td>1084.671035</td>\n",
       "      <td>1084.671035</td>\n",
       "      <td>-1.000000</td>\n",
       "      <td>2.799866e+03</td>\n",
       "      <td>0.0</td>\n",
       "      <td>0.089992</td>\n",
       "      <td>0.139271</td>\n",
       "      <td>0.367917</td>\n",
       "    </tr>\n",
       "  </tbody>\n",
       "</table>\n",
       "<p>1991 rows × 17 columns</p>\n",
       "</div>"
      ],
      "text/plain": [
       "             prot_ps   prot_acf    prot_cs  e_prot_ps  E_prot_ps  e_prot_acf  \\\n",
       "target_id                                                                      \n",
       "891901     72.869400  51.574947   5.641531  11.498762  16.801211        -1.0   \n",
       "1162339    73.786255  78.690215  -1.000000   9.241541  12.330192        -1.0   \n",
       "1163248    72.325512  59.625771  31.106914  10.129668  14.071197        -1.0   \n",
       "1164583    49.879590  43.891695  46.649025   9.570083  15.528976        -1.0   \n",
       "1433067    73.786360  83.226618  47.031942  13.608601  21.562106        -1.0   \n",
       "...              ...        ...        ...        ...        ...         ...   \n",
       "12647815   10.332284  10.421169  10.439065   0.916122   1.113599        -1.0   \n",
       "12737258   40.694822  77.607082  40.528748   3.924354   4.862094        -1.0   \n",
       "12784167   18.391466  12.709734  46.124761   2.039831   2.621296        -1.0   \n",
       "12834290   52.170605  57.295905  53.100124   5.944460   7.698935        -1.0   \n",
       "12834663   89.966120  91.438937  -1.000000   4.284101   4.735059        -1.0   \n",
       "\n",
       "           E_prot_acf  e_prot_cs  E_prot_cs       sph_ps      sph_acf  \\\n",
       "target_id                                                               \n",
       "891901           -1.0   0.013099   0.013099   784.128871   773.889578   \n",
       "1162339          -1.0  -1.000000  -1.000000  2264.578879  2190.576851   \n",
       "1163248          -1.0   0.461511   0.461511   541.792440   541.775945   \n",
       "1164583          -1.0   5.788649   5.788649  1650.038075  1642.510883   \n",
       "1433067          -1.0   1.743351   1.743351  1220.871088  1261.758571   \n",
       "...               ...        ...        ...          ...          ...   \n",
       "12647815         -1.0   0.052547   0.052547  4731.203891  4731.485721   \n",
       "12737258         -1.0   0.874980   0.874980  2129.783908  2155.527066   \n",
       "12784167         -1.0   1.764008   1.764008   631.230913   615.325577   \n",
       "12834290         -1.0   1.524360   1.524360   520.273316   527.046251   \n",
       "12834663         -1.0  -1.000000  -1.000000  1084.671035  1084.671035   \n",
       "\n",
       "                sph_cs          h_ps  fa_prob_ps      hacf      gacf       hcs  \n",
       "target_id                                                                       \n",
       "891901      620.957800  6.840314e+04         0.0  0.277619  0.109637  0.122620  \n",
       "1162339      -1.000000  8.107581e+05         0.0  0.864250  0.429628  0.911895  \n",
       "1163248     536.567054  1.771122e+04         0.0  0.271948  0.135494  0.242804  \n",
       "1164583    1699.105727  1.188174e+05         0.0  0.635193  0.317102  0.470231  \n",
       "1433067    1197.588777  3.545902e+04         0.0  0.348045  0.222222  0.142060  \n",
       "...                ...           ...         ...       ...       ...       ...  \n",
       "12647815   4725.580181  1.736751e+06         0.0  0.993603  0.606440  0.928364  \n",
       "12737258   2138.397742  4.015526e+05         0.0  0.675193  0.421634  3.076674  \n",
       "12784167    642.343757  1.074141e+04         0.0  0.000056  0.082313  2.219790  \n",
       "12834290    531.063571  9.395823e+03         0.0  0.197379  0.076179  0.122809  \n",
       "12834663     -1.000000  2.799866e+03         0.0  0.089992  0.139271  0.367917  \n",
       "\n",
       "[1991 rows x 17 columns]"
      ]
     },
     "execution_count": 8,
     "metadata": {},
     "output_type": "execute_result"
    }
   ],
   "source": [
    "df"
   ]
  },
  {
   "cell_type": "code",
   "execution_count": 9,
   "id": "e57d3a62-49dc-49c4-9d55-49866d61e9cf",
   "metadata": {},
   "outputs": [],
   "source": [
    "df.to_csv (\"training_features.csv\")"
   ]
  },
  {
   "cell_type": "markdown",
   "id": "2bd62881-232c-46bd-a43f-3a4fdd652302",
   "metadata": {},
   "source": [
    "## Training and testing ROOSTER\n",
    "\n",
    "Now that we have analysed a large sample of stars, we are able to use it to train the random forest ROOSTER methodology (see Breton et al. 2021). First, let's (arbitrarily) divide our DataFrame into a training set and a test set."
   ]
  },
  {
   "cell_type": "code",
   "execution_count": 10,
   "id": "5008126a-abed-4464-a4ef-b755a90dc60a",
   "metadata": {},
   "outputs": [],
   "source": [
    "df_train = df.loc[df.index[::2]]\n",
    "df_test = df.loc[df.index[1::2]]"
   ]
  },
  {
   "cell_type": "markdown",
   "id": "ae78d48d-7d07-4cc5-8587-cc1e224c7dd6",
   "metadata": {},
   "source": [
    "The DataFrames let us obtain all the input we require to train and test ROOSTER:"
   ]
  },
  {
   "cell_type": "code",
   "execution_count": 11,
   "id": "ba83bdc2-7b32-48f7-8211-2f2152b1c0f9",
   "metadata": {},
   "outputs": [],
   "source": [
    "(training_id, training_p_candidates, \n",
    " training_features, feature_names) = sp.create_rooster_feature_inputs (df_train)\n",
    "(test_id, test_p_candidates, \n",
    " test_features, test_feature_names) = sp.create_rooster_feature_inputs (df_test)"
   ]
  },
  {
   "cell_type": "markdown",
   "id": "7106924c-c015-4de5-8ab8-28ccf3e24da7",
   "metadata": {},
   "source": [
    "Now, let's instantiate a new ROOSTER object. The main attributes of ROOSTER are its two random forest classifiers, ``RotClass`` and ``PeriodSel``. The properties of these classifiers can be specified by the user by passing the optional arguments of ``sklearn.ensemble.RandomForestClassifier`` to the created ROOSTER instance. "
   ]
  },
  {
   "cell_type": "code",
   "execution_count": 12,
   "id": "f04cfda6-132f-44e3-bf27-42c45b059128",
   "metadata": {},
   "outputs": [
    {
     "data": {
      "text/plain": [
       "(RandomForestClassifier(random_state=RandomState(MT19937) at 0x13483C440),\n",
       " RandomForestClassifier(random_state=RandomState(MT19937) at 0x13483C440))"
      ]
     },
     "execution_count": 12,
     "metadata": {},
     "output_type": "execute_result"
    }
   ],
   "source": [
    "seed = 104359357\n",
    "chicken = sp.ROOSTER (n_estimators=100, random_state=np.random.RandomState (seed=seed))\n",
    "chicken.RotClass, chicken.PeriodSel"
   ]
  },
  {
   "cell_type": "markdown",
   "id": "fcb2cab0-69ac-4156-825d-7032485cfd6f",
   "metadata": {},
   "source": [
    "The training is performed as follows:"
   ]
  },
  {
   "cell_type": "code",
   "execution_count": 13,
   "id": "ba8c1383-9209-4625-a7a8-4dd8b4629b49",
   "metadata": {},
   "outputs": [
    {
     "name": "stdout",
     "output_type": "stream",
     "text": [
      "Training RotClass with 390 stars with detected rotation and 494 without detected rotation.\n",
      "Training PeriodSel with 390 stars.\n"
     ]
    }
   ],
   "source": [
    "chicken.train (training_id, training_p_candidates,\n",
    "               training_features, feature_names=feature_names,\n",
    "               catalog='santos-19-21', verbose=True)"
   ]
  },
  {
   "cell_type": "markdown",
   "id": "0e65175c-4340-4456-9c92-9e14a4a8061a",
   "metadata": {},
   "source": [
    "Once properly trained, ROOSTER performances can be assessed with our test set:"
   ]
  },
  {
   "cell_type": "code",
   "execution_count": 14,
   "id": "0e53e98e-487b-4c46-abfc-ec97f2de13b1",
   "metadata": {},
   "outputs": [
    {
     "name": "stdout",
     "output_type": "stream",
     "text": [
      "Testing RotClass with 394 stars with detected rotation and 501 without detected rotation.\n",
      "Testing PeriodSel with 394 stars.\n"
     ]
    }
   ],
   "source": [
    "results = chicken.test (test_id, test_p_candidates, test_features, \n",
    "                        feature_names=test_feature_names, \n",
    "                        catalog='santos-19-21', verbose=True)"
   ]
  },
  {
   "cell_type": "markdown",
   "id": "a85962c1-2aeb-41c4-a602-b849f082a35e",
   "metadata": {},
   "source": [
    "The score obtained during the test set can be accessed through the ``getScore`` function, as well as the number of elements used for the training and the test steps. "
   ]
  },
  {
   "cell_type": "code",
   "execution_count": 15,
   "id": "46baae9b-17ee-4dfa-91a2-53a91658239b",
   "metadata": {},
   "outputs": [
    {
     "data": {
      "text/plain": [
       "(0.9329608938547486, 0.9238578680203046)"
      ]
     },
     "execution_count": 15,
     "metadata": {},
     "output_type": "execute_result"
    }
   ],
   "source": [
    "chicken.getScore ()"
   ]
  },
  {
   "cell_type": "code",
   "execution_count": 16,
   "id": "130bbf1e-262c-4e47-8817-ca57329bbf59",
   "metadata": {},
   "outputs": [
    {
     "data": {
      "text/plain": [
       "(884, 390)"
      ]
     },
     "execution_count": 16,
     "metadata": {},
     "output_type": "execute_result"
    }
   ],
   "source": [
    "chicken.getNumberEltTrain ()"
   ]
  },
  {
   "cell_type": "code",
   "execution_count": 17,
   "id": "863508ce-e3db-4b62-8b62-25c75f962c18",
   "metadata": {},
   "outputs": [
    {
     "data": {
      "text/plain": [
       "(895, 394)"
      ]
     },
     "execution_count": 17,
     "metadata": {},
     "output_type": "execute_result"
    }
   ],
   "source": [
    "chicken.getNumberEltTest ()"
   ]
  },
  {
   "cell_type": "markdown",
   "id": "ec1e3196-a8a7-4a1d-9fff-f0f877902ea8",
   "metadata": {},
   "source": [
    "The $P_\\mathrm{rot}$ computed by ROOSTER for the test set are returned when calling the function and it can be interesting to plot the distribution to compare it to the reference catalog values. "
   ]
  },
  {
   "cell_type": "code",
   "execution_count": 18,
   "id": "48d6f744-bc2a-4242-99a6-e1911c7e0fd4",
   "metadata": {},
   "outputs": [],
   "source": [
    "prot_rooster = results[3]\n",
    "prot_ref = sp.get_prot_ref (results[2], catalog='santos-19-21')"
   ]
  },
  {
   "cell_type": "markdown",
   "id": "4433ee40-d6a6-4ad5-bcd5-21d8abff62ac",
   "metadata": {},
   "source": [
    "Let's take a look at the corresponding histogram"
   ]
  },
  {
   "cell_type": "code",
   "execution_count": 19,
   "id": "81572edc-2368-4cab-9afa-90de0a62b178",
   "metadata": {},
   "outputs": [
    {
     "data": {
      "text/plain": [
       "<matplotlib.legend.Legend at 0x133e19e80>"
      ]
     },
     "execution_count": 19,
     "metadata": {},
     "output_type": "execute_result"
    },
    {
     "data": {
      "image/png": "[encoded data removed]",
      "text/plain": [
       "<Figure size 640x480 with 1 Axes>"
      ]
     },
     "metadata": {},
     "output_type": "display_data"
    }
   ],
   "source": [
    "fig, ax = plt.subplots (1, 1)\n",
    "\n",
    "bins = np.linspace (0, 80, 20, endpoint=False)\n",
    "\n",
    "ax.hist (prot_rooster, bins=bins, color='darkorange', label='ROOSTER')\n",
    "ax.hist (prot_ref, bins=bins, facecolor='none',\n",
    "        edgecolor='black', label='Ref')\n",
    "\n",
    "ax.set_xlabel (r'$P_\\mathrm{rot}$ (day)')\n",
    "ax.set_ylabel (r'Number of stars')\n",
    "\n",
    "ax.legend ()"
   ]
  },
  {
   "cell_type": "markdown",
   "id": "21f347d7-625f-4614-9515-c886a699e72e",
   "metadata": {},
   "source": [
    "Finally, let's save our trained ROOSTER instance to be able to use it again later (for example in the next tutorial notebook !)"
   ]
  },
  {
   "cell_type": "code",
   "execution_count": 20,
   "id": "d09042ec-c6ae-4b33-96ae-09d16756b1f7",
   "metadata": {},
   "outputs": [],
   "source": [
    "chicken.save ('rooster_instances/rooster_tutorial')"
   ]
  },
  {
   "cell_type": "code",
   "execution_count": null,
   "id": "90f0401c-630a-4ce2-a029-c87a4e889364",
   "metadata": {},
   "outputs": [],
   "source": []
  }
 ],
 "metadata": {
  "kernelspec": {
   "display_name": "Python [conda env:main-3.9] *",
   "language": "python",
   "name": "conda-env-main-3.9-py"
  },
  "language_info": {
   "codemirror_mode": {
    "name": "ipython",
    "version": 3
   },
   "file_extension": ".py",
   "mimetype": "text/x-python",
   "name": "python",
   "nbconvert_exporter": "python",
   "pygments_lexer": "ipython3",
   "version": "3.9.15"
  }
 },
 "nbformat": 4,
 "nbformat_minor": 5
}
