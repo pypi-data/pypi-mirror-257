{
 "cells": [
  {
   "cell_type": "markdown",
   "id": "bba9b8bb",
   "metadata": {},
   "source": [
    "# Notes on preparing xplorts package\n",
    "1. Prepare the package"
   ]
  },
  {
   "cell_type": "code",
   "execution_count": 5,
   "id": "b553d7ca",
   "metadata": {},
   "outputs": [],
   "source": [
    "# (Terminal)\n",
    "#> cd xplor_time_series\n",
    "#> conda activate python36_plus_hv2\n",
    "#> rm dist/*  # clear out old distributions"
   ]
  },
  {
   "cell_type": "markdown",
   "id": "779f4ad6",
   "metadata": {},
   "source": [
    "2. Build the package and upload to PyPI or testpypi"
   ]
  },
  {
   "cell_type": "code",
   "execution_count": 6,
   "id": "1e77bc6f",
   "metadata": {},
   "outputs": [],
   "source": [
    "#  https://packaging.python.org/en/latest/tutorials/packaging-projects/#> python3 -m build\n",
    "#> python3 -m twine upload --repository testpipy dist/*\n",
    "\n",
    "## Username:  __token__\n",
    "## Password:  <paste in token>"
   ]
  },
  {
   "cell_type": "markdown",
   "id": "e93e203e",
   "metadata": {},
   "source": [
    "3. Update pip (Mac only, maybe no longer required)"
   ]
  },
  {
   "cell_type": "code",
   "execution_count": null,
   "id": "bc2e0f5e",
   "metadata": {},
   "outputs": [],
   "source": [
    "## If pip is not at least 9.0.3\n",
    "## If you are running macOS/OS X version 10.12 or older, then you ought to upgrade to the latest pip (9.0.3) \n",
    "## https://stackoverflow.com/questions/49748063/pip-install-fails-for-every-package-could-not-find-a-version-that-satisfies#49748494\n",
    "#> curl https://bootstrap.pypa.io/get-pip.py | python\n",
    "#> pip install --upgrade setuptools"
   ]
  },
  {
   "cell_type": "markdown",
   "id": "5185b873",
   "metadata": {},
   "source": [
    "4. Make test environment and install package"
   ]
  },
  {
   "cell_type": "code",
   "execution_count": 7,
   "id": "0c6051f0",
   "metadata": {},
   "outputs": [],
   "source": [
    "#> conda env create -n xplorts \"python=3.6\"\n",
    "#> conda activate xplorts"
   ]
  },
  {
   "cell_type": "code",
   "execution_count": 8,
   "id": "c29cc13b",
   "metadata": {},
   "outputs": [],
   "source": [
    "#xplorts> pip install \"bokeh>=2.3.2\" \"numpy>=1.19.2\" \"pandas>=1.1.5\" \"pyyaml>=5.4.1\"\n",
    "#xplorts> pip install --index-url https://test.pypi.org/simple/ --no-deps xplorts"
   ]
  },
  {
   "cell_type": "code",
   "execution_count": null,
   "id": "e88ad3a9",
   "metadata": {},
   "outputs": [],
   "source": [
    "# does note work...\n",
    "#xplorts> pip install \"bokeh>=2.3.2\" \"numpy>=1.19.2\" \"pandas>=1.1.5\" \"yaml>=0.2.5\"\n"
   ]
  },
  {
   "cell_type": "markdown",
   "id": "a7b41048",
   "metadata": {},
   "source": [
    "## Creating an environment with bokeh >= 3.1 to match ONS environment\n",
    "\n",
    "```\n",
    "> conda create -n p38_xp python=3.8  # Try newer Python.\n",
    "> conda activate p38_xp\n",
    "> python -m pip install --upgrade pip\n",
    "> python -m pip install xplorts\n",
    "```\n"
   ]
  },
  {
   "cell_type": "markdown",
   "id": "2eb81ccf",
   "metadata": {},
   "source": [
    "#### Python versions older than 3.8 limit bokeh to earlier versions.\n",
    "```\n",
    "> conda create -n p36_xp --clone python36\n",
    "> conda activate p36_xp\n",
    "> python -m pip install xplorts\n",
    "```\n",
    "This installs bokeh 2.3.2."
   ]
  },
  {
   "cell_type": "markdown",
   "id": "ca1cfa1d",
   "metadata": {},
   "source": [
    "```\n",
    "> conda create -n bokeh31 python=3.6 bokeh\n",
    "```\n",
    "This installs bokeh 1.4.  Why such early version?  Maybe because that's what's in the Anaconda install?\n",
    "\n",
    "```\n",
    "> conda create -n bokeh31 python=3.6\n",
    "> python -m pip install --upgrade pip\n",
    "> python -m pip install --upgrade bokeh\n",
    "```\n",
    "This installed bokeh 2.3.3. New versions require more recent version of Python!\n",
    "* [NO] pip might use local version from cache instead of newer version from pypi?  See https://stackoverflow.com/a/17153977/16327476\n",
    "** Maybe try: conda -m pip install --no-cache-dir --upgrade bokeh\n",
    "* Bokeh might have a requirement that interacts with obscure stuff we had to install to get Jupyter to work on our matchine?\n",
    "\n",
    "\n",
    "```\n",
    "> conda create -n p38_xp python=3.8  # Try newer Python.\n",
    "> conda activate p38_xp\n",
    "> python -m pip install --upgrade pip\n",
    "> python -m pip install xplorts\n",
    "> python -m pip install openpyxl\n",
    "```\n"
   ]
  }
 ],
 "metadata": {
  "kernelspec": {
   "display_name": "Python 3",
   "language": "python",
   "name": "python3"
  },
  "language_info": {
   "codemirror_mode": {
    "name": "ipython",
    "version": 3
   },
   "file_extension": ".py",
   "mimetype": "text/x-python",
   "name": "python",
   "nbconvert_exporter": "python",
   "pygments_lexer": "ipython3",
   "version": "3.8.8"
  }
 },
 "nbformat": 4,
 "nbformat_minor": 5
}
