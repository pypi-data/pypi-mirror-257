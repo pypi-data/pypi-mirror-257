{
 "cells": [
  {
   "cell_type": "markdown",
   "id": "50bfe086",
   "metadata": {},
   "source": [
    "# Quantum Fourier Transform\n",
    "\n"
   ]
  },
  {
   "cell_type": "code",
   "execution_count": null,
   "id": "0e19bebf",
   "metadata": {},
   "outputs": [],
   "source": [
    "from mpqp.gates import H, X, Ry, CRk\n",
    "from mpqp import QCircuit\n",
    "from mpqp.measures import BasisMeasure\n",
    "from mpqp.execution.devices import IBMDevice\n",
    "from mpqp.execution import run\n",
    "from mpqp.tools.visualization import plot_results_sample_mode\n",
    "import matplotlib.pyplot as plt"
   ]
  },
  {
   "cell_type": "markdown",
   "id": "caf07985",
   "metadata": {},
   "source": []
  },
  {
   "cell_type": "code",
   "execution_count": 16,
   "id": "ffdddefb",
   "metadata": {},
   "outputs": [],
   "source": [
    "class QFT(QCircuit):\n",
    "      \n",
    "    def __init__(self,n_qubits,inverse=False):\n",
    "        \n",
    "        super().__init__(n_qubits, nb_cbits=n_qubits)\n",
    "        self.inverse = inverse\n",
    "        self.apply()\n",
    "    \n",
    "    def apply(self):\n",
    "        # [self.add([H(j),[CRk(i,i,j) for i in range(j+1,n_qubits-1)]] for j in range(0,n_qubits))]\n",
    "        \n",
    "        (self.add([H(j),[CRk(i+1,i,j) for i in range(j+1,self.nb_qubits)],Barrier()] for j in range(0,self.nb_qubits)))\n",
    "        self.add([SWAP(i,self.nb_qubits-1-i) for i in range(0,int(floor(self.nb_qubits/2)))])\n",
    "        self.add(BasisMeasure([i for i in range(self.nb_qubits)], shots=0))\n",
    "        \n",
    "        if self.inverse == True:\n",
    "           self.inverse() "
   ]
  },
  {
   "cell_type": "code",
   "execution_count": 17,
   "id": "f290c657",
   "metadata": {},
   "outputs": [
    {
     "name": "stdout",
     "output_type": "stream",
     "text": [
      "      ┌───┐                                          ░                »\n",
      " q_0: ┤ H ├─■─────────■─────────■─────────■──────────░────────────────»\n",
      "      └───┘ │P(pi/2)  │         │         │          ░ ┌───┐          »\n",
      " q_1: ──────■─────────┼─────────┼─────────┼──────────░─┤ H ├─■────────»\n",
      "                      │P(pi/4)  │         │          ░ └───┘ │P(pi/4) »\n",
      " q_2: ────────────────■─────────┼─────────┼──────────░───────■────────»\n",
      "                                │P(pi/8)  │          ░                »\n",
      " q_3: ──────────────────────────■─────────┼──────────░────────────────»\n",
      "                                          │P(pi/16)  ░                »\n",
      " q_4: ────────────────────────────────────■──────────░────────────────»\n",
      "                                                     ░                »\n",
      "c: 10/════════════════════════════════════════════════════════════════»\n",
      "                                                                      »\n",
      "«                            ░                            ░                  ░ »\n",
      "« q_0: ──────────────────────░────────────────────────────░──────────────────░─»\n",
      "«                            ░                            ░                  ░ »\n",
      "« q_1: ─■─────────■──────────░────────────────────────────░──────────────────░─»\n",
      "«       │         │          ░ ┌───┐                      ░                  ░ »\n",
      "« q_2: ─┼─────────┼──────────░─┤ H ├─■─────────■──────────░──────────────────░─»\n",
      "«       │P(pi/8)  │          ░ └───┘ │P(pi/8)  │          ░ ┌───┐            ░ »\n",
      "« q_3: ─■─────────┼──────────░───────■─────────┼──────────░─┤ H ├─■──────────░─»\n",
      "«                 │P(pi/16)  ░                 │P(pi/16)  ░ └───┘ │P(pi/16)  ░ »\n",
      "« q_4: ───────────■──────────░─────────────────■──────────░───────■──────────░─»\n",
      "«                            ░                            ░                  ░ »\n",
      "«c: 10/════════════════════════════════════════════════════════════════════════»\n",
      "«                                                                              »\n",
      "«            ░          ┌─┐      \n",
      "« q_0: ──────░──X───────┤M├──────\n",
      "«            ░  │       └╥┘┌─┐   \n",
      "« q_1: ──────░──┼──X─────╫─┤M├───\n",
      "«            ░  │  │ ┌─┐ ║ └╥┘   \n",
      "« q_2: ──────░──┼──┼─┤M├─╫──╫────\n",
      "«            ░  │  │ └╥┘ ║  ║ ┌─┐\n",
      "« q_3: ──────░──┼──X──╫──╫──╫─┤M├\n",
      "«      ┌───┐ ░  │ ┌─┐ ║  ║  ║ └╥┘\n",
      "« q_4: ┤ H ├─░──X─┤M├─╫──╫──╫──╫─\n",
      "«      └───┘ ░    └╥┘ ║  ║  ║  ║ \n",
      "«c: 10/════════════╩══╩══╩══╩══╩═\n",
      "«                  9  7  5  6  8 \n"
     ]
    }
   ],
   "source": [
    "qc = QFT(n_qubits=5)\n",
    "print(qc)"
   ]
  },
  {
   "cell_type": "code",
   "execution_count": 9,
   "id": "ce59b0f3",
   "metadata": {},
   "outputs": [
    {
     "name": "stdout",
     "output_type": "stream",
     "text": [
      "BatchResult: 2 results\n",
      "Result: IBMDevice, AER_SIMULATOR_STATEVECTOR\n",
      "\n",
      "        State vector: [0.1767767+0.j 0.1767767+0.j 0.1767767+0.j 0.1767767+0.j 0.1767767+0.j\n",
      " 0.1767767+0.j 0.1767767+0.j 0.1767767+0.j 0.1767767+0.j 0.1767767+0.j\n",
      " 0.1767767+0.j 0.1767767+0.j 0.1767767+0.j 0.1767767+0.j 0.1767767+0.j\n",
      " 0.1767767+0.j 0.1767767+0.j 0.1767767+0.j 0.1767767+0.j 0.1767767+0.j\n",
      " 0.1767767+0.j 0.1767767+0.j 0.1767767+0.j 0.1767767+0.j 0.1767767+0.j\n",
      " 0.1767767+0.j 0.1767767+0.j 0.1767767+0.j 0.1767767+0.j 0.1767767+0.j\n",
      " 0.1767767+0.j 0.1767767+0.j]\n",
      "        Probabilities: [0.03125 0.03125 0.03125 0.03125 0.03125 0.03125 0.03125 0.03125 0.03125\n",
      " 0.03125 0.03125 0.03125 0.03125 0.03125 0.03125 0.03125 0.03125 0.03125\n",
      " 0.03125 0.03125 0.03125 0.03125 0.03125 0.03125 0.03125 0.03125 0.03125\n",
      " 0.03125 0.03125 0.03125 0.03125 0.03125]\n",
      "        Number of qubits: 5\n",
      "\n",
      "Result: ATOSDevice, MYQLM_PYLINALG\n",
      "\n",
      "        State vector: [0.17677669+0.00000000e+00j 0.17677669+0.00000000e+00j\n",
      " 0.17677669+0.00000000e+00j 0.17677669+0.00000000e+00j\n",
      " 0.17677669+0.00000000e+00j 0.17677669-1.38777878e-17j\n",
      " 0.17677669+6.93889390e-18j 0.17677669+0.00000000e+00j\n",
      " 0.17677669+0.00000000e+00j 0.17677669+0.00000000e+00j\n",
      " 0.17677669+0.00000000e+00j 0.17677669+0.00000000e+00j\n",
      " 0.17677669+0.00000000e+00j 0.17677669-1.47196161e-17j\n",
      " 0.17677669+4.90653885e-18j 0.17677669+0.00000000e+00j\n",
      " 0.17677669+0.00000000e+00j 0.17677669+0.00000000e+00j\n",
      " 0.17677669+0.00000000e+00j 0.17677669+0.00000000e+00j\n",
      " 0.17677669+0.00000000e+00j 0.17677669-1.38777878e-17j\n",
      " 0.17677669+6.93889390e-18j 0.17677669+0.00000000e+00j\n",
      " 0.17677669+0.00000000e+00j 0.17677669+0.00000000e+00j\n",
      " 0.17677669+0.00000000e+00j 0.17677669+0.00000000e+00j\n",
      " 0.17677669+0.00000000e+00j 0.17677669-1.47196161e-17j\n",
      " 0.17677669+4.90653885e-18j 0.17677669+0.00000000e+00j]\n",
      "        Probabilities: [0.03125 0.03125 0.03125 0.03125 0.03125 0.03125 0.03125 0.03125 0.03125\n",
      " 0.03125 0.03125 0.03125 0.03125 0.03125 0.03125 0.03125 0.03125 0.03125\n",
      " 0.03125 0.03125 0.03125 0.03125 0.03125 0.03125 0.03125 0.03125 0.03125\n",
      " 0.03125 0.03125 0.03125 0.03125 0.03125]\n",
      "        Number of qubits: 5\n",
      "\n",
      "\n"
     ]
    }
   ],
   "source": [
    "results = run(qc, [IBMDevice.AER_SIMULATOR_STATEVECTOR,ATOSDevice.MYQLM_PYLINALG]) #IBMDevice.AER_SIMULATOR\n",
    "print(results)\n",
    "\n",
    "# plot_results_sample_mode(results)\n",
    "# print(qc)\n",
    "# plt.show()\n"
   ]
  },
  {
   "cell_type": "code",
   "execution_count": 18,
   "id": "ce28f1a4",
   "metadata": {},
   "outputs": [
    {
     "name": "stdout",
     "output_type": "stream",
     "text": [
      "BatchResult: 1 results\n",
      "Result: IBMDevice, AER_SIMULATOR_STATEVECTOR\n",
      "\n",
      "        State vector: [0.70710678+0.j 0.70710678+0.j 0.        +0.j 0.        +0.j]\n",
      "        Probabilities: [0.5 0.5 0.  0. ]\n",
      "        Number of qubits: 2\n",
      "\n",
      "\n"
     ]
    }
   ],
   "source": [
    "qc1 = QCircuit([H(1)])\n",
    "results1 = run(qc1, [IBMDevice.AER_SIMULATOR_STATEVECTOR\n",
    "                    #  ,ATOSDevice.MYQLM_PYLINALG\n",
    "                     ]) #IBMDevice.AER_SIMULATOR\n",
    "print(results1)\n"
   ]
  },
  {
   "cell_type": "code",
   "execution_count": 19,
   "id": "97f049b8",
   "metadata": {},
   "outputs": [
    {
     "name": "stdout",
     "output_type": "stream",
     "text": [
      "     ┌───┐           ░       ░    ┌─┐   \n",
      "q_0: ┤ H ├─■─────────░───────░──X─┤M├───\n",
      "     ├───┤ │P(pi/2)  ░ ┌───┐ ░  │ └╥┘┌─┐\n",
      "q_1: ┤ H ├─■─────────░─┤ H ├─░──X──╫─┤M├\n",
      "     └───┘           ░ └───┘ ░     ║ └╥┘\n",
      "c: 2/══════════════════════════════╩══╩═\n",
      "                                   0  1 \n",
      "BatchResult: 1 results\n",
      "Result: IBMDevice, AER_SIMULATOR_STATEVECTOR\n",
      "\n",
      "        State vector: [0.70710678-4.32978028e-17j 0.35355339+3.53553391e-01j\n",
      " 0.        +4.32978028e-17j 0.35355339-3.53553391e-01j]\n",
      "        Probabilities: [5.00000000e-01 2.50000000e-01 1.87469973e-33 2.50000000e-01]\n",
      "        Number of qubits: 2\n",
      "\n",
      "\n"
     ]
    }
   ],
   "source": [
    "qc2=qc1+(QFT(2))\n",
    "print(qc2)\n",
    "results2 = run(qc2, [IBMDevice.AER_SIMULATOR_STATEVECTOR\n",
    "                    #  ,ATOSDevice.MYQLM_PYLINALG\n",
    "                     ]) #IBMDevice.AER_SIMULATOR\n",
    "print(results2)\n"
   ]
  },
  {
   "cell_type": "code",
   "execution_count": 25,
   "id": "089f5843",
   "metadata": {},
   "outputs": [
    {
     "name": "stdout",
     "output_type": "stream",
     "text": [
      "     ┌────────────┐                    ┌───┐\n",
      "q_0: ┤ Ry(1.9106) ├─■───────────────■──┤ X ├\n",
      "     └┬─────────┬─┘ │ ┌──────────┐┌─┴─┐└───┘\n",
      "q_1: ─┤ Ry(π/4) ├───■─┤ Ry(-π/4) ├┤ X ├──■──\n",
      "      └─────────┘     └──────────┘└───┘┌─┴─┐\n",
      "q_2: ──────────────────────────────────┤ X ├\n",
      "                                       └───┘\n",
      "BatchResult: 1 results\n",
      "Result: IBMDevice, AER_SIMULATOR_STATEVECTOR\n",
      "\n",
      "        State vector: [-5.77350269e-01+0.j  0.00000000e+00+0.j  0.00000000e+00+0.j\n",
      "  5.77350269e-01+0.j  5.77350269e-01+0.j  0.00000000e+00+0.j\n",
      "  0.00000000e+00+0.j  7.84807271e-18+0.j]\n",
      "        Probabilities: [3.33333333e-01 0.00000000e+00 0.00000000e+00 3.33333333e-01\n",
      " 3.33333333e-01 0.00000000e+00 0.00000000e+00 6.15922453e-35]\n",
      "        Number of qubits: 3\n",
      "\n",
      "\n"
     ]
    }
   ],
   "source": [
    "qc3 = QCircuit([Ry(2*np.arccos(1/np.sqrt(3)),0),Ry(np.pi/4,1),CZ(0,1),Ry(-np.pi/4,1),CNOT(0,1),CNOT(1,2),X(0)])\n",
    "print(qc3)\n",
    "results3 = run(qc3, [IBMDevice.AER_SIMULATOR_STATEVECTOR\n",
    "                    #  ,ATOSDevice.MYQLM_PYLINALG\n",
    "                     ]) #IBMDevice.AER_SIMULATOR\n",
    "print(results3)"
   ]
  },
  {
   "cell_type": "code",
   "execution_count": 26,
   "id": "67e3e10a",
   "metadata": {},
   "outputs": [
    {
     "name": "stdout",
     "output_type": "stream",
     "text": [
      "BatchResult: 1 results\n",
      "Result: IBMDevice, AER_SIMULATOR_STATEVECTOR\n",
      "\n",
      "        State vector: [ 0.20412415-7.49939943e-17j -0.55258586+1.44337567e-01j\n",
      " -0.14433757-1.44337567e-01j -0.20412415-1.96261557e-17j\n",
      " -0.20412415+2.49979981e-17j -0.26391072-1.44337567e-01j\n",
      "  0.14433757+1.44337567e-01j -0.61237244+6.96221520e-17j]\n",
      "        Probabilities: [0.04166667 0.32618446 0.04166667 0.04166667 0.04166667 0.0904822\n",
      " 0.04166667 0.375     ]\n",
      "        Number of qubits: 3\n",
      "\n",
      "\n"
     ]
    }
   ],
   "source": [
    "qc4 = qc3+QFT(3)\n",
    "results4 = run(qc4, [IBMDevice.AER_SIMULATOR_STATEVECTOR\n",
    "                    #  ,ATOSDevice.MYQLM_PYLINALG\n",
    "                     ]) #IBMDevice.AER_SIMULATOR\n",
    "print(results4)"
   ]
  },
  {
   "cell_type": "code",
   "execution_count": null,
   "id": "a9ae9ee6",
   "metadata": {},
   "outputs": [],
   "source": []
  }
 ],
 "metadata": {
  "kernelspec": {
   "display_name": "Python 3",
   "language": "python",
   "name": "python3"
  },
  "language_info": {
   "codemirror_mode": {
    "name": "ipython",
    "version": 3
   },
   "file_extension": ".py",
   "mimetype": "text/x-python",
   "name": "python",
   "nbconvert_exporter": "python",
   "pygments_lexer": "ipython3",
   "version": "3.9.5"
  }
 },
 "nbformat": 4,
 "nbformat_minor": 5
}
