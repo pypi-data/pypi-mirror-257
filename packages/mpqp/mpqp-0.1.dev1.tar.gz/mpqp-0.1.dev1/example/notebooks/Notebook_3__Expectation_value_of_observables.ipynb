{
 "cells": [
  {
   "cell_type": "markdown",
   "id": "fc24b8dc",
   "metadata": {},
   "source": [
    "# Computing expectation values of observables"
   ]
  },
  {
   "cell_type": "code",
   "execution_count": null,
   "id": "19819400",
   "metadata": {},
   "outputs": [],
   "source": []
  },
  {
   "cell_type": "code",
   "execution_count": 1,
   "id": "885a237b",
   "metadata": {},
   "outputs": [
    {
     "name": "stdout",
     "output_type": "stream",
     "text": [
      "     ┌───┐      ┌─────────┐ \n",
      "q_0: ┤ H ├──■───┤ Ry(2.6) ├─\n",
      "     ├───┤┌─┴─┐┌┴─────────┴┐\n",
      "q_1: ┤ Y ├┤ X ├┤ Ry(-0.87) ├\n",
      "     └───┘└───┘└───────────┘\n"
     ]
    }
   ],
   "source": [
    "from mpqp import QCircuit\n",
    "from mpqp.gates import *\n",
    "circuit = QCircuit([H(0), Y(1), CNOT(0,1), Ry(2.6, 0), Ry(-0.87, 1)])\n",
    "print(circuit)"
   ]
  },
  {
   "cell_type": "code",
   "execution_count": 2,
   "id": "d97f41ba",
   "metadata": {},
   "outputs": [],
   "source": [
    "from mpqp.measures import Observable, ExpectationMeasure"
   ]
  },
  {
   "cell_type": "code",
   "execution_count": 3,
   "id": "df526c3f",
   "metadata": {},
   "outputs": [
    {
     "data": {
      "text/plain": [
       "True"
      ]
     },
     "execution_count": 3,
     "metadata": {},
     "output_type": "execute_result"
    }
   ],
   "source": [
    "import numpy as np\n",
    "from mpqp.tools.maths import is_hermitian\n",
    "\n",
    "matrix = np.array([[4,  2,  3, 8],\n",
    "                   [2, -3,  1, 0],\n",
    "                   [3,  1, -1, 5],\n",
    "                   [8,  0,  5, 2]])\n",
    "is_hermitian(matrix)"
   ]
  },
  {
   "cell_type": "code",
   "execution_count": 4,
   "id": "444d0fb2",
   "metadata": {},
   "outputs": [],
   "source": [
    "obs = Observable(matrix)"
   ]
  },
  {
   "cell_type": "code",
   "execution_count": 5,
   "id": "b6730e48",
   "metadata": {},
   "outputs": [],
   "source": [
    "circuit.add(ExpectationMeasure([0,1], observable=obs, shots=0))"
   ]
  },
  {
   "cell_type": "code",
   "execution_count": 6,
   "id": "b1cb8ad4",
   "metadata": {},
   "outputs": [
    {
     "name": "stdout",
     "output_type": "stream",
     "text": [
      "Result: ATOSDevice, MYQLM_PYLINALG\n",
      "Expectation value: -3.3170640012883936\n",
      "Error/Variance: 0.0\n",
      "\n",
      "\n",
      "-3.3170640012883936\n"
     ]
    }
   ],
   "source": [
    "from mpqp.execution import run, ATOSDevice, IBMDevice\n",
    "result = run(circuit, ATOSDevice.MYQLM_PYLINALG)\n",
    "print(result)\n",
    "print(result.expectation_value)"
   ]
  },
  {
   "cell_type": "code",
   "execution_count": 7,
   "id": "2a099233",
   "metadata": {},
   "outputs": [
    {
     "name": "stdout",
     "output_type": "stream",
     "text": [
      "[ExpectationMeasure([0, 1], Observable(array([[ 4, 2, 3, 8], [ 2, -3, 1, 0], [ 3, 1, -1, 5], [ 8, 0, 5, 2]])), shots=2000)]\n"
     ]
    }
   ],
   "source": [
    "circuit = circuit.without_measurements()\n",
    "circuit.add(ExpectationMeasure([0,1], observable=obs, shots=2000))\n",
    "print(circuit.get_measurements())"
   ]
  },
  {
   "cell_type": "code",
   "execution_count": 8,
   "id": "148e5900",
   "metadata": {},
   "outputs": [
    {
     "name": "stdout",
     "output_type": "stream",
     "text": [
      "BatchResult: 2 results\n",
      "Result: ATOSDevice, MYQLM_PYLINALG\n",
      "Expectation value: -3.5309999999999997\n",
      "Error/Variance: (0.14379659324933627+0j)\n",
      "\n",
      "Result: IBMDevice, AER_SIMULATOR\n",
      "Expectation value: -3.3945\n",
      "Error/Variance: 41.49057325\n",
      "\n",
      "\n"
     ]
    }
   ],
   "source": [
    "results = run(circuit, [ATOSDevice.MYQLM_PYLINALG, IBMDevice.AER_SIMULATOR])\n",
    "print(results)"
   ]
  },
  {
   "cell_type": "code",
   "execution_count": null,
   "id": "530eb3c4",
   "metadata": {},
   "outputs": [],
   "source": []
  },
  {
   "cell_type": "code",
   "execution_count": null,
   "id": "a2f27cc0",
   "metadata": {},
   "outputs": [],
   "source": []
  }
 ],
 "metadata": {
  "kernelspec": {
   "display_name": "Python 3",
   "language": "python",
   "name": "python3"
  },
  "language_info": {
   "codemirror_mode": {
    "name": "ipython",
    "version": 3
   },
   "file_extension": ".py",
   "mimetype": "text/x-python",
   "name": "python",
   "nbconvert_exporter": "python",
   "pygments_lexer": "ipython3",
   "version": "3.9.5"
  }
 },
 "nbformat": 4,
 "nbformat_minor": 5
}
