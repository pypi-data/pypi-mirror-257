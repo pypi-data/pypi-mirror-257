{
 "cells": [
  {
   "cell_type": "markdown",
   "id": "22e48505",
   "metadata": {},
   "source": [
    "# Execution of the Bell circuit\n",
    "\n",
    "The usual first experiment in Quantum Computing is to simulate a 2-qubit Bell state.\n",
    "\n",
    "## Creating the EPR/Bell state \n",
    "\n",
    "Let us create first the related circuit."
   ]
  },
  {
   "cell_type": "code",
   "execution_count": 1,
   "id": "f6c80145",
   "metadata": {},
   "outputs": [],
   "source": [
    "from mpqp import QCircuit\n",
    "from mpqp.gates import H, CNOT"
   ]
  },
  {
   "cell_type": "code",
   "execution_count": 2,
   "id": "c935a396",
   "metadata": {},
   "outputs": [
    {
     "name": "stdout",
     "output_type": "stream",
     "text": [
      "     ┌───┐     \n",
      "q_0: ┤ H ├──■──\n",
      "     └───┘┌─┴─┐\n",
      "q_1: ─────┤ X ├\n",
      "          └───┘\n"
     ]
    }
   ],
   "source": [
    "circuit = QCircuit([H(0), CNOT(0,1)], label=\"Bell state\")\n",
    "print(circuit)"
   ]
  },
  {
   "cell_type": "markdown",
   "id": "56c801bb",
   "metadata": {},
   "source": [
    "## Run the circuit on a local device"
   ]
  },
  {
   "cell_type": "code",
   "execution_count": 3,
   "id": "3e65b837",
   "metadata": {},
   "outputs": [],
   "source": [
    "from mpqp.execution import run, ATOSDevice"
   ]
  },
  {
   "cell_type": "code",
   "execution_count": 4,
   "id": "78af15b4",
   "metadata": {},
   "outputs": [
    {
     "name": "stdout",
     "output_type": "stream",
     "text": [
      "Result: ATOSDevice, MYQLM_PYLINALG\n",
      "\n",
      "        State vector: [0.70710677+0.j 0.        +0.j 0.        +0.j 0.70710677+0.j]\n",
      "        Probabilities: [0.5 0.  0.  0.5]\n",
      "        Number of qubits: 2\n",
      "\n",
      "\n",
      "[0.70710677+0.j 0.        +0.j 0.        +0.j 0.70710677+0.j]\n",
      "[0.5 0.  0.  0.5]\n"
     ]
    }
   ],
   "source": [
    "result = run(circuit, ATOSDevice.MYQLM_PYLINALG)\n",
    "print(result)\n",
    "print(result.amplitudes)\n",
    "print(result.probabilities)"
   ]
  },
  {
   "cell_type": "code",
   "execution_count": 5,
   "id": "19b00445",
   "metadata": {},
   "outputs": [],
   "source": [
    "from mpqp.measures import BasisMeasure"
   ]
  },
  {
   "cell_type": "code",
   "execution_count": 6,
   "id": "330f8b37",
   "metadata": {},
   "outputs": [],
   "source": [
    "circuit.add(BasisMeasure([0,1], shots=0))"
   ]
  },
  {
   "cell_type": "code",
   "execution_count": 7,
   "id": "df259687",
   "metadata": {},
   "outputs": [
    {
     "name": "stdout",
     "output_type": "stream",
     "text": [
      "Result: ATOSDevice, MYQLM_PYLINALG\n",
      "\n",
      "        State vector: [0.70710677+0.j 0.        +0.j 0.        +0.j 0.70710677+0.j]\n",
      "        Probabilities: [0.5 0.  0.  0.5]\n",
      "        Number of qubits: 2\n",
      "\n",
      "\n"
     ]
    }
   ],
   "source": [
    "result = run(circuit, ATOSDevice.MYQLM_PYLINALG)\n",
    "print(result)"
   ]
  },
  {
   "cell_type": "code",
   "execution_count": 8,
   "id": "6425ff73",
   "metadata": {},
   "outputs": [],
   "source": [
    "circuit = circuit.without_measurements()\n",
    "circuit.add(BasisMeasure([0,1], shots=1024))"
   ]
  },
  {
   "cell_type": "code",
   "execution_count": 9,
   "id": "714d80db",
   "metadata": {},
   "outputs": [
    {
     "name": "stdout",
     "output_type": "stream",
     "text": [
      "Result: ATOSDevice, MYQLM_PYLINALG\n",
      "Counts: [516, 0, 0, 508]\n",
      "Probabilities: [0.50390625 0.         0.         0.49609375]\n",
      "State: 11, Index: 3, Count: 508, Probability: 0.49609375\n",
      "State: 00, Index: 0, Count: 516, Probability: 0.50390625\n",
      "Error: 0.01563215790957881\n",
      "\n",
      "\n",
      "[State: 11, Index: 3, Count: 508, Probability: 0.49609375, State: 00, Index: 0, Count: 516, Probability: 0.50390625]\n",
      "[516, 0, 0, 508]\n",
      "[0.50390625 0.         0.         0.49609375]\n"
     ]
    }
   ],
   "source": [
    "result = run(circuit, ATOSDevice.MYQLM_PYLINALG)\n",
    "print(result)\n",
    "print(result.samples)\n",
    "print(result.counts)\n",
    "print(result.probabilities)"
   ]
  },
  {
   "cell_type": "markdown",
   "id": "4f5dcc72",
   "metadata": {},
   "source": [
    "## Run the circuit on multiple devices"
   ]
  },
  {
   "cell_type": "code",
   "execution_count": 10,
   "id": "e2603bb2",
   "metadata": {},
   "outputs": [],
   "source": [
    "from mpqp.execution import IBMDevice, AWSDevice"
   ]
  },
  {
   "cell_type": "code",
   "execution_count": 12,
   "id": "cbe4dba3",
   "metadata": {},
   "outputs": [
    {
     "name": "stderr",
     "output_type": "stream",
     "text": [
      "This program uses OpenQASM language features that may not be supported on QPUs or on-demand simulators.\n"
     ]
    },
    {
     "name": "stdout",
     "output_type": "stream",
     "text": [
      "BatchResult: 3 results\n",
      "Result: AWSDevice, BRAKET_LOCAL_SIMULATOR\n",
      "Counts: [507, 0, 0, 517]\n",
      "Probabilities: [0.49511719 0.         0.         0.50488281]\n",
      "State: 00, Index: 0, Count: 507, Probability: 0.4951171875\n",
      "State: 11, Index: 3, Count: 517, Probability: 0.5048828125\n",
      "Error: None\n",
      "\n",
      "Result: IBMDevice, AER_SIMULATOR\n",
      "Counts: [492, 0, 0, 532]\n",
      "Probabilities: [0.48046875 0.         0.         0.51953125]\n",
      "State: 00, Index: 0, Count: 492, Probability: 0.48046875\n",
      "State: 11, Index: 3, Count: 532, Probability: 0.51953125\n",
      "Error: None\n",
      "\n",
      "Result: ATOSDevice, MYQLM_PYLINALG\n",
      "Counts: [510, 0, 0, 514]\n",
      "Probabilities: [0.49804688 0.         0.         0.50195312]\n",
      "State: 00, Index: 0, Count: 510, Probability: 0.498046875\n",
      "State: 11, Index: 3, Count: 514, Probability: 0.501953125\n",
      "Error: 0.01563251571902321\n",
      "\n",
      "\n",
      "---------\n",
      "Result: AWSDevice, BRAKET_LOCAL_SIMULATOR\n",
      "Counts: [507, 0, 0, 517]\n",
      "Probabilities: [0.49511719 0.         0.         0.50488281]\n",
      "State: 00, Index: 0, Count: 507, Probability: 0.4951171875\n",
      "State: 11, Index: 3, Count: 517, Probability: 0.5048828125\n",
      "Error: None\n",
      "\n",
      "\n"
     ]
    }
   ],
   "source": [
    "results = run(circuit, [ATOSDevice.MYQLM_PYLINALG, IBMDevice.AER_SIMULATOR, AWSDevice.BRAKET_LOCAL_SIMULATOR])\n",
    "print(results)\n",
    "print('---------')\n",
    "print(results[0])"
   ]
  },
  {
   "cell_type": "markdown",
   "id": "cd44c510",
   "metadata": {},
   "source": [
    "## Run or submit the circuit on a remote device"
   ]
  },
  {
   "cell_type": "code",
   "execution_count": 26,
   "id": "37f9ebef",
   "metadata": {},
   "outputs": [
    {
     "name": "stdout",
     "output_type": "stream",
     "text": [
      "Logging as user hjaffali...\n",
      "Submitted a new batch: Job9831\n",
      "Result: ATOSDevice, QLM_LINALG\n",
      "Counts: [500, 0, 0, 524]\n",
      "Probabilities: [0.48828125 0.         0.         0.51171875]\n",
      "State: 00, Index: 0, Count: 500, Probability: 0.48828125\n",
      "State: 11, Index: 3, Count: 524, Probability: 0.51171875\n",
      "Error: 0.015628340765779864\n",
      "\n",
      "\n"
     ]
    }
   ],
   "source": [
    "result = run(circuit, ATOSDevice.QLM_LINALG)\n",
    "print(result)"
   ]
  },
  {
   "cell_type": "code",
   "execution_count": 28,
   "id": "9f3d9ab8",
   "metadata": {},
   "outputs": [],
   "source": [
    "from mpqp.execution import submit"
   ]
  },
  {
   "cell_type": "code",
   "execution_count": 30,
   "id": "5acaf7b9",
   "metadata": {},
   "outputs": [
    {
     "name": "stdout",
     "output_type": "stream",
     "text": [
      "cn8nvgv79cpiv1f53brg\n"
     ]
    }
   ],
   "source": [
    "job_id, job = submit(circuit, IBMDevice.IBMQ_QASM_SIMULATOR)\n",
    "print(job_id)"
   ]
  },
  {
   "cell_type": "code",
   "execution_count": 31,
   "id": "2619c488",
   "metadata": {},
   "outputs": [],
   "source": [
    "from mpqp.execution import remote_result_from_id"
   ]
  },
  {
   "cell_type": "code",
   "execution_count": 32,
   "id": "fa67799f",
   "metadata": {},
   "outputs": [
    {
     "name": "stdout",
     "output_type": "stream",
     "text": [
      "Result: IBMDevice, IBMQ_QASM_SIMULATOR\n",
      "Counts: [509, 0, 0, 515]\n",
      "Probabilities: [0.49707031 0.         0.         0.50292969]\n",
      "State: 00, Index: 0, Count: 509, Probability: 0.4970703125\n",
      "State: 11, Index: 3, Count: 515, Probability: 0.5029296875\n",
      "Error: None\n",
      "\n",
      "\n"
     ]
    }
   ],
   "source": [
    "result = remote_result_from_id(job_id, IBMDevice.IBMQ_QASM_SIMULATOR)\n",
    "print(result)"
   ]
  },
  {
   "cell_type": "code",
   "execution_count": null,
   "id": "ff0c15f7",
   "metadata": {},
   "outputs": [],
   "source": []
  }
 ],
 "metadata": {
  "kernelspec": {
   "display_name": "Python 3",
   "language": "python",
   "name": "python3"
  },
  "language_info": {
   "codemirror_mode": {
    "name": "ipython",
    "version": 3
   },
   "file_extension": ".py",
   "mimetype": "text/x-python",
   "name": "python",
   "nbconvert_exporter": "python",
   "pygments_lexer": "ipython3",
   "version": "3.9.5"
  }
 },
 "nbformat": 4,
 "nbformat_minor": 5
}
