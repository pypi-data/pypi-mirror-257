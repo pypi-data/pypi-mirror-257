{
 "cells": [
  {
   "cell_type": "markdown",
   "metadata": {},
   "source": [
    "# Walkthrough 4: Optical landscapes #"
   ]
  },
  {
   "cell_type": "markdown",
   "metadata": {},
   "source": [
    "## Introduction ##"
   ]
  },
  {
   "cell_type": "markdown",
   "metadata": {},
   "source": [
    "Barrier objects explored in the last walkthrough are powerful, but there are instances where this abstraction is not flexible enough (e.g., the barrier shapes are pre-determined, etc.).  \n",
    "\n",
    "In this walkthrough, we explore a more customizable way to alter the potential energy, as a function of position, experienced by the atom ensemble during the manipulation phase. Our new objects consist of `Snapshot`s , aka *snapshots*, which are optical potentials specified by providing a spatially-dependent potential energy at given positions at a fixed time, along with how the provided points should be interpolated.  \n",
    "\n",
    "Dynamics are described by many snapshots, each with a unique time.  This dynamic construction is called a `Landscape` and is the focus of this walkthrough. \n",
    "\n",
    "*NOTE: Landscape-type potentials are sourced from the same laser light as barriers and represent another abstraction available for the user to explore the \"painted light\" capabilities of Oqtant hardware.*  "
   ]
  },
  {
   "cell_type": "markdown",
   "metadata": {},
   "source": [
    "### Imports and user authentication ###"
   ]
  },
  {
   "cell_type": "code",
   "execution_count": null,
   "metadata": {},
   "outputs": [],
   "source": [
    "from oqtant.schemas.quantum_matter import QuantumMatterFactory\n",
    "\n",
    "qmf = QuantumMatterFactory()\n",
    "qmf.get_login()"
   ]
  },
  {
   "cell_type": "code",
   "execution_count": null,
   "metadata": {},
   "outputs": [],
   "source": [
    "qmf.get_client()"
   ]
  },
  {
   "cell_type": "markdown",
   "metadata": {},
   "source": [
    "## Snapshot objects  ##"
   ]
  },
  {
   "cell_type": "markdown",
   "metadata": {},
   "source": [
    "`Snapshot` (*snapshot*) objects represent the desired *instantaneous* optical potential applied to the atom ensemble at a particular time.    "
   ]
  },
  {
   "cell_type": "markdown",
   "metadata": {},
   "source": [
    "### Object creation ###"
   ]
  },
  {
   "cell_type": "markdown",
   "metadata": {},
   "source": [
    "Construct a snapshot by passing equal length lists of *positions* (in microns) and corresponding *potentials* (in kHz), the *time* (in ms) at which this snapshot takes place, and an interpolation parameter that communicates how to connect the given data *in space*."
   ]
  },
  {
   "cell_type": "code",
   "execution_count": null,
   "metadata": {},
   "outputs": [],
   "source": [
    "snapshot = qmf.create_snapshot(\n",
    "    time=2,\n",
    "    positions=[-10, -9.5, 0, 5, 10],\n",
    "    potentials=[0, 10, 20, 15, 0],\n",
    "    interpolation=\"LINEAR\",\n",
    ")"
   ]
  },
  {
   "cell_type": "markdown",
   "metadata": {},
   "source": [
    "### Visualizing the instantaneous potential energy contribution ###"
   ]
  },
  {
   "cell_type": "markdown",
   "metadata": {},
   "source": [
    "Much like for barriers, we can use the `Snapshot.show_potential()` method to visualize the potential energy vs. position associated with a particular snapshot:"
   ]
  },
  {
   "cell_type": "code",
   "execution_count": null,
   "metadata": {},
   "outputs": [],
   "source": [
    "snapshot.show_potential(xlimits=[-20, 20], ylimits=[-2, 30])"
   ]
  },
  {
   "cell_type": "markdown",
   "metadata": {},
   "source": [
    "Notice the slight \"waviness\" of the snapshot potential.  This results directly from the snapshot potential being generated as a sum of finite-width, but variable amplitude, projected Gaussian spots, as described in detail in walkthrough 3.  \n",
    "\n",
    "Compare the actual projected potential (above) with the ideal one represented by the Snapshot object data:"
   ]
  },
  {
   "cell_type": "code",
   "execution_count": null,
   "metadata": {},
   "outputs": [],
   "source": [
    "snapshot.show_potential(include_ideal=True, xlimits=[-20, 20], ylimits=[-2, 30])"
   ]
  },
  {
   "cell_type": "markdown",
   "metadata": {},
   "source": [
    "The input data for the snapshot is shown as points, while the ideal potential based on this data appears as a dashed line.  The solid line, which is the same as above, represents the actual potential applied at the time corresponding to this snapshot, within the limitations of the projection system.  As with barriers, we can see that the biggest differences arise at sharp features where the potential energy changes very quickly as a function of position.  "
   ]
  },
  {
   "cell_type": "markdown",
   "metadata": {},
   "source": [
    "### Spatial interpolation options ###"
   ]
  },
  {
   "cell_type": "markdown",
   "metadata": {},
   "source": [
    "The *interpolation* parameter passed to the constructor of our snapshot object controls how the given points formed by the equal length lists of (positions, potentials) are connected *spatially* (as opposed to the previously encountered rf evaporation and barrier interpolation inputs, which controlled how points were connected *in time*.)  Options for spatial interpolation include those options familiar to scipy users and are summarized in the following table:\n",
    "\n",
    "| Interpolation parameter value           | notes                                |\n",
    "|-----------------------------------------|--------------------------------------|\n",
    "| \"ZERO\"                                  | Spline interpolation at zeroth order |\n",
    "| \"SLINEAR\"                               | Spline interpolation at first order  |\n",
    "| \"QUADRATIC\"                             | Spline interpolation at second order |\n",
    "| \"CUBIC\" or \"SMOOTH\"                     | Spline interpolation at third order  |\n",
    "| \"OFF\" or \"STEP\" or \"PREVIOUS\"           | Assumes value of previous data point |\n",
    "| \"NEXT\"                                  | Assumes value of next data point     |\n",
    "| \"LINEAR\"                                | Linear interpolation between points  |\n",
    "\n",
    "*Note: The total optical potential applied to the quantum matter sample is bounded below by 0 kHz (no painted light at that position) and above by 100 kHz, which under certain circumstances can alter the expected potential energy landscape.  This is particularly true for high-order interpolation options, e.g. cubic, which tend to overshoot or undershoot these bounds for points close in proximity to them.  Also, just as for multiple barriers that overlap, the presence of snapshots/landscapes and barriers together can lead to optical potentials that sample this energetic ceiling.*       "
   ]
  },
  {
   "cell_type": "code",
   "execution_count": null,
   "metadata": {},
   "outputs": [],
   "source": [
    "options = [\"OFF\", \"LINEAR\", \"CUBIC\"]\n",
    "for option in options:\n",
    "    snapshot = qmf.create_snapshot(\n",
    "        time=2,\n",
    "        positions=[-10, -5, 0, 5, 10, 25, 30, 39],\n",
    "        potentials=[0, 10, 20, 15, 0, 10, 15, 2],\n",
    "        interpolation=option,\n",
    "    )\n",
    "    snapshot.show_potential(ylimits=[-5, 30], xlimits=[-20, 50], include_ideal=True)"
   ]
  },
  {
   "cell_type": "markdown",
   "metadata": {},
   "source": [
    "The snapshot data structure allows for very flexible potential-energy profiles."
   ]
  },
  {
   "cell_type": "markdown",
   "metadata": {},
   "source": [
    "## Landscape objects ##"
   ]
  },
  {
   "cell_type": "markdown",
   "metadata": {},
   "source": [
    "`Landscape` (*landscape*) objects represent the dynamic potential energy as a function of position. A *landscape* connects a series of snapshots together in time.  A valid *landscape* needs at least two snapshots to define the potential at the start and end time that the landscape should be applied.  At intermediate times between the provided snapshots, the overall landscape / potential energy as a function of position is *linearly* interpolated point-by-point (in position) along the same 1-micron-pitch grid used for projecting individual spots whose sum makes up the optical potential.  This interpolation behavior is not user configurable.  \n",
    "\n",
    "NOTE: The time values of individual snapshots that make up the overall Landscape object must be at least 1 ms apart."
   ]
  },
  {
   "cell_type": "markdown",
   "metadata": {},
   "source": [
    "Let us demonstrate the instantiation of an landscape that evolves between a narrow/short barrier-like object to a wider/taller one with a different spatial interpolation style.  "
   ]
  },
  {
   "cell_type": "code",
   "execution_count": null,
   "metadata": {},
   "outputs": [],
   "source": [
    "snapshot1 = qmf.create_snapshot(\n",
    "    time=2,\n",
    "    positions=[-10, -5, 0, 5, 10],\n",
    "    potentials=[0, 10, 20, 15, 0],\n",
    "    interpolation=\"LINEAR\",\n",
    ")\n",
    "\n",
    "snapshot2 = qmf.create_snapshot(\n",
    "    time=5,\n",
    "    positions=[-20, -10, 0, 10, 20],\n",
    "    potentials=[0, 15, 40, 10, 0],\n",
    "    interpolation=\"CUBIC\",\n",
    ")\n",
    "\n",
    "landscape = qmf.create_landscape(snapshots=[snapshot2, snapshot1])"
   ]
  },
  {
   "cell_type": "markdown",
   "metadata": {},
   "source": [
    "Observe this applied potential energy derived from our *landscape* object at any particular time using the `Landscape.show_potential()` method:"
   ]
  },
  {
   "cell_type": "code",
   "execution_count": null,
   "metadata": {},
   "outputs": [],
   "source": [
    "landscape.show_potential(times=[2, 3, 4, 5], xlimits=[-30, 30], ylimits=[-5, 45])"
   ]
  },
  {
   "cell_type": "markdown",
   "metadata": {},
   "source": [
    "## Add a Landscape object to QuantumMatter ##"
   ]
  },
  {
   "cell_type": "markdown",
   "metadata": {},
   "source": [
    "Similar to how we added *barrier*s, we can also add *landscape*s to our *matter* objects, in this case by providing a `landscape` parameter during instantiation.  \n",
    "\n",
    "In this example, we include both a simple Barrier as well as a Landscape object, in this case made up of just two snapshots.  As usual, all objects are created with the help of our *factory*:"
   ]
  },
  {
   "cell_type": "code",
   "execution_count": null,
   "metadata": {},
   "outputs": [],
   "source": [
    "# define a simple barrier, just as an example, that lives until t = 10\n",
    "barrier = qmf.create_barrier(\n",
    "    positions=[30, 30], heights=[30, 30], widths=[3, 3], shape=\"GAUSSIAN\", times=[3, 10]\n",
    ")\n",
    "barrier.evolve(duration=3, height=15, position=-30)\n",
    "\n",
    "# and the dynamic landscape, consisting of two snapshots for this example\n",
    "snapshot1 = qmf.create_snapshot(\n",
    "    time=0,\n",
    "    positions=[-10, -5, 0, 5, 10],\n",
    "    potentials=[0, 10, 20, 15, 0],\n",
    "    interpolation=\"LINEAR\",\n",
    ")\n",
    "snapshot2 = qmf.create_snapshot(\n",
    "    time=15,\n",
    "    positions=[-20, -10, 0, 10, 20],\n",
    "    potentials=[0, 15, 40, 10, 0],\n",
    "    interpolation=\"LINEAR\",\n",
    ")\n",
    "landscape = qmf.create_landscape(snapshots=[snapshot1, snapshot2])\n",
    "\n",
    "# and construct the program\n",
    "matter = qmf.create_quantum_matter(\n",
    "    name=\"paint 1d job trial\",\n",
    "    temperature=100,\n",
    "    lifetime=20,\n",
    "    time_of_flight=10,\n",
    "    barriers=[barrier],\n",
    "    landscape=landscape,\n",
    ")"
   ]
  },
  {
   "cell_type": "markdown",
   "metadata": {},
   "source": [
    "### Visualize the overall potential energy ###"
   ]
  },
  {
   "cell_type": "markdown",
   "metadata": {},
   "source": [
    "Show the total spatial potential energy as a function of position for various manipulation phase times using the `QuantumMatter.show_potential()` method.  The total potential will include contributions from both our *matter* object's constituent barriers, the new landscape, as well as the background magnetic trapping field: "
   ]
  },
  {
   "cell_type": "code",
   "execution_count": null,
   "metadata": {},
   "outputs": [],
   "source": [
    "matter.show_potential(times=[2, 4, 8, 16], ylimits=[-2, 50])"
   ]
  },
  {
   "cell_type": "markdown",
   "metadata": {},
   "source": [
    "As shown, the total potential includes both the evolving landscape as well as the scanning barrier (in addition to the magnetic trapping potential)."
   ]
  },
  {
   "cell_type": "markdown",
   "metadata": {},
   "source": [
    "### Submit QuantumMatter to Oqtant QMS ###"
   ]
  },
  {
   "cell_type": "code",
   "execution_count": null,
   "metadata": {},
   "outputs": [],
   "source": [
    "matter.submit()"
   ]
  },
  {
   "cell_type": "markdown",
   "metadata": {},
   "source": [
    "### Retrieve results ###"
   ]
  },
  {
   "cell_type": "markdown",
   "metadata": {},
   "source": [
    "We retrieve the results in the normal way:"
   ]
  },
  {
   "cell_type": "code",
   "execution_count": null,
   "metadata": {},
   "outputs": [],
   "source": [
    "matter.get_result()\n",
    "matter.status"
   ]
  },
  {
   "cell_type": "markdown",
   "metadata": {},
   "source": [
    "The output data includes some of the results seen previously for jobs that use time-of-flight imaging.  Due to the presence of the painted potentials, the Oqtant platform will not attempt to fit a temperature to the falling cloud.  This is due to the high chance of interference or structure in this image. Oqtant will return 0 for these calculated fields. Advanced analysis is left to the user.  "
   ]
  },
  {
   "cell_type": "code",
   "execution_count": null,
   "metadata": {},
   "outputs": [],
   "source": [
    "matter.output.fields"
   ]
  },
  {
   "cell_type": "code",
   "execution_count": null,
   "metadata": {},
   "outputs": [],
   "source": [
    "matter.output.plot_tof(figsize=(6, 6))"
   ]
  },
  {
   "cell_type": "markdown",
   "metadata": {},
   "source": [
    "## Advanced options and discussion ##"
   ]
  },
  {
   "cell_type": "markdown",
   "metadata": {},
   "source": [
    "### Mapped job type ###"
   ]
  },
  {
   "cell_type": "markdown",
   "metadata": {},
   "source": [
    "Our *matter* object that includes a *landscape* is mapped to a *PAINT_1D* job type. "
   ]
  },
  {
   "cell_type": "code",
   "execution_count": null,
   "metadata": {},
   "outputs": [],
   "source": [
    "matter.job_type"
   ]
  },
  {
   "cell_type": "code",
   "execution_count": null,
   "metadata": {},
   "outputs": [],
   "source": []
  }
 ],
 "metadata": {
  "kernelspec": {
   "display_name": "Python 3 (ipykernel)",
   "language": "python",
   "name": "python3"
  },
  "language_info": {
   "codemirror_mode": {
    "name": "ipython",
    "version": 3
   },
   "file_extension": ".py",
   "mimetype": "text/x-python",
   "name": "python",
   "nbconvert_exporter": "python",
   "pygments_lexer": "ipython3",
   "version": "3.11.3"
  }
 },
 "nbformat": 4,
 "nbformat_minor": 2
}
