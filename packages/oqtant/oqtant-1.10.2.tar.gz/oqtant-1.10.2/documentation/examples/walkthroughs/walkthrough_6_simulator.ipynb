{
 "cells": [
  {
   "cell_type": "markdown",
   "id": "cd491ccc46425676",
   "metadata": {},
   "source": [
    "# Walkthrough 6: The Oqtant BEC simulator \n",
    "\n",
    "The Oqtant simulator provides a theoretical simulation of a pure Bose-Einstein condensate in a magnetic trap with the same trap frequencies as the Oqtant hardware. The simulator is a useful tool for designing experiments to run on Oqtant hardware as it is always available! The simulation runs locally on your computer. \n",
    "\n",
    "Simulation jobs require an Oqtant account and use the same workflow as normal jobs, but do NOT count against your job quota or daily limit.\n",
    "\n",
    "## About the Oqtant simulator\n",
    "\n",
    "The Oqtant simulator is a theorietical tool for exploring BEC. The simulator does not simulate the Oqtant hardware, rather it is an additional tool for learning and experimenting with quantum matter."
   ]
  },
  {
   "cell_type": "markdown",
   "id": "8c95e7a3",
   "metadata": {},
   "source": [
    "## User authentication "
   ]
  },
  {
   "cell_type": "code",
   "execution_count": null,
   "id": "2eb41a96",
   "metadata": {},
   "outputs": [],
   "source": [
    "from oqtant.schemas.quantum_matter import QuantumMatterFactory, QuantumMatter\n",
    "from IPython.display import HTML\n",
    "from matplotlib import pyplot as plt\n",
    "\n",
    "qmf = QuantumMatterFactory()\n",
    "qmf.get_login()"
   ]
  },
  {
   "cell_type": "code",
   "execution_count": null,
   "id": "3e5d488b",
   "metadata": {},
   "outputs": [],
   "source": [
    "qmf.get_client()"
   ]
  },
  {
   "cell_type": "markdown",
   "id": "bca881df",
   "metadata": {},
   "source": [
    "## Note on authentication and job limits for simulator\n",
    "\n",
    "Simulator jobs are run locally and totally free! There is no limit to the number of simulations you may run per day with OqtAPI. However, the simulator still requires a valid authentication/token to use ```QuantumMatterFactory``` methods. These tokens last for 2 hours and may be refreshed by re-evaluating the first 2 cells only. There is no need to restart the kernel to refresh your token. \n",
    "\n",
    "Job limits and usage are displayed in every authenticated notebook whether you are running simulator or hardware jobs, which may exist in the same notebook (like this one!)."
   ]
  },
  {
   "cell_type": "markdown",
   "id": "73461bcd",
   "metadata": {},
   "source": [
    "## Create *barrier* objects as desired. \n",
    "\n",
    "View the barrier dynamics and adjust as necessary. The simulator supports all of the same painted potential features as the hardware experiment."
   ]
  },
  {
   "cell_type": "code",
   "execution_count": null,
   "id": "ed853829",
   "metadata": {},
   "outputs": [],
   "source": [
    "barrier1 = qmf.create_barrier(\n",
    "    positions=[0, 0],\n",
    "    heights=[0, 3],\n",
    "    widths=[1, 1],\n",
    "    times=[0, 6],\n",
    "    shape=\"GAUSSIAN\",\n",
    ")\n",
    "barrier1.evolve(duration=4, height=3)\n",
    "\n",
    "barrier2 = qmf.create_barrier(\n",
    "    positions=[-10, -10],\n",
    "    heights=[0, 3],\n",
    "    widths=[1, 1],\n",
    "    times=[0, 6],\n",
    "    shape=\"GAUSSIAN\",\n",
    ")\n",
    "barrier2.evolve(duration=4, height=3)\n",
    "\n",
    "barrier2.show_dynamics()"
   ]
  },
  {
   "cell_type": "markdown",
   "id": "2c7e856d",
   "metadata": {},
   "source": [
    "## Instantiate a *matter* object\n",
    "\n",
    "*Note: the time required for the simulation to complete is proportional to the lifetime of the experiment you have designed. Long lifetimes >10ms may take several minutes to complete.*"
   ]
  },
  {
   "cell_type": "code",
   "execution_count": null,
   "id": "6939c827",
   "metadata": {},
   "outputs": [],
   "source": [
    "sim_matter = qmf.create_quantum_matter(\n",
    "    barriers=[barrier1, barrier2], lifetime=10, image=\"IN_TRAP\"\n",
    ")\n",
    "\n",
    "sim_matter.show_potential([2, 8, 9], ylimits=[0, 8])"
   ]
  },
  {
   "cell_type": "markdown",
   "id": "402d06c8",
   "metadata": {},
   "source": [
    "## Submit the simulation job\n",
    "\n",
    "Simulated jobs are indicated with the `sim=True` argument. "
   ]
  },
  {
   "cell_type": "code",
   "execution_count": null,
   "id": "df100a1b",
   "metadata": {},
   "outputs": [],
   "source": [
    "sim_matter.submit(sim=True)"
   ]
  },
  {
   "cell_type": "markdown",
   "id": "43f973a7",
   "metadata": {},
   "source": [
    "## Retrieve the job results\n",
    "\n",
    "This is the step that will run slowly for long lifetimes: calculating and preparing the output of the simulator. Under the hood, this step finds the ground state of the simulated system, and evolves the wave function in time in the presence of the optical potentials specified by the *matter* object.\n",
    "\n",
    "*Note: simulated jobs are not assigned an id or stored in the Oqtant database. All data management is left to the user. Use the local save/load functionality to preserve simulation results between python sessions.*"
   ]
  },
  {
   "cell_type": "code",
   "execution_count": null,
   "id": "12bc2f45",
   "metadata": {},
   "outputs": [],
   "source": [
    "sim_matter.get_result()"
   ]
  },
  {
   "cell_type": "markdown",
   "id": "e622238c",
   "metadata": {},
   "source": [
    "## Save simulator outputs to file\n",
    "\n",
    "Simulator jobs are run locally. In order to retrieve simulator inputs or outputs outside of your current python session, you must save them to a file. Please note that only Oqtant job outputs are saved in the resulting file:\n",
    "- ```output``` \n",
    "- ```input```\n",
    "- ```name```\n",
    "- ```temperature``` - this is not used, all sim temperatures = 0\n",
    "- ```lifetime``` \n",
    "- ```image``` \n",
    "- ```time_of_flight``` \n",
    "- ```rf_evap``` - this is not used. no evaporation in sim jobs \n",
    "- ```rf_shield``` - this is not used. no shield in sim jobs \n",
    "- ```barriers``` \n",
    "- ```landscape```\n",
    "- ```lasers``` - this is not used. no laser pulses in sim jobs \n",
    "- ```note```\n",
    "\n",
    "\n",
    "Additonal simulator outputs in ```sim_matter.sim``` , are not saved. Please take care to save all desired simulator outputs to additional files before ending your session."
   ]
  },
  {
   "cell_type": "code",
   "execution_count": null,
   "id": "704f90cd",
   "metadata": {},
   "outputs": [],
   "source": [
    "sim_matter.write_to_file(file_path=\"your_file_path.txt\")"
   ]
  },
  {
   "cell_type": "markdown",
   "id": "111929e8",
   "metadata": {},
   "source": [
    "## Load simulator outputs from file\n",
    "\n",
    "```sim_matter_loaded.sim``` is not populated, so only ```sim_matter.output``` is available for results. To re-produce simulator outputs, re-run the simulation using ```sim_matter```. Take care to include ```refresh=False``` when loading a simulator job from file. Locally run simulations cannot be refreshed from the Oqtant server; they are only available from your local storage."
   ]
  },
  {
   "cell_type": "code",
   "execution_count": null,
   "id": "5faf1571",
   "metadata": {},
   "outputs": [],
   "source": [
    "sim_matter_loaded = qmf.load_matter_from_file(\n",
    "    file_path=\"your_file_path.txt\", refresh=False\n",
    ")\n",
    "\n",
    "print(sim_matter_loaded.status)"
   ]
  },
  {
   "cell_type": "markdown",
   "id": "c23f1c27",
   "metadata": {},
   "source": [
    "## Duplicate a simulation loaded from file\n",
    "\n",
    "The easiest way to copy a simulation job for re-run (on hardware or simulation) is to create a ```QuantumMatter``` object directly from the input object, rather than using ```qmf.create_quantum_matter()```"
   ]
  },
  {
   "cell_type": "code",
   "execution_count": null,
   "id": "10ccd138",
   "metadata": {},
   "outputs": [],
   "source": [
    "sim_matter_rerun = QuantumMatter.from_input(\n",
    "    name=\"test_sim_rerun\", input=sim_matter_loaded.input, client=qmf.client\n",
    ")\n",
    "sim_matter_rerun.submit(sim=True)"
   ]
  },
  {
   "cell_type": "markdown",
   "id": "d525c12b",
   "metadata": {},
   "source": [
    "## View simulator results \n",
    "\n",
    "Simulator results are interpolated to the resolution of the in-trap imaging system, so they are easily compared to experimental results. Use the ```output``` object methods to investigate the results."
   ]
  },
  {
   "cell_type": "markdown",
   "id": "082709d5",
   "metadata": {},
   "source": [
    "### A note on simulator-generated IT OD images\n",
    "\n",
    "When the Oqtant hardware captures an in-trap image, the number of atoms detected is affected by the presence of the magnetic trap. Spatially varying magnetic fields (check out ```sim_matter.show_potential```) also complicate the calculation of atom number in hardware experimental in-trap images. For this reason, Oqtant in-trap images are not returned with an atom number. \n",
    "\n",
    "Conversely, the simulator has perfect detection because every atom is accounted for. In order to produce simulator in-trap image outputs which are an approximate indicator of hardware performance, simulator in-trap images have been systematically corrected to match the offset in atom number observed in experiment. The result is an in-trap image with a hardware-like peak OD, which displays fewer atoms. If you wish to calculate atom currents or total atoms in any specific region, please use the un-corrected outputs in ```sim_matter.sim.get_column_densities```. Read more about Oqtant hardware imaging here: [Oqtant imaging tech note](https://oqtant.infleqtion.com/technical/imaging.md)"
   ]
  },
  {
   "cell_type": "code",
   "execution_count": null,
   "id": "c505334a",
   "metadata": {},
   "outputs": [],
   "source": [
    "sim_matter.output.plot_it(grid_on=False)"
   ]
  },
  {
   "cell_type": "markdown",
   "id": "debc08b0",
   "metadata": {},
   "source": [
    "## Additional simulation outputs\n",
    "\n",
    "The simulation object in OqtAPI comes with lots of fun visualization tools to explore the quantum wave function of your simulated BEC. These outputs cannot be generated in a single shot of the experiment due to the destructive nature of imaging. "
   ]
  },
  {
   "cell_type": "markdown",
   "id": "93e1435f",
   "metadata": {},
   "source": [
    "### View and animate sample density at arbitrary times\n",
    "\n",
    "The simulation grid size depends on whether the requested time (in ms) is within the in-trap experiment, or during TOF expansion. Show and access the cartesian column densities of the sample along both axes of the trap.\n",
    "\n",
    "Note the conversion from simulator length units to microns."
   ]
  },
  {
   "cell_type": "code",
   "execution_count": null,
   "id": "03f13a54",
   "metadata": {},
   "outputs": [],
   "source": [
    "time = 1\n",
    "\n",
    "col_y, col_x, slice_y, slice_x, sim_grid = sim_matter.sim.get_column_densities(\n",
    "    time_ms=time\n",
    ")\n",
    "\n",
    "x_um = sim_grid.x_1d * sim_matter.sim.qm_potential.sim_length_to_oqt\n",
    "\n",
    "plt.plot(x_um, slice_x)\n",
    "plt.xlabel(\"X ($\\\\mu$m)\")\n",
    "plt.ylabel(\"Density (Atoms/ $\\\\mu$m ^2)\")\n",
    "plt.title(\"Simulator X slice at t = \" + str(time) + \"ms\")\n",
    "plt.show()"
   ]
  },
  {
   "cell_type": "code",
   "execution_count": null,
   "id": "3116f380",
   "metadata": {},
   "outputs": [],
   "source": [
    "sim_matter.sim.show_column_densities(times_ms=[1.0], slices=True)"
   ]
  },
  {
   "cell_type": "markdown",
   "id": "2812ef50",
   "metadata": {},
   "source": [
    "### Density animations are only available during the in-trap portion of the experiment\n",
    "\n",
    "If you wish to animate this portion, you may access column densitites for time-of-flight using ```sim_matter.sim.get_column_densities``` and create your own animation!"
   ]
  },
  {
   "cell_type": "code",
   "execution_count": null,
   "id": "774f8235",
   "metadata": {},
   "outputs": [],
   "source": [
    "den = sim_matter.sim.animate_density(frame_interval=1, show_potential=True)\n",
    "HTML(den.to_jshtml())"
   ]
  },
  {
   "cell_type": "markdown",
   "id": "d53e8652",
   "metadata": {},
   "source": [
    "## Animate the density profile of the condensate\n",
    "\n",
    "X is along the long axis of the trap."
   ]
  },
  {
   "cell_type": "code",
   "execution_count": null,
   "id": "6d368963",
   "metadata": {},
   "outputs": [],
   "source": [
    "profiles = sim_matter.sim.animate_profiles(frame_interval=2)\n",
    "HTML(profiles.to_jshtml())"
   ]
  },
  {
   "cell_type": "markdown",
   "id": "3ea112a9",
   "metadata": {},
   "source": [
    "## View and animate phase of the condensate\n",
    "\n",
    "The phase of the condensate wave function determines the flow and energy of condensed atoms.\n",
    "In particular, spatial changes in the phase indicate currents of condensed atoms, while changes in the phase in time reflect energies. \n",
    "\n",
    "Plot the phase information (in cylindrical coordinates) at arbitrary times, and produce animations for the in-trap portion of the experiment."
   ]
  },
  {
   "cell_type": "code",
   "execution_count": null,
   "id": "2d532641",
   "metadata": {},
   "outputs": [],
   "source": [
    "# visualize the quantum phase.  useful to the user but no hardwaree equivalent output.  cylindrical coordinates with x defining the long axis and R defining the radial axis.\n",
    "sim_matter.sim.show_phase([0.1, 5, 10], figsize=(3, 3))\n",
    "\n",
    "phase = sim_matter.sim.animate_phase(frame_interval=1, show_potential=True)\n",
    "HTML(phase.to_jshtml())"
   ]
  },
  {
   "cell_type": "markdown",
   "id": "8e33d533",
   "metadata": {},
   "source": [
    "## View and animate the flow of atoms in the condensate\n",
    "\n",
    "This may also be called the atom current. Positive currents flow to the right, negative to the left."
   ]
  },
  {
   "cell_type": "code",
   "execution_count": null,
   "id": "f8413374",
   "metadata": {},
   "outputs": [],
   "source": [
    "# total current along the x-direction.  useful to a user but no hardware equivalent output.\n",
    "sim_matter.sim.show_current([9], figsize=(6, 4))"
   ]
  },
  {
   "cell_type": "code",
   "execution_count": null,
   "id": "1b8f65de",
   "metadata": {},
   "outputs": [],
   "source": [
    "flow = sim_matter.sim.animate_current(frame_interval=1)\n",
    "HTML(flow.to_jshtml())"
   ]
  },
  {
   "cell_type": "markdown",
   "id": "c239a6a1",
   "metadata": {},
   "source": [
    "## Simulate the same job in time of flight"
   ]
  },
  {
   "cell_type": "code",
   "execution_count": null,
   "id": "f5cc6fa7",
   "metadata": {},
   "outputs": [],
   "source": [
    "sim_matter_tof = qmf.create_quantum_matter(\n",
    "    barriers=[barrier1, barrier2], lifetime=10, time_of_flight=10\n",
    ")"
   ]
  },
  {
   "cell_type": "code",
   "execution_count": null,
   "id": "6a87bf0a",
   "metadata": {},
   "outputs": [],
   "source": [
    "sim_matter_tof.submit(sim=True)"
   ]
  },
  {
   "cell_type": "code",
   "execution_count": null,
   "id": "65b8b29f",
   "metadata": {},
   "outputs": [],
   "source": [
    "sim_matter_tof.get_result()"
   ]
  },
  {
   "cell_type": "code",
   "execution_count": null,
   "id": "bef353b3",
   "metadata": {},
   "outputs": [],
   "source": [
    "sim_matter_tof.output.plot_tof(figsize=(5, 5))"
   ]
  },
  {
   "cell_type": "markdown",
   "id": "fcfeb8e9",
   "metadata": {},
   "source": [
    "## Compare to experimental outputs by running an Oqtant hardware job\n",
    "\n",
    "Create an additional *matter* object, but apply the same barriers as in the simulation job. Submit the *matter* as normal.\n",
    "\n",
    "# When you are ready to submit a HARDWARE JOB, uncomment the last line of this block"
   ]
  },
  {
   "cell_type": "code",
   "execution_count": null,
   "id": "5fe31fe0",
   "metadata": {},
   "outputs": [],
   "source": [
    "exp_matter = qmf.create_quantum_matter(\n",
    "    barriers=[barrier1, barrier2], lifetime=8, image=\"IN_TRAP\"\n",
    ")\n",
    "# exp_matter.submit()"
   ]
  },
  {
   "cell_type": "code",
   "execution_count": null,
   "id": "bf12ce66",
   "metadata": {},
   "outputs": [],
   "source": [
    "exp_matter.get_result()\n",
    "print(exp_matter.status)\n",
    "exp_matter.output.plot_it()"
   ]
  },
  {
   "cell_type": "markdown",
   "id": "d6a95b99",
   "metadata": {},
   "source": [
    "## Memory and evaluation time considerations\n",
    "\n",
    "The available memory and time required to evaluate an Oqtant simulator job depend principally on the length of the different experimental stages specified. Memory and time do not scale significantly with experiment complexity (i.e. number of snapshots or barriers). TOF stage duration dominates evaluation time due to the larger grid size. For more information about grid size, see the [simulator technical note](https://www.oqtant.com/technical/simulator.md). \n",
    "\n",
    "### Benchmarking of the simulator\n",
    "\n",
    "Initial benchmarking was performed on simulation (```.get_result()```) only. Generating simulation outputs using access or plotting methods (```get_column_densities```, ```show_column_densities```) or any animations will incur additional processing time and memory usage. Benchmarking performed on the the following machine:\n",
    "\n",
    "\n",
    "![benchmark_machine](images/benchmark_machine.png)\n",
    "\n",
    "\n",
    "\n",
    "![lifetime profile results](images/sim_vs_lifetime.png)\n",
    "\n",
    "![TOF profile results](images/sim_vs_TOF.png)\n",
    "\n",
    "\n",
    "A practical upper limit for the benchmark hardware: an experiment of 80ms with 20ms TOF (maximum length) ran in ~25 mins.\n"
   ]
  },
  {
   "cell_type": "code",
   "execution_count": null,
   "id": "b47e6481",
   "metadata": {},
   "outputs": [],
   "source": []
  }
 ],
 "metadata": {
  "kernelspec": {
   "display_name": "Python 3 (ipykernel)",
   "language": "python",
   "name": "python3"
  },
  "language_info": {
   "codemirror_mode": {
    "name": "ipython",
    "version": 3
   },
   "file_extension": ".py",
   "mimetype": "text/x-python",
   "name": "python",
   "nbconvert_exporter": "python",
   "pygments_lexer": "ipython3",
   "version": "3.10.13"
  }
 },
 "nbformat": 4,
 "nbformat_minor": 5
}
