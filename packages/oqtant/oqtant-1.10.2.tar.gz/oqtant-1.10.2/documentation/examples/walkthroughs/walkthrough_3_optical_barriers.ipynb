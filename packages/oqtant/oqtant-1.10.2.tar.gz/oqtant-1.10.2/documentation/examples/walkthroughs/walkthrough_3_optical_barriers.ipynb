{
 "cells": [
  {
   "cell_type": "markdown",
   "metadata": {},
   "source": [
    "# Walkthrough 3: Optical barriers #"
   ]
  },
  {
   "cell_type": "markdown",
   "metadata": {},
   "source": [
    "## Introduction ##"
   ]
  },
  {
   "cell_type": "markdown",
   "metadata": {},
   "source": [
    "The next level of control of quantum matter is dynamically altering the potential energy as a function of position during the manipulation phase.  In Oqtant, this is accomplished by applying far-blue-detuned light fields to the atom ensemble.  This \"painted\" light represents a *repulsive* potential energy to the atoms via the AC Stark shift.  The spatially-dependent potential energy depends on the local intensity of the light field. Dynamic control of the local intensity alters the potential energy landscape in which the atoms are trapped. \n",
    "\n",
    "OqtAPI users have control of this light field by creating and manipulating one or more `Barrier` objects, which are superimposed on the background magnetic potential that traps the atoms.  Other abstracted optical objects are also supported and will be the topic of future walkthroughs.  \n",
    "\n",
    "In this walkthrough, we will explore application of quasi-1D optical barriers on Oqtant's cigar-shaped atomic ensembles.  Users have control over the dynamic position (in microns), width (in microns), energetic height (in kHz), and shape of the barrier objects painted along the long dimension of the ensemble.  The effective 1D potential is achieved by quickly rastering/scanning the applied light along one short axis, while the light propagates along the other short axis.  \n",
    "\n",
    "Application of these barriers allows for the ensemble to be split, recombined, swept to one side, or any number of other desired manipulations.  Such manipulations are the building blocks for constructing atomtronic circuits, exploring interference and tunneling, studying quantum dynamics, or developing quantum sensors.    "
   ]
  },
  {
   "cell_type": "markdown",
   "metadata": {},
   "source": [
    "### Imports and user authentication ###"
   ]
  },
  {
   "cell_type": "code",
   "execution_count": null,
   "metadata": {},
   "outputs": [],
   "source": [
    "from oqtant.schemas.quantum_matter import QuantumMatterFactory\n",
    "\n",
    "qmf = QuantumMatterFactory()\n",
    "qmf.get_login()"
   ]
  },
  {
   "cell_type": "code",
   "execution_count": null,
   "metadata": {},
   "outputs": [],
   "source": [
    "qmf.get_client()"
   ]
  },
  {
   "cell_type": "markdown",
   "metadata": {},
   "source": [
    "## Barrier objects  ##"
   ]
  },
  {
   "cell_type": "markdown",
   "metadata": {},
   "source": [
    "Barriers are included in *matter* by passing a list of `Barrier` (*barrier*) objects during creation by the factory.  Let us first explore *barrier* objects themselves. "
   ]
  },
  {
   "cell_type": "markdown",
   "metadata": {},
   "source": [
    "### Create a Barrier object ###"
   ]
  },
  {
   "cell_type": "markdown",
   "metadata": {},
   "source": [
    "Create a Gaussian-shaped *barrier* centered at a position of 10 (microns) with an energetic height of 30 (kHz) and a width of 3 (microns).  Here, a position of 0 corresponds to the geometric center of the atom ensemble along the long dimension.  Let us plan on having a lifetime of 10 ms for the manipulation phase of our *matter* object, with our barrier being applied starting at t = 2.5 ms after the end of RF evaporation, and lasting until t = 7.5 ms. This represents a barrier lifetime of 5 ms. We create *barrier* objects by providing equal length lists of barrier parameters at specified times, as follows:  "
   ]
  },
  {
   "cell_type": "code",
   "execution_count": null,
   "metadata": {},
   "outputs": [],
   "source": [
    "barrier = qmf.create_barrier(\n",
    "    positions=[10, 10],\n",
    "    heights=[60, 60],\n",
    "    widths=[2, 2],\n",
    "    times=[2.5, 7.5],\n",
    "    shape=\"GAUSSIAN\",\n",
    ")"
   ]
  },
  {
   "cell_type": "markdown",
   "metadata": {},
   "source": [
    "### Visualize a Barrier object at fixed times ###"
   ]
  },
  {
   "cell_type": "markdown",
   "metadata": {},
   "source": [
    "What does our created *barrier* look like?  We can use the `Barrier.show_potential()` method to find out.  This method accepts a list of times for which to plot the position-dependent potential energy represented by the *barrier*:"
   ]
  },
  {
   "cell_type": "code",
   "execution_count": null,
   "metadata": {},
   "outputs": [],
   "source": [
    "barrier.show_potential(times=[0, 5])"
   ]
  },
  {
   "cell_type": "markdown",
   "metadata": {},
   "source": [
    "We can see that at t = 0, our barrier hasn't been \"born\" yet, and the potential energy is zero everywhere.  However,  at t = 5 our barrier is now present (and will remain present until the end of its lifetime at t = 7.5). \n",
    "\n",
    "The plot above includes effects from the hardware implementation of the optical barriers realized by the Oqtant hardware, which are discussed in more detail below.  These effects are due to:\n",
    "\n",
    "- The optical projection system that creates barriers has finite resolution\n",
    "- Barrier parameters like position, width, and height are updated periodically every 100 microseconds rather than continuously\n",
    "- Barriers are implemented as a linear superposition of Gaussian spots over a fixed grid of positions with dynamic/variable weights"
   ]
  },
  {
   "cell_type": "markdown",
   "metadata": {},
   "source": [
    "If you want to explore the differences between the potential actually produced in the hardware and that specified by a user-created Barrier object (the so-called \"ideal\" potential), you can pass the optional parameter `include_ideal=True` to the show_potential() method.  You can also customize the region of interest by providing `xlimits` and `ylimits` lists:"
   ]
  },
  {
   "cell_type": "code",
   "execution_count": null,
   "metadata": {},
   "outputs": [],
   "source": [
    "barrier.show_potential(\n",
    "    times=[0, 5], include_ideal=True, xlimits=[0, 20], ylimits=[-2, 75]\n",
    ")"
   ]
  },
  {
   "cell_type": "markdown",
   "metadata": {},
   "source": [
    "Access potential data using `Barrier.get_potential()` and `Barrier.get_ideal_potential()` methods, both of which accept a *time* parameter and list of *positions* where the potential should be evaluated:"
   ]
  },
  {
   "cell_type": "code",
   "execution_count": null,
   "metadata": {},
   "outputs": [],
   "source": [
    "import numpy as np\n",
    "\n",
    "positions = np.arange(0.0, 20.0, 1.0)\n",
    "print(barrier.get_potential(time=5, positions=positions))\n",
    "print(barrier.get_ideal_potential(time=5, positions=positions))"
   ]
  },
  {
   "cell_type": "markdown",
   "metadata": {},
   "source": [
    "### Visualize barrier dynamics ###"
   ]
  },
  {
   "cell_type": "markdown",
   "metadata": {},
   "source": [
    "We can also view each *barrier*'s dynamics over the time of the manipulation phase:"
   ]
  },
  {
   "cell_type": "code",
   "execution_count": null,
   "metadata": {},
   "outputs": [],
   "source": [
    "barrier.show_dynamics()"
   ]
  },
  {
   "cell_type": "markdown",
   "metadata": {},
   "source": [
    "We see the constructed values (of position, width, and height) for times between our barrier's \"birth\" (at t = 2.5) and its \"death\" (at t = 7.5).  Outside of its lifetime, this barrier will not exist (no light will be projected onto the atoms, at least from this particular barrier).  "
   ]
  },
  {
   "cell_type": "markdown",
   "metadata": {},
   "source": [
    "### Script barrier behavior ###"
   ]
  },
  {
   "cell_type": "markdown",
   "metadata": {},
   "source": [
    "So far, our barrier is *static*, i.e. its position, width, and height are all constants during its lifetime.  If we want to add some dynamics to the barrier, we can either pass the desired times/positions/heights/widths as full lists when creating the barrier or, alternatively, make use of the `Barrier.evolve()` method, which allows us to generically script a barrier's behavior in time.    "
   ]
  },
  {
   "cell_type": "code",
   "execution_count": null,
   "metadata": {},
   "outputs": [],
   "source": [
    "# start with a static barrier held on for some time\n",
    "barrier = qmf.create_barrier(\n",
    "    positions=[-10, -10],\n",
    "    heights=[50, 50],\n",
    "    widths=[3, 3],\n",
    "    times=[1, 3],\n",
    "    shape=\"GAUSSIAN\",\n",
    ")\n",
    "\n",
    "# add dynamics, automatically increasing the barrier lifetime\n",
    "barrier.evolve(duration=2.5, position=25, height=25, width=5)\n",
    "\n",
    "# and more dynamics after that\n",
    "barrier.evolve(duration=5, position=-25, height=5, width=1)\n",
    "\n",
    "# show the barrier at the following times, along with the overall dynamics\n",
    "barrier.show_dynamics()\n",
    "barrier.show_potential(times=[2, 5, 9], include_ideal=True)"
   ]
  },
  {
   "cell_type": "markdown",
   "metadata": {},
   "source": [
    "We now have a highly dynamic barrier whose position, height, and width change over the course of its lifetime.  The \"stepwise\" nature of the barrier parameters in time is a result of the finite update period of Oqtant's optical projection system (100 microseconds).  This behavior is most obvious for barrier parameters that change significantly over short time periods.    \n",
    "\n",
    "*NOTE: Any parameters that are to remain unchanged during a scripted evolution step can be omitted from the call to `Barrier.evolve()`. *   \n",
    "\n",
    "*NOTE: A barrier object's shape is not dynamically controllable.  However, such behavior is supported by so-called `Landscape` objects, introduced in the following walkthrough.*\n",
    "\n",
    "*NOTE: A barrier object's lifetime will automatically be extended by the duration parameter passed to the `Barrier.evolve()` method. * "
   ]
  },
  {
   "cell_type": "markdown",
   "metadata": {},
   "source": [
    "### Available Barrier shapes ###"
   ]
  },
  {
   "cell_type": "markdown",
   "metadata": {},
   "source": [
    "Supported Barrier shape options include GAUSSIAN, SQUARE, and LORENTZIAN.  In all three cases, the width parameter means something slightly different, but for consistency generally refers to the appropriate *half width* of the functional form.  The below table summarizes the potential energy ($U(x)$) as a function of position ($x$), barrier height $h$ , position $x_0$, and width $w$, for the currently supported barrier shapes:\n",
    "\n",
    "| specified shape | $U(x)$ functional form | width ($w$) interpretation               |\n",
    "|-----------------|---------------------------------------------|---------------------|\n",
    "| GAUSSIAN        | $ h e^{-\\frac{(x - x_0)^2}{2 w^2}} $        | gaussian width      |\n",
    "| LORENTZIAN      | $ \\frac{h}{1 + (x - x_0)^{2} / w^{2}} $     | half-width half-max |\n",
    "| SQUARE          | $h$ if $abs(x-x_0) \\leq w$, else $0$        | half width            |\n"
   ]
  },
  {
   "cell_type": "markdown",
   "metadata": {},
   "source": [
    "Create *barrier* objects of different shapes:"
   ]
  },
  {
   "cell_type": "code",
   "execution_count": null,
   "metadata": {},
   "outputs": [],
   "source": [
    "shapes = [\"GAUSSIAN\", \"LORENTZIAN\", \"SQUARE\"]\n",
    "for shape in shapes:\n",
    "    barrier = qmf.create_barrier(\n",
    "        positions=[0, 0],\n",
    "        heights=[50, 50],\n",
    "        widths=[3, 3],\n",
    "        shape=shape,\n",
    "        times=[0, 10],  # this is the default\n",
    "    )\n",
    "    barrier.show_potential([5], include_ideal=True, xlimits=[-25, 25], ylimits=[-5, 60])"
   ]
  },
  {
   "cell_type": "markdown",
   "metadata": {},
   "source": [
    "## Add Barriers to QuantumMatter objects ##"
   ]
  },
  {
   "cell_type": "markdown",
   "metadata": {},
   "source": [
    "### Instantiation ###"
   ]
  },
  {
   "cell_type": "markdown",
   "metadata": {},
   "source": [
    "Add one or more *barrier* objects to a *matter* object by passing a list with the `barriers` input parameter during instantiation"
   ]
  },
  {
   "cell_type": "code",
   "execution_count": null,
   "metadata": {},
   "outputs": [],
   "source": [
    "# define the first barrier, with initial hold + evolution\n",
    "barrier1 = qmf.create_barrier(\n",
    "    positions=[10, 10],\n",
    "    heights=[30, 30],\n",
    "    widths=[3, 3],\n",
    "    times=[2.5, 7.5],\n",
    "    shape=\"GAUSSIAN\",\n",
    ")\n",
    "barrier1.evolve(duration=2, position=20, height=20, width=5)\n",
    "\n",
    "# and a second one, also with initial hold + evolution\n",
    "barrier2 = qmf.create_barrier(\n",
    "    positions=[-10, -10],\n",
    "    heights=[30, 30],\n",
    "    widths=[3, 3],\n",
    "    times=[2.5, 10],\n",
    "    shape=\"SQUARE\",\n",
    ")\n",
    "barrier2.evolve(duration=4, position=-25, height=5, width=5)\n",
    "\n",
    "# and construct the desired QuantumMatter object\n",
    "matter = qmf.create_quantum_matter(\n",
    "    temperature=100,\n",
    "    lifetime=15,\n",
    "    time_of_flight=10,\n",
    "    barriers=[barrier1, barrier2],\n",
    "    name=\"Now with barriers!\",\n",
    ")"
   ]
  },
  {
   "cell_type": "markdown",
   "metadata": {},
   "source": [
    "### Visualize multi-barrier dynamics of the QuantumMatter object ###"
   ]
  },
  {
   "cell_type": "markdown",
   "metadata": {},
   "source": [
    "The dynamics of all *barrier* objects in a *matter* object can be visualized simultaneously using the `QuantumMatter.show_barrier_dynamics()` method:  "
   ]
  },
  {
   "cell_type": "code",
   "execution_count": null,
   "metadata": {},
   "outputs": [],
   "source": [
    "matter.show_barrier_dynamics()"
   ]
  },
  {
   "cell_type": "markdown",
   "metadata": {},
   "source": [
    "### Visualize the total potential energy ###"
   ]
  },
  {
   "cell_type": "markdown",
   "metadata": {},
   "source": [
    "Visualize the overall *total* spatial energy profile at specific times in the manipulation phase, including contributions from both the (magnetic) trapping potential as well as the (optical) barrier contributions, using the `QuantumMatter.show_potential()` method. This method accepts a list of times for which to plot the potential energy:"
   ]
  },
  {
   "cell_type": "code",
   "execution_count": null,
   "metadata": {},
   "outputs": [],
   "source": [
    "matter.show_potential(times=[0, 5, 14], include_ideal=True)"
   ]
  },
  {
   "cell_type": "markdown",
   "metadata": {},
   "source": [
    "As we can see, at t = 0 the potential energy profile is identical to the purely-magnetic trapping potential seen in the last walkthrough as no barriers have yet been created.  At t = 5, we have two barriers of different shapes centered at +/- 10 microns, superimposed onto the background magnetic trapping potential.  At t = 14 ms, barrier 1 has completed its lifetime and is no longer present, leaving only barrier 2, which by that time has shifted over to a position of -25, increased its width, and reduced its height.  \n",
    "\n",
    "WARNING: The total *optical* potential energy at a single position is limited to be 100 kHz in the current hardware implementation.  Tall barriers that are close enough to spatially overlap can encounter this limit.  "
   ]
  },
  {
   "cell_type": "markdown",
   "metadata": {},
   "source": [
    "If you wish to not include the magnetic potential in the visualization, you can pass the `include_magnetic=False` option:"
   ]
  },
  {
   "cell_type": "code",
   "execution_count": null,
   "metadata": {},
   "outputs": [],
   "source": [
    "matter.show_potential(times=[0, 5, 14], include_magnetic=False, include_ideal=True)"
   ]
  },
  {
   "cell_type": "markdown",
   "metadata": {},
   "source": [
    "## In-trap imaging ##"
   ]
  },
  {
   "cell_type": "markdown",
   "metadata": {},
   "source": [
    "In addition to time-of-flight imaging, where the atom ensemble is released from the magnetic trapping potential some time before the image of the atoms is taken, Oqtant also supports the option to take the image of the atoms *in-trap*.  This option allows for direct imaging of atom ensembles that are swept, split, or shifted, while or shortly after barriers are being applied.  These manipulations can act as the basis for studying quantum dynamics, atomtronics, and developing quantum sensors.  In-trap imaging allows images of the atoms to be taken during these manipulations.\n",
    "\n",
    "NOTE: While in-trap imaging is useful for revealing the spatial distribution of atoms within the ensemble at the time they are imaged, it is less useful for extracting quantitative information such as temperature, condensed fraction, etc.  Hence, these calculations are not done when this imaging option is specified. "
   ]
  },
  {
   "cell_type": "code",
   "execution_count": null,
   "metadata": {},
   "outputs": [],
   "source": [
    "# create a simple static barrier\n",
    "barrier = qmf.create_barrier(\n",
    "    positions=[-10, -10],\n",
    "    heights=[30, 30],\n",
    "    widths=[3, 3],\n",
    "    shape=\"GAUSSIAN\",\n",
    "    times=[2.5, 10],\n",
    ")\n",
    "\n",
    "# and QuantumMatter with a lifetime so that the barrier exists right up to the end\n",
    "matter = qmf.create_quantum_matter(\n",
    "    temperature=100,\n",
    "    lifetime=barrier.death,\n",
    "    barriers=[barrier],\n",
    "    image=\"IN_TRAP\",  # take an in-trap image, time_of_flight input parameter is not relevant in this case\n",
    "    note=\"in-trap imaging with barrier\",\n",
    ")\n",
    "\n",
    "matter.submit()"
   ]
  },
  {
   "cell_type": "markdown",
   "metadata": {},
   "source": [
    "The output data for jobs that use in-trap imaging is different than those that use time of flight imaging:"
   ]
  },
  {
   "cell_type": "code",
   "execution_count": null,
   "metadata": {},
   "outputs": [],
   "source": [
    "matter.get_result()\n",
    "matter.status"
   ]
  },
  {
   "cell_type": "code",
   "execution_count": null,
   "metadata": {},
   "outputs": [],
   "source": [
    "matter.output.fields"
   ]
  },
  {
   "cell_type": "markdown",
   "metadata": {},
   "source": [
    "As discussed above, no temperature or ensemble population calculations are done in this case.  Instead, the output is the OD image, which can be viewed as follows:"
   ]
  },
  {
   "cell_type": "code",
   "execution_count": null,
   "metadata": {},
   "outputs": [],
   "source": [
    "matter.output.plot_it()"
   ]
  },
  {
   "cell_type": "markdown",
   "metadata": {},
   "source": [
    "## Advanced topics and discussion ##"
   ]
  },
  {
   "cell_type": "markdown",
   "metadata": {},
   "source": [
    "### Hardware implementation limits and effects ###"
   ]
  },
  {
   "cell_type": "markdown",
   "metadata": {},
   "source": [
    "In order to understand some of the features and limitations of Oqtant's painted potential capabilities, it is important to understand the implementation of *how* these light fields are painted on the atoms.  \n",
    "\n",
    " "
   ]
  },
  {
   "cell_type": "markdown",
   "metadata": {},
   "source": [
    "#### Finite projection system resolution and the fixed-grid approach ####"
   ]
  },
  {
   "cell_type": "markdown",
   "metadata": {},
   "source": [
    "Along the long axis of the produced quantum matter, i.e. the weak axis of the trapped BEC, light can be applied to any particular position by diffracting it.  A single diffracted laser beam forms a Gaussian-shaped \"spot\" on the quantum matter that (because the light is blue-detuned from the atomic resonance) introduces a repulsive potential energy for the atoms proportional to the local light intensity.  The Oqtant hardware that diffracts the light, called the projection system, has finite resolution, resulting in a spot with non-zero size -- in the current Oqtant hardware this spot has a 1/$e^{2}$ diameter of 2.2 microns.  Optical potential fields, including the *barrier* objects explored above with their adjustable parameters, are formed by summing many of these spots, each with a fixed position but dynamic amplitude/intensity, together.  In the current hardware implementation, the step size of this grid is 1 micron.  The plot below demonstrates how a constituent *barrier* object can be created using this approach of summing independent spots, all of the same fixed width but variable amplitude, together. "
   ]
  },
  {
   "cell_type": "code",
   "execution_count": null,
   "metadata": {},
   "outputs": [],
   "source": [
    "from oqtant.schemas.optical import gaussian\n",
    "import numpy as np\n",
    "import matplotlib.pyplot as plt\n",
    "\n",
    "spots = np.arange(-10, 11, 1, dtype=float)  # individual Gaussian spot centers\n",
    "positions = np.arange(-20, 20, 0.1)\n",
    "\n",
    "\n",
    "def show_contributions_and_sum(amplitudes):\n",
    "    fig, ax = plt.subplots()\n",
    "    total_potential = np.zeros_like(positions)\n",
    "    for indx, a in enumerate(amplitudes):\n",
    "        addition = np.asarray(\n",
    "            gaussian(xs=positions, amp=a, center=spots[indx], sigma=1, offset=0)\n",
    "        )\n",
    "        plt.plot(positions, addition)\n",
    "        total_potential += addition\n",
    "    (ln,) = plt.plot(positions, total_potential)\n",
    "    plt.legend([ln], [\"sum\"], loc=0)\n",
    "    plt.xlabel(\"position\")\n",
    "    plt.ylabel(\"potential energy\")\n",
    "    plt.show()\n",
    "\n",
    "\n",
    "# Sum individual contributions to obtain a larger GAUSSIAN barrier\n",
    "amplitudes = np.asarray(\n",
    "    gaussian(xs=spots, amp=1, center=0, sigma=5, offset=0)\n",
    ")  # example amplitudes for each spot\n",
    "show_contributions_and_sum(amplitudes)\n",
    "\n",
    "# Sum individual contributions to obtain a SQUARE barrier\n",
    "amplitudes = np.asarray(\n",
    "    [1 if abs(spot) < 6 else 0 for spot in spots]\n",
    ")  # example amplitudes for each spot\n",
    "show_contributions_and_sum(amplitudes)"
   ]
  },
  {
   "cell_type": "markdown",
   "metadata": {},
   "source": [
    "#### Periodic updates and rastering of the painted light in the short atom ensemble dimension ####"
   ]
  },
  {
   "cell_type": "markdown",
   "metadata": {},
   "source": [
    "Furthermore, as seen above when inspecting the dyanmics of Barrier parameters, the properties of the projected light are updated periodically on a 100 microsecond period. All Barrier dynamics and dynamics of any painted light features exhibit discrete jumps as properties are periodically updated.  We saw this behavior above when inspecting the *dynamics* of Barrier object parameters.  \n",
    "\n",
    "Along the narrow axis of the quantum matter, the Gaussian spots are rastered quickly to achieve a quasi-1D potential energy.  Generally, it is wise to keep the update timescales fast compared to the dynamics of the atoms in the trap.  In the case of Oqtant, the magnetic trapping frequencies are approximately 40 Hz along the weak axis and 400 Hz along the strong axes.  The short update period of light features and fast (20 kHz) raster rate ensure, under most circumstances, that the atoms only experience the *average* of the applied light field.  "
   ]
  },
  {
   "cell_type": "markdown",
   "metadata": {},
   "source": [
    "#### Consequences ####"
   ]
  },
  {
   "cell_type": "markdown",
   "metadata": {},
   "source": [
    "The consequences of these implementation choices, and the fact that the spatial grid size is finer than the resolution of the projection system, include\n",
    "\n",
    "1. The light diffracted to one spot on the grid contains contributions from nearby spots\n",
    "2. Very narrow barriers with dynamic widths will exhibit discontinuous jumps in width as additional spot positions are included or excluded.\n",
    "3. Very narrow barriers that are scanned in position could vary in height as the barrier center/peak alternates between integer and intra-integer values.  \n",
    "\n",
    "The algorithms implemented in Oqtant's projection system are designed to minimize these potentially unwanted effects, though item (2) above is still present in the current system.  One consequence of the above is that the narrowest possible Barriers are created by specifying a SQUARE barrier of minimal width (currently 0.5 microns) with an integer position.  The resulting Barrier object will consist of only a single diffracted spot, and will in reality be gaussian rather than square, realizing the smallest possible feature projected by the Oqtant hardware."
   ]
  },
  {
   "cell_type": "code",
   "execution_count": null,
   "metadata": {},
   "outputs": [],
   "source": []
  }
 ],
 "metadata": {
  "kernelspec": {
   "display_name": "Python 3 (ipykernel)",
   "language": "python",
   "name": "python3"
  },
  "language_info": {
   "codemirror_mode": {
    "name": "ipython",
    "version": 3
   },
   "file_extension": ".py",
   "mimetype": "text/x-python",
   "name": "python",
   "nbconvert_exporter": "python",
   "pygments_lexer": "ipython3",
   "version": "3.11.3"
  }
 },
 "nbformat": 4,
 "nbformat_minor": 2
}
