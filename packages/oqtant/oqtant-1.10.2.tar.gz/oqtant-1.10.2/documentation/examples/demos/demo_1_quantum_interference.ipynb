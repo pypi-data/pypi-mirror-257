{
 "cells": [
  {
   "cell_type": "markdown",
   "metadata": {},
   "source": [
    "# Demo 1: Quantum Interference #"
   ]
  },
  {
   "cell_type": "markdown",
   "metadata": {},
   "source": [
    "## Introduction ##"
   ]
  },
  {
   "cell_type": "markdown",
   "metadata": {},
   "source": [
    "One of the most striking features demonstrated by quantum matter is that of *interference*, a consequence of the wavelike and coherent nature of quantum systems.  Interference is the fundamental phenomena that enables the burgeoning field of quantum sensing.  Many of the world's most sensitive measurements of gravitational waves, accelerations, rotations, gravity, magnetic fields and time all leverage quantum interference and the interferometry techniques built upon it.  We can start exploring this vast and fascinating topic using Oqtant QMS. \n",
    "\n",
    "To demonstrate interference, we need to split the quantum matter into $\\geq 1$ distinct spatial regions, release the trapping potential so that the spatially-separated samples can expand and overlap, and detect the interference by taking an image.  With Barrier objects and time-of-flight imaging, we have all the tools necessary to accomplish this demonstration.\n",
    "\n",
    "Note: For further reading, see e.g. the 1997 paper [Observation of Interference Between Two Bose Condensates](https://www.rle.mit.edu/cua_pub/ketterle_group/Projects_1997/Pubs_97/andr97-Science_int.pdf) which used an experimental setup very similar to the hardware accessible by Oqtant QMS. "
   ]
  },
  {
   "cell_type": "markdown",
   "metadata": {},
   "source": [
    "### Imports and user authentication ###"
   ]
  },
  {
   "cell_type": "code",
   "execution_count": null,
   "metadata": {},
   "outputs": [],
   "source": [
    "from oqtant.schemas.quantum_matter import QuantumMatterFactory\n",
    "\n",
    "qmf = QuantumMatterFactory()\n",
    "qmf.get_login()"
   ]
  },
  {
   "cell_type": "code",
   "execution_count": null,
   "metadata": {},
   "outputs": [],
   "source": [
    "qmf.get_client()"
   ]
  },
  {
   "cell_type": "markdown",
   "metadata": {},
   "source": [
    "## Split quantum matter into two components ##"
   ]
  },
  {
   "cell_type": "markdown",
   "metadata": {},
   "source": [
    "First, we will create a barrier that will be used to split our atom ensemble into two distinct spatial regions. The goal is to gently separate the cloud by slowly increasing the barrier height so that the quantum matter isn't heated or excited in the process. On the other hand, the process can't be too slow because the quantum matter clouds on either side of the barrier need to remain coherent. After splitting the cloud, the barrier and overall (magnetic) trapping potential is turned off to allow the clouds to recombine as they fall under gravity."
   ]
  },
  {
   "cell_type": "code",
   "execution_count": null,
   "metadata": {},
   "outputs": [],
   "source": [
    "barrier = qmf.create_barrier(\n",
    "    positions=[0, 0],  # fine tune to split the cloud into roughly equal parts\n",
    "    heights=[0, 12],\n",
    "    widths=[4, 4],  # adjust as free parameter to optimize observed interference\n",
    "    times=[0, 6],\n",
    ")\n",
    "\n",
    "# barrier.evolve(duration=2) # can also hold the barrier for some time (after ramp-on) to explore coherence time\n",
    "\n",
    "barrier.show_dynamics()"
   ]
  },
  {
   "cell_type": "markdown",
   "metadata": {},
   "source": [
    "To explore the emergence and evolution of quantum interference, the barrier height, width, shape, ramp-on, and optional hold-time (after ramping on) can all be varied.  Another useful parameter to explore is the temperature of the quantum matter before the barrier is introduced."
   ]
  },
  {
   "cell_type": "markdown",
   "metadata": {},
   "source": [
    "## In-trap image to verify cloud has been split ##"
   ]
  },
  {
   "cell_type": "markdown",
   "metadata": {},
   "source": [
    "Next, we create a QuantumMatter object to image the atom ensemble in-trap."
   ]
  },
  {
   "cell_type": "code",
   "execution_count": null,
   "metadata": {},
   "outputs": [],
   "source": [
    "matter_in_trap = qmf.create_quantum_matter(\n",
    "    temperature=25,  # another free parameter available for optimizing observed interference\n",
    "    lifetime=barrier.death,\n",
    "    barriers=[barrier],\n",
    "    image=\"IN_TRAP\",\n",
    ")\n",
    "\n",
    "matter_in_trap.show_potential(times=[0, 3, 6], ylimits=[-2, 40])"
   ]
  },
  {
   "cell_type": "markdown",
   "metadata": {},
   "source": [
    "We next submit our QuantumMatter object to the client to create a job, wait for the job to execute, and fetch the results:"
   ]
  },
  {
   "cell_type": "code",
   "execution_count": null,
   "metadata": {},
   "outputs": [],
   "source": [
    "matter_in_trap.submit(track=True)"
   ]
  },
  {
   "cell_type": "markdown",
   "metadata": {},
   "source": [
    "### Plot the resulting in-trap image ###"
   ]
  },
  {
   "cell_type": "code",
   "execution_count": null,
   "metadata": {},
   "outputs": [],
   "source": [
    "matter_in_trap.get_result()\n",
    "matter_in_trap.output.plot_it(figsize=(6, 6))"
   ]
  },
  {
   "cell_type": "markdown",
   "metadata": {},
   "source": [
    "## Observe interference in time-of-flight imaging ##"
   ]
  },
  {
   "cell_type": "markdown",
   "metadata": {},
   "source": [
    "Next, let's look at the atom ensemble after releasing it from the trap. As the two regions of the quantum matter expand during the (adjustable) time of flight, they begin to spatially overlap, which results in interference."
   ]
  },
  {
   "cell_type": "code",
   "execution_count": null,
   "metadata": {},
   "outputs": [],
   "source": [
    "tofs = [5, 7, 9, 11, 13, 15, 17, 19]\n",
    "tof_matters = []\n",
    "for tof in tofs:\n",
    "    tof_matters.append(\n",
    "        qmf.create_quantum_matter(\n",
    "            temperature=25,\n",
    "            barriers=[barrier],\n",
    "            lifetime=barrier.death,\n",
    "            image=\"TIME_OF_FLIGHT\",\n",
    "            time_of_flight=tof,\n",
    "            name=\"interference w/ tof = \" + str(tof) + \" ms\",\n",
    "        )\n",
    "    )"
   ]
  },
  {
   "cell_type": "markdown",
   "metadata": {},
   "source": [
    "Submit to QMS and retrieve results, placing the resulting jobs (with outputs) in a list"
   ]
  },
  {
   "cell_type": "code",
   "execution_count": null,
   "metadata": {},
   "outputs": [],
   "source": [
    "for matter in tof_matters:\n",
    "    matter.submit()"
   ]
  },
  {
   "cell_type": "markdown",
   "metadata": {},
   "source": [
    "Once our sequence of interference jobs are complete and fetched, we can observe the overlapping quantum matter.  If your inputs above are tuned correctly, you should observe the onset of quantum interference! "
   ]
  },
  {
   "cell_type": "code",
   "execution_count": null,
   "metadata": {},
   "outputs": [],
   "source": [
    "import matplotlib.pyplot as plt\n",
    "\n",
    "for matter in tof_matters:\n",
    "    matter.get_result()\n",
    "    matter.output.plot_tof(figsize=(6, 6))"
   ]
  },
  {
   "cell_type": "markdown",
   "metadata": {},
   "source": [
    "The cross sections of the overlapping quantum matter clouds is often particularly revealing:"
   ]
  },
  {
   "cell_type": "code",
   "execution_count": null,
   "metadata": {},
   "outputs": [],
   "source": [
    "for matter in tof_matters:\n",
    "    matter.output.plot_slice(axis=\"x\")"
   ]
  },
  {
   "cell_type": "code",
   "execution_count": null,
   "metadata": {},
   "outputs": [],
   "source": []
  }
 ],
 "metadata": {
  "kernelspec": {
   "display_name": "Python 3 (ipykernel)",
   "language": "python",
   "name": "python3"
  },
  "language_info": {
   "codemirror_mode": {
    "name": "ipython",
    "version": 3
   },
   "file_extension": ".py",
   "mimetype": "text/x-python",
   "name": "python",
   "nbconvert_exporter": "python",
   "pygments_lexer": "ipython3",
   "version": "3.11.3"
  }
 },
 "nbformat": 4,
 "nbformat_minor": 2
}
