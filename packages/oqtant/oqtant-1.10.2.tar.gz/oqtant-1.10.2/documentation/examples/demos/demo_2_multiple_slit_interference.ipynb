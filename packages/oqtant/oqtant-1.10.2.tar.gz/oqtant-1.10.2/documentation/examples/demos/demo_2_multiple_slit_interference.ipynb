{
 "cells": [
  {
   "cell_type": "markdown",
   "metadata": {},
   "source": [
    "# Demo 2: Multiple slit interference #"
   ]
  },
  {
   "cell_type": "markdown",
   "metadata": {},
   "source": [
    "## Introduction ##"
   ]
  },
  {
   "cell_type": "markdown",
   "metadata": {},
   "source": [
    "This notebook has been adapted from the works of [Dr. Carrie Weidner](https://www.bristol.ac.uk/qet-labs/research/weidner-group/), many thanks for her efforts and collaboration!\n",
    "\n",
    "In this demo, we show how the Oqtant Quantum Matter Service can be used to observe interference between many Bose-Einstein condensates (BECs)! The double slit experiment is one of the most famous physics experiments, and is taught in introductory quantum mechanics classes. If you are unfamiliar with this experiment - you can read about it [here](https://plus.maths.org/content/physics-minute-double-slit-experiment-0). The original double slit experiment demonstrates the wave-particle duality of matter. \n",
    "\n",
    "This demo is very similar to the double slit experiment, but uses many slits instead of just two. We form many slits by creating an array of optical potential barriers, also known as a diffraction grating. The barrier array is gently ramped on in time to form many different spatially separated BECs. After releasing these BECs from the trap, the BECs \"diffract\" and interfere with one another as they expand during [time-of-flight](https://oqtant-test.infleqtion.com/technical/imaging.md) (TOF). The diffraction patterns which form are a demonstration of the wavelike nature of the Bose-Einstein condensates created with Oqtant's Quantum Matter Service.\n",
    "\n",
    "If you're interested in learning more, you can check out the following paper: [Interference of an array of independent Bose-Einstein condensates](https://arxiv.org/abs/quant-ph/0405113). This paper uses a very similar experiment to study what happens when the \"phases\" of the neighboring BECs are correlated versus when the phases are entirely random. "
   ]
  },
  {
   "cell_type": "markdown",
   "metadata": {},
   "source": [
    "### Imports and user authentication ###"
   ]
  },
  {
   "cell_type": "code",
   "execution_count": null,
   "metadata": {},
   "outputs": [],
   "source": [
    "from oqtant.schemas.quantum_matter import QuantumMatterFactory\n",
    "import numpy as np\n",
    "import matplotlib.pyplot as plt\n",
    "\n",
    "qmf = QuantumMatterFactory()\n",
    "qmf.get_login()"
   ]
  },
  {
   "cell_type": "code",
   "execution_count": null,
   "metadata": {},
   "outputs": [],
   "source": [
    "qmf.get_client()"
   ]
  },
  {
   "cell_type": "markdown",
   "metadata": {},
   "source": [
    "## Construct a periodic optical potential"
   ]
  },
  {
   "cell_type": "markdown",
   "metadata": {},
   "source": [
    "Create the periodic optical/ diffraction grating that we will apply to the condensate during the experiment. Using snapshots to build a dynamic landscape, we can create multiple barriers in a single object with a given height and spacing."
   ]
  },
  {
   "cell_type": "code",
   "execution_count": null,
   "metadata": {},
   "outputs": [],
   "source": [
    "n_barriers = 12  # number of barrier peaks\n",
    "potential_height = 10  # height of the barrier potentials (kHz)\n",
    "landscape_width = 90  # the total landscape size we're projecting over (um)\n",
    "T = 50  # target temperature of the atoms (nK)\n",
    "\n",
    "positions = np.arange(\n",
    "    -(landscape_width / 2), (landscape_width / 2) + 1, 1\n",
    ")  # setting up the spatial array of points centered around the grid size above\n",
    "barrier_positions = np.linspace(\n",
    "    -(landscape_width / 2) + 1, (landscape_width / 2) - 1, n_barriers\n",
    ")\n",
    "periodic_potential = potential_height * np.in1d(positions, np.round(barrier_positions))\n",
    "\n",
    "plt.figure()\n",
    "plt.plot(positions, periodic_potential)\n",
    "plt.xlabel(\"Position (um)\")\n",
    "plt.ylabel(\"Barrier height (kHz)\")\n",
    "plt.title(\"Grating snapshot with \" + str(n_barriers) + \" barriers\")\n",
    "plt.show()"
   ]
  },
  {
   "cell_type": "markdown",
   "metadata": {},
   "source": [
    "## Create static snapshots ##"
   ]
  },
  {
   "cell_type": "markdown",
   "metadata": {},
   "source": [
    "By combining multiple snapshots, we can add time dynamics to the landscape to change the grating potential over time. Here we will visualize the two snapshot potentials. Note that we have used the default timesteps and interpolation methods to control how the landscape changes from one snapshot to another."
   ]
  },
  {
   "cell_type": "code",
   "execution_count": null,
   "metadata": {},
   "outputs": [],
   "source": [
    "time_evolve = 2  # end time for periodic snapshot\n",
    "\n",
    "snapshot_zero = qmf.create_snapshot(\n",
    "    time=0,\n",
    "    positions=positions,\n",
    "    potentials=np.zeros_like(positions),\n",
    "    interpolation=\"OFF\",\n",
    ")\n",
    "\n",
    "snapshot_periodic = qmf.create_snapshot(\n",
    "    time=time_evolve,\n",
    "    positions=positions,\n",
    "    potentials=periodic_potential,\n",
    "    interpolation=\"LINEAR\",\n",
    ")\n",
    "\n",
    "snapshot_zero.show_potential(xlimits=[-60, 60], ylimits=[-5, 15])\n",
    "snapshot_periodic.show_potential(\n",
    "    xlimits=[-60, 60], ylimits=[-5, 15], include_ideal=True\n",
    ")"
   ]
  },
  {
   "cell_type": "markdown",
   "metadata": {},
   "source": [
    "## Create a landscape from snapshots ##"
   ]
  },
  {
   "cell_type": "markdown",
   "metadata": {},
   "source": [
    "Now we need to add the two snapshots to our Quantum Matter landscape. By doing this, the quantum matter factory will linearly interpolate points between the snapshots to make a gentle transition between different snapshots."
   ]
  },
  {
   "cell_type": "code",
   "execution_count": null,
   "metadata": {},
   "outputs": [],
   "source": [
    "landscape_periodic = qmf.create_landscape(snapshots=[snapshot_zero, snapshot_periodic])\n",
    "\n",
    "landscape_periodic.show_potential(times=[0, 1, 2], xlimits=[-60, 60], ylimits=[-5, 15])"
   ]
  },
  {
   "cell_type": "markdown",
   "metadata": {},
   "source": [
    "## Create a list of jobs with different times of flight ##"
   ]
  },
  {
   "cell_type": "markdown",
   "metadata": {},
   "source": [
    "Now we're ready to submit our experiment to the hardware and realize the results. In this section we must first choose at which times of flight (TOFs) we want to observe the condensate. The number of TOFs that are listed will be the number of jobs submitted. Here, we are submitting the jobs as a list, however it's also possible to submit as a batch which ensures that the jobs all run sequentially (uninterrupted by other users jobs) as demonstrated in [walkthrough #5](https://gitlab.com/infleqtion/albert/oqtant/-/blob/main/documentation/examples/walkthroughs/walkthrough_5_experimentation_and_batch_jobs.ipynb)."
   ]
  },
  {
   "cell_type": "code",
   "execution_count": null,
   "metadata": {},
   "outputs": [],
   "source": [
    "tofs = [5, 10, 15, 20]\n",
    "matters_tof = []\n",
    "\n",
    "for tof in tofs:\n",
    "    matters_tof.append(\n",
    "        qmf.create_quantum_matter(\n",
    "            temperature=T,\n",
    "            lifetime=time_evolve,\n",
    "            landscape=landscape_periodic,\n",
    "            time_of_flight=tof,\n",
    "            name=\"Many BEC interference, tof = \" + str(tof) + \" ms\",\n",
    "        )\n",
    "    )"
   ]
  },
  {
   "cell_type": "markdown",
   "metadata": {},
   "source": [
    "With the landscape potential now added to the overall magnetic potential, we can visualize the complete energy profile."
   ]
  },
  {
   "cell_type": "code",
   "execution_count": null,
   "metadata": {},
   "outputs": [],
   "source": [
    "matters_tof[0].show_potential(times=[0, 1, 2], xlimits=[-60, 60], ylimits=[-5, 30])"
   ]
  },
  {
   "cell_type": "markdown",
   "metadata": {},
   "source": [
    "## Submit the jobs to the Quantum Matter Service  ##"
   ]
  },
  {
   "cell_type": "code",
   "execution_count": null,
   "metadata": {},
   "outputs": [],
   "source": [
    "[matter.submit(track=True) for matter in matters_tof]\n",
    "id_list = [matter.job_id for matter in matters_tof]"
   ]
  },
  {
   "cell_type": "markdown",
   "metadata": {},
   "source": [
    "## Retrieve and plot results ##"
   ]
  },
  {
   "cell_type": "markdown",
   "metadata": {},
   "source": [
    "First let's take a look at the TOF images returned below:"
   ]
  },
  {
   "cell_type": "code",
   "execution_count": null,
   "metadata": {},
   "outputs": [],
   "source": [
    "for matter in matters_tof:\n",
    "    matter.get_result()\n",
    "\n",
    "fig, axes = plt.subplots(nrows=2, ncols=2, sharex=True, sharey=True)\n",
    "ax_flat = axes.flatten()\n",
    "\n",
    "for i in range(len(matters_tof)):\n",
    "    pixcal = matters_tof[i].output.get_image_pixcal(image=\"TIME_OF_FLIGHT\")\n",
    "    tof_image = matters_tof[i].output.get_image_data(image=\"TIME_OF_FLIGHT\")\n",
    "    ax = ax_flat[i]\n",
    "    im = ax.imshow(\n",
    "        tof_image, extent=[-50 * pixcal, 50 * pixcal, -50 * pixcal, 50 * pixcal]\n",
    "    )\n",
    "    ax.set_title(\"TOF = \" + str(matters_tof[i].time_of_flight) + \" ms\")\n",
    "    ax.set_xlabel(\"$\\mu$m\")\n",
    "    ax.set_ylabel(\"$\\mu$m\")\n",
    "    fig.colorbar(im, ax=ax, label=\"OD\")\n",
    "\n",
    "fig.suptitle(\"Oqtant Demo 2: Multiple BEC Interference, TOF images\")\n",
    "fig.tight_layout()\n",
    "plt.show()"
   ]
  },
  {
   "cell_type": "markdown",
   "metadata": {},
   "source": [
    "Another useful way to analyze at the images is to look at the centers of their slices:"
   ]
  },
  {
   "cell_type": "code",
   "execution_count": null,
   "metadata": {},
   "outputs": [],
   "source": [
    "fig, axes = plt.subplots(nrows=2, ncols=2, sharex=True, sharey=True)\n",
    "ax_flat = axes.flatten()\n",
    "\n",
    "for i in range(len(matters_tof)):\n",
    "    ax_flat[i].plot(\n",
    "        np.arange(-50, 50) * pixcal, np.array(matters_tof[i].output.get_slice(axis=\"x\"))\n",
    "    )\n",
    "    ax_flat[i].set_title(\"TOF = \" + str(matters_tof[i].time_of_flight) + \" ms\")\n",
    "    ax_flat[i].set_ylabel(\"OD\")\n",
    "    ax_flat[i].set_xlabel(\"$\\mu$m\")\n",
    "\n",
    "fig.suptitle(\"Oqtant Demo 2: Multiple BEC Interference, X Slices\")\n",
    "fig.tight_layout()\n",
    "plt.show()"
   ]
  },
  {
   "cell_type": "markdown",
   "metadata": {},
   "source": [
    "Look how cool this is! (pun intended) These exciting images are a demonstration of the wave-like nature of the Bose Einstein Condensates created with Oqtant's Quantum Matter Service. You'll notice that the diffraction pattern isn't observable for all times of flight, but as the cloud expands, the interference between the clouds becomes observable. \n",
    "\n",
    "It's important to note that there are some hardware limitations that you may run into when exploring this effect further, namely the camera resolution and time of flight restrictions. Atom-atom interactions also complicate the matter. These will all have an impact on the experimental results returned. One great way to further explore this effect is by using our quantum matter simulator!"
   ]
  }
 ],
 "metadata": {
  "kernelspec": {
   "display_name": ".venv",
   "language": "python",
   "name": ".venv"
  },
  "language_info": {
   "codemirror_mode": {
    "name": "ipython",
    "version": 3
   },
   "file_extension": ".py",
   "mimetype": "text/x-python",
   "name": "python",
   "nbconvert_exporter": "python",
   "pygments_lexer": "ipython3",
   "version": "3.10.12"
  }
 },
 "nbformat": 4,
 "nbformat_minor": 2
}
