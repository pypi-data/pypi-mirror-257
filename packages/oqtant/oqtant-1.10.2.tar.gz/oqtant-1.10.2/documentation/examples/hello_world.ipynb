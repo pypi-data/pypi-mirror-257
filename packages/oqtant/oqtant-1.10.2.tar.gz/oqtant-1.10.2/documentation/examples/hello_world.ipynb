{
 "cells": [
  {
   "cell_type": "markdown",
   "metadata": {},
   "source": [
    "# \"Hello, World!\" - OqtAPI #"
   ]
  },
  {
   "cell_type": "markdown",
   "metadata": {},
   "source": [
    "Welcome to the `Oqtant Python API`, aka `OqtAPI`! OqtAPI is an object-oriented interface for creating, submitting, and retrieving results from experiments with ultracold quantum matter on Infleqtion's Oqtant Quantum Matter Services (QMS) platform.  In this example notebook, we will use Oqtant to make real quantum matter: a Bose-Einstein condensate (BEC) of rubidium-87 atoms. We will manipulate the quantum matter with a (user designed) optical potential and observe the result. \n",
    "\n",
    "OqtAPI includes in-depth, walkthrough-style jupyter notebooks to introduce the powerful capabilities of OqtAPI and Oqtant.  \n",
    "\n",
    "For more information, please refer to our documentation: https://gitlab.com/infleqtion/albert/oqtant/-/blob/main/README.md  \n",
    "See our web application https://oqtant.infleqtion.com/ for quick access to job creation, results, and account management.  \n",
    "Visit our support page for FAQs, contact information, and to share feedback and report bugs: https://oqtant.infleqtion.com/support\n",
    "\n",
    "This example notebook is a small sample of OqtAPI and Oqtant capabilities.  Walkthroughs will explore how to use OqtAPI, user options, accessible abstractions, and data structures in more detail."
   ]
  },
  {
   "cell_type": "markdown",
   "metadata": {},
   "source": [
    "## Imports and user authentication ##"
   ]
  },
  {
   "cell_type": "code",
   "execution_count": null,
   "metadata": {},
   "outputs": [],
   "source": [
    "from oqtant.schemas.quantum_matter import QuantumMatterFactory\n",
    "\n",
    "qmf = QuantumMatterFactory()\n",
    "qmf.get_login()"
   ]
  },
  {
   "cell_type": "code",
   "execution_count": null,
   "metadata": {},
   "outputs": [],
   "source": [
    "qmf.get_client()"
   ]
  },
  {
   "cell_type": "markdown",
   "metadata": {},
   "source": [
    "## Make Quantum Matter  ##"
   ]
  },
  {
   "cell_type": "markdown",
   "metadata": {},
   "source": [
    "The first type of job we will run is a BEC Generator, which allows users to experiment with the quantity of atoms that arrive in the quantum state (the BEC) as the ensemble is cooled. "
   ]
  },
  {
   "cell_type": "markdown",
   "metadata": {},
   "source": [
    "### 1. Create a QuantumMatter object ###"
   ]
  },
  {
   "cell_type": "code",
   "execution_count": null,
   "metadata": {},
   "outputs": [],
   "source": [
    "matter = qmf.create_quantum_matter(temperature=100, name=\"Hello, quantum world!\")"
   ]
  },
  {
   "cell_type": "markdown",
   "metadata": {},
   "source": [
    "### 2. Submit it to Oqtant QMS ###"
   ]
  },
  {
   "cell_type": "code",
   "execution_count": null,
   "metadata": {},
   "outputs": [],
   "source": [
    "matter.submit(track=True)"
   ]
  },
  {
   "cell_type": "markdown",
   "metadata": {},
   "source": [
    "### 3. Fetch the results ###"
   ]
  },
  {
   "cell_type": "code",
   "execution_count": null,
   "metadata": {},
   "outputs": [],
   "source": [
    "matter.get_result()\n",
    "matter.status"
   ]
  },
  {
   "cell_type": "markdown",
   "metadata": {},
   "source": [
    "### 4. View and/or analyze the results (in this case, \"just\" view the quantum wavefunction) ###"
   ]
  },
  {
   "cell_type": "code",
   "execution_count": null,
   "metadata": {},
   "outputs": [],
   "source": [
    "matter.output.plot_tof(figsize=(6, 6))\n",
    "matter.output.plot_slice(axis=\"x\")"
   ]
  },
  {
   "cell_type": "markdown",
   "metadata": {},
   "source": [
    "## Manipulate with \"painted\" light ##"
   ]
  },
  {
   "cell_type": "markdown",
   "metadata": {},
   "source": [
    "OqtAPI also allows users to manipulate the BEC using repulsive optical potential barriers. Barrier manipulation occurs after the cooling process is complete. Barrier manipulation is the starting point for atomtronics, sensors, and more!"
   ]
  },
  {
   "cell_type": "markdown",
   "metadata": {},
   "source": [
    "### 1. Create a dynamic \"Barrier\" ###"
   ]
  },
  {
   "cell_type": "code",
   "execution_count": null,
   "metadata": {},
   "outputs": [],
   "source": [
    "barrier = qmf.create_barrier(\n",
    "    positions=[10, 0],\n",
    "    heights=[20, 25],\n",
    "    widths=[2, 1],\n",
    "    times=[0, 2.5],\n",
    "    shape=\"GAUSSIAN\",\n",
    ")\n",
    "\n",
    "# add dynamics with a scripting style\n",
    "barrier.evolve(duration=2.5, height=5)\n",
    "\n",
    "barrier.show_dynamics()"
   ]
  },
  {
   "cell_type": "code",
   "execution_count": null,
   "metadata": {},
   "outputs": [],
   "source": [
    "barrier.show_potential(times=[2.0, 3.0, 4.0, 5.0], xlimits=[-10, 25], ylimits=[-2, 30])"
   ]
  },
  {
   "cell_type": "markdown",
   "metadata": {},
   "source": [
    "### 2. Make and manipulate QuantumMatter ###"
   ]
  },
  {
   "cell_type": "code",
   "execution_count": null,
   "metadata": {},
   "outputs": [],
   "source": [
    "import numpy as np\n",
    "\n",
    "matter = qmf.create_quantum_matter(\n",
    "    temperature=100,\n",
    "    image=\"IN_TRAP\",  # option to view atom ensemble while in trap\n",
    "    barriers=[barrier],\n",
    "    lifetime=8,\n",
    "    name=\"Now with barriers!\",\n",
    ")\n",
    "\n",
    "matter.show_potential(times=[2.0, 3.0, 4.0, 5.0])"
   ]
  },
  {
   "cell_type": "markdown",
   "metadata": {},
   "source": [
    "### 3. Submit it to Oqtant QMS ###"
   ]
  },
  {
   "cell_type": "code",
   "execution_count": null,
   "metadata": {},
   "outputs": [],
   "source": [
    "matter.submit(track=True)"
   ]
  },
  {
   "cell_type": "markdown",
   "metadata": {},
   "source": [
    "### 4. Fetch the results ###"
   ]
  },
  {
   "cell_type": "code",
   "execution_count": null,
   "metadata": {},
   "outputs": [],
   "source": [
    "matter.get_result()\n",
    "matter.status"
   ]
  },
  {
   "cell_type": "markdown",
   "metadata": {},
   "source": [
    "### 5. View and/or analyze results ###"
   ]
  },
  {
   "cell_type": "code",
   "execution_count": null,
   "metadata": {},
   "outputs": [],
   "source": [
    "matter.output.plot_it()"
   ]
  },
  {
   "cell_type": "code",
   "execution_count": null,
   "metadata": {},
   "outputs": [],
   "source": []
  }
 ],
 "metadata": {
  "kernelspec": {
   "display_name": "Python 3 (ipykernel)",
   "language": "python",
   "name": "python3"
  },
  "language_info": {
   "codemirror_mode": {
    "name": "ipython",
    "version": 3
   },
   "file_extension": ".py",
   "mimetype": "text/x-python",
   "name": "python",
   "nbconvert_exporter": "python",
   "pygments_lexer": "ipython3",
   "version": "3.11.3"
  }
 },
 "nbformat": 4,
 "nbformat_minor": 2
}
