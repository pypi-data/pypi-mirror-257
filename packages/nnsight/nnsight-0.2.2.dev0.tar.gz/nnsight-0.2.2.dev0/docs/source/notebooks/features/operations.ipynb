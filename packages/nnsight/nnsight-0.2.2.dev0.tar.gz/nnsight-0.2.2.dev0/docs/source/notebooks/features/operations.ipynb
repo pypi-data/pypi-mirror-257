{
 "cells": [
  {
   "cell_type": "markdown",
   "metadata": {},
   "source": [
    "# Applying Operations"
   ]
  },
  {
   "cell_type": "markdown",
   "metadata": {},
   "source": [
    "Most basic operations and torch operations work on proxies and are added to the computation graph.\n",
    "\n",
    "In this example we get the sum of the hidden states and add them to the hidden_states themselves (for whatever reason). By saving the various steps, we can see how the values change."
   ]
  },
  {
   "cell_type": "code",
   "execution_count": null,
   "metadata": {},
   "outputs": [],
   "source": [
    "from nnsight import LanguageModel\n",
    "import torch \n",
    "\n",
    "model = LanguageModel('gpt2', device_map='cuda')\n",
    "\n",
    "with model.generate(max_new_tokens=1) as generator:\n",
    "    with generator.invoke('The Eiffel Tower is in the city of') as invoker:\n",
    "\n",
    "        hidden_states_pre = model.transformer.h[-1].output[0].save()\n",
    "\n",
    "        hs_sum = torch.sum(hidden_states_pre).save()\n",
    "\n",
    "        hs_edited = hidden_states_pre + hs_sum\n",
    "\n",
    "        hs_edited = hs_edited.save()"
   ]
  },
  {
   "cell_type": "code",
   "execution_count": 2,
   "metadata": {},
   "outputs": [
    {
     "name": "stdout",
     "output_type": "stream",
     "text": [
      "tensor([[[ 0.0505, -0.1728, -0.1690,  ..., -1.0096,  0.1280, -1.0687],\n",
      "         [ 8.7494,  2.9057,  5.3024,  ..., -8.0418,  1.2964, -2.8677],\n",
      "         [ 0.2960,  4.6686, -3.6642,  ...,  0.2391, -2.6064,  3.2263],\n",
      "         ...,\n",
      "         [ 2.1537,  6.8917,  3.8651,  ...,  0.0588, -1.9866,  5.9188],\n",
      "         [-0.4460,  7.4285, -9.3065,  ...,  2.0528, -2.7947,  0.5556],\n",
      "         [ 6.6286,  1.7258,  4.7969,  ...,  7.6714,  3.0683,  2.0481]]],\n",
      "       device='cuda:0')\n",
      "tensor(501.2947, device='cuda:0')\n",
      "tensor([[[501.3452, 501.1219, 501.1257,  ..., 500.2851, 501.4227, 500.2260],\n",
      "         [510.0441, 504.2004, 506.5971,  ..., 493.2528, 502.5910, 498.4269],\n",
      "         [501.5907, 505.9633, 497.6305,  ..., 501.5338, 498.6883, 504.5210],\n",
      "         ...,\n",
      "         [503.4483, 508.1864, 505.1598,  ..., 501.3535, 499.3081, 507.2135],\n",
      "         [500.8487, 508.7232, 491.9882,  ..., 503.3475, 498.5000, 501.8503],\n",
      "         [507.9232, 503.0205, 506.0916,  ..., 508.9661, 504.3629, 503.3428]]],\n",
      "       device='cuda:0')\n"
     ]
    }
   ],
   "source": [
    "print(hidden_states_pre.value)\n",
    "print(hs_sum.value)\n",
    "print(hs_edited.value)"
   ]
  }
 ],
 "metadata": {
  "kernelspec": {
   "display_name": "ndif",
   "language": "python",
   "name": "python3"
  },
  "language_info": {
   "codemirror_mode": {
    "name": "ipython",
    "version": 3
   },
   "file_extension": ".py",
   "mimetype": "text/x-python",
   "name": "python",
   "nbconvert_exporter": "python",
   "pygments_lexer": "ipython3",
   "version": "3.10.13"
  }
 },
 "nbformat": 4,
 "nbformat_minor": 2
}
