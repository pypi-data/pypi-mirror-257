{
 "cells": [
  {
   "cell_type": "markdown",
   "metadata": {},
   "source": [
    "# Setting Values"
   ]
  },
  {
   "cell_type": "markdown",
   "metadata": {},
   "source": [
    "We often not only want to see whats happening during computation, but intervene and edit the flow of information.\n",
    "\n",
    "In this example, we create a tensor of noise to add to the hidden states. We then add it, use the assigment `=` operator to update the tensors of `.output[0][:]` with these new noised values."
   ]
  },
  {
   "cell_type": "code",
   "execution_count": null,
   "metadata": {},
   "outputs": [],
   "source": [
    "from nnsight import LanguageModel\n",
    "import torch \n",
    "\n",
    "model = LanguageModel('gpt2', device_map='cuda')\n",
    "\n",
    "with model.generate(max_new_tokens=1) as generator:\n",
    "    with generator.invoke('The Eiffel Tower is in the city of') as invoker:\n",
    "\n",
    "        hidden_states_pre = model.transformer.h[-1].output[0].clone().save()\n",
    "\n",
    "        noise = (0.001**0.5)*torch.randn(hidden_states_pre.shape)\n",
    "\n",
    "        model.transformer.h[-1].output[0][:] = hidden_states_pre + noise\n",
    "\n",
    "        hidden_states_post = model.transformer.h[-1].output[0].save()"
   ]
  },
  {
   "cell_type": "markdown",
   "metadata": {},
   "source": [
    "We can see the change in the results:"
   ]
  },
  {
   "cell_type": "code",
   "execution_count": 2,
   "metadata": {},
   "outputs": [
    {
     "name": "stdout",
     "output_type": "stream",
     "text": [
      "tensor([[[ 8.0197e-03, -1.1157e-01, -1.3560e-01,  ..., -9.5050e-01,\n",
      "           1.1737e-01, -1.0768e+00],\n",
      "         [ 8.7405e+00,  2.8481e+00,  5.2863e+00,  ..., -8.0872e+00,\n",
      "           1.2464e+00, -2.8597e+00],\n",
      "         [ 3.0816e-01,  4.6882e+00, -3.6241e+00,  ...,  2.5548e-01,\n",
      "          -2.5845e+00,  3.2085e+00],\n",
      "         ...,\n",
      "         [ 2.1914e+00,  6.8865e+00,  3.8589e+00,  ...,  7.3585e-02,\n",
      "          -1.9566e+00,  5.9064e+00],\n",
      "         [-4.0466e-01,  7.4140e+00, -9.3035e+00,  ...,  2.0717e+00,\n",
      "          -2.7665e+00,  5.0897e-01],\n",
      "         [ 6.5553e+00,  1.7157e+00,  4.7861e+00,  ...,  7.6273e+00,\n",
      "           3.0340e+00,  2.0660e+00]]], device='cuda:0')\n",
      "tensor([[[ 8.0197e-03, -1.1157e-01, -1.3560e-01,  ..., -9.5050e-01,\n",
      "           1.1737e-01, -1.0768e+00],\n",
      "         [ 8.7405e+00,  2.8481e+00,  5.2863e+00,  ..., -8.0872e+00,\n",
      "           1.2464e+00, -2.8597e+00],\n",
      "         [ 3.0816e-01,  4.6882e+00, -3.6241e+00,  ...,  2.5548e-01,\n",
      "          -2.5845e+00,  3.2085e+00],\n",
      "         ...,\n",
      "         [ 2.1914e+00,  6.8865e+00,  3.8589e+00,  ...,  7.3585e-02,\n",
      "          -1.9566e+00,  5.9064e+00],\n",
      "         [-4.0466e-01,  7.4140e+00, -9.3035e+00,  ...,  2.0717e+00,\n",
      "          -2.7665e+00,  5.0897e-01],\n",
      "         [ 6.5553e+00,  1.7157e+00,  4.7861e+00,  ...,  7.6273e+00,\n",
      "           3.0340e+00,  2.0660e+00]]], device='cuda:0')\n"
     ]
    }
   ],
   "source": [
    "print(hidden_states_pre.value)\n",
    "print(hidden_states_post.value)"
   ]
  }
 ],
 "metadata": {
  "kernelspec": {
   "display_name": "ndif",
   "language": "python",
   "name": "python3"
  },
  "language_info": {
   "codemirror_mode": {
    "name": "ipython",
    "version": 3
   },
   "file_extension": ".py",
   "mimetype": "text/x-python",
   "name": "python",
   "nbconvert_exporter": "python",
   "pygments_lexer": "ipython3",
   "version": "3.10.13"
  }
 },
 "nbformat": 4,
 "nbformat_minor": 2
}
