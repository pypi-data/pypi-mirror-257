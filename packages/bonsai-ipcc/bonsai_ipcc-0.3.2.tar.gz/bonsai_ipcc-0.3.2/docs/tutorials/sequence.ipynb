{
    "cells": [
        {
            "cell_type": "markdown",
            "metadata": {},
            "source": [
                "# Run a tier sequence\n",
                "\n",
                "This tutorial explains the core functionality of the `bonsai_ipcc` package.\n",
                "Let´s assume we want to determine the CO2 emissions from waste incineration based on the tier 1 approach. According to the IPCC guidelines, different waste fractions are available. Here we chose year 2010, Germany and waste type `msw_plastics`, which stands for municipal plastic waste (you can check all availbe waste types by `my_ipcc.waste.incineration.dimension.waste_type`) and unspecified incineration technology."
            ]
        },
        {
            "cell_type": "code",
            "execution_count": 1,
            "metadata": {},
            "outputs": [
                {
                    "name": "stderr",
                    "output_type": "stream",
                    "text": [
                        "2023-12-19 14:39:42,218 - INFO - Incineration sequence started --->\n",
                        "/Users/TN76JP/Documents/coderefinery/ipcc/ipcc/src/ipcc/_sequence.py:87: FutureWarning: Series.__getitem__ treating keys as positions is deprecated. In a future version, integer keys will always be treated as labels (consistent with DataFrame behavior). To access a value by position, use `ser.iloc[pos]`\n",
                        "  new_c = conc_df.loc[c][j]\n"
                    ]
                },
                {
                    "ename": "KeyError",
                    "evalue": "\"Coordinate '(2010, 'DE')' or its concordance not found for parameter 'urb_population' with table 'urb_population'. If uncertainty analysis, also check required properties (e.g. max, min).\"",
                    "output_type": "error",
                    "traceback": [
                        "\u001b[0;31m---------------------------------------------------------------------------\u001b[0m",
                        "\u001b[0;31mKeyError\u001b[0m                                  Traceback (most recent call last)",
                        "File \u001b[0;32m~/miniconda3/envs/ipcc/lib/python3.10/site-packages/pandas/core/indexes/base.py:3790\u001b[0m, in \u001b[0;36mIndex.get_loc\u001b[0;34m(self, key)\u001b[0m\n\u001b[1;32m   3789\u001b[0m \u001b[39mtry\u001b[39;00m:\n\u001b[0;32m-> 3790\u001b[0m     \u001b[39mreturn\u001b[39;00m \u001b[39mself\u001b[39;49m\u001b[39m.\u001b[39;49m_engine\u001b[39m.\u001b[39;49mget_loc(casted_key)\n\u001b[1;32m   3791\u001b[0m \u001b[39mexcept\u001b[39;00m \u001b[39mKeyError\u001b[39;00m \u001b[39mas\u001b[39;00m err:\n",
                        "File \u001b[0;32mindex.pyx:152\u001b[0m, in \u001b[0;36mpandas._libs.index.IndexEngine.get_loc\u001b[0;34m()\u001b[0m\n",
                        "File \u001b[0;32mindex.pyx:181\u001b[0m, in \u001b[0;36mpandas._libs.index.IndexEngine.get_loc\u001b[0;34m()\u001b[0m\n",
                        "File \u001b[0;32mpandas/_libs/hashtable_class_helper.pxi:2606\u001b[0m, in \u001b[0;36mpandas._libs.hashtable.Int64HashTable.get_item\u001b[0;34m()\u001b[0m\n",
                        "File \u001b[0;32mpandas/_libs/hashtable_class_helper.pxi:2630\u001b[0m, in \u001b[0;36mpandas._libs.hashtable.Int64HashTable.get_item\u001b[0;34m()\u001b[0m\n",
                        "\u001b[0;31mKeyError\u001b[0m: 2010",
                        "\nThe above exception was the direct cause of the following exception:\n",
                        "\u001b[0;31mKeyError\u001b[0m                                  Traceback (most recent call last)",
                        "File \u001b[0;32mindex.pyx:842\u001b[0m, in \u001b[0;36mpandas._libs.index.BaseMultiIndexCodesEngine.get_loc\u001b[0;34m()\u001b[0m\n",
                        "File \u001b[0;32m~/miniconda3/envs/ipcc/lib/python3.10/site-packages/pandas/core/indexes/base.py:3797\u001b[0m, in \u001b[0;36mIndex.get_loc\u001b[0;34m(self, key)\u001b[0m\n\u001b[1;32m   3796\u001b[0m         \u001b[39mraise\u001b[39;00m InvalidIndexError(key)\n\u001b[0;32m-> 3797\u001b[0m     \u001b[39mraise\u001b[39;00m \u001b[39mKeyError\u001b[39;00m(key) \u001b[39mfrom\u001b[39;00m \u001b[39merr\u001b[39;00m\n\u001b[1;32m   3798\u001b[0m \u001b[39mexcept\u001b[39;00m \u001b[39mTypeError\u001b[39;00m:\n\u001b[1;32m   3799\u001b[0m     \u001b[39m# If we have a listlike key, _check_indexing_error will raise\u001b[39;00m\n\u001b[1;32m   3800\u001b[0m     \u001b[39m#  InvalidIndexError. Otherwise we fall through and re-raise\u001b[39;00m\n\u001b[1;32m   3801\u001b[0m     \u001b[39m#  the TypeError.\u001b[39;00m\n",
                        "\u001b[0;31mKeyError\u001b[0m: 2010",
                        "\nDuring handling of the above exception, another exception occurred:\n",
                        "\u001b[0;31mKeyError\u001b[0m                                  Traceback (most recent call last)",
                        "File \u001b[0;32m~/miniconda3/envs/ipcc/lib/python3.10/site-packages/pandas/core/indexes/multi.py:3105\u001b[0m, in \u001b[0;36mMultiIndex._get_loc_level\u001b[0;34m(self, key, level)\u001b[0m\n\u001b[1;32m   3104\u001b[0m \u001b[39mtry\u001b[39;00m:\n\u001b[0;32m-> 3105\u001b[0m     \u001b[39mreturn\u001b[39;00m (\u001b[39mself\u001b[39;49m\u001b[39m.\u001b[39;49m_engine\u001b[39m.\u001b[39;49mget_loc(key), \u001b[39mNone\u001b[39;00m)\n\u001b[1;32m   3106\u001b[0m \u001b[39mexcept\u001b[39;00m \u001b[39mKeyError\u001b[39;00m \u001b[39mas\u001b[39;00m err:\n",
                        "File \u001b[0;32mindex.pyx:845\u001b[0m, in \u001b[0;36mpandas._libs.index.BaseMultiIndexCodesEngine.get_loc\u001b[0;34m()\u001b[0m\n",
                        "\u001b[0;31mKeyError\u001b[0m: (2010, 'DE', 'def')",
                        "\nThe above exception was the direct cause of the following exception:\n",
                        "\u001b[0;31mKeyError\u001b[0m                                  Traceback (most recent call last)",
                        "File \u001b[0;32m~/Documents/coderefinery/ipcc/ipcc/src/ipcc/_sequence.py:211\u001b[0m, in \u001b[0;36mSequence.read_parameter\u001b[0;34m(self, name, table, coords)\u001b[0m\n\u001b[1;32m    210\u001b[0m \u001b[39mtry\u001b[39;00m:\n\u001b[0;32m--> 211\u001b[0m     tmp, u \u001b[39m=\u001b[39m \u001b[39mself\u001b[39;49m\u001b[39m.\u001b[39;49m_read_parameter_uncertainty(df, _coords, table)\n\u001b[1;32m    212\u001b[0m \u001b[39mexcept\u001b[39;00m \u001b[39mException\u001b[39;00m:\n",
                        "File \u001b[0;32m~/Documents/coderefinery/ipcc/ipcc/src/ipcc/_sequence.py:150\u001b[0m, in \u001b[0;36mSequence._read_parameter_uncertainty\u001b[0;34m(self, df, coords, name)\u001b[0m\n\u001b[1;32m    149\u001b[0m coords \u001b[39m=\u001b[39m coords \u001b[39m+\u001b[39m [\u001b[39mself\u001b[39m\u001b[39m.\u001b[39muncertainty]\n\u001b[0;32m--> 150\u001b[0m tmp \u001b[39m=\u001b[39m df\u001b[39m.\u001b[39;49mloc[\u001b[39mtuple\u001b[39;49m(coords)]\u001b[39m.\u001b[39mvalue\n\u001b[1;32m    151\u001b[0m u \u001b[39m=\u001b[39m df\u001b[39m.\u001b[39mloc[\u001b[39mtuple\u001b[39m(coords)]\u001b[39m.\u001b[39munit\n",
                        "File \u001b[0;32m~/miniconda3/envs/ipcc/lib/python3.10/site-packages/pandas/core/indexing.py:1147\u001b[0m, in \u001b[0;36m_LocationIndexer.__getitem__\u001b[0;34m(self, key)\u001b[0m\n\u001b[1;32m   1146\u001b[0m         \u001b[39mreturn\u001b[39;00m \u001b[39mself\u001b[39m\u001b[39m.\u001b[39mobj\u001b[39m.\u001b[39m_get_value(\u001b[39m*\u001b[39mkey, takeable\u001b[39m=\u001b[39m\u001b[39mself\u001b[39m\u001b[39m.\u001b[39m_takeable)\n\u001b[0;32m-> 1147\u001b[0m     \u001b[39mreturn\u001b[39;00m \u001b[39mself\u001b[39;49m\u001b[39m.\u001b[39;49m_getitem_tuple(key)\n\u001b[1;32m   1148\u001b[0m \u001b[39melse\u001b[39;00m:\n\u001b[1;32m   1149\u001b[0m     \u001b[39m# we by definition only have the 0th axis\u001b[39;00m\n",
                        "File \u001b[0;32m~/miniconda3/envs/ipcc/lib/python3.10/site-packages/pandas/core/indexing.py:1330\u001b[0m, in \u001b[0;36m_LocIndexer._getitem_tuple\u001b[0;34m(self, tup)\u001b[0m\n\u001b[1;32m   1329\u001b[0m     tup \u001b[39m=\u001b[39m \u001b[39mself\u001b[39m\u001b[39m.\u001b[39m_expand_ellipsis(tup)\n\u001b[0;32m-> 1330\u001b[0m     \u001b[39mreturn\u001b[39;00m \u001b[39mself\u001b[39;49m\u001b[39m.\u001b[39;49m_getitem_lowerdim(tup)\n\u001b[1;32m   1332\u001b[0m \u001b[39m# no multi-index, so validate all of the indexers\u001b[39;00m\n",
                        "File \u001b[0;32m~/miniconda3/envs/ipcc/lib/python3.10/site-packages/pandas/core/indexing.py:1031\u001b[0m, in \u001b[0;36m_LocationIndexer._getitem_lowerdim\u001b[0;34m(self, tup)\u001b[0m\n\u001b[1;32m   1030\u001b[0m     \u001b[39mwith\u001b[39;00m suppress(IndexingError):\n\u001b[0;32m-> 1031\u001b[0m         \u001b[39mreturn\u001b[39;00m cast(_LocIndexer, \u001b[39mself\u001b[39;49m)\u001b[39m.\u001b[39;49m_handle_lowerdim_multi_index_axis0(tup)\n\u001b[1;32m   1033\u001b[0m tup \u001b[39m=\u001b[39m \u001b[39mself\u001b[39m\u001b[39m.\u001b[39m_validate_key_length(tup)\n",
                        "File \u001b[0;32m~/miniconda3/envs/ipcc/lib/python3.10/site-packages/pandas/core/indexing.py:1356\u001b[0m, in \u001b[0;36m_LocIndexer._handle_lowerdim_multi_index_axis0\u001b[0;34m(self, tup)\u001b[0m\n\u001b[1;32m   1355\u001b[0m \u001b[39mif\u001b[39;00m \u001b[39mself\u001b[39m\u001b[39m.\u001b[39mndim \u001b[39m<\u001b[39m \u001b[39mlen\u001b[39m(tup) \u001b[39m<\u001b[39m\u001b[39m=\u001b[39m \u001b[39mself\u001b[39m\u001b[39m.\u001b[39mobj\u001b[39m.\u001b[39mindex\u001b[39m.\u001b[39mnlevels:\n\u001b[0;32m-> 1356\u001b[0m     \u001b[39mraise\u001b[39;00m ek\n\u001b[1;32m   1357\u001b[0m \u001b[39mraise\u001b[39;00m IndexingError(\u001b[39m\"\u001b[39m\u001b[39mNo label returned\u001b[39m\u001b[39m\"\u001b[39m) \u001b[39mfrom\u001b[39;00m \u001b[39mek\u001b[39;00m\n",
                        "File \u001b[0;32m~/miniconda3/envs/ipcc/lib/python3.10/site-packages/pandas/core/indexing.py:1350\u001b[0m, in \u001b[0;36m_LocIndexer._handle_lowerdim_multi_index_axis0\u001b[0;34m(self, tup)\u001b[0m\n\u001b[1;32m   1348\u001b[0m \u001b[39mtry\u001b[39;00m:\n\u001b[1;32m   1349\u001b[0m     \u001b[39m# fast path for series or for tup devoid of slices\u001b[39;00m\n\u001b[0;32m-> 1350\u001b[0m     \u001b[39mreturn\u001b[39;00m \u001b[39mself\u001b[39;49m\u001b[39m.\u001b[39;49m_get_label(tup, axis\u001b[39m=\u001b[39;49maxis)\n\u001b[1;32m   1352\u001b[0m \u001b[39mexcept\u001b[39;00m \u001b[39mKeyError\u001b[39;00m \u001b[39mas\u001b[39;00m ek:\n\u001b[1;32m   1353\u001b[0m     \u001b[39m# raise KeyError if number of indexers match\u001b[39;00m\n\u001b[1;32m   1354\u001b[0m     \u001b[39m# else IndexingError will be raised\u001b[39;00m\n",
                        "File \u001b[0;32m~/miniconda3/envs/ipcc/lib/python3.10/site-packages/pandas/core/indexing.py:1343\u001b[0m, in \u001b[0;36m_LocIndexer._get_label\u001b[0;34m(self, label, axis)\u001b[0m\n\u001b[1;32m   1341\u001b[0m \u001b[39mdef\u001b[39;00m \u001b[39m_get_label\u001b[39m(\u001b[39mself\u001b[39m, label, axis: AxisInt):\n\u001b[1;32m   1342\u001b[0m     \u001b[39m# GH#5567 this will fail if the label is not present in the axis.\u001b[39;00m\n\u001b[0;32m-> 1343\u001b[0m     \u001b[39mreturn\u001b[39;00m \u001b[39mself\u001b[39;49m\u001b[39m.\u001b[39;49mobj\u001b[39m.\u001b[39;49mxs(label, axis\u001b[39m=\u001b[39;49maxis)\n",
                        "File \u001b[0;32m~/miniconda3/envs/ipcc/lib/python3.10/site-packages/pandas/core/generic.py:4228\u001b[0m, in \u001b[0;36mNDFrame.xs\u001b[0;34m(self, key, axis, level, drop_level)\u001b[0m\n\u001b[1;32m   4227\u001b[0m \u001b[39mif\u001b[39;00m \u001b[39misinstance\u001b[39m(index, MultiIndex):\n\u001b[0;32m-> 4228\u001b[0m     loc, new_index \u001b[39m=\u001b[39m index\u001b[39m.\u001b[39;49m_get_loc_level(key, level\u001b[39m=\u001b[39;49m\u001b[39m0\u001b[39;49m)\n\u001b[1;32m   4229\u001b[0m     \u001b[39mif\u001b[39;00m \u001b[39mnot\u001b[39;00m drop_level:\n",
                        "File \u001b[0;32m~/miniconda3/envs/ipcc/lib/python3.10/site-packages/pandas/core/indexes/multi.py:3107\u001b[0m, in \u001b[0;36mMultiIndex._get_loc_level\u001b[0;34m(self, key, level)\u001b[0m\n\u001b[1;32m   3106\u001b[0m \u001b[39mexcept\u001b[39;00m \u001b[39mKeyError\u001b[39;00m \u001b[39mas\u001b[39;00m err:\n\u001b[0;32m-> 3107\u001b[0m     \u001b[39mraise\u001b[39;00m \u001b[39mKeyError\u001b[39;00m(key) \u001b[39mfrom\u001b[39;00m \u001b[39merr\u001b[39;00m\n\u001b[1;32m   3108\u001b[0m \u001b[39mexcept\u001b[39;00m \u001b[39mTypeError\u001b[39;00m:\n\u001b[1;32m   3109\u001b[0m     \u001b[39m# e.g. partial string indexing\u001b[39;00m\n\u001b[1;32m   3110\u001b[0m     \u001b[39m#  test_partial_string_timestamp_multiindex\u001b[39;00m\n",
                        "\u001b[0;31mKeyError\u001b[0m: (2010, 'DE', 'def')",
                        "\nDuring handling of the above exception, another exception occurred:\n",
                        "\u001b[0;31mKeyError\u001b[0m                                  Traceback (most recent call last)",
                        "File \u001b[0;32m~/Documents/coderefinery/ipcc/ipcc/src/ipcc/_sequence.py:214\u001b[0m, in \u001b[0;36mSequence.read_parameter\u001b[0;34m(self, name, table, coords)\u001b[0m\n\u001b[1;32m    213\u001b[0m \u001b[39mtry\u001b[39;00m:\n\u001b[0;32m--> 214\u001b[0m     tmp, u, new_coords \u001b[39m=\u001b[39m \u001b[39mself\u001b[39;49m\u001b[39m.\u001b[39;49m_read_parameter_with_concordance(\n\u001b[1;32m    215\u001b[0m         df, _coords, name, table\n\u001b[1;32m    216\u001b[0m     )\n\u001b[1;32m    217\u001b[0m \u001b[39mexcept\u001b[39;00m \u001b[39mException\u001b[39;00m:\n",
                        "File \u001b[0;32m~/Documents/coderefinery/ipcc/ipcc/src/ipcc/_sequence.py:125\u001b[0m, in \u001b[0;36mSequence._read_parameter_with_concordance\u001b[0;34m(self, df, _coords, name, table)\u001b[0m\n\u001b[1;32m    124\u001b[0m \u001b[39mif\u001b[39;00m tmp \u001b[39mis\u001b[39;00m \u001b[39mNone\u001b[39;00m \u001b[39mor\u001b[39;00m u \u001b[39mis\u001b[39;00m \u001b[39mNone\u001b[39;00m:\n\u001b[0;32m--> 125\u001b[0m     \u001b[39mraise\u001b[39;00m \u001b[39mKeyError\u001b[39;00m(\u001b[39m\"\u001b[39m\u001b[39mNo data or uncertainty found using concordance\u001b[39m\u001b[39m\"\u001b[39m)\n\u001b[1;32m    127\u001b[0m \u001b[39mreturn\u001b[39;00m tmp, u, new_coords\n",
                        "\u001b[0;31mKeyError\u001b[0m: 'No data or uncertainty found using concordance'",
                        "\nDuring handling of the above exception, another exception occurred:\n",
                        "\u001b[0;31mKeyError\u001b[0m                                  Traceback (most recent call last)",
                        "\u001b[1;32m/Users/TN76JP/Documents/coderefinery/ipcc/ipcc/docs/tutorials/sequence.ipynb Cell 2\u001b[0m line \u001b[0;36m<cell line: 3>\u001b[0;34m()\u001b[0m\n\u001b[1;32m      <a href='vscode-notebook-cell:/Users/TN76JP/Documents/coderefinery/ipcc/ipcc/docs/tutorials/sequence.ipynb#W0sZmlsZQ%3D%3D?line=0'>1</a>\u001b[0m \u001b[39mimport\u001b[39;00m \u001b[39mipcc\u001b[39;00m\n\u001b[1;32m      <a href='vscode-notebook-cell:/Users/TN76JP/Documents/coderefinery/ipcc/ipcc/docs/tutorials/sequence.ipynb#W0sZmlsZQ%3D%3D?line=1'>2</a>\u001b[0m my_ipcc \u001b[39m=\u001b[39m bonsai_ipcc\u001b[39m.\u001b[39mIPCC()\n\u001b[0;32m----> <a href='vscode-notebook-cell:/Users/TN76JP/Documents/coderefinery/ipcc/ipcc/docs/tutorials/sequence.ipynb#W0sZmlsZQ%3D%3D?line=2'>3</a>\u001b[0m my_ipcc\u001b[39m.\u001b[39;49mwaste\u001b[39m.\u001b[39;49mincineration\u001b[39m.\u001b[39;49msequence\u001b[39m.\u001b[39;49mtier1_co2(year\u001b[39m=\u001b[39;49m\u001b[39m2010\u001b[39;49m, region\u001b[39m=\u001b[39;49m\u001b[39m\"\u001b[39;49m\u001b[39mDE\u001b[39;49m\u001b[39m\"\u001b[39;49m,wastetype\u001b[39m=\u001b[39;49m\u001b[39m\"\u001b[39;49m\u001b[39mmsw_plastics\u001b[39;49m\u001b[39m\"\u001b[39;49m, incintype\u001b[39m=\u001b[39;49m\u001b[39m\"\u001b[39;49m\u001b[39minc_unspecified\u001b[39;49m\u001b[39m\"\u001b[39;49m, uncertainty\u001b[39m=\u001b[39;49m\u001b[39m\"\u001b[39;49m\u001b[39mdef\u001b[39;49m\u001b[39m\"\u001b[39;49m)\n",
                        "File \u001b[0;32m~/Documents/coderefinery/ipcc/ipcc/src/ipcc/waste/incineration/sequence.py:69\u001b[0m, in \u001b[0;36mtier1_co2\u001b[0;34m(year, region, wastetype, incintype, uncertainty)\u001b[0m\n\u001b[1;32m     66\u001b[0m \u001b[39mif\u001b[39;00m wastetype\u001b[39m.\u001b[39mstartswith(\u001b[39m\"\u001b[39m\u001b[39mmsw_\u001b[39m\u001b[39m\"\u001b[39m):\n\u001b[1;32m     67\u001b[0m     \u001b[39mif\u001b[39;00m incintype \u001b[39m!=\u001b[39m \u001b[39m\"\u001b[39m\u001b[39mopen_burn\u001b[39m\u001b[39m\"\u001b[39m:\n\u001b[1;32m     68\u001b[0m         \u001b[39m# 1: read parameters first function\u001b[39;00m\n\u001b[0;32m---> 69\u001b[0m         seq\u001b[39m.\u001b[39;49mread_parameter(\n\u001b[1;32m     70\u001b[0m             name\u001b[39m=\u001b[39;49m\u001b[39m\"\u001b[39;49m\u001b[39murb_population\u001b[39;49m\u001b[39m\"\u001b[39;49m, table\u001b[39m=\u001b[39;49m\u001b[39m\"\u001b[39;49m\u001b[39murb_population\u001b[39;49m\u001b[39m\"\u001b[39;49m, coords\u001b[39m=\u001b[39;49m[year, region]\n\u001b[1;32m     71\u001b[0m         )\n\u001b[1;32m     73\u001b[0m         seq\u001b[39m.\u001b[39mread_parameter(\n\u001b[1;32m     74\u001b[0m             name\u001b[39m=\u001b[39m\u001b[39m\"\u001b[39m\u001b[39mmsw_gen_rate\u001b[39m\u001b[39m\"\u001b[39m, table\u001b[39m=\u001b[39m\u001b[39m\"\u001b[39m\u001b[39mmsw_gen_rate\u001b[39m\u001b[39m\"\u001b[39m, coords\u001b[39m=\u001b[39m[year, region]\n\u001b[1;32m     75\u001b[0m         )\n\u001b[1;32m     77\u001b[0m         seq\u001b[39m.\u001b[39mread_parameter(\n\u001b[1;32m     78\u001b[0m             name\u001b[39m=\u001b[39m\u001b[39m\"\u001b[39m\u001b[39mmsw_frac_to_incin\u001b[39m\u001b[39m\"\u001b[39m,\n\u001b[1;32m     79\u001b[0m             table\u001b[39m=\u001b[39m\u001b[39m\"\u001b[39m\u001b[39mmsw_frac_to_incin\u001b[39m\u001b[39m\"\u001b[39m,\n\u001b[1;32m     80\u001b[0m             coords\u001b[39m=\u001b[39m[year, region],\n\u001b[1;32m     81\u001b[0m         )\n",
                        "File \u001b[0;32m~/Documents/coderefinery/ipcc/ipcc/src/ipcc/_sequence.py:218\u001b[0m, in \u001b[0;36mSequence.read_parameter\u001b[0;34m(self, name, table, coords)\u001b[0m\n\u001b[1;32m    214\u001b[0m         tmp, u, new_coords \u001b[39m=\u001b[39m \u001b[39mself\u001b[39m\u001b[39m.\u001b[39m_read_parameter_with_concordance(\n\u001b[1;32m    215\u001b[0m             df, _coords, name, table\n\u001b[1;32m    216\u001b[0m         )\n\u001b[1;32m    217\u001b[0m     \u001b[39mexcept\u001b[39;00m \u001b[39mException\u001b[39;00m:\n\u001b[0;32m--> 218\u001b[0m         \u001b[39mraise\u001b[39;00m \u001b[39mKeyError\u001b[39;00m(\n\u001b[1;32m    219\u001b[0m             \u001b[39mf\u001b[39m\u001b[39m\"\u001b[39m\u001b[39mCoordinate \u001b[39m\u001b[39m'\u001b[39m\u001b[39m{\u001b[39;00m_coords\u001b[39m}\u001b[39;00m\u001b[39m'\u001b[39m\u001b[39m or its concordance not found for parameter \u001b[39m\u001b[39m'\u001b[39m\u001b[39m{\u001b[39;00mname\u001b[39m}\u001b[39;00m\u001b[39m'\u001b[39m\u001b[39m with table \u001b[39m\u001b[39m'\u001b[39m\u001b[39m{\u001b[39;00mtable\u001b[39m}\u001b[39;00m\u001b[39m'\u001b[39m\u001b[39m. If uncertainty analysis, also check required properties (e.g. max, min).\u001b[39m\u001b[39m\"\u001b[39m\n\u001b[1;32m    220\u001b[0m         )\n\u001b[1;32m    222\u001b[0m \u001b[39m# add year to step\u001b[39;00m\n\u001b[1;32m    223\u001b[0m \u001b[39mif\u001b[39;00m \u001b[39m\"\u001b[39m\u001b[39myear\u001b[39m\u001b[39m\"\u001b[39m \u001b[39min\u001b[39;00m df\u001b[39m.\u001b[39mindex\u001b[39m.\u001b[39mnames:\n",
                        "\u001b[0;31mKeyError\u001b[0m: \"Coordinate '(2010, 'DE')' or its concordance not found for parameter 'urb_population' with table 'urb_population'. If uncertainty analysis, also check required properties (e.g. max, min).\""
                    ]
                }
            ],
            "source": [
                "import bonsai_ipcc\n",
                "my_ipcc = bonsai_ipcc.IPCC()\n",
                "my_ipcc.waste.incineration.sequence.tier1_co2(year=2010, region=\"DE\",wastetype=\"msw_plastics\", incintype=\"inc_unspecified\", uncertainty=\"def\")"
            ]
        },
        {
            "cell_type": "markdown",
            "metadata": {},
            "source": [
                "Trying to do so, generates a an KeyError mentioning that it could not find the coordinate for year 2010 and Germany in the paramter table `urb_population`. Let´s have a look into this parameter table."
            ]
        },
        {
            "cell_type": "code",
            "execution_count": 2,
            "metadata": {},
            "outputs": [
                {
                    "data": {
                        "text/html": [
                            "<div>\n",
                            "<style scoped>\n",
                            "    .dataframe tbody tr th:only-of-type {\n",
                            "        vertical-align: middle;\n",
                            "    }\n",
                            "\n",
                            "    .dataframe tbody tr th {\n",
                            "        vertical-align: top;\n",
                            "    }\n",
                            "\n",
                            "    .dataframe thead th {\n",
                            "        text-align: right;\n",
                            "    }\n",
                            "</style>\n",
                            "<table border=\"1\" class=\"dataframe\">\n",
                            "  <thead>\n",
                            "    <tr style=\"text-align: right;\">\n",
                            "      <th></th>\n",
                            "      <th></th>\n",
                            "      <th></th>\n",
                            "      <th>value</th>\n",
                            "      <th>unit</th>\n",
                            "    </tr>\n",
                            "    <tr>\n",
                            "      <th>year</th>\n",
                            "      <th>region</th>\n",
                            "      <th>property</th>\n",
                            "      <th></th>\n",
                            "      <th></th>\n",
                            "    </tr>\n",
                            "  </thead>\n",
                            "  <tbody>\n",
                            "    <tr>\n",
                            "      <th>0</th>\n",
                            "      <th>dummy</th>\n",
                            "      <th>dummy</th>\n",
                            "      <td>0</td>\n",
                            "      <td>cap</td>\n",
                            "    </tr>\n",
                            "  </tbody>\n",
                            "</table>\n",
                            "</div>"
                        ],
                        "text/plain": [
                            "                      value unit\n",
                            "year region property            \n",
                            "0    dummy  dummy         0  cap"
                        ]
                    },
                    "execution_count": 2,
                    "metadata": {},
                    "output_type": "execute_result"
                }
            ],
            "source": [
                "my_ipcc.waste.incineration.parameter.urb_population"
            ]
        },
        {
            "cell_type": "markdown",
            "metadata": {},
            "source": [
                "It is empty. The reason is that the IPCC guidelines do not provide default data for all parameters. In these cases we need to add the data to the specific parameter.\n",
                "Let´s do this for the urban population in Germany in 2010."
            ]
        },
        {
            "cell_type": "code",
            "execution_count": 3,
            "metadata": {},
            "outputs": [],
            "source": [
                "import pandas as pd\n",
                "\n",
                "# urban population\n",
                "d = {\n",
                "    \"year\": [2010,2010,2010,2010,2010],\n",
                "    \"region\": [\"DE\",\"DE\",\"DE\",\"DE\",\"DE\"],\n",
                "    \"property\": [\n",
                "        \"def\",\"min\",\"max\",\"abs_min\",\"abs_max\"\n",
                "    ],\n",
                "    \"value\": [\n",
                "        62940432,61996325.52,63884538.48,0.0,\"inf\",\n",
                "    ],\n",
                "    \"unit\": [\n",
                "    \"cap/yr\",\"cap/yr\",\"cap/yr\",\"cap/yr\",\"cap/yr\",\n",
                "    ],\n",
                "}\n",
                "urb_pop = pd.DataFrame(d).set_index([\"year\", \"region\", \"property\"])\n",
                "\n",
                "my_ipcc.waste.incineration.parameter.urb_population=urb_pop"
            ]
        },
        {
            "cell_type": "markdown",
            "metadata": {},
            "source": [
                "And run the sequence again."
            ]
        },
        {
            "cell_type": "code",
            "execution_count": 4,
            "metadata": {},
            "outputs": [
                {
                    "name": "stderr",
                    "output_type": "stream",
                    "text": [
                        "2023-12-19 14:39:57,025 - INFO - Incineration sequence started --->\n",
                        "/Users/TN76JP/Documents/coderefinery/ipcc/ipcc/src/ipcc/_sequence.py:87: FutureWarning: Series.__getitem__ treating keys as positions is deprecated. In a future version, integer keys will always be treated as labels (consistent with DataFrame behavior). To access a value by position, use `ser.iloc[pos]`\n",
                        "  new_c = conc_df.loc[c][j]\n",
                        "2023-12-19 14:39:57,029 - INFO - 'Coordinates (2010, 'DE')' has been replaced by '[2006, 'DE']' during reading parameter table 'msw_gen_rate'\n",
                        "2023-12-19 14:39:57,031 - INFO - 'Coordinates (2010, 'DE')' has been replaced by '[2006, 'DE']' during reading parameter table 'msw_frac_to_incin'\n",
                        "2023-12-19 14:39:57,034 - INFO - 'Coordinates (2010, 'DE', 'msw_plastics')' has been replaced by '[2006, 'DE', 'msw_plastics']' during reading parameter table 'msw_type_frac'\n",
                        "2023-12-19 14:39:57,036 - INFO - 'Coordinates (2010, 'DE', 'inc_unspecified')' has been replaced by '[2006, 'World', 'inc_unspecified']' during reading parameter table 'incintype_frac'\n",
                        "2023-12-19 14:39:57,038 - INFO - 'Coordinates (2010, 'DE', 'msw_plastics')' has been replaced by '[2006, 'World', 'msw_plastics']' during reading parameter table 'dm'\n",
                        "2023-12-19 14:39:57,041 - INFO - 'Coordinates (2010, 'DE', 'msw_plastics')' has been replaced by '[2006, 'World', 'msw_plastics']' during reading parameter table 'cf'\n",
                        "2023-12-19 14:39:57,042 - INFO - 'Coordinates ('DE', 'msw_plastics', 'inc_unspecified')' has been replaced by '['World', 'msw_plastics', 'inc_unspecified']' during reading parameter table 'fcf'\n",
                        "2023-12-19 14:39:57,043 - INFO - 'Coordinates ('DE', 'msw_plastics', 'inc_unspecified')' has been replaced by '['World', 'msw_plastics', 'inc_unspecified']' during reading parameter table 'of'\n",
                        "2023-12-19 14:39:57,044 - INFO - ---> Incineration sequence finalized.\n"
                    ]
                },
                {
                    "data": {
                        "text/plain": [
                            "{'signature': {'year': 2010,\n",
                            "  'region': 'DE',\n",
                            "  'wastetype': 'msw_plastics',\n",
                            "  'incintype': 'inc_unspecified',\n",
                            "  'uncertainty': 'def'},\n",
                            " 'urb_population': Step(position=1, year=2010, unit='cap/yr', value=62940432, type='data'),\n",
                            " 'msw_gen_rate': Step(position=2, year=2006, unit='t/cap/yr', value=0.6, type='data'),\n",
                            " 'msw_frac_to_incin': Step(position=3, year=2006, unit='kg/kg', value=0.37, type='data'),\n",
                            " 'msw_type_frac': Step(position=4, year=2006, unit='kg/kg', value=0.104, type='data'),\n",
                            " 'sw_per_treat': Step(position=5, year=2010, unit='Gg/year', value=1453.1686940159996, type='elementary'),\n",
                            " 'incintype_frac': Step(position=6, year=2006, unit='kg/kg', value=1, type='data'),\n",
                            " 'sw_per_tech': Step(position=7, year=2010, unit='Gg/year', value=1453.1686940159996, type='elementary'),\n",
                            " 'dm': Step(position=8, year=2006, unit='kg/kg', value=1.0, type='data'),\n",
                            " 'cf': Step(position=9, year=2006, unit='kg/kg', value=0.75, type='data'),\n",
                            " 'fcf': Step(position=10, year=None, unit='kg/kg', value=1.0, type='data'),\n",
                            " 'of': Step(position=11, year=None, unit='kg/kg', value=1.0, type='data'),\n",
                            " 'co2_emissions': Step(position=12, year=2010, unit='Gg/year', value=3996.213908543999, type='elementary')}"
                        ]
                    },
                    "execution_count": 4,
                    "metadata": {},
                    "output_type": "execute_result"
                }
            ],
            "source": [
                "my_tier = my_ipcc.waste.incineration.sequence.tier1_co2(\n",
                "          year=2010, region=\"DE\",wastetype=\"msw_plastics\", incintype=\"inc_unspecified\", uncertainty=\"def\")\n",
                "my_tier.__dict__"
            ]
        },
        {
            "cell_type": "markdown",
            "metadata": {},
            "source": [
                "Each step involved in the calculation is stored in the dictionary. It starts with the input signature and ends with the final result of CO2 emsissions."
            ]
        }
    ],
    "metadata": {
        "kernelspec": {
            "display_name": "ipcc",
            "language": "python",
            "name": "python3"
        },
        "language_info": {
            "codemirror_mode": {
                "name": "ipython",
                "version": 3
            },
            "file_extension": ".py",
            "mimetype": "text/x-python",
            "name": "python",
            "nbconvert_exporter": "python",
            "pygments_lexer": "ipython3",
            "version": "3.10.4"
        }
    },
    "nbformat": 4,
    "nbformat_minor": 2
}
